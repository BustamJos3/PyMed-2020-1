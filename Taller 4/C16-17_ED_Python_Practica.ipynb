{
 "cells": [
  {
   "cell_type": "markdown",
   "metadata": {},
   "source": [
    "***\n",
    "# Clases 16 - 17 - Prácta sobre estructuras de datos en Python\n",
    "***"
   ]
  },
  {
   "cell_type": "markdown",
   "metadata": {},
   "source": [
    "## Importanción de librerías"
   ]
  },
  {
   "cell_type": "code",
   "execution_count": 1,
   "metadata": {},
   "outputs": [],
   "source": [
    "import numpy as np"
   ]
  },
  {
   "cell_type": "markdown",
   "metadata": {},
   "source": [
    "### <font color='blue'>**1. Notas de un estudiante** </font> <br>\n",
    "A partir de las 3 notas de un curso, determinar si un alumno aprueba o\n",
    "reprueba, e imprimir el resultado. Todas las notas tienen igual valor (1/3),\n",
    "y la nota mínima aprobatoria es 3. <br><br>\n",
    "\n",
    "Pruebe el programa con las siguientes notas, usando un grupo de notas a la vez: $\\quad$ (3.1, 4.5, 2.7),  (2.7, 3.2, 2.3),  (-7.4, 2.1, 3.5),  y  (3.7, 9.2, 4.3)<br>\n",
    "\n",
    "<font color='green'>Resuelva el problema usando una lista, tanto para pedir las tres notas con un solo uso de \"input\", como para calcular el promedio.<br>\n",
    "Identifique errores en las notas, y de tres oportunidades al usuario para equivocarse: haga una versión con la estructura \"**mientras**\", y una con la estructura \"**para**\"."
   ]
  },
  {
   "cell_type": "markdown",
   "metadata": {},
   "source": [
    "#### 1.1 Versión con estructura mientras"
   ]
  },
  {
   "cell_type": "code",
   "execution_count": 12,
   "metadata": {},
   "outputs": [
    {
     "name": "stdout",
     "output_type": "stream",
     "text": [
      "Ingrese las tres notas separadas por coma:    3.7, 9.2, 4.3\n",
      "\n",
      "ERROR: Las notas deben estar entre 0 y 5\n",
      "Lleva 1 intento\n",
      "\n",
      "¿Desea probar otra vez?  Si/No:    sI\n",
      "Ingrese las tres notas separadas por coma:    3.7, 9.2, 4.3\n",
      "\n",
      "ERROR: Las notas deben estar entre 0 y 5\n",
      "Lleva 2 intentos\n",
      "\n",
      "¿Desea probar otra vez?  Si/No:    si\n",
      "Ingrese las tres notas separadas por coma:    3.7, 9.2, 4.3\n",
      "\n",
      "ERROR: Las notas deben estar entre 0 y 5\n",
      "\n",
      "Superó el número de intentos permitido\n",
      "\n",
      "Fin del programa\n"
     ]
    }
   ],
   "source": [
    "# Inicialización de variables:\n",
    "op = 1\n",
    "\n",
    "while op <= 3:\n",
    "#     Entrada de datos\n",
    "    notas = eval('[' + input('Ingrese las tres notas separadas por coma:    ') + ']')\n",
    "#     Verificación de las notas: cantidad y valores\n",
    "    if len(notas) == 3:\n",
    "        if min(notas) < 0 or max(notas) > 5:\n",
    "            print('\\nERROR: Las notas deben estar entre 0 y 5')\n",
    "            if op < 3:\n",
    "                if op == 1:\n",
    "                    print('Lleva %d intento' % op)\n",
    "                else:\n",
    "                    print('Lleva %d intentos' % op)\n",
    "                intento = input('\\n¿Desea probar otra vez?  Si/No:    ').lower()\n",
    "                if intento == 'si':\n",
    "                    op += 1\n",
    "                    continue\n",
    "                else:\n",
    "                    print('\\nFin del programa')\n",
    "                    break\n",
    "            else:\n",
    "                print('\\nSuperó el número de intentos permitido')\n",
    "                print('\\nFin del programa')\n",
    "                break\n",
    "        else:\n",
    "            promedio = sum(notas) / len(notas)\n",
    "            if promedio >= 3:\n",
    "                print('\\nAprobó el curso, su promedio es %.1f' % promedio)\n",
    "                print('\\nFin del programa')\n",
    "                break\n",
    "            else:\n",
    "                print('\\nRerobó el curso, su promedio es %.1f' % promedio)\n",
    "                print('\\nFin del programa')\n",
    "                break\n",
    "    else:\n",
    "        print('\\nERROR: La cantidad de notas debe ser 3')\n",
    "        if op < 3:\n",
    "            if op == 1:\n",
    "                print('Lleva %d intento' % op)\n",
    "            else:\n",
    "                print('Lleva %d intentos' % op)\n",
    "            intento = input('\\n¿Desea probar otra vez?  Si/No:    ').lower()\n",
    "            if intento == 'si':\n",
    "                op += 1\n",
    "                continue\n",
    "            else:\n",
    "                print('\\nFin del programa')\n",
    "                break\n",
    "        else:\n",
    "            print('\\nSuperó el número de intentos permitido')\n",
    "            print('\\nFin del programa')\n",
    "            break"
   ]
  },
  {
   "cell_type": "markdown",
   "metadata": {},
   "source": [
    "#### 1.2 Versión con estructura para"
   ]
  },
  {
   "cell_type": "code",
   "execution_count": 20,
   "metadata": {},
   "outputs": [
    {
     "name": "stdout",
     "output_type": "stream",
     "text": [
      "Ingrese las tres notas separadas por coma:    -7.4, 2.1, 3.5\n",
      "\n",
      "ERROR: Las notas deben estar entre 0 y 5\n",
      "Lleva 1 intento\n",
      "\n",
      "¿Desea probar otra vez?  Si/No:    si\n",
      "Ingrese las tres notas separadas por coma:    -7.4, 2.1, 3.5\n",
      "\n",
      "ERROR: Las notas deben estar entre 0 y 5\n",
      "Lleva 2 intentos\n",
      "\n",
      "¿Desea probar otra vez?  Si/No:    si\n",
      "Ingrese las tres notas separadas por coma:    -7.4, 2.1, 3.5\n",
      "\n",
      "ERROR: Las notas deben estar entre 0 y 5\n",
      "Lleva 3 intentos\n",
      "\n",
      "Superó el número de intentos permitido\n",
      "\n",
      "Fin del programa\n"
     ]
    }
   ],
   "source": [
    "for op in range(1,4):\n",
    "#     Entrada de datos:\n",
    "    notas = eval('[' + input('Ingrese las tres notas separadas por coma:    ') + ']')\n",
    "#     Verificación de las notas: cantidad y valores\n",
    "    if len(notas) == 3:\n",
    "        if min(notas) < 0 or max(notas) > 5:\n",
    "            print('\\nERROR: Las notas deben estar entre 0 y 5')\n",
    "            if op == 1:\n",
    "                print('Lleva %d intento' % op)\n",
    "            else:\n",
    "                print('Lleva %d intentos' % op)\n",
    "            if op < 3:\n",
    "                intento = input('\\n¿Desea probar otra vez?  Si/No:    ').lower()\n",
    "                if intento == 'si':\n",
    "                    continue\n",
    "                else:\n",
    "                    print('\\nFin del programa')\n",
    "                    break\n",
    "            else:\n",
    "                print('\\nSuperó el número de intentos permitido')\n",
    "                print('\\nFin del programa')\n",
    "                break\n",
    "        else:\n",
    "            promedio = sum(notas) / len(notas)\n",
    "            if promedio >= 3:\n",
    "                print('\\nAprobó el curso, su promedio es %.1f' % promedio)\n",
    "                print('\\nFin del programa')\n",
    "                break\n",
    "            else:\n",
    "                print('\\nRerobó el curso, su promedio es %.1f' % promedio)\n",
    "                print('\\nFin del programa')\n",
    "                break\n",
    "    else:\n",
    "        print('\\nERROR: La cantidad de notas debe ser 3')\n",
    "        if op == 1:\n",
    "            print('Lleva %d intento' % op)\n",
    "        else:\n",
    "            print('Lleva %d intentos' % op)\n",
    "        if op < 3:\n",
    "            intento = input('\\n¿Desea probar otra vez?  Si/No:    ').lower()\n",
    "            if intento == 'si':\n",
    "                continue\n",
    "            else:\n",
    "                print('\\nFin del programa')\n",
    "                break\n",
    "        else:\n",
    "            print('\\nSuperó el número de intentos permitido')\n",
    "            print('\\nFin del programa')\n",
    "            break"
   ]
  },
  {
   "cell_type": "markdown",
   "metadata": {},
   "source": [
    "### <font color='blue'>**2. Salario bruto con horas extraordinarias** </font> <br>\n",
    "Determinar los salarios bruto y neto semanal de los empleados de una\n",
    "empresa, sabiendo que éstos se calculan con base en las horas semanales\n",
    "trabajadas, y de acuerdo a un valor especificado por hora ordinaria.  <br><br>\n",
    "**Información específica:**<br>\n",
    "Si se superan cuarenta horas semanales, las horas extraordinarias se\n",
    "pagarán a razón de 1.5 veces el valor de la hora ordinaria.\n",
    "Los impuestos para horas ordinarias son del 25 %, y para las\n",
    "extraordinarias son del 10 %. <br>\n",
    "No se permite que un trabajador labore más de 72 horas en la semana.\n",
    "\n",
    "<br> \n",
    "<font color='green'>Resuelva el problema usando un diccionario **como única variable**, tanto para almacenar las variables de entrada, como para calcular los salarios bruto y neto, y los impuestos."
   ]
  },
  {
   "cell_type": "code",
   "execution_count": 31,
   "metadata": {},
   "outputs": [
    {
     "name": "stdout",
     "output_type": "stream",
     "text": [
      "Nombre del trabajador:    Francisco\n",
      "Número de horas trabajadas en la semana:    48\n",
      "Valor de la hora ordinaria:    10000\n",
      "\n",
      "Nombre del trabajador:\tFrancisco\n",
      "\n",
      "Salario bruto: \t$520000.0\n",
      "\n",
      "Impuestos: \t$112000.0\n",
      "\n",
      "Salario neto: \t$408000.0\n"
     ]
    }
   ],
   "source": [
    "# Inicialización de variables\n",
    "d = {}\n",
    "\n",
    "# Entrada de datos:\n",
    "d['Nombre'] = input('Nombre del trabajador:    ')\n",
    "d['No. de horas'] = int(input('Número de horas trabajadas en la semana:    '))\n",
    "\n",
    "# Cálculos y salidas\n",
    "if 0 < d['No. de horas'] <= 72:\n",
    "    d['Valor hora ord.'] = int(input('Valor de la hora ordinaria:    '))\n",
    "    if d['No. de horas'] <= 40:    # Sólo horas ordinarias\n",
    "        d['Salario ordinario'] = d['No. de horas'] * d['Valor hora ord.']\n",
    "        d['Salario bruto'] = d['Salario ordinario']\n",
    "        d['Impuestos'] = 0.25 * d['Salario bruto']\n",
    "    else:   # Hay horas extraordinarias\n",
    "        d['Salario ordinario'] = 40 * d['Valor hora ord.']\n",
    "        d['Salario extraordinario'] = (d['No. de horas'] - 40) * 1.5 * d['Valor hora ord.']\n",
    "        d['Salario bruto'] = d['Salario ordinario'] + d['Salario extraordinario']\n",
    "        d['Impuestos'] = 0.25 * d['Salario ordinario'] + 0.1 * d['Salario extraordinario']\n",
    "        \n",
    "    d['Salario neto'] = d['Salario bruto'] - d['Impuestos']\n",
    "#     Salidas:\n",
    "    print('\\nNombre del trabajador:', d['Nombre'], sep='\\t')\n",
    "    print('\\nSalario bruto: ', '$' + str(d['Salario bruto']), sep='\\t')\n",
    "    print('\\nImpuestos: ', '$' + str(d['Impuestos']), sep='\\t')\n",
    "    print('\\nSalario neto: ', '$' + str(d['Salario neto']), sep='\\t')\n",
    "elif d['No. de horas'] < 0:\n",
    "    print('\\nERROR: El número de horas debe ser positivo')\n",
    "else:\n",
    "    print('\\nERROR: Se permite laborar máximo 72 a la semana')"
   ]
  },
  {
   "cell_type": "code",
   "execution_count": 32,
   "metadata": {},
   "outputs": [
    {
     "data": {
      "text/plain": [
       "{'Nombre': 'Francisco',\n",
       " 'No. de horas': 48,\n",
       " 'Valor hora ord.': 10000,\n",
       " 'Salario ordinario': 400000,\n",
       " 'Salario extraordinario': 120000.0,\n",
       " 'Salario bruto': 520000.0,\n",
       " 'Impuestos': 112000.0,\n",
       " 'Salario neto': 408000.0}"
      ]
     },
     "execution_count": 32,
     "metadata": {},
     "output_type": "execute_result"
    }
   ],
   "source": [
    "d"
   ]
  },
  {
   "cell_type": "markdown",
   "metadata": {},
   "source": [
    "### <font color='blue'>**3. Promoción: Descuento según color de balota** </font> <br>\n",
    "Durante la celebración de aniversario de un almacén se conceden\n",
    "descuentos a los clientes, de acuerdo con el color de una balota que éstos\n",
    "sacan antes de pagar la cuenta total. <br>\n",
    "Se tiene un saco con balotas de tres colores: <br>\n",
    "Blanco → No se hace descuento. <br>\n",
    "Verde → Se hace un descuento del 10 %. <br>\n",
    "Rojo → Se hace un descuento del 20 %. <br> <br>\n",
    "Escriba un algoritmo para determinar el valor final de la cuenta, después\n",
    "de incluir el descuento obtenido con las balotas. <br>\n",
    "Sólo existen tres colores válidos para los descuentos, si aparece uno\n",
    "diferente, o si el cajero se equivoca al introducirlo, se debe detectar este\n",
    "error. También se debe detectar un error en el pago original. <br> <br>\n",
    "<font color='green'>Resuelva el problema usando: <br>\n",
    "1. Una lista con los nombres de los colores de balota permitidos. \n",
    "2. Un diccionario con los nombres de los colores y con los porcentajes de descuento correspondientes"
   ]
  },
  {
   "cell_type": "code",
   "execution_count": null,
   "metadata": {},
   "outputs": [],
   "source": []
  },
  {
   "cell_type": "markdown",
   "metadata": {},
   "source": [
    "### <font color='blue'>**4. Operaciones artiméticas básicas** </font> <br>\n",
    "Realizar un algoritmo que pueda calcular las cuatro operaciones\n",
    "aritméticas básicas, leyendo dos valores y el tipo de operación. Se debe\n",
    "almacenar el resultado en una variable, e imprimir posteriormente su valor. <br> <br>\n",
    "<font color='green'>Resuelva el problema usando un diccionario para relacionar el nombre de una operación, con el resultado esperado para ésta, a partir de los dos valores dados. Ingrese los dos valores numéricos como una lista, usando sólo una vez la función \"input\"."
   ]
  },
  {
   "cell_type": "code",
   "execution_count": null,
   "metadata": {},
   "outputs": [],
   "source": []
  },
  {
   "cell_type": "markdown",
   "metadata": {},
   "source": [
    "### <font color='blue'>**5. Suma de una secuencia de números** </font> <br>\n",
    "Diseñar un algoritmo que calcule y muestre la suma de una determinada\n",
    "cantidad de números que se ingresan de forma secuencial. <br> <br>\n",
    "\n",
    "Realice la prueba del programa con los números siguientes: $\\quad$ 30, 10, 2, 7, 15, 100, 50 <br>\n",
    "\n",
    "<font color='green'>Resuelva el problema usando una lista para almacenar los números, usando sólo una vez la función \"input\", y las funciones adecuadas para este tipo de estructura de datos."
   ]
  },
  {
   "cell_type": "code",
   "execution_count": null,
   "metadata": {},
   "outputs": [],
   "source": []
  },
  {
   "cell_type": "markdown",
   "metadata": {},
   "source": [
    "### <font color='blue'>**6. Velocidad de caída de un paracaidista** </font> <br>\n",
    "La velocidad de un paracaidista de masa $m$ que parte del reposo, el cual\n",
    "cae con un coeficiente de arrastre $C$, se determina según la siguiente\n",
    "relación:\n",
    "\n",
    "$$ V(t)=\\dfrac{mg}{C}\\left[1-e^{-\\left( \\frac{C}{m}\\right) t} \\right]  \\qquad (1)$$\n",
    "\n",
    "Una aproximación numérica a esta solución se puede obtener mediante la\n",
    "siguiente expresión:\n",
    "\n",
    "$$ V_a\\left(t+\\Delta t \\right) =V_a\\left( t\\right) +\\left( g-\\dfrac{C\\ V_a\\left( t\\right)}{m}\\right)  \\Delta t \\qquad (2)$$\n",
    "\n",
    "Diseñe un algoritmo que determine la velocidad mediante la ecuación 2,\n",
    "para un tiempo final y un paso temporal determinados, así como los\n",
    "errores absoluto y relativo de la aproximación. Para verificar el programa use una masa de 68.1 kg, y un coeficiente de arrastre de 12.5 Ns/m, así como una aceleración gravitacional de 9.81 m/s². Recuerde que la velocidad incial vertical de caída es cero. <br> <br>\n",
    "<font color='green'>Resuelva el problema usando la estructura **para**, y vectores (arreglos unidimensionales) para representar el tiempo de caída y la velocidad aproximada. <br>\n",
    "    Además, explore el efecto del tamaño del paso temporal: use $\\Delta T = 0.5,\\ 1,\\ 2, \\text{y}\\ 5$ s"
   ]
  },
  {
   "cell_type": "code",
   "execution_count": null,
   "metadata": {},
   "outputs": [],
   "source": []
  },
  {
   "cell_type": "markdown",
   "metadata": {},
   "source": [
    "### <font color='blue'>**7. Notas de estudiantes de un curso** </font> <br>\n",
    "\n",
    "Un curso está compuesto por n alumnos, a los cuales se les hicieron tres\n",
    "evaluaciones. <br>\n",
    "Se debe realizar un programa que escriba el promedio de las 3 notas para\n",
    "cada uno de ellos, con sus datos básicos (código y nombre), así como el\n",
    "promedio de las notas de todos los alumnos del curso. <br><br>\n",
    "Pruebe el programa con los siguientes valores: <br> \n",
    "\n",
    "| Código | Nombre | Notas |\n",
    "| :--- | :--- | :--- | \n",
    "| A20190201 | Eric Clapton | 4.5, 4.8, 5.0 |\n",
    "| A20190202 | Nicky Jam | 1.5, 1.8, 2.0 |\n",
    "| A20190203 | Carlos Vives | 3.5, 4.0, 4.0 |\n",
    "\n",
    "<br>\n",
    "<font color='green'>Resuelva el problema usando:<br>\n",
    "1. Una matriz (arreglo bidimensional) para almacenar todas las notas del curso, y usando listas para los otros datos de cada estudiante.<br>\n",
    "2. Un diccionario con tres elementos: listas con los datos y las notas de cada estudiante."
   ]
  },
  {
   "cell_type": "code",
   "execution_count": null,
   "metadata": {},
   "outputs": [],
   "source": []
  },
  {
   "cell_type": "markdown",
   "metadata": {},
   "source": [
    "### <font color='blue'>**8. Clasificación de estudiantes según estatura** </font> <br>\n",
    "\n",
    "Calcular la estatura media de los alumnos de una clase, y determinar\n",
    "cuántos están por encima (altos) y cuántos por debajo de ésta (bajos). <br>\n",
    "Pruebe el programa con el siguiente vector de estaturas:<br> <br>\n",
    "$$\\text{estaturas} = [ 1.60,\\   1.56,\\   1.75,\\   1.58,\\   1.52,\\   1.82,\\   1.67,\\   1.74,\\   1.69,\\   1.71 ]$$\n",
    "<br>\n",
    "<font color='green'>Resuelva el problema de dos formas: <br>\n",
    "* Use un vector.\n",
    "* Use listas y programación compacta."
   ]
  },
  {
   "cell_type": "code",
   "execution_count": null,
   "metadata": {},
   "outputs": [],
   "source": []
  },
  {
   "cell_type": "markdown",
   "metadata": {},
   "source": [
    "### <font color='blue'>**9. Clasificación de los elementos de una matriz** </font> <br>\n",
    "\n",
    "Dada una matriz M, de dimensión (m,n), desarrollar un algoritmo que\n",
    "identifique la cantidad de valores positivos y negativos en ésta, y además\n",
    "calcule la suma de todos los valores positivos, y la de todos los valores\n",
    "negativos.<br>\n",
    "Realice la prueba con la siguiente matriz:\n",
    "$$\\texttt{M} =  \\left[ \n",
    "\t\t\t\t\\begin{array}{cccc}\n",
    "\t\t\t\t3\t&\t-2\t&\t8\t&\t-9\t\\\\\n",
    "\t\t\t\t5\t&\t14\t&\t-0.5\t&\t1\t\\\\\n",
    "\t\t\t\t-4\t&\t7\t&\t22.3\t&\t6.7\t\\\\\n",
    "\t\t\t\t\\end{array} \\right] $$\n",
    "<br> <br>\n",
    "<font color='green'>Resuelva el problema de dos formas: <br>\n",
    "* Use una matriz.\n",
    "* Use listas y programación compacta."
   ]
  },
  {
   "cell_type": "code",
   "execution_count": null,
   "metadata": {},
   "outputs": [],
   "source": []
  },
  {
   "cell_type": "markdown",
   "metadata": {},
   "source": [
    "### <font color='blue'>**10. Gestión de reservas en una aerolínea** </font> <br>\n",
    "\n",
    "Una aerolínea gestiona su sistema de reservas mediante un arreglo de tres\n",
    "dimensiones, en el cual las filas corresponden a la fila dentro del avión, las\n",
    "columnas al número del asiento, y cada matriz corresponde a un número\n",
    "de vuelo. <br>\n",
    "Cada elemento del arreglo tiene un valor de 1 (asiento disponible) ó 0\n",
    "(asiento ocupado). <br>\n",
    "El usuario ingresa el vuelo, la fila y el número de asiento. <br>\n",
    "Diseñe un algoritmo que informe a los clientes sobre la disponibilidad de\n",
    "un asiento solicitado, y actualice la base de datos según la selección de\n",
    "asiento. Trabaje con el arreglo tridimensional dado por el siguiente código: 5 vuelos, cada uno con 25 filas y 8 columnas. <br>\n",
    "\n",
    "En python cree el arreglo tridimensional que representa el sistema de reservas, usando el código siguiente: <br>\n",
    "\n",
    "`reservas_r = np.random.random((5, 25, 8))`<br>\n",
    "`reservas = np.round(reservas_r)` <br>\n",
    "\n",
    "El programa debe comenzar por presentar la siguiente información al usuario:<br>\n",
    "***\n",
    "SISTEMA DE RESERVAS\n",
    "\n",
    "Los vuelos disponibles son: VA01, VA02, VA03, VA04, y VA05\n",
    "\n",
    "Cada vuelo tiene 25 filas\n",
    "\n",
    "En cada fila se tienen asientos enumerados desde el A hasta el H\n",
    "***\n",
    "El vuelo VA03, fila 14, asiento F corresponde a la fila 13, columna 5, del vuelo 2: reservas[2, 13, 5]<br>\n",
    "\n",
    "El programa debe informar sobre los asientos disponibles en cada vuelo, después de que se hace una reserva."
   ]
  },
  {
   "cell_type": "code",
   "execution_count": null,
   "metadata": {},
   "outputs": [],
   "source": []
  }
 ],
 "metadata": {
  "kernelspec": {
   "display_name": "Python 3",
   "language": "python",
   "name": "python3"
  },
  "language_info": {
   "codemirror_mode": {
    "name": "ipython",
    "version": 3
   },
   "file_extension": ".py",
   "mimetype": "text/x-python",
   "name": "python",
   "nbconvert_exporter": "python",
   "pygments_lexer": "ipython3",
   "version": "3.7.1"
  }
 },
 "nbformat": 4,
 "nbformat_minor": 2
}

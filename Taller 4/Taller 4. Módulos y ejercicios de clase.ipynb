{
 "cells": [
  {
   "cell_type": "code",
   "execution_count": 4,
   "metadata": {},
   "outputs": [
    {
     "data": {
      "text/html": [
       "<style>.container{width:100% !important;}<>"
      ],
      "text/plain": [
       "<IPython.core.display.HTML object>"
      ]
     },
     "metadata": {},
     "output_type": "display_data"
    }
   ],
   "source": [
    "from IPython.core.display import display, HTML\n",
    "display(HTML(\"<style>.container{width:100% !important;}<>\"))"
   ]
  },
  {
   "cell_type": "raw",
   "metadata": {},
   "source": [
    "- Librería: library.py\n",
    "    - suma(num_1, num_2)        \n",
    "    - resta\n",
    "    - dividir\n",
    "    \n",
    "from library import suma\n",
    "    - suma(1,2)\n",
    "    \n",
    "import library \n",
    "    - library.suma(1,2)\n",
    "\n",
    "import library as lb\n",
    "    - lb.suma(1,2)"
   ]
  },
  {
   "cell_type": "code",
   "execution_count": 61,
   "metadata": {},
   "outputs": [],
   "source": [
    "import numpy as np\n",
    "import scipy as sc\n",
    "import sympy as sp\n",
    "\n",
    "import plotly.express as px\n",
    "import plotly.graph_objects as go"
   ]
  },
  {
   "cell_type": "markdown",
   "metadata": {},
   "source": [
    "# Ejercicio 1. Módulos y sentencias repetitivas\n",
    "\n",
    "\n",
    "<font color='blue'>**6. Velocidad de caída de un paracaidista** </font> <br>\n",
    "La velocidad de un paracaidista de masa $m$ que parte del reposo, el cual\n",
    "cae con un coeficiente de arrastre $C$, se determina según la siguiente\n",
    "relación:\n",
    "\n",
    "$$ V(t)=\\dfrac{mg}{C}\\left[1-e^{-\\left( \\frac{C}{m}\\right) t} \\right]  \\qquad (1)$$\n",
    "\n",
    "Una aproximación numérica a esta solución se puede obtener mediante la\n",
    "siguiente expresión:\n",
    "\n",
    "$$ V_a\\left(t+\\Delta t \\right) =V_a\\left( t\\right) +\\left( g-\\dfrac{C\\ V_a\\left( t\\right)}{m}\\right)  \\Delta t \\qquad (2)$$\n",
    "\n",
    "Diseñe un algoritmo que determine la velocidad mediante la ecuación 2,\n",
    "para un tiempo final y un paso temporal determinados, así como los\n",
    "errores absoluto y relativo de la aproximación. Para verificar el programa use una masa de 68.1 kg, y un coeficiente de arrastre de 12.5 Ns/m, así como una aceleración gravitacional de 9.81 m/s². Recuerde que la velocidad incial vertical de caída es cero. <br> <br>\n",
    "<font color='green'>Resuelva el problema usando la estructura **para**, y vectores (arreglos unidimensionales) para representar el tiempo de caída y la velocidad aproximada. <br>\n",
    "    Además, explore el efecto del tamaño del paso temporal: use $\\Delta T = 0.5,\\ 1,\\ 2, \\text{y}\\ 5$ s"
   ]
  },
  {
   "cell_type": "markdown",
   "metadata": {},
   "source": [
    "- Paso temporal de $0.5\\ s$, $t_f = 10\\ s$\n",
    "    - ¿Cuántos datos por segundo? 2\n",
    "    - ¿Cuántos datos en total? 20"
   ]
  },
  {
   "cell_type": "code",
   "execution_count": 75,
   "metadata": {},
   "outputs": [
    {
     "name": "stdout",
     "output_type": "stream",
     "text": [
      "6\n"
     ]
    }
   ],
   "source": [
    "m = 68.1 #float(input(\"Ingrese la masa: \")) # kg\n",
    "C = 12.5 #float(input(\"Ingrese el coeficiente de arrastre: \")) # Ns/m\n",
    "tf = 20 #float(input(\"Tiempo final: \")) # s\n",
    "delta_t = 3 #float(input(\"Paso temporal: \")) # s\n",
    "\n",
    "g = 9.81 # m/s2\n",
    "v0 = 0 # m/s\n",
    "n = int(tf/delta_t)\n",
    "print(n)"
   ]
  },
  {
   "cell_type": "code",
   "execution_count": 79,
   "metadata": {},
   "outputs": [],
   "source": [
    "time = delta_t*np.arange(n) #time = np.linspace(0,tf,n)\n",
    "velocidad_real = (m*g/C)*(1-np.exp(-C*time/m))"
   ]
  },
  {
   "cell_type": "code",
   "execution_count": 72,
   "metadata": {},
   "outputs": [
    {
     "data": {
      "application/vnd.plotly.v1+json": {
       "config": {
        "plotlyServerURL": "https://plot.ly"
       },
       "data": [
        {
         "hoverlabel": {
          "namelength": 0
         },
         "hovertemplate": "x=%{x}<br>y=%{y}",
         "legendgroup": "",
         "line": {
          "color": "#636efa",
          "dash": "solid"
         },
         "mode": "lines",
         "name": "",
         "showlegend": false,
         "type": "scatter",
         "x": [
          0,
          2,
          4,
          6,
          8,
          10,
          12,
          14,
          16,
          18
         ],
         "xaxis": "x",
         "y": [
          0,
          16.42172057920007,
          27.797627475567975,
          35.678120697377175,
          41.13721718829596,
          44.91892648723751,
          47.53865032716072,
          49.35342572499016,
          50.61058485542108,
          51.48146346724055
         ],
         "yaxis": "y"
        }
       ],
       "layout": {
        "height": 600,
        "legend": {
         "tracegroupgap": 0
        },
        "margin": {
         "t": 60
        },
        "template": {
         "data": {
          "bar": [
           {
            "error_x": {
             "color": "#2a3f5f"
            },
            "error_y": {
             "color": "#2a3f5f"
            },
            "marker": {
             "line": {
              "color": "#E5ECF6",
              "width": 0.5
             }
            },
            "type": "bar"
           }
          ],
          "barpolar": [
           {
            "marker": {
             "line": {
              "color": "#E5ECF6",
              "width": 0.5
             }
            },
            "type": "barpolar"
           }
          ],
          "carpet": [
           {
            "aaxis": {
             "endlinecolor": "#2a3f5f",
             "gridcolor": "white",
             "linecolor": "white",
             "minorgridcolor": "white",
             "startlinecolor": "#2a3f5f"
            },
            "baxis": {
             "endlinecolor": "#2a3f5f",
             "gridcolor": "white",
             "linecolor": "white",
             "minorgridcolor": "white",
             "startlinecolor": "#2a3f5f"
            },
            "type": "carpet"
           }
          ],
          "choropleth": [
           {
            "colorbar": {
             "outlinewidth": 0,
             "ticks": ""
            },
            "type": "choropleth"
           }
          ],
          "contour": [
           {
            "colorbar": {
             "outlinewidth": 0,
             "ticks": ""
            },
            "colorscale": [
             [
              0,
              "#0d0887"
             ],
             [
              0.1111111111111111,
              "#46039f"
             ],
             [
              0.2222222222222222,
              "#7201a8"
             ],
             [
              0.3333333333333333,
              "#9c179e"
             ],
             [
              0.4444444444444444,
              "#bd3786"
             ],
             [
              0.5555555555555556,
              "#d8576b"
             ],
             [
              0.6666666666666666,
              "#ed7953"
             ],
             [
              0.7777777777777778,
              "#fb9f3a"
             ],
             [
              0.8888888888888888,
              "#fdca26"
             ],
             [
              1,
              "#f0f921"
             ]
            ],
            "type": "contour"
           }
          ],
          "contourcarpet": [
           {
            "colorbar": {
             "outlinewidth": 0,
             "ticks": ""
            },
            "type": "contourcarpet"
           }
          ],
          "heatmap": [
           {
            "colorbar": {
             "outlinewidth": 0,
             "ticks": ""
            },
            "colorscale": [
             [
              0,
              "#0d0887"
             ],
             [
              0.1111111111111111,
              "#46039f"
             ],
             [
              0.2222222222222222,
              "#7201a8"
             ],
             [
              0.3333333333333333,
              "#9c179e"
             ],
             [
              0.4444444444444444,
              "#bd3786"
             ],
             [
              0.5555555555555556,
              "#d8576b"
             ],
             [
              0.6666666666666666,
              "#ed7953"
             ],
             [
              0.7777777777777778,
              "#fb9f3a"
             ],
             [
              0.8888888888888888,
              "#fdca26"
             ],
             [
              1,
              "#f0f921"
             ]
            ],
            "type": "heatmap"
           }
          ],
          "heatmapgl": [
           {
            "colorbar": {
             "outlinewidth": 0,
             "ticks": ""
            },
            "colorscale": [
             [
              0,
              "#0d0887"
             ],
             [
              0.1111111111111111,
              "#46039f"
             ],
             [
              0.2222222222222222,
              "#7201a8"
             ],
             [
              0.3333333333333333,
              "#9c179e"
             ],
             [
              0.4444444444444444,
              "#bd3786"
             ],
             [
              0.5555555555555556,
              "#d8576b"
             ],
             [
              0.6666666666666666,
              "#ed7953"
             ],
             [
              0.7777777777777778,
              "#fb9f3a"
             ],
             [
              0.8888888888888888,
              "#fdca26"
             ],
             [
              1,
              "#f0f921"
             ]
            ],
            "type": "heatmapgl"
           }
          ],
          "histogram": [
           {
            "marker": {
             "colorbar": {
              "outlinewidth": 0,
              "ticks": ""
             }
            },
            "type": "histogram"
           }
          ],
          "histogram2d": [
           {
            "colorbar": {
             "outlinewidth": 0,
             "ticks": ""
            },
            "colorscale": [
             [
              0,
              "#0d0887"
             ],
             [
              0.1111111111111111,
              "#46039f"
             ],
             [
              0.2222222222222222,
              "#7201a8"
             ],
             [
              0.3333333333333333,
              "#9c179e"
             ],
             [
              0.4444444444444444,
              "#bd3786"
             ],
             [
              0.5555555555555556,
              "#d8576b"
             ],
             [
              0.6666666666666666,
              "#ed7953"
             ],
             [
              0.7777777777777778,
              "#fb9f3a"
             ],
             [
              0.8888888888888888,
              "#fdca26"
             ],
             [
              1,
              "#f0f921"
             ]
            ],
            "type": "histogram2d"
           }
          ],
          "histogram2dcontour": [
           {
            "colorbar": {
             "outlinewidth": 0,
             "ticks": ""
            },
            "colorscale": [
             [
              0,
              "#0d0887"
             ],
             [
              0.1111111111111111,
              "#46039f"
             ],
             [
              0.2222222222222222,
              "#7201a8"
             ],
             [
              0.3333333333333333,
              "#9c179e"
             ],
             [
              0.4444444444444444,
              "#bd3786"
             ],
             [
              0.5555555555555556,
              "#d8576b"
             ],
             [
              0.6666666666666666,
              "#ed7953"
             ],
             [
              0.7777777777777778,
              "#fb9f3a"
             ],
             [
              0.8888888888888888,
              "#fdca26"
             ],
             [
              1,
              "#f0f921"
             ]
            ],
            "type": "histogram2dcontour"
           }
          ],
          "mesh3d": [
           {
            "colorbar": {
             "outlinewidth": 0,
             "ticks": ""
            },
            "type": "mesh3d"
           }
          ],
          "parcoords": [
           {
            "line": {
             "colorbar": {
              "outlinewidth": 0,
              "ticks": ""
             }
            },
            "type": "parcoords"
           }
          ],
          "pie": [
           {
            "automargin": true,
            "type": "pie"
           }
          ],
          "scatter": [
           {
            "marker": {
             "colorbar": {
              "outlinewidth": 0,
              "ticks": ""
             }
            },
            "type": "scatter"
           }
          ],
          "scatter3d": [
           {
            "line": {
             "colorbar": {
              "outlinewidth": 0,
              "ticks": ""
             }
            },
            "marker": {
             "colorbar": {
              "outlinewidth": 0,
              "ticks": ""
             }
            },
            "type": "scatter3d"
           }
          ],
          "scattercarpet": [
           {
            "marker": {
             "colorbar": {
              "outlinewidth": 0,
              "ticks": ""
             }
            },
            "type": "scattercarpet"
           }
          ],
          "scattergeo": [
           {
            "marker": {
             "colorbar": {
              "outlinewidth": 0,
              "ticks": ""
             }
            },
            "type": "scattergeo"
           }
          ],
          "scattergl": [
           {
            "marker": {
             "colorbar": {
              "outlinewidth": 0,
              "ticks": ""
             }
            },
            "type": "scattergl"
           }
          ],
          "scattermapbox": [
           {
            "marker": {
             "colorbar": {
              "outlinewidth": 0,
              "ticks": ""
             }
            },
            "type": "scattermapbox"
           }
          ],
          "scatterpolar": [
           {
            "marker": {
             "colorbar": {
              "outlinewidth": 0,
              "ticks": ""
             }
            },
            "type": "scatterpolar"
           }
          ],
          "scatterpolargl": [
           {
            "marker": {
             "colorbar": {
              "outlinewidth": 0,
              "ticks": ""
             }
            },
            "type": "scatterpolargl"
           }
          ],
          "scatterternary": [
           {
            "marker": {
             "colorbar": {
              "outlinewidth": 0,
              "ticks": ""
             }
            },
            "type": "scatterternary"
           }
          ],
          "surface": [
           {
            "colorbar": {
             "outlinewidth": 0,
             "ticks": ""
            },
            "colorscale": [
             [
              0,
              "#0d0887"
             ],
             [
              0.1111111111111111,
              "#46039f"
             ],
             [
              0.2222222222222222,
              "#7201a8"
             ],
             [
              0.3333333333333333,
              "#9c179e"
             ],
             [
              0.4444444444444444,
              "#bd3786"
             ],
             [
              0.5555555555555556,
              "#d8576b"
             ],
             [
              0.6666666666666666,
              "#ed7953"
             ],
             [
              0.7777777777777778,
              "#fb9f3a"
             ],
             [
              0.8888888888888888,
              "#fdca26"
             ],
             [
              1,
              "#f0f921"
             ]
            ],
            "type": "surface"
           }
          ],
          "table": [
           {
            "cells": {
             "fill": {
              "color": "#EBF0F8"
             },
             "line": {
              "color": "white"
             }
            },
            "header": {
             "fill": {
              "color": "#C8D4E3"
             },
             "line": {
              "color": "white"
             }
            },
            "type": "table"
           }
          ]
         },
         "layout": {
          "annotationdefaults": {
           "arrowcolor": "#2a3f5f",
           "arrowhead": 0,
           "arrowwidth": 1
          },
          "coloraxis": {
           "colorbar": {
            "outlinewidth": 0,
            "ticks": ""
           }
          },
          "colorscale": {
           "diverging": [
            [
             0,
             "#8e0152"
            ],
            [
             0.1,
             "#c51b7d"
            ],
            [
             0.2,
             "#de77ae"
            ],
            [
             0.3,
             "#f1b6da"
            ],
            [
             0.4,
             "#fde0ef"
            ],
            [
             0.5,
             "#f7f7f7"
            ],
            [
             0.6,
             "#e6f5d0"
            ],
            [
             0.7,
             "#b8e186"
            ],
            [
             0.8,
             "#7fbc41"
            ],
            [
             0.9,
             "#4d9221"
            ],
            [
             1,
             "#276419"
            ]
           ],
           "sequential": [
            [
             0,
             "#0d0887"
            ],
            [
             0.1111111111111111,
             "#46039f"
            ],
            [
             0.2222222222222222,
             "#7201a8"
            ],
            [
             0.3333333333333333,
             "#9c179e"
            ],
            [
             0.4444444444444444,
             "#bd3786"
            ],
            [
             0.5555555555555556,
             "#d8576b"
            ],
            [
             0.6666666666666666,
             "#ed7953"
            ],
            [
             0.7777777777777778,
             "#fb9f3a"
            ],
            [
             0.8888888888888888,
             "#fdca26"
            ],
            [
             1,
             "#f0f921"
            ]
           ],
           "sequentialminus": [
            [
             0,
             "#0d0887"
            ],
            [
             0.1111111111111111,
             "#46039f"
            ],
            [
             0.2222222222222222,
             "#7201a8"
            ],
            [
             0.3333333333333333,
             "#9c179e"
            ],
            [
             0.4444444444444444,
             "#bd3786"
            ],
            [
             0.5555555555555556,
             "#d8576b"
            ],
            [
             0.6666666666666666,
             "#ed7953"
            ],
            [
             0.7777777777777778,
             "#fb9f3a"
            ],
            [
             0.8888888888888888,
             "#fdca26"
            ],
            [
             1,
             "#f0f921"
            ]
           ]
          },
          "colorway": [
           "#636efa",
           "#EF553B",
           "#00cc96",
           "#ab63fa",
           "#FFA15A",
           "#19d3f3",
           "#FF6692",
           "#B6E880",
           "#FF97FF",
           "#FECB52"
          ],
          "font": {
           "color": "#2a3f5f"
          },
          "geo": {
           "bgcolor": "white",
           "lakecolor": "white",
           "landcolor": "#E5ECF6",
           "showlakes": true,
           "showland": true,
           "subunitcolor": "white"
          },
          "hoverlabel": {
           "align": "left"
          },
          "hovermode": "closest",
          "mapbox": {
           "style": "light"
          },
          "paper_bgcolor": "white",
          "plot_bgcolor": "#E5ECF6",
          "polar": {
           "angularaxis": {
            "gridcolor": "white",
            "linecolor": "white",
            "ticks": ""
           },
           "bgcolor": "#E5ECF6",
           "radialaxis": {
            "gridcolor": "white",
            "linecolor": "white",
            "ticks": ""
           }
          },
          "scene": {
           "xaxis": {
            "backgroundcolor": "#E5ECF6",
            "gridcolor": "white",
            "gridwidth": 2,
            "linecolor": "white",
            "showbackground": true,
            "ticks": "",
            "zerolinecolor": "white"
           },
           "yaxis": {
            "backgroundcolor": "#E5ECF6",
            "gridcolor": "white",
            "gridwidth": 2,
            "linecolor": "white",
            "showbackground": true,
            "ticks": "",
            "zerolinecolor": "white"
           },
           "zaxis": {
            "backgroundcolor": "#E5ECF6",
            "gridcolor": "white",
            "gridwidth": 2,
            "linecolor": "white",
            "showbackground": true,
            "ticks": "",
            "zerolinecolor": "white"
           }
          },
          "shapedefaults": {
           "line": {
            "color": "#2a3f5f"
           }
          },
          "ternary": {
           "aaxis": {
            "gridcolor": "white",
            "linecolor": "white",
            "ticks": ""
           },
           "baxis": {
            "gridcolor": "white",
            "linecolor": "white",
            "ticks": ""
           },
           "bgcolor": "#E5ECF6",
           "caxis": {
            "gridcolor": "white",
            "linecolor": "white",
            "ticks": ""
           }
          },
          "title": {
           "x": 0.05
          },
          "xaxis": {
           "automargin": true,
           "gridcolor": "white",
           "linecolor": "white",
           "ticks": "",
           "title": {
            "standoff": 15
           },
           "zerolinecolor": "white",
           "zerolinewidth": 2
          },
          "yaxis": {
           "automargin": true,
           "gridcolor": "white",
           "linecolor": "white",
           "ticks": "",
           "title": {
            "standoff": 15
           },
           "zerolinecolor": "white",
           "zerolinewidth": 2
          }
         }
        },
        "xaxis": {
         "anchor": "y",
         "domain": [
          0,
          1
         ],
         "title": {
          "text": "x"
         }
        },
        "yaxis": {
         "anchor": "x",
         "domain": [
          0,
          1
         ],
         "title": {
          "text": "y"
         }
        }
       }
      },
      "text/html": [
       "<div>\n",
       "        \n",
       "        \n",
       "            <div id=\"b9fe491d-f1c5-484a-ab9e-c5933fbff849\" class=\"plotly-graph-div\" style=\"height:600px; width:100%;\"></div>\n",
       "            <script type=\"text/javascript\">\n",
       "                require([\"plotly\"], function(Plotly) {\n",
       "                    window.PLOTLYENV=window.PLOTLYENV || {};\n",
       "                    \n",
       "                if (document.getElementById(\"b9fe491d-f1c5-484a-ab9e-c5933fbff849\")) {\n",
       "                    Plotly.newPlot(\n",
       "                        'b9fe491d-f1c5-484a-ab9e-c5933fbff849',\n",
       "                        [{\"hoverlabel\": {\"namelength\": 0}, \"hovertemplate\": \"x=%{x}<br>y=%{y}\", \"legendgroup\": \"\", \"line\": {\"color\": \"#636efa\", \"dash\": \"solid\"}, \"mode\": \"lines\", \"name\": \"\", \"showlegend\": false, \"type\": \"scatter\", \"x\": [0, 2, 4, 6, 8, 10, 12, 14, 16, 18], \"xaxis\": \"x\", \"y\": [0.0, 16.42172057920007, 27.797627475567975, 35.678120697377175, 41.13721718829596, 44.91892648723751, 47.53865032716072, 49.35342572499016, 50.61058485542108, 51.48146346724055], \"yaxis\": \"y\"}],\n",
       "                        {\"height\": 600, \"legend\": {\"tracegroupgap\": 0}, \"margin\": {\"t\": 60}, \"template\": {\"data\": {\"bar\": [{\"error_x\": {\"color\": \"#2a3f5f\"}, \"error_y\": {\"color\": \"#2a3f5f\"}, \"marker\": {\"line\": {\"color\": \"#E5ECF6\", \"width\": 0.5}}, \"type\": \"bar\"}], \"barpolar\": [{\"marker\": {\"line\": {\"color\": \"#E5ECF6\", \"width\": 0.5}}, \"type\": \"barpolar\"}], \"carpet\": [{\"aaxis\": {\"endlinecolor\": \"#2a3f5f\", \"gridcolor\": \"white\", \"linecolor\": \"white\", \"minorgridcolor\": \"white\", \"startlinecolor\": \"#2a3f5f\"}, \"baxis\": {\"endlinecolor\": \"#2a3f5f\", \"gridcolor\": \"white\", \"linecolor\": \"white\", \"minorgridcolor\": \"white\", \"startlinecolor\": \"#2a3f5f\"}, \"type\": \"carpet\"}], \"choropleth\": [{\"colorbar\": {\"outlinewidth\": 0, \"ticks\": \"\"}, \"type\": \"choropleth\"}], \"contour\": [{\"colorbar\": {\"outlinewidth\": 0, \"ticks\": \"\"}, \"colorscale\": [[0.0, \"#0d0887\"], [0.1111111111111111, \"#46039f\"], [0.2222222222222222, \"#7201a8\"], [0.3333333333333333, \"#9c179e\"], [0.4444444444444444, \"#bd3786\"], [0.5555555555555556, \"#d8576b\"], [0.6666666666666666, \"#ed7953\"], [0.7777777777777778, \"#fb9f3a\"], [0.8888888888888888, \"#fdca26\"], [1.0, \"#f0f921\"]], \"type\": \"contour\"}], \"contourcarpet\": [{\"colorbar\": {\"outlinewidth\": 0, \"ticks\": \"\"}, \"type\": \"contourcarpet\"}], \"heatmap\": [{\"colorbar\": {\"outlinewidth\": 0, \"ticks\": \"\"}, \"colorscale\": [[0.0, \"#0d0887\"], [0.1111111111111111, \"#46039f\"], [0.2222222222222222, \"#7201a8\"], [0.3333333333333333, \"#9c179e\"], [0.4444444444444444, \"#bd3786\"], [0.5555555555555556, \"#d8576b\"], [0.6666666666666666, \"#ed7953\"], [0.7777777777777778, \"#fb9f3a\"], [0.8888888888888888, \"#fdca26\"], [1.0, \"#f0f921\"]], \"type\": \"heatmap\"}], \"heatmapgl\": [{\"colorbar\": {\"outlinewidth\": 0, \"ticks\": \"\"}, \"colorscale\": [[0.0, \"#0d0887\"], [0.1111111111111111, \"#46039f\"], [0.2222222222222222, \"#7201a8\"], [0.3333333333333333, \"#9c179e\"], [0.4444444444444444, \"#bd3786\"], [0.5555555555555556, \"#d8576b\"], [0.6666666666666666, \"#ed7953\"], [0.7777777777777778, \"#fb9f3a\"], [0.8888888888888888, \"#fdca26\"], [1.0, \"#f0f921\"]], \"type\": \"heatmapgl\"}], \"histogram\": [{\"marker\": {\"colorbar\": {\"outlinewidth\": 0, \"ticks\": \"\"}}, \"type\": \"histogram\"}], \"histogram2d\": [{\"colorbar\": {\"outlinewidth\": 0, \"ticks\": \"\"}, \"colorscale\": [[0.0, \"#0d0887\"], [0.1111111111111111, \"#46039f\"], [0.2222222222222222, \"#7201a8\"], [0.3333333333333333, \"#9c179e\"], [0.4444444444444444, \"#bd3786\"], [0.5555555555555556, \"#d8576b\"], [0.6666666666666666, \"#ed7953\"], [0.7777777777777778, \"#fb9f3a\"], [0.8888888888888888, \"#fdca26\"], [1.0, \"#f0f921\"]], \"type\": \"histogram2d\"}], \"histogram2dcontour\": [{\"colorbar\": {\"outlinewidth\": 0, \"ticks\": \"\"}, \"colorscale\": [[0.0, \"#0d0887\"], [0.1111111111111111, \"#46039f\"], [0.2222222222222222, \"#7201a8\"], [0.3333333333333333, \"#9c179e\"], [0.4444444444444444, \"#bd3786\"], [0.5555555555555556, \"#d8576b\"], [0.6666666666666666, \"#ed7953\"], [0.7777777777777778, \"#fb9f3a\"], [0.8888888888888888, \"#fdca26\"], [1.0, \"#f0f921\"]], \"type\": \"histogram2dcontour\"}], \"mesh3d\": [{\"colorbar\": {\"outlinewidth\": 0, \"ticks\": \"\"}, \"type\": \"mesh3d\"}], \"parcoords\": [{\"line\": {\"colorbar\": {\"outlinewidth\": 0, \"ticks\": \"\"}}, \"type\": \"parcoords\"}], \"pie\": [{\"automargin\": true, \"type\": \"pie\"}], \"scatter\": [{\"marker\": {\"colorbar\": {\"outlinewidth\": 0, \"ticks\": \"\"}}, \"type\": \"scatter\"}], \"scatter3d\": [{\"line\": {\"colorbar\": {\"outlinewidth\": 0, \"ticks\": \"\"}}, \"marker\": {\"colorbar\": {\"outlinewidth\": 0, \"ticks\": \"\"}}, \"type\": \"scatter3d\"}], \"scattercarpet\": [{\"marker\": {\"colorbar\": {\"outlinewidth\": 0, \"ticks\": \"\"}}, \"type\": \"scattercarpet\"}], \"scattergeo\": [{\"marker\": {\"colorbar\": {\"outlinewidth\": 0, \"ticks\": \"\"}}, \"type\": \"scattergeo\"}], \"scattergl\": [{\"marker\": {\"colorbar\": {\"outlinewidth\": 0, \"ticks\": \"\"}}, \"type\": \"scattergl\"}], \"scattermapbox\": [{\"marker\": {\"colorbar\": {\"outlinewidth\": 0, \"ticks\": \"\"}}, \"type\": \"scattermapbox\"}], \"scatterpolar\": [{\"marker\": {\"colorbar\": {\"outlinewidth\": 0, \"ticks\": \"\"}}, \"type\": \"scatterpolar\"}], \"scatterpolargl\": [{\"marker\": {\"colorbar\": {\"outlinewidth\": 0, \"ticks\": \"\"}}, \"type\": \"scatterpolargl\"}], \"scatterternary\": [{\"marker\": {\"colorbar\": {\"outlinewidth\": 0, \"ticks\": \"\"}}, \"type\": \"scatterternary\"}], \"surface\": [{\"colorbar\": {\"outlinewidth\": 0, \"ticks\": \"\"}, \"colorscale\": [[0.0, \"#0d0887\"], [0.1111111111111111, \"#46039f\"], [0.2222222222222222, \"#7201a8\"], [0.3333333333333333, \"#9c179e\"], [0.4444444444444444, \"#bd3786\"], [0.5555555555555556, \"#d8576b\"], [0.6666666666666666, \"#ed7953\"], [0.7777777777777778, \"#fb9f3a\"], [0.8888888888888888, \"#fdca26\"], [1.0, \"#f0f921\"]], \"type\": \"surface\"}], \"table\": [{\"cells\": {\"fill\": {\"color\": \"#EBF0F8\"}, \"line\": {\"color\": \"white\"}}, \"header\": {\"fill\": {\"color\": \"#C8D4E3\"}, \"line\": {\"color\": \"white\"}}, \"type\": \"table\"}]}, \"layout\": {\"annotationdefaults\": {\"arrowcolor\": \"#2a3f5f\", \"arrowhead\": 0, \"arrowwidth\": 1}, \"coloraxis\": {\"colorbar\": {\"outlinewidth\": 0, \"ticks\": \"\"}}, \"colorscale\": {\"diverging\": [[0, \"#8e0152\"], [0.1, \"#c51b7d\"], [0.2, \"#de77ae\"], [0.3, \"#f1b6da\"], [0.4, \"#fde0ef\"], [0.5, \"#f7f7f7\"], [0.6, \"#e6f5d0\"], [0.7, \"#b8e186\"], [0.8, \"#7fbc41\"], [0.9, \"#4d9221\"], [1, \"#276419\"]], \"sequential\": [[0.0, \"#0d0887\"], [0.1111111111111111, \"#46039f\"], [0.2222222222222222, \"#7201a8\"], [0.3333333333333333, \"#9c179e\"], [0.4444444444444444, \"#bd3786\"], [0.5555555555555556, \"#d8576b\"], [0.6666666666666666, \"#ed7953\"], [0.7777777777777778, \"#fb9f3a\"], [0.8888888888888888, \"#fdca26\"], [1.0, \"#f0f921\"]], \"sequentialminus\": [[0.0, \"#0d0887\"], [0.1111111111111111, \"#46039f\"], [0.2222222222222222, \"#7201a8\"], [0.3333333333333333, \"#9c179e\"], [0.4444444444444444, \"#bd3786\"], [0.5555555555555556, \"#d8576b\"], [0.6666666666666666, \"#ed7953\"], [0.7777777777777778, \"#fb9f3a\"], [0.8888888888888888, \"#fdca26\"], [1.0, \"#f0f921\"]]}, \"colorway\": [\"#636efa\", \"#EF553B\", \"#00cc96\", \"#ab63fa\", \"#FFA15A\", \"#19d3f3\", \"#FF6692\", \"#B6E880\", \"#FF97FF\", \"#FECB52\"], \"font\": {\"color\": \"#2a3f5f\"}, \"geo\": {\"bgcolor\": \"white\", \"lakecolor\": \"white\", \"landcolor\": \"#E5ECF6\", \"showlakes\": true, \"showland\": true, \"subunitcolor\": \"white\"}, \"hoverlabel\": {\"align\": \"left\"}, \"hovermode\": \"closest\", \"mapbox\": {\"style\": \"light\"}, \"paper_bgcolor\": \"white\", \"plot_bgcolor\": \"#E5ECF6\", \"polar\": {\"angularaxis\": {\"gridcolor\": \"white\", \"linecolor\": \"white\", \"ticks\": \"\"}, \"bgcolor\": \"#E5ECF6\", \"radialaxis\": {\"gridcolor\": \"white\", \"linecolor\": \"white\", \"ticks\": \"\"}}, \"scene\": {\"xaxis\": {\"backgroundcolor\": \"#E5ECF6\", \"gridcolor\": \"white\", \"gridwidth\": 2, \"linecolor\": \"white\", \"showbackground\": true, \"ticks\": \"\", \"zerolinecolor\": \"white\"}, \"yaxis\": {\"backgroundcolor\": \"#E5ECF6\", \"gridcolor\": \"white\", \"gridwidth\": 2, \"linecolor\": \"white\", \"showbackground\": true, \"ticks\": \"\", \"zerolinecolor\": \"white\"}, \"zaxis\": {\"backgroundcolor\": \"#E5ECF6\", \"gridcolor\": \"white\", \"gridwidth\": 2, \"linecolor\": \"white\", \"showbackground\": true, \"ticks\": \"\", \"zerolinecolor\": \"white\"}}, \"shapedefaults\": {\"line\": {\"color\": \"#2a3f5f\"}}, \"ternary\": {\"aaxis\": {\"gridcolor\": \"white\", \"linecolor\": \"white\", \"ticks\": \"\"}, \"baxis\": {\"gridcolor\": \"white\", \"linecolor\": \"white\", \"ticks\": \"\"}, \"bgcolor\": \"#E5ECF6\", \"caxis\": {\"gridcolor\": \"white\", \"linecolor\": \"white\", \"ticks\": \"\"}}, \"title\": {\"x\": 0.05}, \"xaxis\": {\"automargin\": true, \"gridcolor\": \"white\", \"linecolor\": \"white\", \"ticks\": \"\", \"title\": {\"standoff\": 15}, \"zerolinecolor\": \"white\", \"zerolinewidth\": 2}, \"yaxis\": {\"automargin\": true, \"gridcolor\": \"white\", \"linecolor\": \"white\", \"ticks\": \"\", \"title\": {\"standoff\": 15}, \"zerolinecolor\": \"white\", \"zerolinewidth\": 2}}}, \"xaxis\": {\"anchor\": \"y\", \"domain\": [0.0, 1.0], \"title\": {\"text\": \"x\"}}, \"yaxis\": {\"anchor\": \"x\", \"domain\": [0.0, 1.0], \"title\": {\"text\": \"y\"}}},\n",
       "                        {\"responsive\": true}\n",
       "                    ).then(function(){\n",
       "                            \n",
       "var gd = document.getElementById('b9fe491d-f1c5-484a-ab9e-c5933fbff849');\n",
       "var x = new MutationObserver(function (mutations, observer) {{\n",
       "        var display = window.getComputedStyle(gd).display;\n",
       "        if (!display || display === 'none') {{\n",
       "            console.log([gd, 'removed!']);\n",
       "            Plotly.purge(gd);\n",
       "            observer.disconnect();\n",
       "        }}\n",
       "}});\n",
       "\n",
       "// Listen for the removal of the full notebook cells\n",
       "var notebookContainer = gd.closest('#notebook-container');\n",
       "if (notebookContainer) {{\n",
       "    x.observe(notebookContainer, {childList: true});\n",
       "}}\n",
       "\n",
       "// Listen for the clearing of the current output cell\n",
       "var outputEl = gd.closest('.output');\n",
       "if (outputEl) {{\n",
       "    x.observe(outputEl, {childList: true});\n",
       "}}\n",
       "\n",
       "                        })\n",
       "                };\n",
       "                });\n",
       "            </script>\n",
       "        </div>"
      ]
     },
     "metadata": {},
     "output_type": "display_data"
    }
   ],
   "source": [
    "px.line(x = time, y = velocidad_real)"
   ]
  },
  {
   "cell_type": "markdown",
   "metadata": {},
   "source": [
    "### Forma Nro 1"
   ]
  },
  {
   "cell_type": "code",
   "execution_count": 77,
   "metadata": {},
   "outputs": [],
   "source": [
    "velocidad_modelo = np.zeros(n)\n",
    "error_absoluto = np.zeros(n)\n",
    "error_relativo = np.zeros(n)\n",
    "\n",
    "velocidad_real[0] = v0\n",
    "velocidad_modelo[0] = v0\n",
    "\n",
    "for i in range(n-1):\n",
    "    velocidad_modelo[i+1] = velocidad_modelo[i]+(g-C*velocidad_modelo[i]/m)*delta_t"
   ]
  },
  {
   "cell_type": "code",
   "execution_count": 78,
   "metadata": {},
   "outputs": [
    {
     "data": {
      "application/vnd.plotly.v1+json": {
       "config": {
        "plotlyServerURL": "https://plot.ly"
       },
       "data": [
        {
         "name": "real",
         "type": "scatter",
         "x": [
          0,
          3,
          6,
          9,
          12,
          15
         ],
         "y": [
          0,
          22.630235447165056,
          35.678120697377175,
          43.201122828759345,
          47.53865032716072,
          50.03953288319575
         ]
        },
        {
         "name": "modelo",
         "type": "scatter",
         "x": [
          0,
          3,
          6,
          9,
          12,
          15
         ],
         "y": [
          0,
          29.43,
          42.65405286343612,
          48.596138291059404,
          51.266150245321846,
          52.465891299660036
         ]
        }
       ],
       "layout": {
        "template": {
         "data": {
          "bar": [
           {
            "error_x": {
             "color": "#2a3f5f"
            },
            "error_y": {
             "color": "#2a3f5f"
            },
            "marker": {
             "line": {
              "color": "#E5ECF6",
              "width": 0.5
             }
            },
            "type": "bar"
           }
          ],
          "barpolar": [
           {
            "marker": {
             "line": {
              "color": "#E5ECF6",
              "width": 0.5
             }
            },
            "type": "barpolar"
           }
          ],
          "carpet": [
           {
            "aaxis": {
             "endlinecolor": "#2a3f5f",
             "gridcolor": "white",
             "linecolor": "white",
             "minorgridcolor": "white",
             "startlinecolor": "#2a3f5f"
            },
            "baxis": {
             "endlinecolor": "#2a3f5f",
             "gridcolor": "white",
             "linecolor": "white",
             "minorgridcolor": "white",
             "startlinecolor": "#2a3f5f"
            },
            "type": "carpet"
           }
          ],
          "choropleth": [
           {
            "colorbar": {
             "outlinewidth": 0,
             "ticks": ""
            },
            "type": "choropleth"
           }
          ],
          "contour": [
           {
            "colorbar": {
             "outlinewidth": 0,
             "ticks": ""
            },
            "colorscale": [
             [
              0,
              "#0d0887"
             ],
             [
              0.1111111111111111,
              "#46039f"
             ],
             [
              0.2222222222222222,
              "#7201a8"
             ],
             [
              0.3333333333333333,
              "#9c179e"
             ],
             [
              0.4444444444444444,
              "#bd3786"
             ],
             [
              0.5555555555555556,
              "#d8576b"
             ],
             [
              0.6666666666666666,
              "#ed7953"
             ],
             [
              0.7777777777777778,
              "#fb9f3a"
             ],
             [
              0.8888888888888888,
              "#fdca26"
             ],
             [
              1,
              "#f0f921"
             ]
            ],
            "type": "contour"
           }
          ],
          "contourcarpet": [
           {
            "colorbar": {
             "outlinewidth": 0,
             "ticks": ""
            },
            "type": "contourcarpet"
           }
          ],
          "heatmap": [
           {
            "colorbar": {
             "outlinewidth": 0,
             "ticks": ""
            },
            "colorscale": [
             [
              0,
              "#0d0887"
             ],
             [
              0.1111111111111111,
              "#46039f"
             ],
             [
              0.2222222222222222,
              "#7201a8"
             ],
             [
              0.3333333333333333,
              "#9c179e"
             ],
             [
              0.4444444444444444,
              "#bd3786"
             ],
             [
              0.5555555555555556,
              "#d8576b"
             ],
             [
              0.6666666666666666,
              "#ed7953"
             ],
             [
              0.7777777777777778,
              "#fb9f3a"
             ],
             [
              0.8888888888888888,
              "#fdca26"
             ],
             [
              1,
              "#f0f921"
             ]
            ],
            "type": "heatmap"
           }
          ],
          "heatmapgl": [
           {
            "colorbar": {
             "outlinewidth": 0,
             "ticks": ""
            },
            "colorscale": [
             [
              0,
              "#0d0887"
             ],
             [
              0.1111111111111111,
              "#46039f"
             ],
             [
              0.2222222222222222,
              "#7201a8"
             ],
             [
              0.3333333333333333,
              "#9c179e"
             ],
             [
              0.4444444444444444,
              "#bd3786"
             ],
             [
              0.5555555555555556,
              "#d8576b"
             ],
             [
              0.6666666666666666,
              "#ed7953"
             ],
             [
              0.7777777777777778,
              "#fb9f3a"
             ],
             [
              0.8888888888888888,
              "#fdca26"
             ],
             [
              1,
              "#f0f921"
             ]
            ],
            "type": "heatmapgl"
           }
          ],
          "histogram": [
           {
            "marker": {
             "colorbar": {
              "outlinewidth": 0,
              "ticks": ""
             }
            },
            "type": "histogram"
           }
          ],
          "histogram2d": [
           {
            "colorbar": {
             "outlinewidth": 0,
             "ticks": ""
            },
            "colorscale": [
             [
              0,
              "#0d0887"
             ],
             [
              0.1111111111111111,
              "#46039f"
             ],
             [
              0.2222222222222222,
              "#7201a8"
             ],
             [
              0.3333333333333333,
              "#9c179e"
             ],
             [
              0.4444444444444444,
              "#bd3786"
             ],
             [
              0.5555555555555556,
              "#d8576b"
             ],
             [
              0.6666666666666666,
              "#ed7953"
             ],
             [
              0.7777777777777778,
              "#fb9f3a"
             ],
             [
              0.8888888888888888,
              "#fdca26"
             ],
             [
              1,
              "#f0f921"
             ]
            ],
            "type": "histogram2d"
           }
          ],
          "histogram2dcontour": [
           {
            "colorbar": {
             "outlinewidth": 0,
             "ticks": ""
            },
            "colorscale": [
             [
              0,
              "#0d0887"
             ],
             [
              0.1111111111111111,
              "#46039f"
             ],
             [
              0.2222222222222222,
              "#7201a8"
             ],
             [
              0.3333333333333333,
              "#9c179e"
             ],
             [
              0.4444444444444444,
              "#bd3786"
             ],
             [
              0.5555555555555556,
              "#d8576b"
             ],
             [
              0.6666666666666666,
              "#ed7953"
             ],
             [
              0.7777777777777778,
              "#fb9f3a"
             ],
             [
              0.8888888888888888,
              "#fdca26"
             ],
             [
              1,
              "#f0f921"
             ]
            ],
            "type": "histogram2dcontour"
           }
          ],
          "mesh3d": [
           {
            "colorbar": {
             "outlinewidth": 0,
             "ticks": ""
            },
            "type": "mesh3d"
           }
          ],
          "parcoords": [
           {
            "line": {
             "colorbar": {
              "outlinewidth": 0,
              "ticks": ""
             }
            },
            "type": "parcoords"
           }
          ],
          "pie": [
           {
            "automargin": true,
            "type": "pie"
           }
          ],
          "scatter": [
           {
            "marker": {
             "colorbar": {
              "outlinewidth": 0,
              "ticks": ""
             }
            },
            "type": "scatter"
           }
          ],
          "scatter3d": [
           {
            "line": {
             "colorbar": {
              "outlinewidth": 0,
              "ticks": ""
             }
            },
            "marker": {
             "colorbar": {
              "outlinewidth": 0,
              "ticks": ""
             }
            },
            "type": "scatter3d"
           }
          ],
          "scattercarpet": [
           {
            "marker": {
             "colorbar": {
              "outlinewidth": 0,
              "ticks": ""
             }
            },
            "type": "scattercarpet"
           }
          ],
          "scattergeo": [
           {
            "marker": {
             "colorbar": {
              "outlinewidth": 0,
              "ticks": ""
             }
            },
            "type": "scattergeo"
           }
          ],
          "scattergl": [
           {
            "marker": {
             "colorbar": {
              "outlinewidth": 0,
              "ticks": ""
             }
            },
            "type": "scattergl"
           }
          ],
          "scattermapbox": [
           {
            "marker": {
             "colorbar": {
              "outlinewidth": 0,
              "ticks": ""
             }
            },
            "type": "scattermapbox"
           }
          ],
          "scatterpolar": [
           {
            "marker": {
             "colorbar": {
              "outlinewidth": 0,
              "ticks": ""
             }
            },
            "type": "scatterpolar"
           }
          ],
          "scatterpolargl": [
           {
            "marker": {
             "colorbar": {
              "outlinewidth": 0,
              "ticks": ""
             }
            },
            "type": "scatterpolargl"
           }
          ],
          "scatterternary": [
           {
            "marker": {
             "colorbar": {
              "outlinewidth": 0,
              "ticks": ""
             }
            },
            "type": "scatterternary"
           }
          ],
          "surface": [
           {
            "colorbar": {
             "outlinewidth": 0,
             "ticks": ""
            },
            "colorscale": [
             [
              0,
              "#0d0887"
             ],
             [
              0.1111111111111111,
              "#46039f"
             ],
             [
              0.2222222222222222,
              "#7201a8"
             ],
             [
              0.3333333333333333,
              "#9c179e"
             ],
             [
              0.4444444444444444,
              "#bd3786"
             ],
             [
              0.5555555555555556,
              "#d8576b"
             ],
             [
              0.6666666666666666,
              "#ed7953"
             ],
             [
              0.7777777777777778,
              "#fb9f3a"
             ],
             [
              0.8888888888888888,
              "#fdca26"
             ],
             [
              1,
              "#f0f921"
             ]
            ],
            "type": "surface"
           }
          ],
          "table": [
           {
            "cells": {
             "fill": {
              "color": "#EBF0F8"
             },
             "line": {
              "color": "white"
             }
            },
            "header": {
             "fill": {
              "color": "#C8D4E3"
             },
             "line": {
              "color": "white"
             }
            },
            "type": "table"
           }
          ]
         },
         "layout": {
          "annotationdefaults": {
           "arrowcolor": "#2a3f5f",
           "arrowhead": 0,
           "arrowwidth": 1
          },
          "coloraxis": {
           "colorbar": {
            "outlinewidth": 0,
            "ticks": ""
           }
          },
          "colorscale": {
           "diverging": [
            [
             0,
             "#8e0152"
            ],
            [
             0.1,
             "#c51b7d"
            ],
            [
             0.2,
             "#de77ae"
            ],
            [
             0.3,
             "#f1b6da"
            ],
            [
             0.4,
             "#fde0ef"
            ],
            [
             0.5,
             "#f7f7f7"
            ],
            [
             0.6,
             "#e6f5d0"
            ],
            [
             0.7,
             "#b8e186"
            ],
            [
             0.8,
             "#7fbc41"
            ],
            [
             0.9,
             "#4d9221"
            ],
            [
             1,
             "#276419"
            ]
           ],
           "sequential": [
            [
             0,
             "#0d0887"
            ],
            [
             0.1111111111111111,
             "#46039f"
            ],
            [
             0.2222222222222222,
             "#7201a8"
            ],
            [
             0.3333333333333333,
             "#9c179e"
            ],
            [
             0.4444444444444444,
             "#bd3786"
            ],
            [
             0.5555555555555556,
             "#d8576b"
            ],
            [
             0.6666666666666666,
             "#ed7953"
            ],
            [
             0.7777777777777778,
             "#fb9f3a"
            ],
            [
             0.8888888888888888,
             "#fdca26"
            ],
            [
             1,
             "#f0f921"
            ]
           ],
           "sequentialminus": [
            [
             0,
             "#0d0887"
            ],
            [
             0.1111111111111111,
             "#46039f"
            ],
            [
             0.2222222222222222,
             "#7201a8"
            ],
            [
             0.3333333333333333,
             "#9c179e"
            ],
            [
             0.4444444444444444,
             "#bd3786"
            ],
            [
             0.5555555555555556,
             "#d8576b"
            ],
            [
             0.6666666666666666,
             "#ed7953"
            ],
            [
             0.7777777777777778,
             "#fb9f3a"
            ],
            [
             0.8888888888888888,
             "#fdca26"
            ],
            [
             1,
             "#f0f921"
            ]
           ]
          },
          "colorway": [
           "#636efa",
           "#EF553B",
           "#00cc96",
           "#ab63fa",
           "#FFA15A",
           "#19d3f3",
           "#FF6692",
           "#B6E880",
           "#FF97FF",
           "#FECB52"
          ],
          "font": {
           "color": "#2a3f5f"
          },
          "geo": {
           "bgcolor": "white",
           "lakecolor": "white",
           "landcolor": "#E5ECF6",
           "showlakes": true,
           "showland": true,
           "subunitcolor": "white"
          },
          "hoverlabel": {
           "align": "left"
          },
          "hovermode": "closest",
          "mapbox": {
           "style": "light"
          },
          "paper_bgcolor": "white",
          "plot_bgcolor": "#E5ECF6",
          "polar": {
           "angularaxis": {
            "gridcolor": "white",
            "linecolor": "white",
            "ticks": ""
           },
           "bgcolor": "#E5ECF6",
           "radialaxis": {
            "gridcolor": "white",
            "linecolor": "white",
            "ticks": ""
           }
          },
          "scene": {
           "xaxis": {
            "backgroundcolor": "#E5ECF6",
            "gridcolor": "white",
            "gridwidth": 2,
            "linecolor": "white",
            "showbackground": true,
            "ticks": "",
            "zerolinecolor": "white"
           },
           "yaxis": {
            "backgroundcolor": "#E5ECF6",
            "gridcolor": "white",
            "gridwidth": 2,
            "linecolor": "white",
            "showbackground": true,
            "ticks": "",
            "zerolinecolor": "white"
           },
           "zaxis": {
            "backgroundcolor": "#E5ECF6",
            "gridcolor": "white",
            "gridwidth": 2,
            "linecolor": "white",
            "showbackground": true,
            "ticks": "",
            "zerolinecolor": "white"
           }
          },
          "shapedefaults": {
           "line": {
            "color": "#2a3f5f"
           }
          },
          "ternary": {
           "aaxis": {
            "gridcolor": "white",
            "linecolor": "white",
            "ticks": ""
           },
           "baxis": {
            "gridcolor": "white",
            "linecolor": "white",
            "ticks": ""
           },
           "bgcolor": "#E5ECF6",
           "caxis": {
            "gridcolor": "white",
            "linecolor": "white",
            "ticks": ""
           }
          },
          "title": {
           "x": 0.05
          },
          "xaxis": {
           "automargin": true,
           "gridcolor": "white",
           "linecolor": "white",
           "ticks": "",
           "title": {
            "standoff": 15
           },
           "zerolinecolor": "white",
           "zerolinewidth": 2
          },
          "yaxis": {
           "automargin": true,
           "gridcolor": "white",
           "linecolor": "white",
           "ticks": "",
           "title": {
            "standoff": 15
           },
           "zerolinecolor": "white",
           "zerolinewidth": 2
          }
         }
        }
       }
      },
      "text/html": [
       "<div>\n",
       "        \n",
       "        \n",
       "            <div id=\"7dfaac56-e581-4d98-ab8a-235b53daa6d1\" class=\"plotly-graph-div\" style=\"height:525px; width:100%;\"></div>\n",
       "            <script type=\"text/javascript\">\n",
       "                require([\"plotly\"], function(Plotly) {\n",
       "                    window.PLOTLYENV=window.PLOTLYENV || {};\n",
       "                    \n",
       "                if (document.getElementById(\"7dfaac56-e581-4d98-ab8a-235b53daa6d1\")) {\n",
       "                    Plotly.newPlot(\n",
       "                        '7dfaac56-e581-4d98-ab8a-235b53daa6d1',\n",
       "                        [{\"name\": \"real\", \"type\": \"scatter\", \"x\": [0, 3, 6, 9, 12, 15], \"y\": [0.0, 22.630235447165056, 35.678120697377175, 43.201122828759345, 47.53865032716072, 50.03953288319575]}, {\"name\": \"modelo\", \"type\": \"scatter\", \"x\": [0, 3, 6, 9, 12, 15], \"y\": [0.0, 29.43, 42.65405286343612, 48.596138291059404, 51.266150245321846, 52.465891299660036]}],\n",
       "                        {\"template\": {\"data\": {\"bar\": [{\"error_x\": {\"color\": \"#2a3f5f\"}, \"error_y\": {\"color\": \"#2a3f5f\"}, \"marker\": {\"line\": {\"color\": \"#E5ECF6\", \"width\": 0.5}}, \"type\": \"bar\"}], \"barpolar\": [{\"marker\": {\"line\": {\"color\": \"#E5ECF6\", \"width\": 0.5}}, \"type\": \"barpolar\"}], \"carpet\": [{\"aaxis\": {\"endlinecolor\": \"#2a3f5f\", \"gridcolor\": \"white\", \"linecolor\": \"white\", \"minorgridcolor\": \"white\", \"startlinecolor\": \"#2a3f5f\"}, \"baxis\": {\"endlinecolor\": \"#2a3f5f\", \"gridcolor\": \"white\", \"linecolor\": \"white\", \"minorgridcolor\": \"white\", \"startlinecolor\": \"#2a3f5f\"}, \"type\": \"carpet\"}], \"choropleth\": [{\"colorbar\": {\"outlinewidth\": 0, \"ticks\": \"\"}, \"type\": \"choropleth\"}], \"contour\": [{\"colorbar\": {\"outlinewidth\": 0, \"ticks\": \"\"}, \"colorscale\": [[0.0, \"#0d0887\"], [0.1111111111111111, \"#46039f\"], [0.2222222222222222, \"#7201a8\"], [0.3333333333333333, \"#9c179e\"], [0.4444444444444444, \"#bd3786\"], [0.5555555555555556, \"#d8576b\"], [0.6666666666666666, \"#ed7953\"], [0.7777777777777778, \"#fb9f3a\"], [0.8888888888888888, \"#fdca26\"], [1.0, \"#f0f921\"]], \"type\": \"contour\"}], \"contourcarpet\": [{\"colorbar\": {\"outlinewidth\": 0, \"ticks\": \"\"}, \"type\": \"contourcarpet\"}], \"heatmap\": [{\"colorbar\": {\"outlinewidth\": 0, \"ticks\": \"\"}, \"colorscale\": [[0.0, \"#0d0887\"], [0.1111111111111111, \"#46039f\"], [0.2222222222222222, \"#7201a8\"], [0.3333333333333333, \"#9c179e\"], [0.4444444444444444, \"#bd3786\"], [0.5555555555555556, \"#d8576b\"], [0.6666666666666666, \"#ed7953\"], [0.7777777777777778, \"#fb9f3a\"], [0.8888888888888888, \"#fdca26\"], [1.0, \"#f0f921\"]], \"type\": \"heatmap\"}], \"heatmapgl\": [{\"colorbar\": {\"outlinewidth\": 0, \"ticks\": \"\"}, \"colorscale\": [[0.0, \"#0d0887\"], [0.1111111111111111, \"#46039f\"], [0.2222222222222222, \"#7201a8\"], [0.3333333333333333, \"#9c179e\"], [0.4444444444444444, \"#bd3786\"], [0.5555555555555556, \"#d8576b\"], [0.6666666666666666, \"#ed7953\"], [0.7777777777777778, \"#fb9f3a\"], [0.8888888888888888, \"#fdca26\"], [1.0, \"#f0f921\"]], \"type\": \"heatmapgl\"}], \"histogram\": [{\"marker\": {\"colorbar\": {\"outlinewidth\": 0, \"ticks\": \"\"}}, \"type\": \"histogram\"}], \"histogram2d\": [{\"colorbar\": {\"outlinewidth\": 0, \"ticks\": \"\"}, \"colorscale\": [[0.0, \"#0d0887\"], [0.1111111111111111, \"#46039f\"], [0.2222222222222222, \"#7201a8\"], [0.3333333333333333, \"#9c179e\"], [0.4444444444444444, \"#bd3786\"], [0.5555555555555556, \"#d8576b\"], [0.6666666666666666, \"#ed7953\"], [0.7777777777777778, \"#fb9f3a\"], [0.8888888888888888, \"#fdca26\"], [1.0, \"#f0f921\"]], \"type\": \"histogram2d\"}], \"histogram2dcontour\": [{\"colorbar\": {\"outlinewidth\": 0, \"ticks\": \"\"}, \"colorscale\": [[0.0, \"#0d0887\"], [0.1111111111111111, \"#46039f\"], [0.2222222222222222, \"#7201a8\"], [0.3333333333333333, \"#9c179e\"], [0.4444444444444444, \"#bd3786\"], [0.5555555555555556, \"#d8576b\"], [0.6666666666666666, \"#ed7953\"], [0.7777777777777778, \"#fb9f3a\"], [0.8888888888888888, \"#fdca26\"], [1.0, \"#f0f921\"]], \"type\": \"histogram2dcontour\"}], \"mesh3d\": [{\"colorbar\": {\"outlinewidth\": 0, \"ticks\": \"\"}, \"type\": \"mesh3d\"}], \"parcoords\": [{\"line\": {\"colorbar\": {\"outlinewidth\": 0, \"ticks\": \"\"}}, \"type\": \"parcoords\"}], \"pie\": [{\"automargin\": true, \"type\": \"pie\"}], \"scatter\": [{\"marker\": {\"colorbar\": {\"outlinewidth\": 0, \"ticks\": \"\"}}, \"type\": \"scatter\"}], \"scatter3d\": [{\"line\": {\"colorbar\": {\"outlinewidth\": 0, \"ticks\": \"\"}}, \"marker\": {\"colorbar\": {\"outlinewidth\": 0, \"ticks\": \"\"}}, \"type\": \"scatter3d\"}], \"scattercarpet\": [{\"marker\": {\"colorbar\": {\"outlinewidth\": 0, \"ticks\": \"\"}}, \"type\": \"scattercarpet\"}], \"scattergeo\": [{\"marker\": {\"colorbar\": {\"outlinewidth\": 0, \"ticks\": \"\"}}, \"type\": \"scattergeo\"}], \"scattergl\": [{\"marker\": {\"colorbar\": {\"outlinewidth\": 0, \"ticks\": \"\"}}, \"type\": \"scattergl\"}], \"scattermapbox\": [{\"marker\": {\"colorbar\": {\"outlinewidth\": 0, \"ticks\": \"\"}}, \"type\": \"scattermapbox\"}], \"scatterpolar\": [{\"marker\": {\"colorbar\": {\"outlinewidth\": 0, \"ticks\": \"\"}}, \"type\": \"scatterpolar\"}], \"scatterpolargl\": [{\"marker\": {\"colorbar\": {\"outlinewidth\": 0, \"ticks\": \"\"}}, \"type\": \"scatterpolargl\"}], \"scatterternary\": [{\"marker\": {\"colorbar\": {\"outlinewidth\": 0, \"ticks\": \"\"}}, \"type\": \"scatterternary\"}], \"surface\": [{\"colorbar\": {\"outlinewidth\": 0, \"ticks\": \"\"}, \"colorscale\": [[0.0, \"#0d0887\"], [0.1111111111111111, \"#46039f\"], [0.2222222222222222, \"#7201a8\"], [0.3333333333333333, \"#9c179e\"], [0.4444444444444444, \"#bd3786\"], [0.5555555555555556, \"#d8576b\"], [0.6666666666666666, \"#ed7953\"], [0.7777777777777778, \"#fb9f3a\"], [0.8888888888888888, \"#fdca26\"], [1.0, \"#f0f921\"]], \"type\": \"surface\"}], \"table\": [{\"cells\": {\"fill\": {\"color\": \"#EBF0F8\"}, \"line\": {\"color\": \"white\"}}, \"header\": {\"fill\": {\"color\": \"#C8D4E3\"}, \"line\": {\"color\": \"white\"}}, \"type\": \"table\"}]}, \"layout\": {\"annotationdefaults\": {\"arrowcolor\": \"#2a3f5f\", \"arrowhead\": 0, \"arrowwidth\": 1}, \"coloraxis\": {\"colorbar\": {\"outlinewidth\": 0, \"ticks\": \"\"}}, \"colorscale\": {\"diverging\": [[0, \"#8e0152\"], [0.1, \"#c51b7d\"], [0.2, \"#de77ae\"], [0.3, \"#f1b6da\"], [0.4, \"#fde0ef\"], [0.5, \"#f7f7f7\"], [0.6, \"#e6f5d0\"], [0.7, \"#b8e186\"], [0.8, \"#7fbc41\"], [0.9, \"#4d9221\"], [1, \"#276419\"]], \"sequential\": [[0.0, \"#0d0887\"], [0.1111111111111111, \"#46039f\"], [0.2222222222222222, \"#7201a8\"], [0.3333333333333333, \"#9c179e\"], [0.4444444444444444, \"#bd3786\"], [0.5555555555555556, \"#d8576b\"], [0.6666666666666666, \"#ed7953\"], [0.7777777777777778, \"#fb9f3a\"], [0.8888888888888888, \"#fdca26\"], [1.0, \"#f0f921\"]], \"sequentialminus\": [[0.0, \"#0d0887\"], [0.1111111111111111, \"#46039f\"], [0.2222222222222222, \"#7201a8\"], [0.3333333333333333, \"#9c179e\"], [0.4444444444444444, \"#bd3786\"], [0.5555555555555556, \"#d8576b\"], [0.6666666666666666, \"#ed7953\"], [0.7777777777777778, \"#fb9f3a\"], [0.8888888888888888, \"#fdca26\"], [1.0, \"#f0f921\"]]}, \"colorway\": [\"#636efa\", \"#EF553B\", \"#00cc96\", \"#ab63fa\", \"#FFA15A\", \"#19d3f3\", \"#FF6692\", \"#B6E880\", \"#FF97FF\", \"#FECB52\"], \"font\": {\"color\": \"#2a3f5f\"}, \"geo\": {\"bgcolor\": \"white\", \"lakecolor\": \"white\", \"landcolor\": \"#E5ECF6\", \"showlakes\": true, \"showland\": true, \"subunitcolor\": \"white\"}, \"hoverlabel\": {\"align\": \"left\"}, \"hovermode\": \"closest\", \"mapbox\": {\"style\": \"light\"}, \"paper_bgcolor\": \"white\", \"plot_bgcolor\": \"#E5ECF6\", \"polar\": {\"angularaxis\": {\"gridcolor\": \"white\", \"linecolor\": \"white\", \"ticks\": \"\"}, \"bgcolor\": \"#E5ECF6\", \"radialaxis\": {\"gridcolor\": \"white\", \"linecolor\": \"white\", \"ticks\": \"\"}}, \"scene\": {\"xaxis\": {\"backgroundcolor\": \"#E5ECF6\", \"gridcolor\": \"white\", \"gridwidth\": 2, \"linecolor\": \"white\", \"showbackground\": true, \"ticks\": \"\", \"zerolinecolor\": \"white\"}, \"yaxis\": {\"backgroundcolor\": \"#E5ECF6\", \"gridcolor\": \"white\", \"gridwidth\": 2, \"linecolor\": \"white\", \"showbackground\": true, \"ticks\": \"\", \"zerolinecolor\": \"white\"}, \"zaxis\": {\"backgroundcolor\": \"#E5ECF6\", \"gridcolor\": \"white\", \"gridwidth\": 2, \"linecolor\": \"white\", \"showbackground\": true, \"ticks\": \"\", \"zerolinecolor\": \"white\"}}, \"shapedefaults\": {\"line\": {\"color\": \"#2a3f5f\"}}, \"ternary\": {\"aaxis\": {\"gridcolor\": \"white\", \"linecolor\": \"white\", \"ticks\": \"\"}, \"baxis\": {\"gridcolor\": \"white\", \"linecolor\": \"white\", \"ticks\": \"\"}, \"bgcolor\": \"#E5ECF6\", \"caxis\": {\"gridcolor\": \"white\", \"linecolor\": \"white\", \"ticks\": \"\"}}, \"title\": {\"x\": 0.05}, \"xaxis\": {\"automargin\": true, \"gridcolor\": \"white\", \"linecolor\": \"white\", \"ticks\": \"\", \"title\": {\"standoff\": 15}, \"zerolinecolor\": \"white\", \"zerolinewidth\": 2}, \"yaxis\": {\"automargin\": true, \"gridcolor\": \"white\", \"linecolor\": \"white\", \"ticks\": \"\", \"title\": {\"standoff\": 15}, \"zerolinecolor\": \"white\", \"zerolinewidth\": 2}}}},\n",
       "                        {\"responsive\": true}\n",
       "                    ).then(function(){\n",
       "                            \n",
       "var gd = document.getElementById('7dfaac56-e581-4d98-ab8a-235b53daa6d1');\n",
       "var x = new MutationObserver(function (mutations, observer) {{\n",
       "        var display = window.getComputedStyle(gd).display;\n",
       "        if (!display || display === 'none') {{\n",
       "            console.log([gd, 'removed!']);\n",
       "            Plotly.purge(gd);\n",
       "            observer.disconnect();\n",
       "        }}\n",
       "}});\n",
       "\n",
       "// Listen for the removal of the full notebook cells\n",
       "var notebookContainer = gd.closest('#notebook-container');\n",
       "if (notebookContainer) {{\n",
       "    x.observe(notebookContainer, {childList: true});\n",
       "}}\n",
       "\n",
       "// Listen for the clearing of the current output cell\n",
       "var outputEl = gd.closest('.output');\n",
       "if (outputEl) {{\n",
       "    x.observe(outputEl, {childList: true});\n",
       "}}\n",
       "\n",
       "                        })\n",
       "                };\n",
       "                });\n",
       "            </script>\n",
       "        </div>"
      ]
     },
     "metadata": {},
     "output_type": "display_data"
    }
   ],
   "source": [
    "trace_real = go.Scatter(x = time,y = velocidad_real,name = 'real')\n",
    "trace_modelo = go.Scatter(x = time,y = velocidad_modelo,name = 'modelo')\n",
    "go.Figure(data = [trace_real,trace_modelo])"
   ]
  },
  {
   "cell_type": "markdown",
   "metadata": {},
   "source": [
    "### Forma Nro 2"
   ]
  },
  {
   "cell_type": "code",
   "execution_count": 52,
   "metadata": {},
   "outputs": [],
   "source": [
    "velocidad = -1e3*np.ones(n)\n",
    "error_absoluto = -1e3*np.ones(n)\n",
    "error_relativo = -1e3*np.ones(n)\n",
    "\n",
    "velocidad[0] = v0\n",
    "\n",
    "for i in range(n-1):\n",
    "    velocidad[i+1] = velocidad[i]+(g-C*velocidad[i]/m)*delta_t"
   ]
  },
  {
   "cell_type": "code",
   "execution_count": 53,
   "metadata": {
    "collapsed": true
   },
   "outputs": [
    {
     "data": {
      "application/vnd.plotly.v1+json": {
       "config": {
        "plotlyServerURL": "https://plot.ly"
       },
       "data": [
        {
         "type": "scatter",
         "x": [
          0,
          0.5,
          1,
          1.5,
          2,
          2.5,
          3,
          3.5,
          4,
          4.5,
          5,
          5.5,
          6,
          6.5,
          7,
          7.5,
          8,
          8.5,
          9,
          9.5,
          10,
          10.5,
          11,
          11.5,
          12,
          12.5,
          13,
          13.5,
          14,
          14.5,
          15,
          15.5,
          16,
          16.5,
          17,
          17.5,
          18,
          18.5,
          19,
          19.5
         ],
         "y": [
          0,
          4.686648054979147,
          8.9623181081134,
          12.863049331966831,
          16.42172057920007,
          19.668327514956584,
          22.630235447165056,
          25.332409985837753,
          27.797627475567975,
          30.046666974939818,
          32.09848540102452,
          33.97037731523793,
          35.678120697377175,
          37.23610993655069,
          38.65747715996796,
          39.95420292225668,
          41.13721718829596,
          42.216491460739114,
          43.201122828759345,
          44.09941064645626,
          44.91892648723751,
          45.66657796381358,
          46.34866695173784,
          46.97094270725185,
          47.53865032716072,
          48.056574959201654,
          48.5290821355503,
          48.96015456943159,
          49.35342572499016,
          49.71221044337686,
          50.03953288319575,
          50.33815201081844,
          50.61058485542108,
          50.859127724758196,
          51.08587556049886,
          51.292739596269456,
          51.48146346724055,
          51.653637907044164,
          51.81071415589995,
          51.95401619296627
         ]
        },
        {
         "type": "scatter",
         "x": [
          0,
          0.5,
          1,
          1.5,
          2,
          2.5,
          3,
          3.5,
          4,
          4.5,
          5,
          5.5,
          6,
          6.5,
          7,
          7.5,
          8,
          8.5,
          9,
          9.5,
          10,
          10.5,
          11,
          11.5,
          12,
          12.5,
          13,
          13.5,
          14,
          14.5,
          15,
          15.5,
          16,
          16.5,
          17,
          17.5,
          18,
          18.5,
          19,
          19.5
         ],
         "y": [
          0,
          4.905,
          9.359834801762116,
          13.405819126123156,
          17.080475961097168,
          20.417884554975917,
          23.44899647173657,
          26.20192263989584,
          28.702194056939174,
          30.97299856713198,
          33.03539590862134,
          34.90851302420308,
          36.609721447091935,
          38.15479840679348,
          39.55807314919496,
          40.8325598278665,
          41.990078199024126,
          43.04136323949548,
          43.996164704299495,
          44.86333754715013,
          45.650924042455735,
          46.36622837042419,
          47.01588435698584,
          47.605916996763206,
          48.14179832965939,
          48.62849818927214,
          49.07053029378094,
          49.47199410675993,
          49.836612856139524,
          50.16776806390939,
          50.46853090679583,
          50.741690698756564,
          50.98978075944337,
          51.21510190853998,
          51.41974380386487,
          51.60560432113131,
          51.77440715509503,
          51.927717805324924,
          52.066958094850904,
          52.19341935633669
         ]
        }
       ],
       "layout": {
        "template": {
         "data": {
          "bar": [
           {
            "error_x": {
             "color": "#2a3f5f"
            },
            "error_y": {
             "color": "#2a3f5f"
            },
            "marker": {
             "line": {
              "color": "#E5ECF6",
              "width": 0.5
             }
            },
            "type": "bar"
           }
          ],
          "barpolar": [
           {
            "marker": {
             "line": {
              "color": "#E5ECF6",
              "width": 0.5
             }
            },
            "type": "barpolar"
           }
          ],
          "carpet": [
           {
            "aaxis": {
             "endlinecolor": "#2a3f5f",
             "gridcolor": "white",
             "linecolor": "white",
             "minorgridcolor": "white",
             "startlinecolor": "#2a3f5f"
            },
            "baxis": {
             "endlinecolor": "#2a3f5f",
             "gridcolor": "white",
             "linecolor": "white",
             "minorgridcolor": "white",
             "startlinecolor": "#2a3f5f"
            },
            "type": "carpet"
           }
          ],
          "choropleth": [
           {
            "colorbar": {
             "outlinewidth": 0,
             "ticks": ""
            },
            "type": "choropleth"
           }
          ],
          "contour": [
           {
            "colorbar": {
             "outlinewidth": 0,
             "ticks": ""
            },
            "colorscale": [
             [
              0,
              "#0d0887"
             ],
             [
              0.1111111111111111,
              "#46039f"
             ],
             [
              0.2222222222222222,
              "#7201a8"
             ],
             [
              0.3333333333333333,
              "#9c179e"
             ],
             [
              0.4444444444444444,
              "#bd3786"
             ],
             [
              0.5555555555555556,
              "#d8576b"
             ],
             [
              0.6666666666666666,
              "#ed7953"
             ],
             [
              0.7777777777777778,
              "#fb9f3a"
             ],
             [
              0.8888888888888888,
              "#fdca26"
             ],
             [
              1,
              "#f0f921"
             ]
            ],
            "type": "contour"
           }
          ],
          "contourcarpet": [
           {
            "colorbar": {
             "outlinewidth": 0,
             "ticks": ""
            },
            "type": "contourcarpet"
           }
          ],
          "heatmap": [
           {
            "colorbar": {
             "outlinewidth": 0,
             "ticks": ""
            },
            "colorscale": [
             [
              0,
              "#0d0887"
             ],
             [
              0.1111111111111111,
              "#46039f"
             ],
             [
              0.2222222222222222,
              "#7201a8"
             ],
             [
              0.3333333333333333,
              "#9c179e"
             ],
             [
              0.4444444444444444,
              "#bd3786"
             ],
             [
              0.5555555555555556,
              "#d8576b"
             ],
             [
              0.6666666666666666,
              "#ed7953"
             ],
             [
              0.7777777777777778,
              "#fb9f3a"
             ],
             [
              0.8888888888888888,
              "#fdca26"
             ],
             [
              1,
              "#f0f921"
             ]
            ],
            "type": "heatmap"
           }
          ],
          "heatmapgl": [
           {
            "colorbar": {
             "outlinewidth": 0,
             "ticks": ""
            },
            "colorscale": [
             [
              0,
              "#0d0887"
             ],
             [
              0.1111111111111111,
              "#46039f"
             ],
             [
              0.2222222222222222,
              "#7201a8"
             ],
             [
              0.3333333333333333,
              "#9c179e"
             ],
             [
              0.4444444444444444,
              "#bd3786"
             ],
             [
              0.5555555555555556,
              "#d8576b"
             ],
             [
              0.6666666666666666,
              "#ed7953"
             ],
             [
              0.7777777777777778,
              "#fb9f3a"
             ],
             [
              0.8888888888888888,
              "#fdca26"
             ],
             [
              1,
              "#f0f921"
             ]
            ],
            "type": "heatmapgl"
           }
          ],
          "histogram": [
           {
            "marker": {
             "colorbar": {
              "outlinewidth": 0,
              "ticks": ""
             }
            },
            "type": "histogram"
           }
          ],
          "histogram2d": [
           {
            "colorbar": {
             "outlinewidth": 0,
             "ticks": ""
            },
            "colorscale": [
             [
              0,
              "#0d0887"
             ],
             [
              0.1111111111111111,
              "#46039f"
             ],
             [
              0.2222222222222222,
              "#7201a8"
             ],
             [
              0.3333333333333333,
              "#9c179e"
             ],
             [
              0.4444444444444444,
              "#bd3786"
             ],
             [
              0.5555555555555556,
              "#d8576b"
             ],
             [
              0.6666666666666666,
              "#ed7953"
             ],
             [
              0.7777777777777778,
              "#fb9f3a"
             ],
             [
              0.8888888888888888,
              "#fdca26"
             ],
             [
              1,
              "#f0f921"
             ]
            ],
            "type": "histogram2d"
           }
          ],
          "histogram2dcontour": [
           {
            "colorbar": {
             "outlinewidth": 0,
             "ticks": ""
            },
            "colorscale": [
             [
              0,
              "#0d0887"
             ],
             [
              0.1111111111111111,
              "#46039f"
             ],
             [
              0.2222222222222222,
              "#7201a8"
             ],
             [
              0.3333333333333333,
              "#9c179e"
             ],
             [
              0.4444444444444444,
              "#bd3786"
             ],
             [
              0.5555555555555556,
              "#d8576b"
             ],
             [
              0.6666666666666666,
              "#ed7953"
             ],
             [
              0.7777777777777778,
              "#fb9f3a"
             ],
             [
              0.8888888888888888,
              "#fdca26"
             ],
             [
              1,
              "#f0f921"
             ]
            ],
            "type": "histogram2dcontour"
           }
          ],
          "mesh3d": [
           {
            "colorbar": {
             "outlinewidth": 0,
             "ticks": ""
            },
            "type": "mesh3d"
           }
          ],
          "parcoords": [
           {
            "line": {
             "colorbar": {
              "outlinewidth": 0,
              "ticks": ""
             }
            },
            "type": "parcoords"
           }
          ],
          "pie": [
           {
            "automargin": true,
            "type": "pie"
           }
          ],
          "scatter": [
           {
            "marker": {
             "colorbar": {
              "outlinewidth": 0,
              "ticks": ""
             }
            },
            "type": "scatter"
           }
          ],
          "scatter3d": [
           {
            "line": {
             "colorbar": {
              "outlinewidth": 0,
              "ticks": ""
             }
            },
            "marker": {
             "colorbar": {
              "outlinewidth": 0,
              "ticks": ""
             }
            },
            "type": "scatter3d"
           }
          ],
          "scattercarpet": [
           {
            "marker": {
             "colorbar": {
              "outlinewidth": 0,
              "ticks": ""
             }
            },
            "type": "scattercarpet"
           }
          ],
          "scattergeo": [
           {
            "marker": {
             "colorbar": {
              "outlinewidth": 0,
              "ticks": ""
             }
            },
            "type": "scattergeo"
           }
          ],
          "scattergl": [
           {
            "marker": {
             "colorbar": {
              "outlinewidth": 0,
              "ticks": ""
             }
            },
            "type": "scattergl"
           }
          ],
          "scattermapbox": [
           {
            "marker": {
             "colorbar": {
              "outlinewidth": 0,
              "ticks": ""
             }
            },
            "type": "scattermapbox"
           }
          ],
          "scatterpolar": [
           {
            "marker": {
             "colorbar": {
              "outlinewidth": 0,
              "ticks": ""
             }
            },
            "type": "scatterpolar"
           }
          ],
          "scatterpolargl": [
           {
            "marker": {
             "colorbar": {
              "outlinewidth": 0,
              "ticks": ""
             }
            },
            "type": "scatterpolargl"
           }
          ],
          "scatterternary": [
           {
            "marker": {
             "colorbar": {
              "outlinewidth": 0,
              "ticks": ""
             }
            },
            "type": "scatterternary"
           }
          ],
          "surface": [
           {
            "colorbar": {
             "outlinewidth": 0,
             "ticks": ""
            },
            "colorscale": [
             [
              0,
              "#0d0887"
             ],
             [
              0.1111111111111111,
              "#46039f"
             ],
             [
              0.2222222222222222,
              "#7201a8"
             ],
             [
              0.3333333333333333,
              "#9c179e"
             ],
             [
              0.4444444444444444,
              "#bd3786"
             ],
             [
              0.5555555555555556,
              "#d8576b"
             ],
             [
              0.6666666666666666,
              "#ed7953"
             ],
             [
              0.7777777777777778,
              "#fb9f3a"
             ],
             [
              0.8888888888888888,
              "#fdca26"
             ],
             [
              1,
              "#f0f921"
             ]
            ],
            "type": "surface"
           }
          ],
          "table": [
           {
            "cells": {
             "fill": {
              "color": "#EBF0F8"
             },
             "line": {
              "color": "white"
             }
            },
            "header": {
             "fill": {
              "color": "#C8D4E3"
             },
             "line": {
              "color": "white"
             }
            },
            "type": "table"
           }
          ]
         },
         "layout": {
          "annotationdefaults": {
           "arrowcolor": "#2a3f5f",
           "arrowhead": 0,
           "arrowwidth": 1
          },
          "coloraxis": {
           "colorbar": {
            "outlinewidth": 0,
            "ticks": ""
           }
          },
          "colorscale": {
           "diverging": [
            [
             0,
             "#8e0152"
            ],
            [
             0.1,
             "#c51b7d"
            ],
            [
             0.2,
             "#de77ae"
            ],
            [
             0.3,
             "#f1b6da"
            ],
            [
             0.4,
             "#fde0ef"
            ],
            [
             0.5,
             "#f7f7f7"
            ],
            [
             0.6,
             "#e6f5d0"
            ],
            [
             0.7,
             "#b8e186"
            ],
            [
             0.8,
             "#7fbc41"
            ],
            [
             0.9,
             "#4d9221"
            ],
            [
             1,
             "#276419"
            ]
           ],
           "sequential": [
            [
             0,
             "#0d0887"
            ],
            [
             0.1111111111111111,
             "#46039f"
            ],
            [
             0.2222222222222222,
             "#7201a8"
            ],
            [
             0.3333333333333333,
             "#9c179e"
            ],
            [
             0.4444444444444444,
             "#bd3786"
            ],
            [
             0.5555555555555556,
             "#d8576b"
            ],
            [
             0.6666666666666666,
             "#ed7953"
            ],
            [
             0.7777777777777778,
             "#fb9f3a"
            ],
            [
             0.8888888888888888,
             "#fdca26"
            ],
            [
             1,
             "#f0f921"
            ]
           ],
           "sequentialminus": [
            [
             0,
             "#0d0887"
            ],
            [
             0.1111111111111111,
             "#46039f"
            ],
            [
             0.2222222222222222,
             "#7201a8"
            ],
            [
             0.3333333333333333,
             "#9c179e"
            ],
            [
             0.4444444444444444,
             "#bd3786"
            ],
            [
             0.5555555555555556,
             "#d8576b"
            ],
            [
             0.6666666666666666,
             "#ed7953"
            ],
            [
             0.7777777777777778,
             "#fb9f3a"
            ],
            [
             0.8888888888888888,
             "#fdca26"
            ],
            [
             1,
             "#f0f921"
            ]
           ]
          },
          "colorway": [
           "#636efa",
           "#EF553B",
           "#00cc96",
           "#ab63fa",
           "#FFA15A",
           "#19d3f3",
           "#FF6692",
           "#B6E880",
           "#FF97FF",
           "#FECB52"
          ],
          "font": {
           "color": "#2a3f5f"
          },
          "geo": {
           "bgcolor": "white",
           "lakecolor": "white",
           "landcolor": "#E5ECF6",
           "showlakes": true,
           "showland": true,
           "subunitcolor": "white"
          },
          "hoverlabel": {
           "align": "left"
          },
          "hovermode": "closest",
          "mapbox": {
           "style": "light"
          },
          "paper_bgcolor": "white",
          "plot_bgcolor": "#E5ECF6",
          "polar": {
           "angularaxis": {
            "gridcolor": "white",
            "linecolor": "white",
            "ticks": ""
           },
           "bgcolor": "#E5ECF6",
           "radialaxis": {
            "gridcolor": "white",
            "linecolor": "white",
            "ticks": ""
           }
          },
          "scene": {
           "xaxis": {
            "backgroundcolor": "#E5ECF6",
            "gridcolor": "white",
            "gridwidth": 2,
            "linecolor": "white",
            "showbackground": true,
            "ticks": "",
            "zerolinecolor": "white"
           },
           "yaxis": {
            "backgroundcolor": "#E5ECF6",
            "gridcolor": "white",
            "gridwidth": 2,
            "linecolor": "white",
            "showbackground": true,
            "ticks": "",
            "zerolinecolor": "white"
           },
           "zaxis": {
            "backgroundcolor": "#E5ECF6",
            "gridcolor": "white",
            "gridwidth": 2,
            "linecolor": "white",
            "showbackground": true,
            "ticks": "",
            "zerolinecolor": "white"
           }
          },
          "shapedefaults": {
           "line": {
            "color": "#2a3f5f"
           }
          },
          "ternary": {
           "aaxis": {
            "gridcolor": "white",
            "linecolor": "white",
            "ticks": ""
           },
           "baxis": {
            "gridcolor": "white",
            "linecolor": "white",
            "ticks": ""
           },
           "bgcolor": "#E5ECF6",
           "caxis": {
            "gridcolor": "white",
            "linecolor": "white",
            "ticks": ""
           }
          },
          "title": {
           "x": 0.05
          },
          "xaxis": {
           "automargin": true,
           "gridcolor": "white",
           "linecolor": "white",
           "ticks": "",
           "title": {
            "standoff": 15
           },
           "zerolinecolor": "white",
           "zerolinewidth": 2
          },
          "yaxis": {
           "automargin": true,
           "gridcolor": "white",
           "linecolor": "white",
           "ticks": "",
           "title": {
            "standoff": 15
           },
           "zerolinecolor": "white",
           "zerolinewidth": 2
          }
         }
        }
       }
      },
      "text/html": [
       "<div>\n",
       "        \n",
       "        \n",
       "            <div id=\"41e6cc07-d2f5-45f1-8ab6-57aa1b4bce88\" class=\"plotly-graph-div\" style=\"height:525px; width:100%;\"></div>\n",
       "            <script type=\"text/javascript\">\n",
       "                require([\"plotly\"], function(Plotly) {\n",
       "                    window.PLOTLYENV=window.PLOTLYENV || {};\n",
       "                    \n",
       "                if (document.getElementById(\"41e6cc07-d2f5-45f1-8ab6-57aa1b4bce88\")) {\n",
       "                    Plotly.newPlot(\n",
       "                        '41e6cc07-d2f5-45f1-8ab6-57aa1b4bce88',\n",
       "                        [{\"type\": \"scatter\", \"x\": [0.0, 0.5, 1.0, 1.5, 2.0, 2.5, 3.0, 3.5, 4.0, 4.5, 5.0, 5.5, 6.0, 6.5, 7.0, 7.5, 8.0, 8.5, 9.0, 9.5, 10.0, 10.5, 11.0, 11.5, 12.0, 12.5, 13.0, 13.5, 14.0, 14.5, 15.0, 15.5, 16.0, 16.5, 17.0, 17.5, 18.0, 18.5, 19.0, 19.5], \"y\": [0.0, 4.686648054979147, 8.9623181081134, 12.863049331966831, 16.42172057920007, 19.668327514956584, 22.630235447165056, 25.332409985837753, 27.797627475567975, 30.046666974939818, 32.09848540102452, 33.97037731523793, 35.678120697377175, 37.23610993655069, 38.65747715996796, 39.95420292225668, 41.13721718829596, 42.216491460739114, 43.201122828759345, 44.09941064645626, 44.91892648723751, 45.66657796381358, 46.34866695173784, 46.97094270725185, 47.53865032716072, 48.056574959201654, 48.5290821355503, 48.96015456943159, 49.35342572499016, 49.71221044337686, 50.03953288319575, 50.33815201081844, 50.61058485542108, 50.859127724758196, 51.08587556049886, 51.292739596269456, 51.48146346724055, 51.653637907044164, 51.81071415589995, 51.95401619296627]}, {\"type\": \"scatter\", \"x\": [0.0, 0.5, 1.0, 1.5, 2.0, 2.5, 3.0, 3.5, 4.0, 4.5, 5.0, 5.5, 6.0, 6.5, 7.0, 7.5, 8.0, 8.5, 9.0, 9.5, 10.0, 10.5, 11.0, 11.5, 12.0, 12.5, 13.0, 13.5, 14.0, 14.5, 15.0, 15.5, 16.0, 16.5, 17.0, 17.5, 18.0, 18.5, 19.0, 19.5], \"y\": [0.0, 4.905, 9.359834801762116, 13.405819126123156, 17.080475961097168, 20.417884554975917, 23.44899647173657, 26.20192263989584, 28.702194056939174, 30.97299856713198, 33.03539590862134, 34.90851302420308, 36.609721447091935, 38.15479840679348, 39.55807314919496, 40.8325598278665, 41.990078199024126, 43.04136323949548, 43.996164704299495, 44.86333754715013, 45.650924042455735, 46.36622837042419, 47.01588435698584, 47.605916996763206, 48.14179832965939, 48.62849818927214, 49.07053029378094, 49.47199410675993, 49.836612856139524, 50.16776806390939, 50.46853090679583, 50.741690698756564, 50.98978075944337, 51.21510190853998, 51.41974380386487, 51.60560432113131, 51.77440715509503, 51.927717805324924, 52.066958094850904, 52.19341935633669]}],\n",
       "                        {\"template\": {\"data\": {\"bar\": [{\"error_x\": {\"color\": \"#2a3f5f\"}, \"error_y\": {\"color\": \"#2a3f5f\"}, \"marker\": {\"line\": {\"color\": \"#E5ECF6\", \"width\": 0.5}}, \"type\": \"bar\"}], \"barpolar\": [{\"marker\": {\"line\": {\"color\": \"#E5ECF6\", \"width\": 0.5}}, \"type\": \"barpolar\"}], \"carpet\": [{\"aaxis\": {\"endlinecolor\": \"#2a3f5f\", \"gridcolor\": \"white\", \"linecolor\": \"white\", \"minorgridcolor\": \"white\", \"startlinecolor\": \"#2a3f5f\"}, \"baxis\": {\"endlinecolor\": \"#2a3f5f\", \"gridcolor\": \"white\", \"linecolor\": \"white\", \"minorgridcolor\": \"white\", \"startlinecolor\": \"#2a3f5f\"}, \"type\": \"carpet\"}], \"choropleth\": [{\"colorbar\": {\"outlinewidth\": 0, \"ticks\": \"\"}, \"type\": \"choropleth\"}], \"contour\": [{\"colorbar\": {\"outlinewidth\": 0, \"ticks\": \"\"}, \"colorscale\": [[0.0, \"#0d0887\"], [0.1111111111111111, \"#46039f\"], [0.2222222222222222, \"#7201a8\"], [0.3333333333333333, \"#9c179e\"], [0.4444444444444444, \"#bd3786\"], [0.5555555555555556, \"#d8576b\"], [0.6666666666666666, \"#ed7953\"], [0.7777777777777778, \"#fb9f3a\"], [0.8888888888888888, \"#fdca26\"], [1.0, \"#f0f921\"]], \"type\": \"contour\"}], \"contourcarpet\": [{\"colorbar\": {\"outlinewidth\": 0, \"ticks\": \"\"}, \"type\": \"contourcarpet\"}], \"heatmap\": [{\"colorbar\": {\"outlinewidth\": 0, \"ticks\": \"\"}, \"colorscale\": [[0.0, \"#0d0887\"], [0.1111111111111111, \"#46039f\"], [0.2222222222222222, \"#7201a8\"], [0.3333333333333333, \"#9c179e\"], [0.4444444444444444, \"#bd3786\"], [0.5555555555555556, \"#d8576b\"], [0.6666666666666666, \"#ed7953\"], [0.7777777777777778, \"#fb9f3a\"], [0.8888888888888888, \"#fdca26\"], [1.0, \"#f0f921\"]], \"type\": \"heatmap\"}], \"heatmapgl\": [{\"colorbar\": {\"outlinewidth\": 0, \"ticks\": \"\"}, \"colorscale\": [[0.0, \"#0d0887\"], [0.1111111111111111, \"#46039f\"], [0.2222222222222222, \"#7201a8\"], [0.3333333333333333, \"#9c179e\"], [0.4444444444444444, \"#bd3786\"], [0.5555555555555556, \"#d8576b\"], [0.6666666666666666, \"#ed7953\"], [0.7777777777777778, \"#fb9f3a\"], [0.8888888888888888, \"#fdca26\"], [1.0, \"#f0f921\"]], \"type\": \"heatmapgl\"}], \"histogram\": [{\"marker\": {\"colorbar\": {\"outlinewidth\": 0, \"ticks\": \"\"}}, \"type\": \"histogram\"}], \"histogram2d\": [{\"colorbar\": {\"outlinewidth\": 0, \"ticks\": \"\"}, \"colorscale\": [[0.0, \"#0d0887\"], [0.1111111111111111, \"#46039f\"], [0.2222222222222222, \"#7201a8\"], [0.3333333333333333, \"#9c179e\"], [0.4444444444444444, \"#bd3786\"], [0.5555555555555556, \"#d8576b\"], [0.6666666666666666, \"#ed7953\"], [0.7777777777777778, \"#fb9f3a\"], [0.8888888888888888, \"#fdca26\"], [1.0, \"#f0f921\"]], \"type\": \"histogram2d\"}], \"histogram2dcontour\": [{\"colorbar\": {\"outlinewidth\": 0, \"ticks\": \"\"}, \"colorscale\": [[0.0, \"#0d0887\"], [0.1111111111111111, \"#46039f\"], [0.2222222222222222, \"#7201a8\"], [0.3333333333333333, \"#9c179e\"], [0.4444444444444444, \"#bd3786\"], [0.5555555555555556, \"#d8576b\"], [0.6666666666666666, \"#ed7953\"], [0.7777777777777778, \"#fb9f3a\"], [0.8888888888888888, \"#fdca26\"], [1.0, \"#f0f921\"]], \"type\": \"histogram2dcontour\"}], \"mesh3d\": [{\"colorbar\": {\"outlinewidth\": 0, \"ticks\": \"\"}, \"type\": \"mesh3d\"}], \"parcoords\": [{\"line\": {\"colorbar\": {\"outlinewidth\": 0, \"ticks\": \"\"}}, \"type\": \"parcoords\"}], \"pie\": [{\"automargin\": true, \"type\": \"pie\"}], \"scatter\": [{\"marker\": {\"colorbar\": {\"outlinewidth\": 0, \"ticks\": \"\"}}, \"type\": \"scatter\"}], \"scatter3d\": [{\"line\": {\"colorbar\": {\"outlinewidth\": 0, \"ticks\": \"\"}}, \"marker\": {\"colorbar\": {\"outlinewidth\": 0, \"ticks\": \"\"}}, \"type\": \"scatter3d\"}], \"scattercarpet\": [{\"marker\": {\"colorbar\": {\"outlinewidth\": 0, \"ticks\": \"\"}}, \"type\": \"scattercarpet\"}], \"scattergeo\": [{\"marker\": {\"colorbar\": {\"outlinewidth\": 0, \"ticks\": \"\"}}, \"type\": \"scattergeo\"}], \"scattergl\": [{\"marker\": {\"colorbar\": {\"outlinewidth\": 0, \"ticks\": \"\"}}, \"type\": \"scattergl\"}], \"scattermapbox\": [{\"marker\": {\"colorbar\": {\"outlinewidth\": 0, \"ticks\": \"\"}}, \"type\": \"scattermapbox\"}], \"scatterpolar\": [{\"marker\": {\"colorbar\": {\"outlinewidth\": 0, \"ticks\": \"\"}}, \"type\": \"scatterpolar\"}], \"scatterpolargl\": [{\"marker\": {\"colorbar\": {\"outlinewidth\": 0, \"ticks\": \"\"}}, \"type\": \"scatterpolargl\"}], \"scatterternary\": [{\"marker\": {\"colorbar\": {\"outlinewidth\": 0, \"ticks\": \"\"}}, \"type\": \"scatterternary\"}], \"surface\": [{\"colorbar\": {\"outlinewidth\": 0, \"ticks\": \"\"}, \"colorscale\": [[0.0, \"#0d0887\"], [0.1111111111111111, \"#46039f\"], [0.2222222222222222, \"#7201a8\"], [0.3333333333333333, \"#9c179e\"], [0.4444444444444444, \"#bd3786\"], [0.5555555555555556, \"#d8576b\"], [0.6666666666666666, \"#ed7953\"], [0.7777777777777778, \"#fb9f3a\"], [0.8888888888888888, \"#fdca26\"], [1.0, \"#f0f921\"]], \"type\": \"surface\"}], \"table\": [{\"cells\": {\"fill\": {\"color\": \"#EBF0F8\"}, \"line\": {\"color\": \"white\"}}, \"header\": {\"fill\": {\"color\": \"#C8D4E3\"}, \"line\": {\"color\": \"white\"}}, \"type\": \"table\"}]}, \"layout\": {\"annotationdefaults\": {\"arrowcolor\": \"#2a3f5f\", \"arrowhead\": 0, \"arrowwidth\": 1}, \"coloraxis\": {\"colorbar\": {\"outlinewidth\": 0, \"ticks\": \"\"}}, \"colorscale\": {\"diverging\": [[0, \"#8e0152\"], [0.1, \"#c51b7d\"], [0.2, \"#de77ae\"], [0.3, \"#f1b6da\"], [0.4, \"#fde0ef\"], [0.5, \"#f7f7f7\"], [0.6, \"#e6f5d0\"], [0.7, \"#b8e186\"], [0.8, \"#7fbc41\"], [0.9, \"#4d9221\"], [1, \"#276419\"]], \"sequential\": [[0.0, \"#0d0887\"], [0.1111111111111111, \"#46039f\"], [0.2222222222222222, \"#7201a8\"], [0.3333333333333333, \"#9c179e\"], [0.4444444444444444, \"#bd3786\"], [0.5555555555555556, \"#d8576b\"], [0.6666666666666666, \"#ed7953\"], [0.7777777777777778, \"#fb9f3a\"], [0.8888888888888888, \"#fdca26\"], [1.0, \"#f0f921\"]], \"sequentialminus\": [[0.0, \"#0d0887\"], [0.1111111111111111, \"#46039f\"], [0.2222222222222222, \"#7201a8\"], [0.3333333333333333, \"#9c179e\"], [0.4444444444444444, \"#bd3786\"], [0.5555555555555556, \"#d8576b\"], [0.6666666666666666, \"#ed7953\"], [0.7777777777777778, \"#fb9f3a\"], [0.8888888888888888, \"#fdca26\"], [1.0, \"#f0f921\"]]}, \"colorway\": [\"#636efa\", \"#EF553B\", \"#00cc96\", \"#ab63fa\", \"#FFA15A\", \"#19d3f3\", \"#FF6692\", \"#B6E880\", \"#FF97FF\", \"#FECB52\"], \"font\": {\"color\": \"#2a3f5f\"}, \"geo\": {\"bgcolor\": \"white\", \"lakecolor\": \"white\", \"landcolor\": \"#E5ECF6\", \"showlakes\": true, \"showland\": true, \"subunitcolor\": \"white\"}, \"hoverlabel\": {\"align\": \"left\"}, \"hovermode\": \"closest\", \"mapbox\": {\"style\": \"light\"}, \"paper_bgcolor\": \"white\", \"plot_bgcolor\": \"#E5ECF6\", \"polar\": {\"angularaxis\": {\"gridcolor\": \"white\", \"linecolor\": \"white\", \"ticks\": \"\"}, \"bgcolor\": \"#E5ECF6\", \"radialaxis\": {\"gridcolor\": \"white\", \"linecolor\": \"white\", \"ticks\": \"\"}}, \"scene\": {\"xaxis\": {\"backgroundcolor\": \"#E5ECF6\", \"gridcolor\": \"white\", \"gridwidth\": 2, \"linecolor\": \"white\", \"showbackground\": true, \"ticks\": \"\", \"zerolinecolor\": \"white\"}, \"yaxis\": {\"backgroundcolor\": \"#E5ECF6\", \"gridcolor\": \"white\", \"gridwidth\": 2, \"linecolor\": \"white\", \"showbackground\": true, \"ticks\": \"\", \"zerolinecolor\": \"white\"}, \"zaxis\": {\"backgroundcolor\": \"#E5ECF6\", \"gridcolor\": \"white\", \"gridwidth\": 2, \"linecolor\": \"white\", \"showbackground\": true, \"ticks\": \"\", \"zerolinecolor\": \"white\"}}, \"shapedefaults\": {\"line\": {\"color\": \"#2a3f5f\"}}, \"ternary\": {\"aaxis\": {\"gridcolor\": \"white\", \"linecolor\": \"white\", \"ticks\": \"\"}, \"baxis\": {\"gridcolor\": \"white\", \"linecolor\": \"white\", \"ticks\": \"\"}, \"bgcolor\": \"#E5ECF6\", \"caxis\": {\"gridcolor\": \"white\", \"linecolor\": \"white\", \"ticks\": \"\"}}, \"title\": {\"x\": 0.05}, \"xaxis\": {\"automargin\": true, \"gridcolor\": \"white\", \"linecolor\": \"white\", \"ticks\": \"\", \"title\": {\"standoff\": 15}, \"zerolinecolor\": \"white\", \"zerolinewidth\": 2}, \"yaxis\": {\"automargin\": true, \"gridcolor\": \"white\", \"linecolor\": \"white\", \"ticks\": \"\", \"title\": {\"standoff\": 15}, \"zerolinecolor\": \"white\", \"zerolinewidth\": 2}}}},\n",
       "                        {\"responsive\": true}\n",
       "                    ).then(function(){\n",
       "                            \n",
       "var gd = document.getElementById('41e6cc07-d2f5-45f1-8ab6-57aa1b4bce88');\n",
       "var x = new MutationObserver(function (mutations, observer) {{\n",
       "        var display = window.getComputedStyle(gd).display;\n",
       "        if (!display || display === 'none') {{\n",
       "            console.log([gd, 'removed!']);\n",
       "            Plotly.purge(gd);\n",
       "            observer.disconnect();\n",
       "        }}\n",
       "}});\n",
       "\n",
       "// Listen for the removal of the full notebook cells\n",
       "var notebookContainer = gd.closest('#notebook-container');\n",
       "if (notebookContainer) {{\n",
       "    x.observe(notebookContainer, {childList: true});\n",
       "}}\n",
       "\n",
       "// Listen for the clearing of the current output cell\n",
       "var outputEl = gd.closest('.output');\n",
       "if (outputEl) {{\n",
       "    x.observe(outputEl, {childList: true});\n",
       "}}\n",
       "\n",
       "                        })\n",
       "                };\n",
       "                });\n",
       "            </script>\n",
       "        </div>"
      ]
     },
     "metadata": {},
     "output_type": "display_data"
    }
   ],
   "source": [
    "trace_real = go.Scatter(x = time,y = velocidad_real)\n",
    "trace_modelo = go.Scatter(x = time,y = velocidad)\n",
    "go.Figure(data = [trace_real,trace_modelo])"
   ]
  },
  {
   "cell_type": "markdown",
   "metadata": {},
   "source": [
    "### Forma Nro 3"
   ]
  },
  {
   "cell_type": "code",
   "execution_count": 54,
   "metadata": {},
   "outputs": [],
   "source": [
    "velocidad = [0]*n\n",
    "error_absoluto = [0]*n\n",
    "error_relativo = [0]*n\n",
    "\n",
    "for i in range(n-1):\n",
    "    velocidad[i+1] = velocidad[i]+(g-C*velocidad[i]/m)*delta_t"
   ]
  },
  {
   "cell_type": "code",
   "execution_count": 55,
   "metadata": {
    "collapsed": true
   },
   "outputs": [
    {
     "data": {
      "application/vnd.plotly.v1+json": {
       "config": {
        "plotlyServerURL": "https://plot.ly"
       },
       "data": [
        {
         "type": "scatter",
         "x": [
          0,
          0.5,
          1,
          1.5,
          2,
          2.5,
          3,
          3.5,
          4,
          4.5,
          5,
          5.5,
          6,
          6.5,
          7,
          7.5,
          8,
          8.5,
          9,
          9.5,
          10,
          10.5,
          11,
          11.5,
          12,
          12.5,
          13,
          13.5,
          14,
          14.5,
          15,
          15.5,
          16,
          16.5,
          17,
          17.5,
          18,
          18.5,
          19,
          19.5
         ],
         "y": [
          0,
          4.686648054979147,
          8.9623181081134,
          12.863049331966831,
          16.42172057920007,
          19.668327514956584,
          22.630235447165056,
          25.332409985837753,
          27.797627475567975,
          30.046666974939818,
          32.09848540102452,
          33.97037731523793,
          35.678120697377175,
          37.23610993655069,
          38.65747715996796,
          39.95420292225668,
          41.13721718829596,
          42.216491460739114,
          43.201122828759345,
          44.09941064645626,
          44.91892648723751,
          45.66657796381358,
          46.34866695173784,
          46.97094270725185,
          47.53865032716072,
          48.056574959201654,
          48.5290821355503,
          48.96015456943159,
          49.35342572499016,
          49.71221044337686,
          50.03953288319575,
          50.33815201081844,
          50.61058485542108,
          50.859127724758196,
          51.08587556049886,
          51.292739596269456,
          51.48146346724055,
          51.653637907044164,
          51.81071415589995,
          51.95401619296627
         ]
        },
        {
         "type": "scatter",
         "x": [
          0,
          0.5,
          1,
          1.5,
          2,
          2.5,
          3,
          3.5,
          4,
          4.5,
          5,
          5.5,
          6,
          6.5,
          7,
          7.5,
          8,
          8.5,
          9,
          9.5,
          10,
          10.5,
          11,
          11.5,
          12,
          12.5,
          13,
          13.5,
          14,
          14.5,
          15,
          15.5,
          16,
          16.5,
          17,
          17.5,
          18,
          18.5,
          19,
          19.5
         ],
         "y": [
          0,
          4.905,
          9.359834801762116,
          13.405819126123156,
          17.080475961097168,
          20.417884554975917,
          23.44899647173657,
          26.20192263989584,
          28.702194056939174,
          30.97299856713198,
          33.03539590862134,
          34.90851302420308,
          36.609721447091935,
          38.15479840679348,
          39.55807314919496,
          40.8325598278665,
          41.990078199024126,
          43.04136323949548,
          43.996164704299495,
          44.86333754715013,
          45.650924042455735,
          46.36622837042419,
          47.01588435698584,
          47.605916996763206,
          48.14179832965939,
          48.62849818927214,
          49.07053029378094,
          49.47199410675993,
          49.836612856139524,
          50.16776806390939,
          50.46853090679583,
          50.741690698756564,
          50.98978075944337,
          51.21510190853998,
          51.41974380386487,
          51.60560432113131,
          51.77440715509503,
          51.927717805324924,
          52.066958094850904,
          52.19341935633669
         ]
        }
       ],
       "layout": {
        "template": {
         "data": {
          "bar": [
           {
            "error_x": {
             "color": "#2a3f5f"
            },
            "error_y": {
             "color": "#2a3f5f"
            },
            "marker": {
             "line": {
              "color": "#E5ECF6",
              "width": 0.5
             }
            },
            "type": "bar"
           }
          ],
          "barpolar": [
           {
            "marker": {
             "line": {
              "color": "#E5ECF6",
              "width": 0.5
             }
            },
            "type": "barpolar"
           }
          ],
          "carpet": [
           {
            "aaxis": {
             "endlinecolor": "#2a3f5f",
             "gridcolor": "white",
             "linecolor": "white",
             "minorgridcolor": "white",
             "startlinecolor": "#2a3f5f"
            },
            "baxis": {
             "endlinecolor": "#2a3f5f",
             "gridcolor": "white",
             "linecolor": "white",
             "minorgridcolor": "white",
             "startlinecolor": "#2a3f5f"
            },
            "type": "carpet"
           }
          ],
          "choropleth": [
           {
            "colorbar": {
             "outlinewidth": 0,
             "ticks": ""
            },
            "type": "choropleth"
           }
          ],
          "contour": [
           {
            "colorbar": {
             "outlinewidth": 0,
             "ticks": ""
            },
            "colorscale": [
             [
              0,
              "#0d0887"
             ],
             [
              0.1111111111111111,
              "#46039f"
             ],
             [
              0.2222222222222222,
              "#7201a8"
             ],
             [
              0.3333333333333333,
              "#9c179e"
             ],
             [
              0.4444444444444444,
              "#bd3786"
             ],
             [
              0.5555555555555556,
              "#d8576b"
             ],
             [
              0.6666666666666666,
              "#ed7953"
             ],
             [
              0.7777777777777778,
              "#fb9f3a"
             ],
             [
              0.8888888888888888,
              "#fdca26"
             ],
             [
              1,
              "#f0f921"
             ]
            ],
            "type": "contour"
           }
          ],
          "contourcarpet": [
           {
            "colorbar": {
             "outlinewidth": 0,
             "ticks": ""
            },
            "type": "contourcarpet"
           }
          ],
          "heatmap": [
           {
            "colorbar": {
             "outlinewidth": 0,
             "ticks": ""
            },
            "colorscale": [
             [
              0,
              "#0d0887"
             ],
             [
              0.1111111111111111,
              "#46039f"
             ],
             [
              0.2222222222222222,
              "#7201a8"
             ],
             [
              0.3333333333333333,
              "#9c179e"
             ],
             [
              0.4444444444444444,
              "#bd3786"
             ],
             [
              0.5555555555555556,
              "#d8576b"
             ],
             [
              0.6666666666666666,
              "#ed7953"
             ],
             [
              0.7777777777777778,
              "#fb9f3a"
             ],
             [
              0.8888888888888888,
              "#fdca26"
             ],
             [
              1,
              "#f0f921"
             ]
            ],
            "type": "heatmap"
           }
          ],
          "heatmapgl": [
           {
            "colorbar": {
             "outlinewidth": 0,
             "ticks": ""
            },
            "colorscale": [
             [
              0,
              "#0d0887"
             ],
             [
              0.1111111111111111,
              "#46039f"
             ],
             [
              0.2222222222222222,
              "#7201a8"
             ],
             [
              0.3333333333333333,
              "#9c179e"
             ],
             [
              0.4444444444444444,
              "#bd3786"
             ],
             [
              0.5555555555555556,
              "#d8576b"
             ],
             [
              0.6666666666666666,
              "#ed7953"
             ],
             [
              0.7777777777777778,
              "#fb9f3a"
             ],
             [
              0.8888888888888888,
              "#fdca26"
             ],
             [
              1,
              "#f0f921"
             ]
            ],
            "type": "heatmapgl"
           }
          ],
          "histogram": [
           {
            "marker": {
             "colorbar": {
              "outlinewidth": 0,
              "ticks": ""
             }
            },
            "type": "histogram"
           }
          ],
          "histogram2d": [
           {
            "colorbar": {
             "outlinewidth": 0,
             "ticks": ""
            },
            "colorscale": [
             [
              0,
              "#0d0887"
             ],
             [
              0.1111111111111111,
              "#46039f"
             ],
             [
              0.2222222222222222,
              "#7201a8"
             ],
             [
              0.3333333333333333,
              "#9c179e"
             ],
             [
              0.4444444444444444,
              "#bd3786"
             ],
             [
              0.5555555555555556,
              "#d8576b"
             ],
             [
              0.6666666666666666,
              "#ed7953"
             ],
             [
              0.7777777777777778,
              "#fb9f3a"
             ],
             [
              0.8888888888888888,
              "#fdca26"
             ],
             [
              1,
              "#f0f921"
             ]
            ],
            "type": "histogram2d"
           }
          ],
          "histogram2dcontour": [
           {
            "colorbar": {
             "outlinewidth": 0,
             "ticks": ""
            },
            "colorscale": [
             [
              0,
              "#0d0887"
             ],
             [
              0.1111111111111111,
              "#46039f"
             ],
             [
              0.2222222222222222,
              "#7201a8"
             ],
             [
              0.3333333333333333,
              "#9c179e"
             ],
             [
              0.4444444444444444,
              "#bd3786"
             ],
             [
              0.5555555555555556,
              "#d8576b"
             ],
             [
              0.6666666666666666,
              "#ed7953"
             ],
             [
              0.7777777777777778,
              "#fb9f3a"
             ],
             [
              0.8888888888888888,
              "#fdca26"
             ],
             [
              1,
              "#f0f921"
             ]
            ],
            "type": "histogram2dcontour"
           }
          ],
          "mesh3d": [
           {
            "colorbar": {
             "outlinewidth": 0,
             "ticks": ""
            },
            "type": "mesh3d"
           }
          ],
          "parcoords": [
           {
            "line": {
             "colorbar": {
              "outlinewidth": 0,
              "ticks": ""
             }
            },
            "type": "parcoords"
           }
          ],
          "pie": [
           {
            "automargin": true,
            "type": "pie"
           }
          ],
          "scatter": [
           {
            "marker": {
             "colorbar": {
              "outlinewidth": 0,
              "ticks": ""
             }
            },
            "type": "scatter"
           }
          ],
          "scatter3d": [
           {
            "line": {
             "colorbar": {
              "outlinewidth": 0,
              "ticks": ""
             }
            },
            "marker": {
             "colorbar": {
              "outlinewidth": 0,
              "ticks": ""
             }
            },
            "type": "scatter3d"
           }
          ],
          "scattercarpet": [
           {
            "marker": {
             "colorbar": {
              "outlinewidth": 0,
              "ticks": ""
             }
            },
            "type": "scattercarpet"
           }
          ],
          "scattergeo": [
           {
            "marker": {
             "colorbar": {
              "outlinewidth": 0,
              "ticks": ""
             }
            },
            "type": "scattergeo"
           }
          ],
          "scattergl": [
           {
            "marker": {
             "colorbar": {
              "outlinewidth": 0,
              "ticks": ""
             }
            },
            "type": "scattergl"
           }
          ],
          "scattermapbox": [
           {
            "marker": {
             "colorbar": {
              "outlinewidth": 0,
              "ticks": ""
             }
            },
            "type": "scattermapbox"
           }
          ],
          "scatterpolar": [
           {
            "marker": {
             "colorbar": {
              "outlinewidth": 0,
              "ticks": ""
             }
            },
            "type": "scatterpolar"
           }
          ],
          "scatterpolargl": [
           {
            "marker": {
             "colorbar": {
              "outlinewidth": 0,
              "ticks": ""
             }
            },
            "type": "scatterpolargl"
           }
          ],
          "scatterternary": [
           {
            "marker": {
             "colorbar": {
              "outlinewidth": 0,
              "ticks": ""
             }
            },
            "type": "scatterternary"
           }
          ],
          "surface": [
           {
            "colorbar": {
             "outlinewidth": 0,
             "ticks": ""
            },
            "colorscale": [
             [
              0,
              "#0d0887"
             ],
             [
              0.1111111111111111,
              "#46039f"
             ],
             [
              0.2222222222222222,
              "#7201a8"
             ],
             [
              0.3333333333333333,
              "#9c179e"
             ],
             [
              0.4444444444444444,
              "#bd3786"
             ],
             [
              0.5555555555555556,
              "#d8576b"
             ],
             [
              0.6666666666666666,
              "#ed7953"
             ],
             [
              0.7777777777777778,
              "#fb9f3a"
             ],
             [
              0.8888888888888888,
              "#fdca26"
             ],
             [
              1,
              "#f0f921"
             ]
            ],
            "type": "surface"
           }
          ],
          "table": [
           {
            "cells": {
             "fill": {
              "color": "#EBF0F8"
             },
             "line": {
              "color": "white"
             }
            },
            "header": {
             "fill": {
              "color": "#C8D4E3"
             },
             "line": {
              "color": "white"
             }
            },
            "type": "table"
           }
          ]
         },
         "layout": {
          "annotationdefaults": {
           "arrowcolor": "#2a3f5f",
           "arrowhead": 0,
           "arrowwidth": 1
          },
          "coloraxis": {
           "colorbar": {
            "outlinewidth": 0,
            "ticks": ""
           }
          },
          "colorscale": {
           "diverging": [
            [
             0,
             "#8e0152"
            ],
            [
             0.1,
             "#c51b7d"
            ],
            [
             0.2,
             "#de77ae"
            ],
            [
             0.3,
             "#f1b6da"
            ],
            [
             0.4,
             "#fde0ef"
            ],
            [
             0.5,
             "#f7f7f7"
            ],
            [
             0.6,
             "#e6f5d0"
            ],
            [
             0.7,
             "#b8e186"
            ],
            [
             0.8,
             "#7fbc41"
            ],
            [
             0.9,
             "#4d9221"
            ],
            [
             1,
             "#276419"
            ]
           ],
           "sequential": [
            [
             0,
             "#0d0887"
            ],
            [
             0.1111111111111111,
             "#46039f"
            ],
            [
             0.2222222222222222,
             "#7201a8"
            ],
            [
             0.3333333333333333,
             "#9c179e"
            ],
            [
             0.4444444444444444,
             "#bd3786"
            ],
            [
             0.5555555555555556,
             "#d8576b"
            ],
            [
             0.6666666666666666,
             "#ed7953"
            ],
            [
             0.7777777777777778,
             "#fb9f3a"
            ],
            [
             0.8888888888888888,
             "#fdca26"
            ],
            [
             1,
             "#f0f921"
            ]
           ],
           "sequentialminus": [
            [
             0,
             "#0d0887"
            ],
            [
             0.1111111111111111,
             "#46039f"
            ],
            [
             0.2222222222222222,
             "#7201a8"
            ],
            [
             0.3333333333333333,
             "#9c179e"
            ],
            [
             0.4444444444444444,
             "#bd3786"
            ],
            [
             0.5555555555555556,
             "#d8576b"
            ],
            [
             0.6666666666666666,
             "#ed7953"
            ],
            [
             0.7777777777777778,
             "#fb9f3a"
            ],
            [
             0.8888888888888888,
             "#fdca26"
            ],
            [
             1,
             "#f0f921"
            ]
           ]
          },
          "colorway": [
           "#636efa",
           "#EF553B",
           "#00cc96",
           "#ab63fa",
           "#FFA15A",
           "#19d3f3",
           "#FF6692",
           "#B6E880",
           "#FF97FF",
           "#FECB52"
          ],
          "font": {
           "color": "#2a3f5f"
          },
          "geo": {
           "bgcolor": "white",
           "lakecolor": "white",
           "landcolor": "#E5ECF6",
           "showlakes": true,
           "showland": true,
           "subunitcolor": "white"
          },
          "hoverlabel": {
           "align": "left"
          },
          "hovermode": "closest",
          "mapbox": {
           "style": "light"
          },
          "paper_bgcolor": "white",
          "plot_bgcolor": "#E5ECF6",
          "polar": {
           "angularaxis": {
            "gridcolor": "white",
            "linecolor": "white",
            "ticks": ""
           },
           "bgcolor": "#E5ECF6",
           "radialaxis": {
            "gridcolor": "white",
            "linecolor": "white",
            "ticks": ""
           }
          },
          "scene": {
           "xaxis": {
            "backgroundcolor": "#E5ECF6",
            "gridcolor": "white",
            "gridwidth": 2,
            "linecolor": "white",
            "showbackground": true,
            "ticks": "",
            "zerolinecolor": "white"
           },
           "yaxis": {
            "backgroundcolor": "#E5ECF6",
            "gridcolor": "white",
            "gridwidth": 2,
            "linecolor": "white",
            "showbackground": true,
            "ticks": "",
            "zerolinecolor": "white"
           },
           "zaxis": {
            "backgroundcolor": "#E5ECF6",
            "gridcolor": "white",
            "gridwidth": 2,
            "linecolor": "white",
            "showbackground": true,
            "ticks": "",
            "zerolinecolor": "white"
           }
          },
          "shapedefaults": {
           "line": {
            "color": "#2a3f5f"
           }
          },
          "ternary": {
           "aaxis": {
            "gridcolor": "white",
            "linecolor": "white",
            "ticks": ""
           },
           "baxis": {
            "gridcolor": "white",
            "linecolor": "white",
            "ticks": ""
           },
           "bgcolor": "#E5ECF6",
           "caxis": {
            "gridcolor": "white",
            "linecolor": "white",
            "ticks": ""
           }
          },
          "title": {
           "x": 0.05
          },
          "xaxis": {
           "automargin": true,
           "gridcolor": "white",
           "linecolor": "white",
           "ticks": "",
           "title": {
            "standoff": 15
           },
           "zerolinecolor": "white",
           "zerolinewidth": 2
          },
          "yaxis": {
           "automargin": true,
           "gridcolor": "white",
           "linecolor": "white",
           "ticks": "",
           "title": {
            "standoff": 15
           },
           "zerolinecolor": "white",
           "zerolinewidth": 2
          }
         }
        }
       }
      },
      "text/html": [
       "<div>\n",
       "        \n",
       "        \n",
       "            <div id=\"3b74a17d-3080-4de8-880a-2920c9687335\" class=\"plotly-graph-div\" style=\"height:525px; width:100%;\"></div>\n",
       "            <script type=\"text/javascript\">\n",
       "                require([\"plotly\"], function(Plotly) {\n",
       "                    window.PLOTLYENV=window.PLOTLYENV || {};\n",
       "                    \n",
       "                if (document.getElementById(\"3b74a17d-3080-4de8-880a-2920c9687335\")) {\n",
       "                    Plotly.newPlot(\n",
       "                        '3b74a17d-3080-4de8-880a-2920c9687335',\n",
       "                        [{\"type\": \"scatter\", \"x\": [0.0, 0.5, 1.0, 1.5, 2.0, 2.5, 3.0, 3.5, 4.0, 4.5, 5.0, 5.5, 6.0, 6.5, 7.0, 7.5, 8.0, 8.5, 9.0, 9.5, 10.0, 10.5, 11.0, 11.5, 12.0, 12.5, 13.0, 13.5, 14.0, 14.5, 15.0, 15.5, 16.0, 16.5, 17.0, 17.5, 18.0, 18.5, 19.0, 19.5], \"y\": [0.0, 4.686648054979147, 8.9623181081134, 12.863049331966831, 16.42172057920007, 19.668327514956584, 22.630235447165056, 25.332409985837753, 27.797627475567975, 30.046666974939818, 32.09848540102452, 33.97037731523793, 35.678120697377175, 37.23610993655069, 38.65747715996796, 39.95420292225668, 41.13721718829596, 42.216491460739114, 43.201122828759345, 44.09941064645626, 44.91892648723751, 45.66657796381358, 46.34866695173784, 46.97094270725185, 47.53865032716072, 48.056574959201654, 48.5290821355503, 48.96015456943159, 49.35342572499016, 49.71221044337686, 50.03953288319575, 50.33815201081844, 50.61058485542108, 50.859127724758196, 51.08587556049886, 51.292739596269456, 51.48146346724055, 51.653637907044164, 51.81071415589995, 51.95401619296627]}, {\"type\": \"scatter\", \"x\": [0.0, 0.5, 1.0, 1.5, 2.0, 2.5, 3.0, 3.5, 4.0, 4.5, 5.0, 5.5, 6.0, 6.5, 7.0, 7.5, 8.0, 8.5, 9.0, 9.5, 10.0, 10.5, 11.0, 11.5, 12.0, 12.5, 13.0, 13.5, 14.0, 14.5, 15.0, 15.5, 16.0, 16.5, 17.0, 17.5, 18.0, 18.5, 19.0, 19.5], \"y\": [0, 4.905, 9.359834801762116, 13.405819126123156, 17.080475961097168, 20.417884554975917, 23.44899647173657, 26.20192263989584, 28.702194056939174, 30.97299856713198, 33.03539590862134, 34.90851302420308, 36.609721447091935, 38.15479840679348, 39.55807314919496, 40.8325598278665, 41.990078199024126, 43.04136323949548, 43.996164704299495, 44.86333754715013, 45.650924042455735, 46.36622837042419, 47.01588435698584, 47.605916996763206, 48.14179832965939, 48.62849818927214, 49.07053029378094, 49.47199410675993, 49.836612856139524, 50.16776806390939, 50.46853090679583, 50.741690698756564, 50.98978075944337, 51.21510190853998, 51.41974380386487, 51.60560432113131, 51.77440715509503, 51.927717805324924, 52.066958094850904, 52.19341935633669]}],\n",
       "                        {\"template\": {\"data\": {\"bar\": [{\"error_x\": {\"color\": \"#2a3f5f\"}, \"error_y\": {\"color\": \"#2a3f5f\"}, \"marker\": {\"line\": {\"color\": \"#E5ECF6\", \"width\": 0.5}}, \"type\": \"bar\"}], \"barpolar\": [{\"marker\": {\"line\": {\"color\": \"#E5ECF6\", \"width\": 0.5}}, \"type\": \"barpolar\"}], \"carpet\": [{\"aaxis\": {\"endlinecolor\": \"#2a3f5f\", \"gridcolor\": \"white\", \"linecolor\": \"white\", \"minorgridcolor\": \"white\", \"startlinecolor\": \"#2a3f5f\"}, \"baxis\": {\"endlinecolor\": \"#2a3f5f\", \"gridcolor\": \"white\", \"linecolor\": \"white\", \"minorgridcolor\": \"white\", \"startlinecolor\": \"#2a3f5f\"}, \"type\": \"carpet\"}], \"choropleth\": [{\"colorbar\": {\"outlinewidth\": 0, \"ticks\": \"\"}, \"type\": \"choropleth\"}], \"contour\": [{\"colorbar\": {\"outlinewidth\": 0, \"ticks\": \"\"}, \"colorscale\": [[0.0, \"#0d0887\"], [0.1111111111111111, \"#46039f\"], [0.2222222222222222, \"#7201a8\"], [0.3333333333333333, \"#9c179e\"], [0.4444444444444444, \"#bd3786\"], [0.5555555555555556, \"#d8576b\"], [0.6666666666666666, \"#ed7953\"], [0.7777777777777778, \"#fb9f3a\"], [0.8888888888888888, \"#fdca26\"], [1.0, \"#f0f921\"]], \"type\": \"contour\"}], \"contourcarpet\": [{\"colorbar\": {\"outlinewidth\": 0, \"ticks\": \"\"}, \"type\": \"contourcarpet\"}], \"heatmap\": [{\"colorbar\": {\"outlinewidth\": 0, \"ticks\": \"\"}, \"colorscale\": [[0.0, \"#0d0887\"], [0.1111111111111111, \"#46039f\"], [0.2222222222222222, \"#7201a8\"], [0.3333333333333333, \"#9c179e\"], [0.4444444444444444, \"#bd3786\"], [0.5555555555555556, \"#d8576b\"], [0.6666666666666666, \"#ed7953\"], [0.7777777777777778, \"#fb9f3a\"], [0.8888888888888888, \"#fdca26\"], [1.0, \"#f0f921\"]], \"type\": \"heatmap\"}], \"heatmapgl\": [{\"colorbar\": {\"outlinewidth\": 0, \"ticks\": \"\"}, \"colorscale\": [[0.0, \"#0d0887\"], [0.1111111111111111, \"#46039f\"], [0.2222222222222222, \"#7201a8\"], [0.3333333333333333, \"#9c179e\"], [0.4444444444444444, \"#bd3786\"], [0.5555555555555556, \"#d8576b\"], [0.6666666666666666, \"#ed7953\"], [0.7777777777777778, \"#fb9f3a\"], [0.8888888888888888, \"#fdca26\"], [1.0, \"#f0f921\"]], \"type\": \"heatmapgl\"}], \"histogram\": [{\"marker\": {\"colorbar\": {\"outlinewidth\": 0, \"ticks\": \"\"}}, \"type\": \"histogram\"}], \"histogram2d\": [{\"colorbar\": {\"outlinewidth\": 0, \"ticks\": \"\"}, \"colorscale\": [[0.0, \"#0d0887\"], [0.1111111111111111, \"#46039f\"], [0.2222222222222222, \"#7201a8\"], [0.3333333333333333, \"#9c179e\"], [0.4444444444444444, \"#bd3786\"], [0.5555555555555556, \"#d8576b\"], [0.6666666666666666, \"#ed7953\"], [0.7777777777777778, \"#fb9f3a\"], [0.8888888888888888, \"#fdca26\"], [1.0, \"#f0f921\"]], \"type\": \"histogram2d\"}], \"histogram2dcontour\": [{\"colorbar\": {\"outlinewidth\": 0, \"ticks\": \"\"}, \"colorscale\": [[0.0, \"#0d0887\"], [0.1111111111111111, \"#46039f\"], [0.2222222222222222, \"#7201a8\"], [0.3333333333333333, \"#9c179e\"], [0.4444444444444444, \"#bd3786\"], [0.5555555555555556, \"#d8576b\"], [0.6666666666666666, \"#ed7953\"], [0.7777777777777778, \"#fb9f3a\"], [0.8888888888888888, \"#fdca26\"], [1.0, \"#f0f921\"]], \"type\": \"histogram2dcontour\"}], \"mesh3d\": [{\"colorbar\": {\"outlinewidth\": 0, \"ticks\": \"\"}, \"type\": \"mesh3d\"}], \"parcoords\": [{\"line\": {\"colorbar\": {\"outlinewidth\": 0, \"ticks\": \"\"}}, \"type\": \"parcoords\"}], \"pie\": [{\"automargin\": true, \"type\": \"pie\"}], \"scatter\": [{\"marker\": {\"colorbar\": {\"outlinewidth\": 0, \"ticks\": \"\"}}, \"type\": \"scatter\"}], \"scatter3d\": [{\"line\": {\"colorbar\": {\"outlinewidth\": 0, \"ticks\": \"\"}}, \"marker\": {\"colorbar\": {\"outlinewidth\": 0, \"ticks\": \"\"}}, \"type\": \"scatter3d\"}], \"scattercarpet\": [{\"marker\": {\"colorbar\": {\"outlinewidth\": 0, \"ticks\": \"\"}}, \"type\": \"scattercarpet\"}], \"scattergeo\": [{\"marker\": {\"colorbar\": {\"outlinewidth\": 0, \"ticks\": \"\"}}, \"type\": \"scattergeo\"}], \"scattergl\": [{\"marker\": {\"colorbar\": {\"outlinewidth\": 0, \"ticks\": \"\"}}, \"type\": \"scattergl\"}], \"scattermapbox\": [{\"marker\": {\"colorbar\": {\"outlinewidth\": 0, \"ticks\": \"\"}}, \"type\": \"scattermapbox\"}], \"scatterpolar\": [{\"marker\": {\"colorbar\": {\"outlinewidth\": 0, \"ticks\": \"\"}}, \"type\": \"scatterpolar\"}], \"scatterpolargl\": [{\"marker\": {\"colorbar\": {\"outlinewidth\": 0, \"ticks\": \"\"}}, \"type\": \"scatterpolargl\"}], \"scatterternary\": [{\"marker\": {\"colorbar\": {\"outlinewidth\": 0, \"ticks\": \"\"}}, \"type\": \"scatterternary\"}], \"surface\": [{\"colorbar\": {\"outlinewidth\": 0, \"ticks\": \"\"}, \"colorscale\": [[0.0, \"#0d0887\"], [0.1111111111111111, \"#46039f\"], [0.2222222222222222, \"#7201a8\"], [0.3333333333333333, \"#9c179e\"], [0.4444444444444444, \"#bd3786\"], [0.5555555555555556, \"#d8576b\"], [0.6666666666666666, \"#ed7953\"], [0.7777777777777778, \"#fb9f3a\"], [0.8888888888888888, \"#fdca26\"], [1.0, \"#f0f921\"]], \"type\": \"surface\"}], \"table\": [{\"cells\": {\"fill\": {\"color\": \"#EBF0F8\"}, \"line\": {\"color\": \"white\"}}, \"header\": {\"fill\": {\"color\": \"#C8D4E3\"}, \"line\": {\"color\": \"white\"}}, \"type\": \"table\"}]}, \"layout\": {\"annotationdefaults\": {\"arrowcolor\": \"#2a3f5f\", \"arrowhead\": 0, \"arrowwidth\": 1}, \"coloraxis\": {\"colorbar\": {\"outlinewidth\": 0, \"ticks\": \"\"}}, \"colorscale\": {\"diverging\": [[0, \"#8e0152\"], [0.1, \"#c51b7d\"], [0.2, \"#de77ae\"], [0.3, \"#f1b6da\"], [0.4, \"#fde0ef\"], [0.5, \"#f7f7f7\"], [0.6, \"#e6f5d0\"], [0.7, \"#b8e186\"], [0.8, \"#7fbc41\"], [0.9, \"#4d9221\"], [1, \"#276419\"]], \"sequential\": [[0.0, \"#0d0887\"], [0.1111111111111111, \"#46039f\"], [0.2222222222222222, \"#7201a8\"], [0.3333333333333333, \"#9c179e\"], [0.4444444444444444, \"#bd3786\"], [0.5555555555555556, \"#d8576b\"], [0.6666666666666666, \"#ed7953\"], [0.7777777777777778, \"#fb9f3a\"], [0.8888888888888888, \"#fdca26\"], [1.0, \"#f0f921\"]], \"sequentialminus\": [[0.0, \"#0d0887\"], [0.1111111111111111, \"#46039f\"], [0.2222222222222222, \"#7201a8\"], [0.3333333333333333, \"#9c179e\"], [0.4444444444444444, \"#bd3786\"], [0.5555555555555556, \"#d8576b\"], [0.6666666666666666, \"#ed7953\"], [0.7777777777777778, \"#fb9f3a\"], [0.8888888888888888, \"#fdca26\"], [1.0, \"#f0f921\"]]}, \"colorway\": [\"#636efa\", \"#EF553B\", \"#00cc96\", \"#ab63fa\", \"#FFA15A\", \"#19d3f3\", \"#FF6692\", \"#B6E880\", \"#FF97FF\", \"#FECB52\"], \"font\": {\"color\": \"#2a3f5f\"}, \"geo\": {\"bgcolor\": \"white\", \"lakecolor\": \"white\", \"landcolor\": \"#E5ECF6\", \"showlakes\": true, \"showland\": true, \"subunitcolor\": \"white\"}, \"hoverlabel\": {\"align\": \"left\"}, \"hovermode\": \"closest\", \"mapbox\": {\"style\": \"light\"}, \"paper_bgcolor\": \"white\", \"plot_bgcolor\": \"#E5ECF6\", \"polar\": {\"angularaxis\": {\"gridcolor\": \"white\", \"linecolor\": \"white\", \"ticks\": \"\"}, \"bgcolor\": \"#E5ECF6\", \"radialaxis\": {\"gridcolor\": \"white\", \"linecolor\": \"white\", \"ticks\": \"\"}}, \"scene\": {\"xaxis\": {\"backgroundcolor\": \"#E5ECF6\", \"gridcolor\": \"white\", \"gridwidth\": 2, \"linecolor\": \"white\", \"showbackground\": true, \"ticks\": \"\", \"zerolinecolor\": \"white\"}, \"yaxis\": {\"backgroundcolor\": \"#E5ECF6\", \"gridcolor\": \"white\", \"gridwidth\": 2, \"linecolor\": \"white\", \"showbackground\": true, \"ticks\": \"\", \"zerolinecolor\": \"white\"}, \"zaxis\": {\"backgroundcolor\": \"#E5ECF6\", \"gridcolor\": \"white\", \"gridwidth\": 2, \"linecolor\": \"white\", \"showbackground\": true, \"ticks\": \"\", \"zerolinecolor\": \"white\"}}, \"shapedefaults\": {\"line\": {\"color\": \"#2a3f5f\"}}, \"ternary\": {\"aaxis\": {\"gridcolor\": \"white\", \"linecolor\": \"white\", \"ticks\": \"\"}, \"baxis\": {\"gridcolor\": \"white\", \"linecolor\": \"white\", \"ticks\": \"\"}, \"bgcolor\": \"#E5ECF6\", \"caxis\": {\"gridcolor\": \"white\", \"linecolor\": \"white\", \"ticks\": \"\"}}, \"title\": {\"x\": 0.05}, \"xaxis\": {\"automargin\": true, \"gridcolor\": \"white\", \"linecolor\": \"white\", \"ticks\": \"\", \"title\": {\"standoff\": 15}, \"zerolinecolor\": \"white\", \"zerolinewidth\": 2}, \"yaxis\": {\"automargin\": true, \"gridcolor\": \"white\", \"linecolor\": \"white\", \"ticks\": \"\", \"title\": {\"standoff\": 15}, \"zerolinecolor\": \"white\", \"zerolinewidth\": 2}}}},\n",
       "                        {\"responsive\": true}\n",
       "                    ).then(function(){\n",
       "                            \n",
       "var gd = document.getElementById('3b74a17d-3080-4de8-880a-2920c9687335');\n",
       "var x = new MutationObserver(function (mutations, observer) {{\n",
       "        var display = window.getComputedStyle(gd).display;\n",
       "        if (!display || display === 'none') {{\n",
       "            console.log([gd, 'removed!']);\n",
       "            Plotly.purge(gd);\n",
       "            observer.disconnect();\n",
       "        }}\n",
       "}});\n",
       "\n",
       "// Listen for the removal of the full notebook cells\n",
       "var notebookContainer = gd.closest('#notebook-container');\n",
       "if (notebookContainer) {{\n",
       "    x.observe(notebookContainer, {childList: true});\n",
       "}}\n",
       "\n",
       "// Listen for the clearing of the current output cell\n",
       "var outputEl = gd.closest('.output');\n",
       "if (outputEl) {{\n",
       "    x.observe(outputEl, {childList: true});\n",
       "}}\n",
       "\n",
       "                        })\n",
       "                };\n",
       "                });\n",
       "            </script>\n",
       "        </div>"
      ]
     },
     "metadata": {},
     "output_type": "display_data"
    }
   ],
   "source": [
    "trace_real = go.Scatter(x = time,y = velocidad_real)\n",
    "trace_modelo = go.Scatter(x = time,y = velocidad)\n",
    "go.Figure(data = [trace_real,trace_modelo])"
   ]
  },
  {
   "cell_type": "markdown",
   "metadata": {},
   "source": [
    "### Forma Nro 4\n",
    "\n",
    "- Menos indicada para este tipo de ejercicios"
   ]
  },
  {
   "cell_type": "code",
   "execution_count": 30,
   "metadata": {},
   "outputs": [
    {
     "data": {
      "text/plain": [
       "{0: {'time': 0, 'veloicidad': 0, 'error_relativo': 0, 'error_absoluto': 0},\n",
       " 1: {'time': 0, 'veloicidad': 0, 'error_relativo': 0, 'error_absoluto': 0}}"
      ]
     },
     "execution_count": 30,
     "metadata": {},
     "output_type": "execute_result"
    }
   ],
   "source": [
    "data = {0:{'time':0,'veloicidad':0,'error_relativo':0,'error_absoluto':0},1:{'time':0,'veloicidad':0,'error_relativo':0,'error_absoluto':0}}\n",
    "data"
   ]
  },
  {
   "cell_type": "markdown",
   "metadata": {},
   "source": [
    "### Forma Nro 5\n",
    "\n",
    "Forma óptima"
   ]
  },
  {
   "cell_type": "code",
   "execution_count": null,
   "metadata": {},
   "outputs": [],
   "source": [
    "import pandas as pd\n"
   ]
  },
  {
   "cell_type": "markdown",
   "metadata": {},
   "source": [
    "# Ejercicio 2 - Uso de módulos"
   ]
  },
  {
   "cell_type": "markdown",
   "metadata": {},
   "source": [
    "### sympy\n",
    "\n",
    "##### ED Lineal\n",
    "\n",
    "$$\\frac{dy}{dx}+p(x)y=q(x)$$\n",
    "$$\\frac{dy}{dx}+\\frac{1}{10-x}y=\\frac{-100}{10-x}$$\n",
    "$$(10-x)\\frac{dy}{dx}+y=-100$$\n",
    "$$y(0) = 0$$\n",
    "Solución: \n",
    "$$y(x) = \\phi^{-1}\\left(C+\\left(\\int{\\phi q(x)dx}\\right)\\right)$$\n",
    "\n",
    "$$\\phi = e^{\\int{p(x)dx}}$$\n",
    "\n"
   ]
  },
  {
   "cell_type": "code",
   "execution_count": 82,
   "metadata": {},
   "outputs": [],
   "source": [
    "import sympy as sp\n",
    "from sympy.parsing.sympy_parser import parse_expr"
   ]
  },
  {
   "cell_type": "code",
   "execution_count": 116,
   "metadata": {},
   "outputs": [],
   "source": [
    "x,C = sp.symbols('x C')"
   ]
  },
  {
   "cell_type": "code",
   "execution_count": 89,
   "metadata": {},
   "outputs": [
    {
     "data": {
      "text/plain": [
       "x*log(x**2) - 2*x"
      ]
     },
     "execution_count": 89,
     "metadata": {},
     "output_type": "execute_result"
    }
   ],
   "source": [
    "sp.integrate(sp.log(x**2))"
   ]
  },
  {
   "cell_type": "code",
   "execution_count": 117,
   "metadata": {},
   "outputs": [],
   "source": [
    "p = '1/(10-x)'\n",
    "q = '-100/(10-x)'"
   ]
  },
  {
   "cell_type": "code",
   "execution_count": 118,
   "metadata": {},
   "outputs": [
    {
     "data": {
      "text/plain": [
       "-log(x - 10)"
      ]
     },
     "execution_count": 118,
     "metadata": {},
     "output_type": "execute_result"
    }
   ],
   "source": [
    "integrate = sp.integrate(p,x)\n",
    "integrate"
   ]
  },
  {
   "cell_type": "code",
   "execution_count": 119,
   "metadata": {},
   "outputs": [
    {
     "data": {
      "text/plain": [
       "1/(x - 10)"
      ]
     },
     "execution_count": 119,
     "metadata": {},
     "output_type": "execute_result"
    }
   ],
   "source": [
    "phi = sp.exp(integrate)\n",
    "phi"
   ]
  },
  {
   "cell_type": "code",
   "execution_count": 120,
   "metadata": {
    "scrolled": true
   },
   "outputs": [
    {
     "data": {
      "text/plain": [
       "(C - 100/(x - 10))*(x - 10)"
      ]
     },
     "execution_count": 120,
     "metadata": {},
     "output_type": "execute_result"
    }
   ],
   "source": [
    "q_symbol = parse_expr(q)\n",
    "y_sp = phi**(-1)*(C+sp.integrate(phi*q_symbol,x))\n",
    "y_sp"
   ]
  },
  {
   "cell_type": "markdown",
   "metadata": {},
   "source": [
    "$$y = \\left(C-\\frac{100}{x-10}\\right)*(x-10)$$\n",
    "$$0 = \\left(C-\\frac{100}{-10}\\right)*(-10)\\rightarrow C+10 = 0$$"
   ]
  },
  {
   "cell_type": "code",
   "execution_count": 103,
   "metadata": {},
   "outputs": [
    {
     "data": {
      "text/plain": [
       "(str, sympy.core.power.Pow, sympy.core.mul.Mul)"
      ]
     },
     "execution_count": 103,
     "metadata": {},
     "output_type": "execute_result"
    }
   ],
   "source": [
    "type(q),type(phi),type(q_symbol)"
   ]
  },
  {
   "cell_type": "code",
   "execution_count": 99,
   "metadata": {},
   "outputs": [
    {
     "data": {
      "text/plain": [
       "y*cos(x) + cos(y)"
      ]
     },
     "execution_count": 99,
     "metadata": {},
     "output_type": "execute_result"
    }
   ],
   "source": [
    "x,y = sp.symbols('x y')\n",
    "eq = y*sp.sin(x)+x*sp.cos(y)\n",
    "sp.diff(eq,x)"
   ]
  },
  {
   "cell_type": "code",
   "execution_count": 100,
   "metadata": {},
   "outputs": [
    {
     "data": {
      "text/plain": [
       "-x*sin(y) + sin(x)"
      ]
     },
     "execution_count": 100,
     "metadata": {},
     "output_type": "execute_result"
    }
   ],
   "source": [
    "sp.diff(eq,y)"
   ]
  },
  {
   "cell_type": "code",
   "execution_count": 145,
   "metadata": {},
   "outputs": [],
   "source": [
    "from scipy.integrate import odeint\n",
    "\n",
    "def df(x,y): return -y/(10-x)-100/(10-x)\n",
    "\n",
    "x_sc = np.linspace(0,9,500)\n",
    "y_sc = odeint(df,0,x_sc)"
   ]
  },
  {
   "cell_type": "code",
   "execution_count": 134,
   "metadata": {},
   "outputs": [
    {
     "data": {
      "text/plain": [
       "array([ 0.        , 22.63023545, 35.6781207 , 43.20112283, 47.53865033,\n",
       "       50.03953288])"
      ]
     },
     "execution_count": 134,
     "metadata": {},
     "output_type": "execute_result"
    }
   ],
   "source": [
    "velocidad_real"
   ]
  },
  {
   "cell_type": "code",
   "execution_count": 142,
   "metadata": {},
   "outputs": [
    {
     "data": {
      "text/plain": [
       "array([  0.        ,  -0.19845171,  -0.39315343,  -0.58431209,\n",
       "        -0.77211631,  -0.95673857,  -1.13833711,  -1.3170575 ,\n",
       "        -1.493034  ,  -1.66639078,  -1.83724293,  -2.0056974 ,\n",
       "        -2.17185373,  -2.33580477,  -2.49763733,  -2.65743265,\n",
       "        -2.81526696,  -2.97121182,  -3.1253346 ,  -3.27769875,\n",
       "        -3.42836411,  -3.57738726,  -3.72482167,  -3.87071801,\n",
       "        -4.01512432,  -4.15808619,  -4.29964693,  -4.43984777,\n",
       "        -4.57872792,  -4.71632479,  -4.85267404,  -4.98780972,\n",
       "        -5.12176436,  -5.25456908,  -5.38625366,  -5.5168466 ,\n",
       "        -5.64637526,  -5.77486583,  -5.90234349,  -6.0288324 ,\n",
       "        -6.15435579,  -6.278936  ,  -6.40259451,  -6.52535201,\n",
       "        -6.64722844,  -6.76824301,  -6.88841425,  -7.00776003,\n",
       "        -7.1262976 ,  -7.24404365,  -7.36101427,  -7.47722502,\n",
       "        -7.59269098,  -7.70742671,  -7.82144632,  -7.93476345,\n",
       "        -8.04739134,  -8.15934282,  -8.27063033,  -8.38126591,\n",
       "        -8.49126128,  -8.60062778,  -8.70937646,  -8.81751801,\n",
       "        -8.92506286,  -9.0320211 ,  -9.13840259,  -9.24421688,\n",
       "        -9.34947327,  -9.45418083,  -9.55834837,  -9.66198447,\n",
       "        -9.7650975 ,  -9.86769558,  -9.96978667, -10.0713785 ,\n",
       "       -10.17247861, -10.27309436, -10.37323292, -10.47290131,\n",
       "       -10.57210635, -10.67085471, -10.7691529 , -10.86700729,\n",
       "       -10.96442409, -11.06140937, -11.15796908, -11.254109  ,\n",
       "       -11.34983481, -11.44515205, -11.54006615, -11.63458242,\n",
       "       -11.72870605, -11.82244211, -11.91579558, -12.00877132,\n",
       "       -12.10137412, -12.19360862, -12.28547942, -12.37699097,\n",
       "       -12.46814769, -12.55895386, -12.6494137 , -12.73953135,\n",
       "       -12.82931086, -12.9187562 , -13.00787128, -13.0966599 ,\n",
       "       -13.18512583, -13.27327274, -13.36110424, -13.44862389,\n",
       "       -13.53583515, -13.62274145, -13.70934613, -13.79565249,\n",
       "       -13.88166377, -13.96738314, -14.05281373, -14.13795859,\n",
       "       -14.22282075, -14.30740315, -14.39170871, -14.4757403 ,\n",
       "       -14.55950073, -14.64299275, -14.7262191 , -14.80918244,\n",
       "       -14.8918854 , -14.97433056, -15.05652049, -15.13845767,\n",
       "       -15.22014457, -15.30158362, -15.3827772 , -15.46372766,\n",
       "       -15.54443731, -15.62490842, -15.70514324, -15.78514397,\n",
       "       -15.86491279, -15.94445183, -16.0237632 , -16.10284897,\n",
       "       -16.1817112 , -16.26035189, -16.33877302, -16.41697656,\n",
       "       -16.49496443, -16.57273853, -16.65030073, -16.72765287,\n",
       "       -16.80479678, -16.88173424, -16.95846703, -17.03499689,\n",
       "       -17.11132553, -17.18745465, -17.26338592, -17.33912099,\n",
       "       -17.41466149, -17.49000902, -17.56516516, -17.64013148,\n",
       "       -17.7149095 , -17.78950077, -17.86390677, -17.93812898,\n",
       "       -18.01216887, -18.08602788, -18.15970744, -18.23320893,\n",
       "       -18.30653376, -18.37968329, -18.45265886, -18.52546183,\n",
       "       -18.5980935 , -18.67055519, -18.74284817, -18.81497371,\n",
       "       -18.88693307, -18.9587275 , -19.0303582 , -19.10182638,\n",
       "       -19.17313326, -19.24427999, -19.31526776, -19.38609771,\n",
       "       -19.45677098, -19.5272887 , -19.59765197, -19.66786191,\n",
       "       -19.73791958, -19.80782607, -19.87758243, -19.94718972,\n",
       "       -20.01664898, -20.08596122, -20.15512747, -20.22414873,\n",
       "       -20.29302598, -20.3617602 , -20.43035237, -20.49880344,\n",
       "       -20.56711437, -20.63528608, -20.70331951, -20.77121557,\n",
       "       -20.83897517, -20.90659922, -20.97408859, -21.04144416,\n",
       "       -21.10866681, -21.17575739, -21.24271675, -21.30954574,\n",
       "       -21.37624519, -21.44281592, -21.50925876, -21.5755745 ,\n",
       "       -21.64176395, -21.70782789, -21.77376711, -21.83958239,\n",
       "       -21.90527449, -21.97084417, -22.03629218, -22.10161927,\n",
       "       -22.16682617, -22.23191362, -22.29688233, -22.36173302,\n",
       "       -22.4264664 , -22.49108317, -22.55558402, -22.61996965,\n",
       "       -22.68424073, -22.74839793, -22.81244194, -22.8763734 ,\n",
       "       -22.94019297, -23.00390131, -23.06749905, -23.13098683,\n",
       "       -23.19436528, -23.25763502, -23.32079668, -23.38385086,\n",
       "       -23.44679819, -23.50963925, -23.57237465, -23.63500498,\n",
       "       -23.69753082, -23.75995276, -23.82227136, -23.88448721,\n",
       "       -23.94660086, -24.00861287, -24.0705238 , -24.1323342 ,\n",
       "       -24.19404462, -24.25565558, -24.31716764, -24.37858132,\n",
       "       -24.43989714, -24.50111564, -24.56223732, -24.62326271,\n",
       "       -24.6841923 , -24.7450266 , -24.80576611, -24.86641133,\n",
       "       -24.92696275, -24.98742085, -25.04778612, -25.10805903,\n",
       "       -25.16824006, -25.22832969, -25.28832837, -25.34823658,\n",
       "       -25.40805477, -25.4677834 , -25.52742292, -25.58697377,\n",
       "       -25.6464364 , -25.70581126, -25.76509877, -25.82429937,\n",
       "       -25.8834135 , -25.94244158, -26.00138402, -26.06024127,\n",
       "       -26.11901372, -26.17770179, -26.2363059 , -26.29482644,\n",
       "       -26.35326383, -26.41161846, -26.46989073, -26.52808104,\n",
       "       -26.58618977, -26.64421731, -26.70216405, -26.76003037,\n",
       "       -26.81781665, -26.87552327, -26.9331506 , -26.99069901,\n",
       "       -27.04816886, -27.10556053, -27.16287438, -27.22011076,\n",
       "       -27.27727003, -27.33435254, -27.39135865, -27.44828871,\n",
       "       -27.50514306, -27.56192205, -27.61862601, -27.67525529,\n",
       "       -27.73181023, -27.78829115, -27.84469838, -27.90103227,\n",
       "       -27.95729313, -28.01348128, -28.06959706, -28.12564077,\n",
       "       -28.18161274, -28.23751328, -28.2933427 , -28.34910132,\n",
       "       -28.40478945, -28.46040738, -28.51595543, -28.57143389,\n",
       "       -28.62684308, -28.68218327, -28.73745477, -28.79265788,\n",
       "       -28.84779288, -28.90286006, -28.95785972, -29.01279213,\n",
       "       -29.06765758, -29.12245635, -29.17718872, -29.23185496,\n",
       "       -29.28645537, -29.3409902 , -29.39545974, -29.44986424,\n",
       "       -29.504204  , -29.55847925, -29.61269029, -29.66683736,\n",
       "       -29.72092073, -29.77494065, -29.8288974 , -29.88279121,\n",
       "       -29.93662235, -29.99039108, -30.04409763, -30.09774227,\n",
       "       -30.15132523, -30.20484677, -30.25830713, -30.31170656,\n",
       "       -30.36504529, -30.41832357, -30.47154163, -30.52469972,\n",
       "       -30.57779807, -30.63083691, -30.68381647, -30.736737  ,\n",
       "       -30.78959871, -30.84240183, -30.8951466 , -30.94783323,\n",
       "       -31.00046196, -31.053033  , -31.10554657, -31.1580029 ,\n",
       "       -31.21040221, -31.2627447 , -31.3150306 , -31.36726012,\n",
       "       -31.41943348, -31.47155089, -31.52361255, -31.57561868,\n",
       "       -31.62756949, -31.67946518, -31.73130596, -31.78309203,\n",
       "       -31.83482359, -31.88650085, -31.93812401, -31.98969327,\n",
       "       -32.04120883, -32.09267087, -32.14407961, -32.19543522,\n",
       "       -32.24673792, -32.29798789, -32.34918532, -32.4003304 ,\n",
       "       -32.45142332, -32.50246427, -32.55345344, -32.60439101,\n",
       "       -32.65527717, -32.70611209, -32.75689598, -32.80762899,\n",
       "       -32.85831133, -32.90894316, -32.95952466, -33.01005602,\n",
       "       -33.0605374 , -33.11096898, -33.16135095, -33.21168346,\n",
       "       -33.2619667 , -33.31220084, -33.36238604, -33.41252248,\n",
       "       -33.46261033, -33.51264975, -33.56264091, -33.61258397,\n",
       "       -33.66247911, -33.71232648, -33.76212625, -33.81187858,\n",
       "       -33.86158363, -33.91124156, -33.96085254, -34.01041671,\n",
       "       -34.05993425, -34.1094053 , -34.15883002, -34.20820857,\n",
       "       -34.25754111, -34.30682778, -34.35606873, -34.40526413,\n",
       "       -34.45441412, -34.50351886, -34.55257848, -34.60159315,\n",
       "       -34.65056301, -34.6994882 , -34.74836888, -34.79720518,\n",
       "       -34.84599726, -34.89474525, -34.94344931, -34.99210957,\n",
       "       -35.04072617, -35.08929927, -35.13782899, -35.18631548,\n",
       "       -35.23475887, -35.28315931, -35.33151694, -35.37983188,\n",
       "       -35.42810428, -35.47633427, -35.52452198, -35.57266756,\n",
       "       -35.62077113, -35.66883282, -35.71685278, -35.76483112,\n",
       "       -35.81276798, -35.86066349, -35.90851779, -35.95633099,\n",
       "       -36.00410322, -36.05183462, -36.09952531, -36.14717541,\n",
       "       -36.19478506, -36.24235437, -36.28988348, -36.3373725 ,\n",
       "       -36.38482155, -36.43223077, -36.47960028, -36.52693018,\n",
       "       -36.57422062, -36.6214717 , -36.66868354, -36.71585627,\n",
       "       -36.76299   , -36.81008485, -36.85714093, -36.90415838])"
      ]
     },
     "execution_count": 142,
     "metadata": {},
     "output_type": "execute_result"
    }
   ],
   "source": [
    "y_sc.reshape(1,-1)[0]"
   ]
  },
  {
   "cell_type": "code",
   "execution_count": 146,
   "metadata": {},
   "outputs": [
    {
     "data": {
      "application/vnd.plotly.v1+json": {
       "config": {
        "plotlyServerURL": "https://plot.ly"
       },
       "data": [
        {
         "name": "sympy",
         "type": "scatter",
         "x": [
          0,
          0.018036072144288578,
          0.036072144288577156,
          0.05410821643286573,
          0.07214428857715431,
          0.09018036072144289,
          0.10821643286573146,
          0.12625250501002006,
          0.14428857715430862,
          0.1623246492985972,
          0.18036072144288579,
          0.19839679358717435,
          0.21643286573146292,
          0.23446893787575152,
          0.2525050100200401,
          0.27054108216432865,
          0.28857715430861725,
          0.30661322645290584,
          0.3246492985971944,
          0.342685370741483,
          0.36072144288577157,
          0.3787575150300601,
          0.3967935871743487,
          0.4148296593186373,
          0.43286573146292584,
          0.45090180360721444,
          0.46893787575150303,
          0.4869739478957916,
          0.5050100200400802,
          0.5230460921843687,
          0.5410821643286573,
          0.5591182364729459,
          0.5771543086172345,
          0.5951903807615231,
          0.6132264529058117,
          0.6312625250501003,
          0.6492985971943888,
          0.6673346693386774,
          0.685370741482966,
          0.7034068136272545,
          0.7214428857715431,
          0.7394789579158317,
          0.7575150300601202,
          0.7755511022044088,
          0.7935871743486974,
          0.811623246492986,
          0.8296593186372746,
          0.8476953907815632,
          0.8657314629258517,
          0.8837675350701403,
          0.9018036072144289,
          0.9198396793587175,
          0.9378757515030061,
          0.9559118236472947,
          0.9739478957915833,
          0.9919839679358717,
          1.0100200400801604,
          1.028056112224449,
          1.0460921843687374,
          1.0641282565130261,
          1.0821643286573146,
          1.1002004008016033,
          1.1182364729458918,
          1.1362725450901805,
          1.154308617234469,
          1.1723446893787575,
          1.1903807615230462,
          1.2084168336673347,
          1.2264529058116234,
          1.2444889779559118,
          1.2625250501002006,
          1.280561122244489,
          1.2985971943887775,
          1.3166332665330662,
          1.3346693386773547,
          1.3527054108216434,
          1.370741482965932,
          1.3887775551102204,
          1.406813627254509,
          1.4248496993987976,
          1.4428857715430863,
          1.4609218436873748,
          1.4789579158316635,
          1.496993987975952,
          1.5150300601202404,
          1.5330661322645291,
          1.5511022044088176,
          1.5691382765531063,
          1.5871743486973948,
          1.6052104208416835,
          1.623246492985972,
          1.6412825651302605,
          1.6593186372745492,
          1.6773547094188377,
          1.6953907815631264,
          1.7134268537074149,
          1.7314629258517034,
          1.749498997995992,
          1.7675350701402806,
          1.7855711422845693,
          1.8036072144288577,
          1.8216432865731464,
          1.839679358717435,
          1.8577154308617234,
          1.8757515030060121,
          1.8937875751503006,
          1.9118236472945893,
          1.9298597194388778,
          1.9478957915831665,
          1.965931863727455,
          1.9839679358717435,
          2.002004008016032,
          2.020040080160321,
          2.038076152304609,
          2.056112224448898,
          2.0741482965931866,
          2.092184368737475,
          2.1102204408817635,
          2.1282565130260522,
          2.146292585170341,
          2.164328657314629,
          2.182364729458918,
          2.2004008016032066,
          2.218436873747495,
          2.2364729458917836,
          2.2545090180360723,
          2.272545090180361,
          2.2905811623246493,
          2.308617234468938,
          2.3266533066132267,
          2.344689378757515,
          2.3627254509018036,
          2.3807615230460923,
          2.398797595190381,
          2.4168336673346693,
          2.434869739478958,
          2.4529058116232467,
          2.470941883767535,
          2.4889779559118237,
          2.5070140280561124,
          2.525050100200401,
          2.5430861723446894,
          2.561122244488978,
          2.579158316633267,
          2.597194388777555,
          2.6152304609218437,
          2.6332665330661325,
          2.651302605210421,
          2.6693386773547094,
          2.687374749498998,
          2.705410821643287,
          2.723446893787575,
          2.741482965931864,
          2.7595190380761525,
          2.7775551102204408,
          2.7955911823647295,
          2.813627254509018,
          2.831663326653307,
          2.849699398797595,
          2.867735470941884,
          2.8857715430861726,
          2.903807615230461,
          2.9218436873747495,
          2.9398797595190382,
          2.957915831663327,
          2.975951903807615,
          2.993987975951904,
          3.0120240480961926,
          3.030060120240481,
          3.0480961923847696,
          3.0661322645290583,
          3.084168336673347,
          3.1022044088176353,
          3.120240480961924,
          3.1382765531062127,
          3.156312625250501,
          3.1743486973947896,
          3.1923847695390783,
          3.210420841683367,
          3.2284569138276553,
          3.246492985971944,
          3.2645290581162327,
          3.282565130260521,
          3.3006012024048097,
          3.3186372745490984,
          3.336673346693387,
          3.3547094188376754,
          3.372745490981964,
          3.390781563126253,
          3.408817635270541,
          3.4268537074148298,
          3.4448897795591185,
          3.4629258517034067,
          3.4809619238476954,
          3.498997995991984,
          3.517034068136273,
          3.535070140280561,
          3.55310621242485,
          3.5711422845691385,
          3.5891783567134268,
          3.6072144288577155,
          3.625250501002004,
          3.643286573146293,
          3.661322645290581,
          3.67935871743487,
          3.6973947895791586,
          3.715430861723447,
          3.7334669338677355,
          3.7515030060120242,
          3.769539078156313,
          3.787575150300601,
          3.80561122244489,
          3.8236472945891786,
          3.841683366733467,
          3.8597194388777556,
          3.8777555110220443,
          3.895791583166333,
          3.9138276553106213,
          3.93186372745491,
          3.9498997995991987,
          3.967935871743487,
          3.9859719438877756,
          4.004008016032064,
          4.022044088176353,
          4.040080160320642,
          4.05811623246493,
          4.076152304609218,
          4.094188376753507,
          4.112224448897796,
          4.130260521042084,
          4.148296593186373,
          4.166332665330661,
          4.18436873747495,
          4.202404809619239,
          4.220440881763527,
          4.238476953907816,
          4.2565130260521045,
          4.274549098196393,
          4.292585170340682,
          4.31062124248497,
          4.328657314629258,
          4.3466933867735476,
          4.364729458917836,
          4.382765531062124,
          4.400801603206413,
          4.4188376753507015,
          4.43687374749499,
          4.454909819639279,
          4.472945891783567,
          4.490981963927856,
          4.509018036072145,
          4.527054108216433,
          4.545090180360722,
          4.56312625250501,
          4.5811623246492985,
          4.599198396793588,
          4.617234468937876,
          4.635270541082164,
          4.653306613226453,
          4.671342685370742,
          4.68937875751503,
          4.707414829659319,
          4.725450901803607,
          4.7434869739478955,
          4.761523046092185,
          4.779559118236473,
          4.797595190380762,
          4.81563126252505,
          4.833667334669339,
          4.851703406813628,
          4.869739478957916,
          4.887775551102204,
          4.9058116232464934,
          4.923847695390782,
          4.94188376753507,
          4.959919839679359,
          4.977955911823647,
          4.995991983967936,
          5.014028056112225,
          5.032064128256513,
          5.050100200400802,
          5.0681362725450905,
          5.086172344689379,
          5.104208416833668,
          5.122244488977956,
          5.140280561122244,
          5.158316633266534,
          5.176352705410822,
          5.19438877755511,
          5.212424849699399,
          5.2304609218436875,
          5.248496993987976,
          5.266533066132265,
          5.284569138276553,
          5.302605210420842,
          5.320641282565131,
          5.338677354709419,
          5.356713426853708,
          5.374749498997996,
          5.3927855711422845,
          5.410821643286574,
          5.428857715430862,
          5.44689378757515,
          5.464929859719439,
          5.482965931863728,
          5.501002004008016,
          5.519038076152305,
          5.537074148296593,
          5.5551102204408815,
          5.573146292585171,
          5.591182364729459,
          5.609218436873748,
          5.627254509018036,
          5.645290581162325,
          5.663326653306614,
          5.681362725450902,
          5.69939879759519,
          5.7174348697394795,
          5.735470941883768,
          5.753507014028056,
          5.771543086172345,
          5.789579158316633,
          5.807615230460922,
          5.825651302605211,
          5.843687374749499,
          5.861723446893788,
          5.8797595190380765,
          5.897795591182365,
          5.915831663326654,
          5.933867735470942,
          5.95190380761523,
          5.96993987975952,
          5.987975951903808,
          6.006012024048096,
          6.024048096192385,
          6.0420841683366735,
          6.060120240480962,
          6.078156312625251,
          6.096192384769539,
          6.114228456913828,
          6.132264529058117,
          6.150300601202405,
          6.168336673346694,
          6.186372745490982,
          6.2044088176352705,
          6.22244488977956,
          6.240480961923848,
          6.258517034068136,
          6.276553106212425,
          6.294589178356714,
          6.312625250501002,
          6.330661322645291,
          6.348697394789579,
          6.3667334669338675,
          6.384769539078157,
          6.402805611222445,
          6.420841683366734,
          6.438877755511022,
          6.456913827655311,
          6.4749498997996,
          6.492985971943888,
          6.511022044088176,
          6.5290581162324655,
          6.547094188376754,
          6.565130260521042,
          6.583166332665331,
          6.601202404809619,
          6.619238476953908,
          6.637274549098197,
          6.655310621242485,
          6.673346693386774,
          6.6913827655310625,
          6.709418837675351,
          6.72745490981964,
          6.745490981963928,
          6.763527054108216,
          6.781563126252506,
          6.799599198396794,
          6.817635270541082,
          6.835671342685371,
          6.8537074148296595,
          6.871743486973948,
          6.889779559118237,
          6.907815631262525,
          6.925851703406813,
          6.943887775551103,
          6.961923847695391,
          6.97995991983968,
          6.997995991983968,
          7.0160320641282565,
          7.034068136272546,
          7.052104208416834,
          7.070140280561122,
          7.088176352705411,
          7.1062124248497,
          7.124248496993988,
          7.142284569138277,
          7.160320641282565,
          7.1783567134268536,
          7.196392785571143,
          7.214428857715431,
          7.23246492985972,
          7.250501002004008,
          7.268537074148297,
          7.286573146292586,
          7.304609218436874,
          7.322645290581162,
          7.3406813627254515,
          7.35871743486974,
          7.376753507014028,
          7.394789579158317,
          7.412825651302605,
          7.430861723446894,
          7.448897795591183,
          7.466933867735471,
          7.48496993987976,
          7.5030060120240485,
          7.521042084168337,
          7.539078156312626,
          7.557114228456914,
          7.575150300601202,
          7.593186372745492,
          7.61122244488978,
          7.629258517034068,
          7.647294589178357,
          7.6653306613226455,
          7.683366733466934,
          7.701402805611223,
          7.719438877755511,
          7.7374749498997994,
          7.755511022044089,
          7.773547094188377,
          7.791583166332666,
          7.809619238476954,
          7.8276553106212425,
          7.845691382765532,
          7.86372745490982,
          7.881763527054108,
          7.899799599198397,
          7.917835671342686,
          7.935871743486974,
          7.953907815631263,
          7.971943887775551,
          7.98997995991984,
          8.008016032064129,
          8.026052104208418,
          8.044088176352705,
          8.062124248496994,
          8.080160320641284,
          8.098196392785571,
          8.11623246492986,
          8.13426853707415,
          8.152304609218437,
          8.170340681362726,
          8.188376753507015,
          8.206412825651302,
          8.224448897795591,
          8.24248496993988,
          8.260521042084168,
          8.278557114228457,
          8.296593186372746,
          8.314629258517034,
          8.332665330661323,
          8.350701402805612,
          8.3687374749499,
          8.386773547094188,
          8.404809619238478,
          8.422845691382767,
          8.440881763527054,
          8.458917835671343,
          8.476953907815632,
          8.49498997995992,
          8.513026052104209,
          8.531062124248498,
          8.549098196392785,
          8.567134268537075,
          8.585170340681364,
          8.603206412825651,
          8.62124248496994,
          8.63927855711423,
          8.657314629258517,
          8.675350701402806,
          8.693386773547095,
          8.711422845691382,
          8.729458917835672,
          8.74749498997996,
          8.765531062124248,
          8.783567134268537,
          8.801603206412826,
          8.819639278557114,
          8.837675350701403,
          8.855711422845692,
          8.87374749498998,
          8.891783567134269,
          8.909819639278558,
          8.927855711422845,
          8.945891783567134,
          8.963927855711423,
          8.981963927855713,
          9
         ],
         "y": [
          0,
          -0.1787788774555869,
          -0.3545028784308249,
          -0.5273249600934897,
          -0.6973857784679602,
          -0.8648149755478627,
          -1.0297324107255605,
          -1.1922491185003457,
          -1.3524681994817895,
          -1.5104855985793517,
          -1.6663907764131338,
          -1.8202673164040652,
          -1.9721934482193773,
          -2.1222424891270664,
          -2.270483305031611,
          -2.416980659270036,
          -2.5617955498695193,
          -2.7049855085883863,
          -2.846604871053121,
          -2.9867050190436717,
          -3.125334602258714,
          -3.2625397387041883,
          -3.3983641805542053,
          -3.5328495068868357,
          -3.666035247710659,
          -3.7979590374073804,
          -3.9286567342983245,
          -4.058162532416367,
          -4.186509077388456,
          -4.3137275491308165,
          -4.4398477673580725,
          -4.564898258910113,
          -4.68890634675788,
          -4.811898211108672,
          -4.933898960717801,
          -5.054932690824746,
          -5.175022541591731,
          -5.294190750253274,
          -5.4124586882223475,
          -5.529846921075857,
          -5.646375256814544,
          -5.762062762825489,
          -5.876927816794995,
          -5.99098814799773,
          -6.104260852047219,
          -6.216762430826223,
          -6.328508828109774,
          -6.439515441853136,
          -6.549797155924428,
          -6.659368370077415,
          -6.768243011242335,
          -6.876434558822733,
          -6.983956070011041,
          -7.090820189994895,
          -7.19703917240588,
          -7.302624900685091,
          -7.407588897376094,
          -7.5119423415191235,
          -7.615696087731037,
          -7.718860670653978,
          -7.821446318366802,
          -7.9234629651803505,
          -8.02492027923513,
          -8.125827654971657,
          -8.22619422458199,
          -8.326028868948807,
          -8.425340237801962,
          -8.52413674997589,
          -8.622426598727875,
          -8.720217761321774,
          -8.81751801318365,
          -8.914334933602134,
          -9.010675906550341,
          -9.106548129598302,
          -9.201958622992358,
          -9.296914238611539,
          -9.39142165859703,
          -9.485487403140038,
          -9.579117836752816,
          -9.672319177391879,
          -9.76509749532941,
          -9.857458719172467,
          -9.949408640688628,
          -10.040952922701683,
          -10.132097099221165,
          -10.222846579620349,
          -10.313206652783203,
          -10.403182494732409,
          -10.492779168010095,
          -10.582001624103905,
          -10.670854707344173,
          -10.759343157522036,
          -10.847471614060503,
          -10.935244629155195,
          -11.022666656484542,
          -11.10974205641376,
          -11.196475099629469,
          -11.28286996925823,
          -11.368930765530852,
          -11.45466151316254,
          -11.540066153408196,
          -11.625148549612383,
          -11.709912489350735,
          -11.794361686145965,
          -11.878499784776443,
          -11.962330363698918,
          -12.045856931026519,
          -12.129082928893217,
          -12.212011734973064,
          -12.294646663971143,
          -12.376990972846066,
          -12.459047859659714,
          -12.5408204633441,
          -12.622311866336943,
          -12.70352509582884,
          -12.784463125242244,
          -12.865128878555801,
          -12.945525227995295,
          -13.025654995441789,
          -13.10552095407951,
          -13.185125829433314,
          -13.264472300940609,
          -13.343563004976744,
          -13.422400532722152,
          -13.500987432038528,
          -13.57932620855819,
          -13.657419326553256,
          -13.73526921113303,
          -13.812878249895375,
          -13.890248790277479,
          -13.967383141933274,
          -14.044283577492275,
          -14.120952333237447,
          -14.19739160974196,
          -14.27360357246481,
          -14.349590356260318,
          -14.42535406703457,
          -14.50089677438596,
          -14.576220516238518,
          -14.651327299472378,
          -14.726219100477554,
          -14.800897865677198,
          -14.875365512020377,
          -14.949623930538383,
          -15.02367498674335,
          -15.097520516225686,
          -15.171162327816948,
          -15.244602204073809,
          -15.31784190173033,
          -15.390883152127122,
          -15.463727661617352,
          -15.536377114583889,
          -15.6088331730818,
          -15.681097474090407,
          -15.7531716318029,
          -15.82505723801966,
          -15.896755862524012,
          -15.968269053440462,
          -16.03959833757913,
          -16.110745222834034,
          -16.18171119747436,
          -16.252497728661055,
          -16.323106264004483,
          -16.393538231891036,
          -16.463795041796192,
          -16.533878084584046,
          -16.603788732805217,
          -16.67352834263734,
          -16.743098253043442,
          -16.81249978500185,
          -16.881734242608076,
          -16.95080291334794,
          -17.019707068360137,
          -17.0884479626882,
          -17.157026835542652,
          -17.225444911862606,
          -17.293703401470342,
          -17.36180349873223,
          -17.429746383349034,
          -17.497533220585797,
          -17.56516516149335,
          -17.63264334312147,
          -17.699968888770446,
          -17.76714290982818,
          -17.834166504150115,
          -17.901040755902006,
          -17.967766736391773,
          -18.034345504251736,
          -18.100778105613223,
          -18.167065574273646,
          -18.233208931856005,
          -18.29920918796079,
          -18.36506734031034,
          -18.43078437507475,
          -18.496361271270047,
          -18.561798995697867,
          -18.627098502819653,
          -18.692260736343826,
          -18.757286629373382,
          -18.822177104547904,
          -18.886933074179964,
          -18.951555440385913,
          -19.016045095211116,
          -19.080402920749556,
          -19.144629789449155,
          -19.20872656720227,
          -19.27269410951263,
          -19.33653326181813,
          -19.400244860478708,
          -19.463829732896166,
          -19.527288697629693,
          -19.590622564507196,
          -19.653832134732372,
          -19.71691820098757,
          -19.779881547532415,
          -19.8427229504978,
          -19.90544318022221,
          -19.968042998137385,
          -20.030523157290236,
          -20.09288440300786,
          -20.155127472996362,
          -20.217253097436515,
          -20.279261999076166,
          -20.341154893319494,
          -20.402932488313056,
          -20.46459548502861,
          -20.526144577530065,
          -20.587580454614134,
          -20.648903797485133,
          -20.710115280309765,
          -20.771215570641253,
          -20.83220532950121,
          -20.893085211459084,
          -20.953855864709084,
          -21.014517931144685,
          -21.07507204643067,
          -21.135518840072677,
          -21.195858935661803,
          -21.256092952057788,
          -21.3162215016046,
          -21.37624519066232,
          -21.43616461988805,
          -21.495980384304243,
          -21.55569307336511,
          -21.61530327102111,
          -21.674811555781506,
          -21.73421850077504,
          -21.793524673808648,
          -21.852730637590057,
          -21.911836950576586,
          -21.97084416561135,
          -22.029752830401453,
          -22.08856348770647,
          -22.147276675395844,
          -22.205892926504763,
          -22.26441276928852,
          -22.32283672727537,
          -22.381165319317883,
          -22.43939905964277,
          -22.497538458147968,
          -22.555584021283952,
          -22.613536250284742,
          -22.671395641873797,
          -22.72916268844312,
          -22.786837878098737,
          -22.84442169470479,
          -22.9019146179263,
          -22.95931712327053,
          -23.016629682126997,
          -23.073852761806105,
          -23.1309868255764,
          -23.18803233270049,
          -23.24498973846956,
          -23.30185949423653,
          -23.358642047884455,
          -23.415337846305164,
          -23.47194733089314,
          -23.528470938889747,
          -23.58490910391483,
          -23.64126225600361,
          -23.697530821642577,
          -23.75371522380431,
          -23.809815881981365,
          -23.865833212219115,
          -23.92176762714756,
          -23.977619536012195,
          -24.0333893447038,
          -24.089077455787244,
          -24.144684268529318,
          -24.200210179117416,
          -24.255655582504353,
          -24.311020869491077,
          -24.366306427322137,
          -24.421512640185437,
          -24.476639889242236,
          -24.531688552656313,
          -24.586659005622426,
          -24.641551620393994,
          -24.696366766309986,
          -24.751104809821104,
          -24.805766114515183,
          -24.8603510411418,
          -24.914859947636177,
          -24.969293189142277,
          -25.0236511181164,
          -25.077934085747817,
          -25.132142440000887,
          -25.186276525750767,
          -25.240336685273668,
          -25.294323258271618,
          -25.348236581896572,
          -25.40207699077404,
          -25.455844817026076,
          -25.509540390293708,
          -25.563164037758828,
          -25.61671608416545,
          -25.67019685184046,
          -25.723606660713735,
          -25.776945828337727,
          -25.830214669932108,
          -25.88341349936306,
          -25.936542627998552,
          -25.98960236454166,
          -26.04259301546932,
          -26.09551488505279,
          -26.148368275377756,
          -26.201153486363907,
          -26.253870815784122,
          -26.306520559283214,
          -26.3591030103962,
          -26.411618460566167,
          -26.46406719916169,
          -26.51644951349378,
          -26.568765688832446,
          -26.62101600842763,
          -26.673200754177998,
          -26.72532020601214,
          -26.777374641540316,
          -26.82936433645336,
          -26.881289564539806,
          -26.933150597702628,
          -26.984947705975678,
          -27.036681157539743,
          -27.0883512187383,
          -27.139958154092888,
          -27.191502226318182,
          -27.242983696336672,
          -27.294402823293055,
          -27.34575986456824,
          -27.397055075793034,
          -27.44828871128145,
          -27.499461023773883,
          -27.55057226398648,
          -27.60162268097044,
          -27.652612522126354,
          -27.703542033218312,
          -27.75441145838774,
          -27.805221040166934,
          -27.855971019492387,
          -27.906661635717775,
          -27.957293126626723,
          -28.0078657284453,
          -28.058379675854212,
          -28.108835202000765,
          -28.159232538510526,
          -28.209571915917707,
          -28.259853563552632,
          -28.31007770876601,
          -28.360244577448235,
          -28.41035439404472,
          -28.46040738156712,
          -28.51040376160426,
          -28.560343754332877,
          -28.610227578528086,
          -28.660055451573594,
          -28.709827589471704,
          -28.759544206853047,
          -28.809205516986076,
          -28.85881173178632,
          -28.908363061825415,
          -28.95785971633983,
          -29.007301903239416,
          -29.056689829115697,
          -29.106023699249864,
          -29.1553037176206,
          -29.20453008691883,
          -29.253703010031273,
          -29.302822688561545,
          -29.351889321918176,
          -29.4009031082972,
          -29.449864244691334,
          -29.49877292689897,
          -29.547629349532997,
          -29.596433706029465,
          -29.645186188656037,
          -29.693886988520273,
          -29.742536295577743,
          -29.791134298639943,
          -29.839681185382073,
          -29.888177142350568,
          -29.936622354970513,
          -29.98501700755285,
          -30.033361283301407,
          -30.08165536431974,
          -30.129899431617833,
          -30.17809366511856,
          -30.226238243714693,
          -30.274333346428165,
          -30.322379150773276,
          -30.370375832782738,
          -30.418323567469983,
          -30.466222528836546,
          -30.514072889879337,
          -30.561874822597762,
          -30.609628498000703,
          -30.65733408611338,
          -30.704991755984057,
          -30.75260167569065,
          -30.80016401234715,
          -30.84767893210995,
          -30.895146600184024,
          -30.942567180828974,
          -30.98994083736493,
          -31.037267732178343,
          -31.084548026727607,
          -31.13178188154857,
          -31.17896945625991,
          -31.226110909677875,
          -31.27320640065062,
          -31.32025608656186,
          -31.367260123715845,
          -31.414218667553335,
          -31.461131872657667,
          -31.507999892760694,
          -31.554822880748652,
          -31.601600988667897,
          -31.64833436773055,
          -31.69502316832004,
          -31.74166753999659,
          -31.788267631502485,
          -31.83482359076739,
          -31.881335564913442,
          -31.927803700260302,
          -31.974228142330112,
          -32.0206090358523,
          -32.066946524768355,
          -32.11324075223639,
          -32.1594918606358,
          -32.20569999172627,
          -32.25186528710845,
          -32.2979878871263,
          -32.34406793130479,
          -32.39010555843185,
          -32.43610090656325,
          -32.48205411302757,
          -32.52796531443101,
          -32.57383464666213,
          -32.61966224489654,
          -32.66544824360146,
          -32.71119277654029,
          -32.75689597677697,
          -32.80255797668042,
          -32.84817890792876,
          -32.893758901513564,
          -32.93929808774394,
          -32.984796596250625,
          -33.03025455598991,
          -33.075672095247576,
          -33.12104934164266,
          -33.16638642232305,
          -33.211683464131895,
          -33.256940592879474,
          -33.302157933717524,
          -33.347335611164276,
          -33.392473749108575,
          -33.437572470813976,
          -33.482631898922726,
          -33.52765215545974,
          -33.572633361836495,
          -33.617575638854824,
          -33.662479106710705,
          -33.70734388499802,
          -33.752170092712106,
          -33.796957848253435,
          -33.8417072694311,
          -33.886418473466264,
          -33.931091576995634,
          -33.975726696074744,
          -34.020323946181286,
          -34.06488344221829,
          -34.10940529873421,
          -34.15388962985775,
          -34.19833654890117,
          -34.24274616862349,
          -34.28711860123587,
          -34.331453958405,
          -34.37575235125655,
          -34.42001389037852,
          -34.464238685824526,
          -34.50842684711707
         ]
        },
        {
         "name": "scipy",
         "type": "scatter",
         "x": [
          0,
          0.018036072144288578,
          0.036072144288577156,
          0.05410821643286573,
          0.07214428857715431,
          0.09018036072144289,
          0.10821643286573146,
          0.12625250501002006,
          0.14428857715430862,
          0.1623246492985972,
          0.18036072144288579,
          0.19839679358717435,
          0.21643286573146292,
          0.23446893787575152,
          0.2525050100200401,
          0.27054108216432865,
          0.28857715430861725,
          0.30661322645290584,
          0.3246492985971944,
          0.342685370741483,
          0.36072144288577157,
          0.3787575150300601,
          0.3967935871743487,
          0.4148296593186373,
          0.43286573146292584,
          0.45090180360721444,
          0.46893787575150303,
          0.4869739478957916,
          0.5050100200400802,
          0.5230460921843687,
          0.5410821643286573,
          0.5591182364729459,
          0.5771543086172345,
          0.5951903807615231,
          0.6132264529058117,
          0.6312625250501003,
          0.6492985971943888,
          0.6673346693386774,
          0.685370741482966,
          0.7034068136272545,
          0.7214428857715431,
          0.7394789579158317,
          0.7575150300601202,
          0.7755511022044088,
          0.7935871743486974,
          0.811623246492986,
          0.8296593186372746,
          0.8476953907815632,
          0.8657314629258517,
          0.8837675350701403,
          0.9018036072144289,
          0.9198396793587175,
          0.9378757515030061,
          0.9559118236472947,
          0.9739478957915833,
          0.9919839679358717,
          1.0100200400801604,
          1.028056112224449,
          1.0460921843687374,
          1.0641282565130261,
          1.0821643286573146,
          1.1002004008016033,
          1.1182364729458918,
          1.1362725450901805,
          1.154308617234469,
          1.1723446893787575,
          1.1903807615230462,
          1.2084168336673347,
          1.2264529058116234,
          1.2444889779559118,
          1.2625250501002006,
          1.280561122244489,
          1.2985971943887775,
          1.3166332665330662,
          1.3346693386773547,
          1.3527054108216434,
          1.370741482965932,
          1.3887775551102204,
          1.406813627254509,
          1.4248496993987976,
          1.4428857715430863,
          1.4609218436873748,
          1.4789579158316635,
          1.496993987975952,
          1.5150300601202404,
          1.5330661322645291,
          1.5511022044088176,
          1.5691382765531063,
          1.5871743486973948,
          1.6052104208416835,
          1.623246492985972,
          1.6412825651302605,
          1.6593186372745492,
          1.6773547094188377,
          1.6953907815631264,
          1.7134268537074149,
          1.7314629258517034,
          1.749498997995992,
          1.7675350701402806,
          1.7855711422845693,
          1.8036072144288577,
          1.8216432865731464,
          1.839679358717435,
          1.8577154308617234,
          1.8757515030060121,
          1.8937875751503006,
          1.9118236472945893,
          1.9298597194388778,
          1.9478957915831665,
          1.965931863727455,
          1.9839679358717435,
          2.002004008016032,
          2.020040080160321,
          2.038076152304609,
          2.056112224448898,
          2.0741482965931866,
          2.092184368737475,
          2.1102204408817635,
          2.1282565130260522,
          2.146292585170341,
          2.164328657314629,
          2.182364729458918,
          2.2004008016032066,
          2.218436873747495,
          2.2364729458917836,
          2.2545090180360723,
          2.272545090180361,
          2.2905811623246493,
          2.308617234468938,
          2.3266533066132267,
          2.344689378757515,
          2.3627254509018036,
          2.3807615230460923,
          2.398797595190381,
          2.4168336673346693,
          2.434869739478958,
          2.4529058116232467,
          2.470941883767535,
          2.4889779559118237,
          2.5070140280561124,
          2.525050100200401,
          2.5430861723446894,
          2.561122244488978,
          2.579158316633267,
          2.597194388777555,
          2.6152304609218437,
          2.6332665330661325,
          2.651302605210421,
          2.6693386773547094,
          2.687374749498998,
          2.705410821643287,
          2.723446893787575,
          2.741482965931864,
          2.7595190380761525,
          2.7775551102204408,
          2.7955911823647295,
          2.813627254509018,
          2.831663326653307,
          2.849699398797595,
          2.867735470941884,
          2.8857715430861726,
          2.903807615230461,
          2.9218436873747495,
          2.9398797595190382,
          2.957915831663327,
          2.975951903807615,
          2.993987975951904,
          3.0120240480961926,
          3.030060120240481,
          3.0480961923847696,
          3.0661322645290583,
          3.084168336673347,
          3.1022044088176353,
          3.120240480961924,
          3.1382765531062127,
          3.156312625250501,
          3.1743486973947896,
          3.1923847695390783,
          3.210420841683367,
          3.2284569138276553,
          3.246492985971944,
          3.2645290581162327,
          3.282565130260521,
          3.3006012024048097,
          3.3186372745490984,
          3.336673346693387,
          3.3547094188376754,
          3.372745490981964,
          3.390781563126253,
          3.408817635270541,
          3.4268537074148298,
          3.4448897795591185,
          3.4629258517034067,
          3.4809619238476954,
          3.498997995991984,
          3.517034068136273,
          3.535070140280561,
          3.55310621242485,
          3.5711422845691385,
          3.5891783567134268,
          3.6072144288577155,
          3.625250501002004,
          3.643286573146293,
          3.661322645290581,
          3.67935871743487,
          3.6973947895791586,
          3.715430861723447,
          3.7334669338677355,
          3.7515030060120242,
          3.769539078156313,
          3.787575150300601,
          3.80561122244489,
          3.8236472945891786,
          3.841683366733467,
          3.8597194388777556,
          3.8777555110220443,
          3.895791583166333,
          3.9138276553106213,
          3.93186372745491,
          3.9498997995991987,
          3.967935871743487,
          3.9859719438877756,
          4.004008016032064,
          4.022044088176353,
          4.040080160320642,
          4.05811623246493,
          4.076152304609218,
          4.094188376753507,
          4.112224448897796,
          4.130260521042084,
          4.148296593186373,
          4.166332665330661,
          4.18436873747495,
          4.202404809619239,
          4.220440881763527,
          4.238476953907816,
          4.2565130260521045,
          4.274549098196393,
          4.292585170340682,
          4.31062124248497,
          4.328657314629258,
          4.3466933867735476,
          4.364729458917836,
          4.382765531062124,
          4.400801603206413,
          4.4188376753507015,
          4.43687374749499,
          4.454909819639279,
          4.472945891783567,
          4.490981963927856,
          4.509018036072145,
          4.527054108216433,
          4.545090180360722,
          4.56312625250501,
          4.5811623246492985,
          4.599198396793588,
          4.617234468937876,
          4.635270541082164,
          4.653306613226453,
          4.671342685370742,
          4.68937875751503,
          4.707414829659319,
          4.725450901803607,
          4.7434869739478955,
          4.761523046092185,
          4.779559118236473,
          4.797595190380762,
          4.81563126252505,
          4.833667334669339,
          4.851703406813628,
          4.869739478957916,
          4.887775551102204,
          4.9058116232464934,
          4.923847695390782,
          4.94188376753507,
          4.959919839679359,
          4.977955911823647,
          4.995991983967936,
          5.014028056112225,
          5.032064128256513,
          5.050100200400802,
          5.0681362725450905,
          5.086172344689379,
          5.104208416833668,
          5.122244488977956,
          5.140280561122244,
          5.158316633266534,
          5.176352705410822,
          5.19438877755511,
          5.212424849699399,
          5.2304609218436875,
          5.248496993987976,
          5.266533066132265,
          5.284569138276553,
          5.302605210420842,
          5.320641282565131,
          5.338677354709419,
          5.356713426853708,
          5.374749498997996,
          5.3927855711422845,
          5.410821643286574,
          5.428857715430862,
          5.44689378757515,
          5.464929859719439,
          5.482965931863728,
          5.501002004008016,
          5.519038076152305,
          5.537074148296593,
          5.5551102204408815,
          5.573146292585171,
          5.591182364729459,
          5.609218436873748,
          5.627254509018036,
          5.645290581162325,
          5.663326653306614,
          5.681362725450902,
          5.69939879759519,
          5.7174348697394795,
          5.735470941883768,
          5.753507014028056,
          5.771543086172345,
          5.789579158316633,
          5.807615230460922,
          5.825651302605211,
          5.843687374749499,
          5.861723446893788,
          5.8797595190380765,
          5.897795591182365,
          5.915831663326654,
          5.933867735470942,
          5.95190380761523,
          5.96993987975952,
          5.987975951903808,
          6.006012024048096,
          6.024048096192385,
          6.0420841683366735,
          6.060120240480962,
          6.078156312625251,
          6.096192384769539,
          6.114228456913828,
          6.132264529058117,
          6.150300601202405,
          6.168336673346694,
          6.186372745490982,
          6.2044088176352705,
          6.22244488977956,
          6.240480961923848,
          6.258517034068136,
          6.276553106212425,
          6.294589178356714,
          6.312625250501002,
          6.330661322645291,
          6.348697394789579,
          6.3667334669338675,
          6.384769539078157,
          6.402805611222445,
          6.420841683366734,
          6.438877755511022,
          6.456913827655311,
          6.4749498997996,
          6.492985971943888,
          6.511022044088176,
          6.5290581162324655,
          6.547094188376754,
          6.565130260521042,
          6.583166332665331,
          6.601202404809619,
          6.619238476953908,
          6.637274549098197,
          6.655310621242485,
          6.673346693386774,
          6.6913827655310625,
          6.709418837675351,
          6.72745490981964,
          6.745490981963928,
          6.763527054108216,
          6.781563126252506,
          6.799599198396794,
          6.817635270541082,
          6.835671342685371,
          6.8537074148296595,
          6.871743486973948,
          6.889779559118237,
          6.907815631262525,
          6.925851703406813,
          6.943887775551103,
          6.961923847695391,
          6.97995991983968,
          6.997995991983968,
          7.0160320641282565,
          7.034068136272546,
          7.052104208416834,
          7.070140280561122,
          7.088176352705411,
          7.1062124248497,
          7.124248496993988,
          7.142284569138277,
          7.160320641282565,
          7.1783567134268536,
          7.196392785571143,
          7.214428857715431,
          7.23246492985972,
          7.250501002004008,
          7.268537074148297,
          7.286573146292586,
          7.304609218436874,
          7.322645290581162,
          7.3406813627254515,
          7.35871743486974,
          7.376753507014028,
          7.394789579158317,
          7.412825651302605,
          7.430861723446894,
          7.448897795591183,
          7.466933867735471,
          7.48496993987976,
          7.5030060120240485,
          7.521042084168337,
          7.539078156312626,
          7.557114228456914,
          7.575150300601202,
          7.593186372745492,
          7.61122244488978,
          7.629258517034068,
          7.647294589178357,
          7.6653306613226455,
          7.683366733466934,
          7.701402805611223,
          7.719438877755511,
          7.7374749498997994,
          7.755511022044089,
          7.773547094188377,
          7.791583166332666,
          7.809619238476954,
          7.8276553106212425,
          7.845691382765532,
          7.86372745490982,
          7.881763527054108,
          7.899799599198397,
          7.917835671342686,
          7.935871743486974,
          7.953907815631263,
          7.971943887775551,
          7.98997995991984,
          8.008016032064129,
          8.026052104208418,
          8.044088176352705,
          8.062124248496994,
          8.080160320641284,
          8.098196392785571,
          8.11623246492986,
          8.13426853707415,
          8.152304609218437,
          8.170340681362726,
          8.188376753507015,
          8.206412825651302,
          8.224448897795591,
          8.24248496993988,
          8.260521042084168,
          8.278557114228457,
          8.296593186372746,
          8.314629258517034,
          8.332665330661323,
          8.350701402805612,
          8.3687374749499,
          8.386773547094188,
          8.404809619238478,
          8.422845691382767,
          8.440881763527054,
          8.458917835671343,
          8.476953907815632,
          8.49498997995992,
          8.513026052104209,
          8.531062124248498,
          8.549098196392785,
          8.567134268537075,
          8.585170340681364,
          8.603206412825651,
          8.62124248496994,
          8.63927855711423,
          8.657314629258517,
          8.675350701402806,
          8.693386773547095,
          8.711422845691382,
          8.729458917835672,
          8.74749498997996,
          8.765531062124248,
          8.783567134268537,
          8.801603206412826,
          8.819639278557114,
          8.837675350701403,
          8.855711422845692,
          8.87374749498998,
          8.891783567134269,
          8.909819639278558,
          8.927855711422845,
          8.945891783567134,
          8.963927855711423,
          8.981963927855713,
          9
         ],
         "y": [
          0,
          -0.18036072144288767,
          -0.3607214428857699,
          -0.5410821643286596,
          -0.7214428857715568,
          -0.9018036072144137,
          -1.0821643286573126,
          -1.2625250501002074,
          -1.4428857715430763,
          -1.6232464929859736,
          -1.8036072144288662,
          -1.98396793587174,
          -2.164328657314626,
          -2.3446893787575185,
          -2.525050100200416,
          -2.7054108216432904,
          -2.8857715430861726,
          -3.0661322645290743,
          -3.246492985971941,
          -3.426853707414838,
          -3.6072144288577217,
          -3.787575150300604,
          -3.96793587174349,
          -4.148296593186386,
          -4.32865731462925,
          -4.509018036072141,
          -4.689378757515029,
          -4.86973947895791,
          -5.050100200400794,
          -5.230460921843698,
          -5.410821643286574,
          -5.591182364729455,
          -5.771543086172353,
          -5.951903807615224,
          -6.132264529058114,
          -6.312625250501002,
          -6.492985971943877,
          -6.673346693386775,
          -6.853707414829672,
          -7.034068136272532,
          -7.214428857715432,
          -7.394789579158325,
          -7.575150300601201,
          -7.755511022044086,
          -7.935871743486971,
          -8.116232464929846,
          -8.296593186372748,
          -8.476953907815641,
          -8.65731462925851,
          -8.837675350701396,
          -9.018036072144291,
          -9.198396793587177,
          -9.378757515030049,
          -9.559118236472942,
          -9.739478957915846,
          -9.919839679358708,
          -10.100200400801603,
          -10.280561122244492,
          -10.460921843687363,
          -10.641282565130261,
          -10.821643286573147,
          -11.00200400801602,
          -11.18236472945892,
          -11.362725450901802,
          -11.543086172344688,
          -11.723446893787571,
          -11.90380761523046,
          -12.08416833667334,
          -12.264529058116228,
          -12.44488977955912,
          -12.625250501002016,
          -12.805611222444892,
          -12.985971943887783,
          -13.166332665330675,
          -13.346693386773552,
          -13.527054108216435,
          -13.707414829659324,
          -13.887775551102207,
          -14.068136272545086,
          -14.248496993987978,
          -14.428857715430864,
          -14.609218436873748,
          -14.789579158316645,
          -14.969939879759513,
          -15.150300601202401,
          -15.330661322645296,
          -15.511022044088177,
          -15.691382765531062,
          -15.87174348697396,
          -16.052104208416825,
          -16.23246492985972,
          -16.412825651302615,
          -16.59318637274549,
          -16.77354709418837,
          -16.95390781563126,
          -17.134268537074142,
          -17.31462925851703,
          -17.494989979959925,
          -17.6753507014028,
          -17.85571142284569,
          -18.036072144288582,
          -18.216432865731452,
          -18.396793587174347,
          -18.577154308617242,
          -18.75751503006011,
          -18.937875751502997,
          -19.118236472945892,
          -19.298597194388776,
          -19.478957915831657,
          -19.65931863727455,
          -19.83967935871742,
          -20.020040080160314,
          -20.20040080160321,
          -20.380761523046086,
          -20.56112224448897,
          -20.741482965931866,
          -20.921843687374754,
          -21.102204408817634,
          -21.28256513026053,
          -21.462925851703414,
          -21.643286573146284,
          -21.823647294589186,
          -22.004008016032074,
          -22.184368737474944,
          -22.36472945891784,
          -22.54509018036073,
          -22.725450901803615,
          -22.905811623246493,
          -23.086172344689388,
          -23.266533066132272,
          -23.446893787575153,
          -23.627254509018044,
          -23.807615230460918,
          -23.987975951903806,
          -24.168336673346698,
          -24.348697394789586,
          -24.529058116232463,
          -24.709418837675358,
          -24.88977955911824,
          -25.070140280561123,
          -25.250501002004018,
          -25.430861723446892,
          -25.611222444889776,
          -25.79158316633267,
          -25.971943887775552,
          -26.15230460921844,
          -26.332665330661328,
          -26.513026052104216,
          -26.693386773547093,
          -26.873747494989974,
          -27.05410821643287,
          -27.234468937875743,
          -27.41482965931863,
          -27.59519038076153,
          -27.775551102204403,
          -27.9559118236473,
          -28.136272545090183,
          -28.316633266533067,
          -28.496993987975948,
          -28.677354709418836,
          -28.85771543086172,
          -29.038076152304612,
          -29.2184368737475,
          -29.398797595190388,
          -29.579158316633258,
          -29.759519038076153,
          -29.939879759519034,
          -30.120240480961918,
          -30.30060120240481,
          -30.48096192384769,
          -30.661322645290575,
          -30.841683366733474,
          -31.022044088176347,
          -31.20240480961924,
          -31.382765531062123,
          -31.563126252505015,
          -31.743486973947896,
          -31.923847695390787,
          -32.10420841683368,
          -32.284569138276545,
          -32.46492985971943,
          -32.645290581162335,
          -32.82565130260521,
          -33.0060120240481,
          -33.18637274549099,
          -33.36673346693387,
          -33.547094188376754,
          -33.72745490981965,
          -33.90781563126253,
          -34.0881763527054,
          -34.268537074148306,
          -34.44889779559118,
          -34.62925851703407,
          -34.809619238476955,
          -34.989979959919836,
          -35.170340681362724,
          -35.35070140280562,
          -35.5310621242485,
          -35.71142284569138,
          -35.89178356713427,
          -36.07214428857716,
          -36.25250501002004,
          -36.432865731462925,
          -36.613226452905806,
          -36.793587174348694,
          -36.97394789579159,
          -37.15430861723447,
          -37.33466933867735,
          -37.51503006012024,
          -37.69539078156314,
          -37.875751503006,
          -38.05611222444889,
          -38.236472945891784,
          -38.41683366733467,
          -38.59719438877756,
          -38.77755511022044,
          -38.95791583166333,
          -39.138276553106216,
          -39.318637274549104,
          -39.498997995991985,
          -39.67935871743487,
          -39.859719438877754,
          -40.04008016032065,
          -40.22044088176352,
          -40.40080160320642,
          -40.5811623246493,
          -40.76152304609218,
          -40.941883767535074,
          -41.122244488977955,
          -41.30260521042085,
          -41.48296593186373,
          -41.663326653306626,
          -41.8436873747495,
          -42.02404809619239,
          -42.204408817635276,
          -42.38476953907816,
          -42.565130260521045,
          -42.74549098196392,
          -42.92585170340682,
          -43.106212424849694,
          -43.28657314629259,
          -43.46693386773547,
          -43.64729458917835,
          -43.827655310621246,
          -44.00801603206413,
          -44.18837675350702,
          -44.36873747494991,
          -44.5490981963928,
          -44.72945891783568,
          -44.90981963927855,
          -45.09018036072144,
          -45.27054108216433,
          -45.45090180360722,
          -45.63126252505011,
          -45.81162324649298,
          -45.99198396793588,
          -46.17234468937876,
          -46.352705410821635,
          -46.53306613226454,
          -46.71342685370742,
          -46.8937875751503,
          -47.07414829659319,
          -47.254509018036075,
          -47.434869739478955,
          -47.61523046092185,
          -47.795591182364724,
          -47.97595190380762,
          -48.1563126252505,
          -48.33667334669338,
          -48.51703406813628,
          -48.69739478957916,
          -48.87775551102204,
          -49.05811623246494,
          -49.23847695390782,
          -49.4188376753507,
          -49.5991983967936,
          -49.77955911823647,
          -49.95991983967935,
          -50.140280561122246,
          -50.320641282565134,
          -50.50100200400802,
          -50.6813627254509,
          -50.8617234468938,
          -51.04208416833668,
          -51.22244488977957,
          -51.40280561122243,
          -51.583166332665336,
          -51.76352705410822,
          -51.943887775551104,
          -52.12424849699399,
          -52.30460921843687,
          -52.484969939879754,
          -52.665330661322656,
          -52.84569138276553,
          -53.02605210420843,
          -53.2064128256513,
          -53.38677354709418,
          -53.56713426853708,
          -53.74749498997997,
          -53.92785571142284,
          -54.10821643286573,
          -54.28857715430861,
          -54.4689378757515,
          -54.649298597194395,
          -54.82965931863728,
          -55.01002004008016,
          -55.190380761523045,
          -55.370741482965926,
          -55.55110220440882,
          -55.7314629258517,
          -55.9118236472946,
          -56.092184368737485,
          -56.272545090180365,
          -56.45290581162325,
          -56.63326653306614,
          -56.813627254509015,
          -56.9939879759519,
          -57.1743486973948,
          -57.35470941883767,
          -57.53507014028055,
          -57.71543086172345,
          -57.895791583166336,
          -58.07615230460922,
          -58.256513026052104,
          -58.43687374749499,
          -58.61723446893788,
          -58.79759519038076,
          -58.97795591182365,
          -59.15831663326654,
          -59.33867735470942,
          -59.5190380761523,
          -59.69939879759519,
          -59.87975951903808,
          -60.06012024048097,
          -60.24048096192386,
          -60.42084168336673,
          -60.60120240480961,
          -60.781563126252514,
          -60.961923847695395,
          -61.14228456913828,
          -61.32264529058117,
          -61.503006012024045,
          -61.68336673346694,
          -61.86372745490983,
          -62.04408817635271,
          -62.2244488977956,
          -62.40480961923848,
          -62.585170340681366,
          -62.765531062124246,
          -62.94589178356714,
          -63.12625250501002,
          -63.30661322645291,
          -63.486973947895784,
          -63.66733466933867,
          -63.84769539078157,
          -64.02805611222445,
          -64.20841683366734,
          -64.38877755511022,
          -64.5691382765531,
          -64.749498997996,
          -64.92985971943888,
          -65.11022044088176,
          -65.29058116232466,
          -65.47094188376754,
          -65.65130260521042,
          -65.8316633266533,
          -66.0120240480962,
          -66.19238476953907,
          -66.37274549098197,
          -66.55310621242485,
          -66.73346693386775,
          -66.91382765531063,
          -67.09418837675351,
          -67.2745490981964,
          -67.45490981963928,
          -67.63527054108216,
          -67.81563126252506,
          -67.99599198396794,
          -68.17635270541082,
          -68.35671342685372,
          -68.5370741482966,
          -68.71743486973948,
          -68.89779559118236,
          -69.07815631262525,
          -69.25851703406812,
          -69.43887775551103,
          -69.61923847695391,
          -69.79959919839679,
          -69.97995991983969,
          -70.16032064128257,
          -70.34068136272546,
          -70.52104208416833,
          -70.70140280561121,
          -70.88176352705412,
          -71.062124248497,
          -71.24248496993987,
          -71.42284569138276,
          -71.60320641282566,
          -71.78356713426854,
          -71.96392785571143,
          -72.14428857715431,
          -72.32464929859721,
          -72.50501002004009,
          -72.68537074148297,
          -72.86573146292587,
          -73.04609218436875,
          -73.22645290581161,
          -73.40681362725452,
          -73.5871743486974,
          -73.76753507014028,
          -73.94789579158318,
          -74.12825651302606,
          -74.30861723446894,
          -74.48897795591182,
          -74.66933867735472,
          -74.8496993987976,
          -75.03006012024049,
          -75.21042084168337,
          -75.39078156312627,
          -75.57114228456913,
          -75.75150300601203,
          -75.93186372745491,
          -76.1122244488978,
          -76.29258517034069,
          -76.47294589178357,
          -76.65330661322645,
          -76.83366733466934,
          -77.01402805611222,
          -77.1943887775551,
          -77.37474949899799,
          -77.55511022044088,
          -77.73547094188378,
          -77.91583166332666,
          -78.09619238476954,
          -78.27655310621243,
          -78.45691382765531,
          -78.6372745490982,
          -78.81763527054109,
          -78.99799599198397,
          -79.17835671342685,
          -79.35871743486975,
          -79.53907815631264,
          -79.71943887775551,
          -79.8997995991984,
          -80.0801603206413,
          -80.26052104208418,
          -80.44088176352706,
          -80.62124248496995,
          -80.80160320641284,
          -80.9819639278557,
          -81.16232464929861,
          -81.34268537074149,
          -81.52304609218436,
          -81.70340681362725,
          -81.88376753507015,
          -82.06412825651303,
          -82.24448897795591,
          -82.4248496993988,
          -82.60521042084167,
          -82.78557114228457,
          -82.96593186372746,
          -83.14629258517034,
          -83.32665330661322,
          -83.50701402805612,
          -83.687374749499,
          -83.86773547094188,
          -84.04809619238478,
          -84.22845691382766,
          -84.40881763527054,
          -84.58917835671343,
          -84.76953907815633,
          -84.9498997995992,
          -85.13026052104208,
          -85.31062124248498,
          -85.49098196392787,
          -85.67134268537075,
          -85.85170340681364,
          -86.03206412825651,
          -86.2124248496994,
          -86.3927855711423,
          -86.57314629258516,
          -86.75350701402806,
          -86.93386773547094,
          -87.11422845691382,
          -87.29458917835673,
          -87.47494989979961,
          -87.65531062124248,
          -87.83567134268537,
          -88.01603206412825,
          -88.19639278557113,
          -88.37675350701403,
          -88.55711422845692,
          -88.73747494989979,
          -88.91783567134269,
          -89.09819639278558,
          -89.27855711422845,
          -89.45891783567134,
          -89.63927855711422,
          -89.81963927855713,
          -90
         ]
        }
       ],
       "layout": {
        "template": {
         "data": {
          "bar": [
           {
            "error_x": {
             "color": "#2a3f5f"
            },
            "error_y": {
             "color": "#2a3f5f"
            },
            "marker": {
             "line": {
              "color": "#E5ECF6",
              "width": 0.5
             }
            },
            "type": "bar"
           }
          ],
          "barpolar": [
           {
            "marker": {
             "line": {
              "color": "#E5ECF6",
              "width": 0.5
             }
            },
            "type": "barpolar"
           }
          ],
          "carpet": [
           {
            "aaxis": {
             "endlinecolor": "#2a3f5f",
             "gridcolor": "white",
             "linecolor": "white",
             "minorgridcolor": "white",
             "startlinecolor": "#2a3f5f"
            },
            "baxis": {
             "endlinecolor": "#2a3f5f",
             "gridcolor": "white",
             "linecolor": "white",
             "minorgridcolor": "white",
             "startlinecolor": "#2a3f5f"
            },
            "type": "carpet"
           }
          ],
          "choropleth": [
           {
            "colorbar": {
             "outlinewidth": 0,
             "ticks": ""
            },
            "type": "choropleth"
           }
          ],
          "contour": [
           {
            "colorbar": {
             "outlinewidth": 0,
             "ticks": ""
            },
            "colorscale": [
             [
              0,
              "#0d0887"
             ],
             [
              0.1111111111111111,
              "#46039f"
             ],
             [
              0.2222222222222222,
              "#7201a8"
             ],
             [
              0.3333333333333333,
              "#9c179e"
             ],
             [
              0.4444444444444444,
              "#bd3786"
             ],
             [
              0.5555555555555556,
              "#d8576b"
             ],
             [
              0.6666666666666666,
              "#ed7953"
             ],
             [
              0.7777777777777778,
              "#fb9f3a"
             ],
             [
              0.8888888888888888,
              "#fdca26"
             ],
             [
              1,
              "#f0f921"
             ]
            ],
            "type": "contour"
           }
          ],
          "contourcarpet": [
           {
            "colorbar": {
             "outlinewidth": 0,
             "ticks": ""
            },
            "type": "contourcarpet"
           }
          ],
          "heatmap": [
           {
            "colorbar": {
             "outlinewidth": 0,
             "ticks": ""
            },
            "colorscale": [
             [
              0,
              "#0d0887"
             ],
             [
              0.1111111111111111,
              "#46039f"
             ],
             [
              0.2222222222222222,
              "#7201a8"
             ],
             [
              0.3333333333333333,
              "#9c179e"
             ],
             [
              0.4444444444444444,
              "#bd3786"
             ],
             [
              0.5555555555555556,
              "#d8576b"
             ],
             [
              0.6666666666666666,
              "#ed7953"
             ],
             [
              0.7777777777777778,
              "#fb9f3a"
             ],
             [
              0.8888888888888888,
              "#fdca26"
             ],
             [
              1,
              "#f0f921"
             ]
            ],
            "type": "heatmap"
           }
          ],
          "heatmapgl": [
           {
            "colorbar": {
             "outlinewidth": 0,
             "ticks": ""
            },
            "colorscale": [
             [
              0,
              "#0d0887"
             ],
             [
              0.1111111111111111,
              "#46039f"
             ],
             [
              0.2222222222222222,
              "#7201a8"
             ],
             [
              0.3333333333333333,
              "#9c179e"
             ],
             [
              0.4444444444444444,
              "#bd3786"
             ],
             [
              0.5555555555555556,
              "#d8576b"
             ],
             [
              0.6666666666666666,
              "#ed7953"
             ],
             [
              0.7777777777777778,
              "#fb9f3a"
             ],
             [
              0.8888888888888888,
              "#fdca26"
             ],
             [
              1,
              "#f0f921"
             ]
            ],
            "type": "heatmapgl"
           }
          ],
          "histogram": [
           {
            "marker": {
             "colorbar": {
              "outlinewidth": 0,
              "ticks": ""
             }
            },
            "type": "histogram"
           }
          ],
          "histogram2d": [
           {
            "colorbar": {
             "outlinewidth": 0,
             "ticks": ""
            },
            "colorscale": [
             [
              0,
              "#0d0887"
             ],
             [
              0.1111111111111111,
              "#46039f"
             ],
             [
              0.2222222222222222,
              "#7201a8"
             ],
             [
              0.3333333333333333,
              "#9c179e"
             ],
             [
              0.4444444444444444,
              "#bd3786"
             ],
             [
              0.5555555555555556,
              "#d8576b"
             ],
             [
              0.6666666666666666,
              "#ed7953"
             ],
             [
              0.7777777777777778,
              "#fb9f3a"
             ],
             [
              0.8888888888888888,
              "#fdca26"
             ],
             [
              1,
              "#f0f921"
             ]
            ],
            "type": "histogram2d"
           }
          ],
          "histogram2dcontour": [
           {
            "colorbar": {
             "outlinewidth": 0,
             "ticks": ""
            },
            "colorscale": [
             [
              0,
              "#0d0887"
             ],
             [
              0.1111111111111111,
              "#46039f"
             ],
             [
              0.2222222222222222,
              "#7201a8"
             ],
             [
              0.3333333333333333,
              "#9c179e"
             ],
             [
              0.4444444444444444,
              "#bd3786"
             ],
             [
              0.5555555555555556,
              "#d8576b"
             ],
             [
              0.6666666666666666,
              "#ed7953"
             ],
             [
              0.7777777777777778,
              "#fb9f3a"
             ],
             [
              0.8888888888888888,
              "#fdca26"
             ],
             [
              1,
              "#f0f921"
             ]
            ],
            "type": "histogram2dcontour"
           }
          ],
          "mesh3d": [
           {
            "colorbar": {
             "outlinewidth": 0,
             "ticks": ""
            },
            "type": "mesh3d"
           }
          ],
          "parcoords": [
           {
            "line": {
             "colorbar": {
              "outlinewidth": 0,
              "ticks": ""
             }
            },
            "type": "parcoords"
           }
          ],
          "pie": [
           {
            "automargin": true,
            "type": "pie"
           }
          ],
          "scatter": [
           {
            "marker": {
             "colorbar": {
              "outlinewidth": 0,
              "ticks": ""
             }
            },
            "type": "scatter"
           }
          ],
          "scatter3d": [
           {
            "line": {
             "colorbar": {
              "outlinewidth": 0,
              "ticks": ""
             }
            },
            "marker": {
             "colorbar": {
              "outlinewidth": 0,
              "ticks": ""
             }
            },
            "type": "scatter3d"
           }
          ],
          "scattercarpet": [
           {
            "marker": {
             "colorbar": {
              "outlinewidth": 0,
              "ticks": ""
             }
            },
            "type": "scattercarpet"
           }
          ],
          "scattergeo": [
           {
            "marker": {
             "colorbar": {
              "outlinewidth": 0,
              "ticks": ""
             }
            },
            "type": "scattergeo"
           }
          ],
          "scattergl": [
           {
            "marker": {
             "colorbar": {
              "outlinewidth": 0,
              "ticks": ""
             }
            },
            "type": "scattergl"
           }
          ],
          "scattermapbox": [
           {
            "marker": {
             "colorbar": {
              "outlinewidth": 0,
              "ticks": ""
             }
            },
            "type": "scattermapbox"
           }
          ],
          "scatterpolar": [
           {
            "marker": {
             "colorbar": {
              "outlinewidth": 0,
              "ticks": ""
             }
            },
            "type": "scatterpolar"
           }
          ],
          "scatterpolargl": [
           {
            "marker": {
             "colorbar": {
              "outlinewidth": 0,
              "ticks": ""
             }
            },
            "type": "scatterpolargl"
           }
          ],
          "scatterternary": [
           {
            "marker": {
             "colorbar": {
              "outlinewidth": 0,
              "ticks": ""
             }
            },
            "type": "scatterternary"
           }
          ],
          "surface": [
           {
            "colorbar": {
             "outlinewidth": 0,
             "ticks": ""
            },
            "colorscale": [
             [
              0,
              "#0d0887"
             ],
             [
              0.1111111111111111,
              "#46039f"
             ],
             [
              0.2222222222222222,
              "#7201a8"
             ],
             [
              0.3333333333333333,
              "#9c179e"
             ],
             [
              0.4444444444444444,
              "#bd3786"
             ],
             [
              0.5555555555555556,
              "#d8576b"
             ],
             [
              0.6666666666666666,
              "#ed7953"
             ],
             [
              0.7777777777777778,
              "#fb9f3a"
             ],
             [
              0.8888888888888888,
              "#fdca26"
             ],
             [
              1,
              "#f0f921"
             ]
            ],
            "type": "surface"
           }
          ],
          "table": [
           {
            "cells": {
             "fill": {
              "color": "#EBF0F8"
             },
             "line": {
              "color": "white"
             }
            },
            "header": {
             "fill": {
              "color": "#C8D4E3"
             },
             "line": {
              "color": "white"
             }
            },
            "type": "table"
           }
          ]
         },
         "layout": {
          "annotationdefaults": {
           "arrowcolor": "#2a3f5f",
           "arrowhead": 0,
           "arrowwidth": 1
          },
          "coloraxis": {
           "colorbar": {
            "outlinewidth": 0,
            "ticks": ""
           }
          },
          "colorscale": {
           "diverging": [
            [
             0,
             "#8e0152"
            ],
            [
             0.1,
             "#c51b7d"
            ],
            [
             0.2,
             "#de77ae"
            ],
            [
             0.3,
             "#f1b6da"
            ],
            [
             0.4,
             "#fde0ef"
            ],
            [
             0.5,
             "#f7f7f7"
            ],
            [
             0.6,
             "#e6f5d0"
            ],
            [
             0.7,
             "#b8e186"
            ],
            [
             0.8,
             "#7fbc41"
            ],
            [
             0.9,
             "#4d9221"
            ],
            [
             1,
             "#276419"
            ]
           ],
           "sequential": [
            [
             0,
             "#0d0887"
            ],
            [
             0.1111111111111111,
             "#46039f"
            ],
            [
             0.2222222222222222,
             "#7201a8"
            ],
            [
             0.3333333333333333,
             "#9c179e"
            ],
            [
             0.4444444444444444,
             "#bd3786"
            ],
            [
             0.5555555555555556,
             "#d8576b"
            ],
            [
             0.6666666666666666,
             "#ed7953"
            ],
            [
             0.7777777777777778,
             "#fb9f3a"
            ],
            [
             0.8888888888888888,
             "#fdca26"
            ],
            [
             1,
             "#f0f921"
            ]
           ],
           "sequentialminus": [
            [
             0,
             "#0d0887"
            ],
            [
             0.1111111111111111,
             "#46039f"
            ],
            [
             0.2222222222222222,
             "#7201a8"
            ],
            [
             0.3333333333333333,
             "#9c179e"
            ],
            [
             0.4444444444444444,
             "#bd3786"
            ],
            [
             0.5555555555555556,
             "#d8576b"
            ],
            [
             0.6666666666666666,
             "#ed7953"
            ],
            [
             0.7777777777777778,
             "#fb9f3a"
            ],
            [
             0.8888888888888888,
             "#fdca26"
            ],
            [
             1,
             "#f0f921"
            ]
           ]
          },
          "colorway": [
           "#636efa",
           "#EF553B",
           "#00cc96",
           "#ab63fa",
           "#FFA15A",
           "#19d3f3",
           "#FF6692",
           "#B6E880",
           "#FF97FF",
           "#FECB52"
          ],
          "font": {
           "color": "#2a3f5f"
          },
          "geo": {
           "bgcolor": "white",
           "lakecolor": "white",
           "landcolor": "#E5ECF6",
           "showlakes": true,
           "showland": true,
           "subunitcolor": "white"
          },
          "hoverlabel": {
           "align": "left"
          },
          "hovermode": "closest",
          "mapbox": {
           "style": "light"
          },
          "paper_bgcolor": "white",
          "plot_bgcolor": "#E5ECF6",
          "polar": {
           "angularaxis": {
            "gridcolor": "white",
            "linecolor": "white",
            "ticks": ""
           },
           "bgcolor": "#E5ECF6",
           "radialaxis": {
            "gridcolor": "white",
            "linecolor": "white",
            "ticks": ""
           }
          },
          "scene": {
           "xaxis": {
            "backgroundcolor": "#E5ECF6",
            "gridcolor": "white",
            "gridwidth": 2,
            "linecolor": "white",
            "showbackground": true,
            "ticks": "",
            "zerolinecolor": "white"
           },
           "yaxis": {
            "backgroundcolor": "#E5ECF6",
            "gridcolor": "white",
            "gridwidth": 2,
            "linecolor": "white",
            "showbackground": true,
            "ticks": "",
            "zerolinecolor": "white"
           },
           "zaxis": {
            "backgroundcolor": "#E5ECF6",
            "gridcolor": "white",
            "gridwidth": 2,
            "linecolor": "white",
            "showbackground": true,
            "ticks": "",
            "zerolinecolor": "white"
           }
          },
          "shapedefaults": {
           "line": {
            "color": "#2a3f5f"
           }
          },
          "ternary": {
           "aaxis": {
            "gridcolor": "white",
            "linecolor": "white",
            "ticks": ""
           },
           "baxis": {
            "gridcolor": "white",
            "linecolor": "white",
            "ticks": ""
           },
           "bgcolor": "#E5ECF6",
           "caxis": {
            "gridcolor": "white",
            "linecolor": "white",
            "ticks": ""
           }
          },
          "title": {
           "x": 0.05
          },
          "xaxis": {
           "automargin": true,
           "gridcolor": "white",
           "linecolor": "white",
           "ticks": "",
           "title": {
            "standoff": 15
           },
           "zerolinecolor": "white",
           "zerolinewidth": 2
          },
          "yaxis": {
           "automargin": true,
           "gridcolor": "white",
           "linecolor": "white",
           "ticks": "",
           "title": {
            "standoff": 15
           },
           "zerolinecolor": "white",
           "zerolinewidth": 2
          }
         }
        }
       }
      },
      "text/html": [
       "<div>\n",
       "        \n",
       "        \n",
       "            <div id=\"d20cbfa6-aa0b-477e-abe4-0f94ab049b53\" class=\"plotly-graph-div\" style=\"height:525px; width:100%;\"></div>\n",
       "            <script type=\"text/javascript\">\n",
       "                require([\"plotly\"], function(Plotly) {\n",
       "                    window.PLOTLYENV=window.PLOTLYENV || {};\n",
       "                    \n",
       "                if (document.getElementById(\"d20cbfa6-aa0b-477e-abe4-0f94ab049b53\")) {\n",
       "                    Plotly.newPlot(\n",
       "                        'd20cbfa6-aa0b-477e-abe4-0f94ab049b53',\n",
       "                        [{\"name\": \"sympy\", \"type\": \"scatter\", \"x\": [0.0, 0.018036072144288578, 0.036072144288577156, 0.05410821643286573, 0.07214428857715431, 0.09018036072144289, 0.10821643286573146, 0.12625250501002006, 0.14428857715430862, 0.1623246492985972, 0.18036072144288579, 0.19839679358717435, 0.21643286573146292, 0.23446893787575152, 0.2525050100200401, 0.27054108216432865, 0.28857715430861725, 0.30661322645290584, 0.3246492985971944, 0.342685370741483, 0.36072144288577157, 0.3787575150300601, 0.3967935871743487, 0.4148296593186373, 0.43286573146292584, 0.45090180360721444, 0.46893787575150303, 0.4869739478957916, 0.5050100200400802, 0.5230460921843687, 0.5410821643286573, 0.5591182364729459, 0.5771543086172345, 0.5951903807615231, 0.6132264529058117, 0.6312625250501003, 0.6492985971943888, 0.6673346693386774, 0.685370741482966, 0.7034068136272545, 0.7214428857715431, 0.7394789579158317, 0.7575150300601202, 0.7755511022044088, 0.7935871743486974, 0.811623246492986, 0.8296593186372746, 0.8476953907815632, 0.8657314629258517, 0.8837675350701403, 0.9018036072144289, 0.9198396793587175, 0.9378757515030061, 0.9559118236472947, 0.9739478957915833, 0.9919839679358717, 1.0100200400801604, 1.028056112224449, 1.0460921843687374, 1.0641282565130261, 1.0821643286573146, 1.1002004008016033, 1.1182364729458918, 1.1362725450901805, 1.154308617234469, 1.1723446893787575, 1.1903807615230462, 1.2084168336673347, 1.2264529058116234, 1.2444889779559118, 1.2625250501002006, 1.280561122244489, 1.2985971943887775, 1.3166332665330662, 1.3346693386773547, 1.3527054108216434, 1.370741482965932, 1.3887775551102204, 1.406813627254509, 1.4248496993987976, 1.4428857715430863, 1.4609218436873748, 1.4789579158316635, 1.496993987975952, 1.5150300601202404, 1.5330661322645291, 1.5511022044088176, 1.5691382765531063, 1.5871743486973948, 1.6052104208416835, 1.623246492985972, 1.6412825651302605, 1.6593186372745492, 1.6773547094188377, 1.6953907815631264, 1.7134268537074149, 1.7314629258517034, 1.749498997995992, 1.7675350701402806, 1.7855711422845693, 1.8036072144288577, 1.8216432865731464, 1.839679358717435, 1.8577154308617234, 1.8757515030060121, 1.8937875751503006, 1.9118236472945893, 1.9298597194388778, 1.9478957915831665, 1.965931863727455, 1.9839679358717435, 2.002004008016032, 2.020040080160321, 2.038076152304609, 2.056112224448898, 2.0741482965931866, 2.092184368737475, 2.1102204408817635, 2.1282565130260522, 2.146292585170341, 2.164328657314629, 2.182364729458918, 2.2004008016032066, 2.218436873747495, 2.2364729458917836, 2.2545090180360723, 2.272545090180361, 2.2905811623246493, 2.308617234468938, 2.3266533066132267, 2.344689378757515, 2.3627254509018036, 2.3807615230460923, 2.398797595190381, 2.4168336673346693, 2.434869739478958, 2.4529058116232467, 2.470941883767535, 2.4889779559118237, 2.5070140280561124, 2.525050100200401, 2.5430861723446894, 2.561122244488978, 2.579158316633267, 2.597194388777555, 2.6152304609218437, 2.6332665330661325, 2.651302605210421, 2.6693386773547094, 2.687374749498998, 2.705410821643287, 2.723446893787575, 2.741482965931864, 2.7595190380761525, 2.7775551102204408, 2.7955911823647295, 2.813627254509018, 2.831663326653307, 2.849699398797595, 2.867735470941884, 2.8857715430861726, 2.903807615230461, 2.9218436873747495, 2.9398797595190382, 2.957915831663327, 2.975951903807615, 2.993987975951904, 3.0120240480961926, 3.030060120240481, 3.0480961923847696, 3.0661322645290583, 3.084168336673347, 3.1022044088176353, 3.120240480961924, 3.1382765531062127, 3.156312625250501, 3.1743486973947896, 3.1923847695390783, 3.210420841683367, 3.2284569138276553, 3.246492985971944, 3.2645290581162327, 3.282565130260521, 3.3006012024048097, 3.3186372745490984, 3.336673346693387, 3.3547094188376754, 3.372745490981964, 3.390781563126253, 3.408817635270541, 3.4268537074148298, 3.4448897795591185, 3.4629258517034067, 3.4809619238476954, 3.498997995991984, 3.517034068136273, 3.535070140280561, 3.55310621242485, 3.5711422845691385, 3.5891783567134268, 3.6072144288577155, 3.625250501002004, 3.643286573146293, 3.661322645290581, 3.67935871743487, 3.6973947895791586, 3.715430861723447, 3.7334669338677355, 3.7515030060120242, 3.769539078156313, 3.787575150300601, 3.80561122244489, 3.8236472945891786, 3.841683366733467, 3.8597194388777556, 3.8777555110220443, 3.895791583166333, 3.9138276553106213, 3.93186372745491, 3.9498997995991987, 3.967935871743487, 3.9859719438877756, 4.004008016032064, 4.022044088176353, 4.040080160320642, 4.05811623246493, 4.076152304609218, 4.094188376753507, 4.112224448897796, 4.130260521042084, 4.148296593186373, 4.166332665330661, 4.18436873747495, 4.202404809619239, 4.220440881763527, 4.238476953907816, 4.2565130260521045, 4.274549098196393, 4.292585170340682, 4.31062124248497, 4.328657314629258, 4.3466933867735476, 4.364729458917836, 4.382765531062124, 4.400801603206413, 4.4188376753507015, 4.43687374749499, 4.454909819639279, 4.472945891783567, 4.490981963927856, 4.509018036072145, 4.527054108216433, 4.545090180360722, 4.56312625250501, 4.5811623246492985, 4.599198396793588, 4.617234468937876, 4.635270541082164, 4.653306613226453, 4.671342685370742, 4.68937875751503, 4.707414829659319, 4.725450901803607, 4.7434869739478955, 4.761523046092185, 4.779559118236473, 4.797595190380762, 4.81563126252505, 4.833667334669339, 4.851703406813628, 4.869739478957916, 4.887775551102204, 4.9058116232464934, 4.923847695390782, 4.94188376753507, 4.959919839679359, 4.977955911823647, 4.995991983967936, 5.014028056112225, 5.032064128256513, 5.050100200400802, 5.0681362725450905, 5.086172344689379, 5.104208416833668, 5.122244488977956, 5.140280561122244, 5.158316633266534, 5.176352705410822, 5.19438877755511, 5.212424849699399, 5.2304609218436875, 5.248496993987976, 5.266533066132265, 5.284569138276553, 5.302605210420842, 5.320641282565131, 5.338677354709419, 5.356713426853708, 5.374749498997996, 5.3927855711422845, 5.410821643286574, 5.428857715430862, 5.44689378757515, 5.464929859719439, 5.482965931863728, 5.501002004008016, 5.519038076152305, 5.537074148296593, 5.5551102204408815, 5.573146292585171, 5.591182364729459, 5.609218436873748, 5.627254509018036, 5.645290581162325, 5.663326653306614, 5.681362725450902, 5.69939879759519, 5.7174348697394795, 5.735470941883768, 5.753507014028056, 5.771543086172345, 5.789579158316633, 5.807615230460922, 5.825651302605211, 5.843687374749499, 5.861723446893788, 5.8797595190380765, 5.897795591182365, 5.915831663326654, 5.933867735470942, 5.95190380761523, 5.96993987975952, 5.987975951903808, 6.006012024048096, 6.024048096192385, 6.0420841683366735, 6.060120240480962, 6.078156312625251, 6.096192384769539, 6.114228456913828, 6.132264529058117, 6.150300601202405, 6.168336673346694, 6.186372745490982, 6.2044088176352705, 6.22244488977956, 6.240480961923848, 6.258517034068136, 6.276553106212425, 6.294589178356714, 6.312625250501002, 6.330661322645291, 6.348697394789579, 6.3667334669338675, 6.384769539078157, 6.402805611222445, 6.420841683366734, 6.438877755511022, 6.456913827655311, 6.4749498997996, 6.492985971943888, 6.511022044088176, 6.5290581162324655, 6.547094188376754, 6.565130260521042, 6.583166332665331, 6.601202404809619, 6.619238476953908, 6.637274549098197, 6.655310621242485, 6.673346693386774, 6.6913827655310625, 6.709418837675351, 6.72745490981964, 6.745490981963928, 6.763527054108216, 6.781563126252506, 6.799599198396794, 6.817635270541082, 6.835671342685371, 6.8537074148296595, 6.871743486973948, 6.889779559118237, 6.907815631262525, 6.925851703406813, 6.943887775551103, 6.961923847695391, 6.97995991983968, 6.997995991983968, 7.0160320641282565, 7.034068136272546, 7.052104208416834, 7.070140280561122, 7.088176352705411, 7.1062124248497, 7.124248496993988, 7.142284569138277, 7.160320641282565, 7.1783567134268536, 7.196392785571143, 7.214428857715431, 7.23246492985972, 7.250501002004008, 7.268537074148297, 7.286573146292586, 7.304609218436874, 7.322645290581162, 7.3406813627254515, 7.35871743486974, 7.376753507014028, 7.394789579158317, 7.412825651302605, 7.430861723446894, 7.448897795591183, 7.466933867735471, 7.48496993987976, 7.5030060120240485, 7.521042084168337, 7.539078156312626, 7.557114228456914, 7.575150300601202, 7.593186372745492, 7.61122244488978, 7.629258517034068, 7.647294589178357, 7.6653306613226455, 7.683366733466934, 7.701402805611223, 7.719438877755511, 7.7374749498997994, 7.755511022044089, 7.773547094188377, 7.791583166332666, 7.809619238476954, 7.8276553106212425, 7.845691382765532, 7.86372745490982, 7.881763527054108, 7.899799599198397, 7.917835671342686, 7.935871743486974, 7.953907815631263, 7.971943887775551, 7.98997995991984, 8.008016032064129, 8.026052104208418, 8.044088176352705, 8.062124248496994, 8.080160320641284, 8.098196392785571, 8.11623246492986, 8.13426853707415, 8.152304609218437, 8.170340681362726, 8.188376753507015, 8.206412825651302, 8.224448897795591, 8.24248496993988, 8.260521042084168, 8.278557114228457, 8.296593186372746, 8.314629258517034, 8.332665330661323, 8.350701402805612, 8.3687374749499, 8.386773547094188, 8.404809619238478, 8.422845691382767, 8.440881763527054, 8.458917835671343, 8.476953907815632, 8.49498997995992, 8.513026052104209, 8.531062124248498, 8.549098196392785, 8.567134268537075, 8.585170340681364, 8.603206412825651, 8.62124248496994, 8.63927855711423, 8.657314629258517, 8.675350701402806, 8.693386773547095, 8.711422845691382, 8.729458917835672, 8.74749498997996, 8.765531062124248, 8.783567134268537, 8.801603206412826, 8.819639278557114, 8.837675350701403, 8.855711422845692, 8.87374749498998, 8.891783567134269, 8.909819639278558, 8.927855711422845, 8.945891783567134, 8.963927855711423, 8.981963927855713, 9.0], \"y\": [0.0, -0.1787788774555869, -0.3545028784308249, -0.5273249600934897, -0.6973857784679602, -0.8648149755478627, -1.0297324107255605, -1.1922491185003457, -1.3524681994817895, -1.5104855985793517, -1.6663907764131338, -1.8202673164040652, -1.9721934482193773, -2.1222424891270664, -2.270483305031611, -2.416980659270036, -2.5617955498695193, -2.7049855085883863, -2.846604871053121, -2.9867050190436717, -3.125334602258714, -3.2625397387041883, -3.3983641805542053, -3.5328495068868357, -3.666035247710659, -3.7979590374073804, -3.9286567342983245, -4.058162532416367, -4.186509077388456, -4.3137275491308165, -4.4398477673580725, -4.564898258910113, -4.68890634675788, -4.811898211108672, -4.933898960717801, -5.054932690824746, -5.175022541591731, -5.294190750253274, -5.4124586882223475, -5.529846921075857, -5.646375256814544, -5.762062762825489, -5.876927816794995, -5.99098814799773, -6.104260852047219, -6.216762430826223, -6.328508828109774, -6.439515441853136, -6.549797155924428, -6.659368370077415, -6.768243011242335, -6.876434558822733, -6.983956070011041, -7.090820189994895, -7.19703917240588, -7.302624900685091, -7.407588897376094, -7.5119423415191235, -7.615696087731037, -7.718860670653978, -7.821446318366802, -7.9234629651803505, -8.02492027923513, -8.125827654971657, -8.22619422458199, -8.326028868948807, -8.425340237801962, -8.52413674997589, -8.622426598727875, -8.720217761321774, -8.81751801318365, -8.914334933602134, -9.010675906550341, -9.106548129598302, -9.201958622992358, -9.296914238611539, -9.39142165859703, -9.485487403140038, -9.579117836752816, -9.672319177391879, -9.76509749532941, -9.857458719172467, -9.949408640688628, -10.040952922701683, -10.132097099221165, -10.222846579620349, -10.313206652783203, -10.403182494732409, -10.492779168010095, -10.582001624103905, -10.670854707344173, -10.759343157522036, -10.847471614060503, -10.935244629155195, -11.022666656484542, -11.10974205641376, -11.196475099629469, -11.28286996925823, -11.368930765530852, -11.45466151316254, -11.540066153408196, -11.625148549612383, -11.709912489350735, -11.794361686145965, -11.878499784776443, -11.962330363698918, -12.045856931026519, -12.129082928893217, -12.212011734973064, -12.294646663971143, -12.376990972846066, -12.459047859659714, -12.5408204633441, -12.622311866336943, -12.70352509582884, -12.784463125242244, -12.865128878555801, -12.945525227995295, -13.025654995441789, -13.10552095407951, -13.185125829433314, -13.264472300940609, -13.343563004976744, -13.422400532722152, -13.500987432038528, -13.57932620855819, -13.657419326553256, -13.73526921113303, -13.812878249895375, -13.890248790277479, -13.967383141933274, -14.044283577492275, -14.120952333237447, -14.19739160974196, -14.27360357246481, -14.349590356260318, -14.42535406703457, -14.50089677438596, -14.576220516238518, -14.651327299472378, -14.726219100477554, -14.800897865677198, -14.875365512020377, -14.949623930538383, -15.02367498674335, -15.097520516225686, -15.171162327816948, -15.244602204073809, -15.31784190173033, -15.390883152127122, -15.463727661617352, -15.536377114583889, -15.6088331730818, -15.681097474090407, -15.7531716318029, -15.82505723801966, -15.896755862524012, -15.968269053440462, -16.03959833757913, -16.110745222834034, -16.18171119747436, -16.252497728661055, -16.323106264004483, -16.393538231891036, -16.463795041796192, -16.533878084584046, -16.603788732805217, -16.67352834263734, -16.743098253043442, -16.81249978500185, -16.881734242608076, -16.95080291334794, -17.019707068360137, -17.0884479626882, -17.157026835542652, -17.225444911862606, -17.293703401470342, -17.36180349873223, -17.429746383349034, -17.497533220585797, -17.56516516149335, -17.63264334312147, -17.699968888770446, -17.76714290982818, -17.834166504150115, -17.901040755902006, -17.967766736391773, -18.034345504251736, -18.100778105613223, -18.167065574273646, -18.233208931856005, -18.29920918796079, -18.36506734031034, -18.43078437507475, -18.496361271270047, -18.561798995697867, -18.627098502819653, -18.692260736343826, -18.757286629373382, -18.822177104547904, -18.886933074179964, -18.951555440385913, -19.016045095211116, -19.080402920749556, -19.144629789449155, -19.20872656720227, -19.27269410951263, -19.33653326181813, -19.400244860478708, -19.463829732896166, -19.527288697629693, -19.590622564507196, -19.653832134732372, -19.71691820098757, -19.779881547532415, -19.8427229504978, -19.90544318022221, -19.968042998137385, -20.030523157290236, -20.09288440300786, -20.155127472996362, -20.217253097436515, -20.279261999076166, -20.341154893319494, -20.402932488313056, -20.46459548502861, -20.526144577530065, -20.587580454614134, -20.648903797485133, -20.710115280309765, -20.771215570641253, -20.83220532950121, -20.893085211459084, -20.953855864709084, -21.014517931144685, -21.07507204643067, -21.135518840072677, -21.195858935661803, -21.256092952057788, -21.3162215016046, -21.37624519066232, -21.43616461988805, -21.495980384304243, -21.55569307336511, -21.61530327102111, -21.674811555781506, -21.73421850077504, -21.793524673808648, -21.852730637590057, -21.911836950576586, -21.97084416561135, -22.029752830401453, -22.08856348770647, -22.147276675395844, -22.205892926504763, -22.26441276928852, -22.32283672727537, -22.381165319317883, -22.43939905964277, -22.497538458147968, -22.555584021283952, -22.613536250284742, -22.671395641873797, -22.72916268844312, -22.786837878098737, -22.84442169470479, -22.9019146179263, -22.95931712327053, -23.016629682126997, -23.073852761806105, -23.1309868255764, -23.18803233270049, -23.24498973846956, -23.30185949423653, -23.358642047884455, -23.415337846305164, -23.47194733089314, -23.528470938889747, -23.58490910391483, -23.64126225600361, -23.697530821642577, -23.75371522380431, -23.809815881981365, -23.865833212219115, -23.92176762714756, -23.977619536012195, -24.0333893447038, -24.089077455787244, -24.144684268529318, -24.200210179117416, -24.255655582504353, -24.311020869491077, -24.366306427322137, -24.421512640185437, -24.476639889242236, -24.531688552656313, -24.586659005622426, -24.641551620393994, -24.696366766309986, -24.751104809821104, -24.805766114515183, -24.8603510411418, -24.914859947636177, -24.969293189142277, -25.0236511181164, -25.077934085747817, -25.132142440000887, -25.186276525750767, -25.240336685273668, -25.294323258271618, -25.348236581896572, -25.40207699077404, -25.455844817026076, -25.509540390293708, -25.563164037758828, -25.61671608416545, -25.67019685184046, -25.723606660713735, -25.776945828337727, -25.830214669932108, -25.88341349936306, -25.936542627998552, -25.98960236454166, -26.04259301546932, -26.09551488505279, -26.148368275377756, -26.201153486363907, -26.253870815784122, -26.306520559283214, -26.3591030103962, -26.411618460566167, -26.46406719916169, -26.51644951349378, -26.568765688832446, -26.62101600842763, -26.673200754177998, -26.72532020601214, -26.777374641540316, -26.82936433645336, -26.881289564539806, -26.933150597702628, -26.984947705975678, -27.036681157539743, -27.0883512187383, -27.139958154092888, -27.191502226318182, -27.242983696336672, -27.294402823293055, -27.34575986456824, -27.397055075793034, -27.44828871128145, -27.499461023773883, -27.55057226398648, -27.60162268097044, -27.652612522126354, -27.703542033218312, -27.75441145838774, -27.805221040166934, -27.855971019492387, -27.906661635717775, -27.957293126626723, -28.0078657284453, -28.058379675854212, -28.108835202000765, -28.159232538510526, -28.209571915917707, -28.259853563552632, -28.31007770876601, -28.360244577448235, -28.41035439404472, -28.46040738156712, -28.51040376160426, -28.560343754332877, -28.610227578528086, -28.660055451573594, -28.709827589471704, -28.759544206853047, -28.809205516986076, -28.85881173178632, -28.908363061825415, -28.95785971633983, -29.007301903239416, -29.056689829115697, -29.106023699249864, -29.1553037176206, -29.20453008691883, -29.253703010031273, -29.302822688561545, -29.351889321918176, -29.4009031082972, -29.449864244691334, -29.49877292689897, -29.547629349532997, -29.596433706029465, -29.645186188656037, -29.693886988520273, -29.742536295577743, -29.791134298639943, -29.839681185382073, -29.888177142350568, -29.936622354970513, -29.98501700755285, -30.033361283301407, -30.08165536431974, -30.129899431617833, -30.17809366511856, -30.226238243714693, -30.274333346428165, -30.322379150773276, -30.370375832782738, -30.418323567469983, -30.466222528836546, -30.514072889879337, -30.561874822597762, -30.609628498000703, -30.65733408611338, -30.704991755984057, -30.75260167569065, -30.80016401234715, -30.84767893210995, -30.895146600184024, -30.942567180828974, -30.98994083736493, -31.037267732178343, -31.084548026727607, -31.13178188154857, -31.17896945625991, -31.226110909677875, -31.27320640065062, -31.32025608656186, -31.367260123715845, -31.414218667553335, -31.461131872657667, -31.507999892760694, -31.554822880748652, -31.601600988667897, -31.64833436773055, -31.69502316832004, -31.74166753999659, -31.788267631502485, -31.83482359076739, -31.881335564913442, -31.927803700260302, -31.974228142330112, -32.0206090358523, -32.066946524768355, -32.11324075223639, -32.1594918606358, -32.20569999172627, -32.25186528710845, -32.2979878871263, -32.34406793130479, -32.39010555843185, -32.43610090656325, -32.48205411302757, -32.52796531443101, -32.57383464666213, -32.61966224489654, -32.66544824360146, -32.71119277654029, -32.75689597677697, -32.80255797668042, -32.84817890792876, -32.893758901513564, -32.93929808774394, -32.984796596250625, -33.03025455598991, -33.075672095247576, -33.12104934164266, -33.16638642232305, -33.211683464131895, -33.256940592879474, -33.302157933717524, -33.347335611164276, -33.392473749108575, -33.437572470813976, -33.482631898922726, -33.52765215545974, -33.572633361836495, -33.617575638854824, -33.662479106710705, -33.70734388499802, -33.752170092712106, -33.796957848253435, -33.8417072694311, -33.886418473466264, -33.931091576995634, -33.975726696074744, -34.020323946181286, -34.06488344221829, -34.10940529873421, -34.15388962985775, -34.19833654890117, -34.24274616862349, -34.28711860123587, -34.331453958405, -34.37575235125655, -34.42001389037852, -34.464238685824526, -34.50842684711707]}, {\"name\": \"scipy\", \"type\": \"scatter\", \"x\": [0.0, 0.018036072144288578, 0.036072144288577156, 0.05410821643286573, 0.07214428857715431, 0.09018036072144289, 0.10821643286573146, 0.12625250501002006, 0.14428857715430862, 0.1623246492985972, 0.18036072144288579, 0.19839679358717435, 0.21643286573146292, 0.23446893787575152, 0.2525050100200401, 0.27054108216432865, 0.28857715430861725, 0.30661322645290584, 0.3246492985971944, 0.342685370741483, 0.36072144288577157, 0.3787575150300601, 0.3967935871743487, 0.4148296593186373, 0.43286573146292584, 0.45090180360721444, 0.46893787575150303, 0.4869739478957916, 0.5050100200400802, 0.5230460921843687, 0.5410821643286573, 0.5591182364729459, 0.5771543086172345, 0.5951903807615231, 0.6132264529058117, 0.6312625250501003, 0.6492985971943888, 0.6673346693386774, 0.685370741482966, 0.7034068136272545, 0.7214428857715431, 0.7394789579158317, 0.7575150300601202, 0.7755511022044088, 0.7935871743486974, 0.811623246492986, 0.8296593186372746, 0.8476953907815632, 0.8657314629258517, 0.8837675350701403, 0.9018036072144289, 0.9198396793587175, 0.9378757515030061, 0.9559118236472947, 0.9739478957915833, 0.9919839679358717, 1.0100200400801604, 1.028056112224449, 1.0460921843687374, 1.0641282565130261, 1.0821643286573146, 1.1002004008016033, 1.1182364729458918, 1.1362725450901805, 1.154308617234469, 1.1723446893787575, 1.1903807615230462, 1.2084168336673347, 1.2264529058116234, 1.2444889779559118, 1.2625250501002006, 1.280561122244489, 1.2985971943887775, 1.3166332665330662, 1.3346693386773547, 1.3527054108216434, 1.370741482965932, 1.3887775551102204, 1.406813627254509, 1.4248496993987976, 1.4428857715430863, 1.4609218436873748, 1.4789579158316635, 1.496993987975952, 1.5150300601202404, 1.5330661322645291, 1.5511022044088176, 1.5691382765531063, 1.5871743486973948, 1.6052104208416835, 1.623246492985972, 1.6412825651302605, 1.6593186372745492, 1.6773547094188377, 1.6953907815631264, 1.7134268537074149, 1.7314629258517034, 1.749498997995992, 1.7675350701402806, 1.7855711422845693, 1.8036072144288577, 1.8216432865731464, 1.839679358717435, 1.8577154308617234, 1.8757515030060121, 1.8937875751503006, 1.9118236472945893, 1.9298597194388778, 1.9478957915831665, 1.965931863727455, 1.9839679358717435, 2.002004008016032, 2.020040080160321, 2.038076152304609, 2.056112224448898, 2.0741482965931866, 2.092184368737475, 2.1102204408817635, 2.1282565130260522, 2.146292585170341, 2.164328657314629, 2.182364729458918, 2.2004008016032066, 2.218436873747495, 2.2364729458917836, 2.2545090180360723, 2.272545090180361, 2.2905811623246493, 2.308617234468938, 2.3266533066132267, 2.344689378757515, 2.3627254509018036, 2.3807615230460923, 2.398797595190381, 2.4168336673346693, 2.434869739478958, 2.4529058116232467, 2.470941883767535, 2.4889779559118237, 2.5070140280561124, 2.525050100200401, 2.5430861723446894, 2.561122244488978, 2.579158316633267, 2.597194388777555, 2.6152304609218437, 2.6332665330661325, 2.651302605210421, 2.6693386773547094, 2.687374749498998, 2.705410821643287, 2.723446893787575, 2.741482965931864, 2.7595190380761525, 2.7775551102204408, 2.7955911823647295, 2.813627254509018, 2.831663326653307, 2.849699398797595, 2.867735470941884, 2.8857715430861726, 2.903807615230461, 2.9218436873747495, 2.9398797595190382, 2.957915831663327, 2.975951903807615, 2.993987975951904, 3.0120240480961926, 3.030060120240481, 3.0480961923847696, 3.0661322645290583, 3.084168336673347, 3.1022044088176353, 3.120240480961924, 3.1382765531062127, 3.156312625250501, 3.1743486973947896, 3.1923847695390783, 3.210420841683367, 3.2284569138276553, 3.246492985971944, 3.2645290581162327, 3.282565130260521, 3.3006012024048097, 3.3186372745490984, 3.336673346693387, 3.3547094188376754, 3.372745490981964, 3.390781563126253, 3.408817635270541, 3.4268537074148298, 3.4448897795591185, 3.4629258517034067, 3.4809619238476954, 3.498997995991984, 3.517034068136273, 3.535070140280561, 3.55310621242485, 3.5711422845691385, 3.5891783567134268, 3.6072144288577155, 3.625250501002004, 3.643286573146293, 3.661322645290581, 3.67935871743487, 3.6973947895791586, 3.715430861723447, 3.7334669338677355, 3.7515030060120242, 3.769539078156313, 3.787575150300601, 3.80561122244489, 3.8236472945891786, 3.841683366733467, 3.8597194388777556, 3.8777555110220443, 3.895791583166333, 3.9138276553106213, 3.93186372745491, 3.9498997995991987, 3.967935871743487, 3.9859719438877756, 4.004008016032064, 4.022044088176353, 4.040080160320642, 4.05811623246493, 4.076152304609218, 4.094188376753507, 4.112224448897796, 4.130260521042084, 4.148296593186373, 4.166332665330661, 4.18436873747495, 4.202404809619239, 4.220440881763527, 4.238476953907816, 4.2565130260521045, 4.274549098196393, 4.292585170340682, 4.31062124248497, 4.328657314629258, 4.3466933867735476, 4.364729458917836, 4.382765531062124, 4.400801603206413, 4.4188376753507015, 4.43687374749499, 4.454909819639279, 4.472945891783567, 4.490981963927856, 4.509018036072145, 4.527054108216433, 4.545090180360722, 4.56312625250501, 4.5811623246492985, 4.599198396793588, 4.617234468937876, 4.635270541082164, 4.653306613226453, 4.671342685370742, 4.68937875751503, 4.707414829659319, 4.725450901803607, 4.7434869739478955, 4.761523046092185, 4.779559118236473, 4.797595190380762, 4.81563126252505, 4.833667334669339, 4.851703406813628, 4.869739478957916, 4.887775551102204, 4.9058116232464934, 4.923847695390782, 4.94188376753507, 4.959919839679359, 4.977955911823647, 4.995991983967936, 5.014028056112225, 5.032064128256513, 5.050100200400802, 5.0681362725450905, 5.086172344689379, 5.104208416833668, 5.122244488977956, 5.140280561122244, 5.158316633266534, 5.176352705410822, 5.19438877755511, 5.212424849699399, 5.2304609218436875, 5.248496993987976, 5.266533066132265, 5.284569138276553, 5.302605210420842, 5.320641282565131, 5.338677354709419, 5.356713426853708, 5.374749498997996, 5.3927855711422845, 5.410821643286574, 5.428857715430862, 5.44689378757515, 5.464929859719439, 5.482965931863728, 5.501002004008016, 5.519038076152305, 5.537074148296593, 5.5551102204408815, 5.573146292585171, 5.591182364729459, 5.609218436873748, 5.627254509018036, 5.645290581162325, 5.663326653306614, 5.681362725450902, 5.69939879759519, 5.7174348697394795, 5.735470941883768, 5.753507014028056, 5.771543086172345, 5.789579158316633, 5.807615230460922, 5.825651302605211, 5.843687374749499, 5.861723446893788, 5.8797595190380765, 5.897795591182365, 5.915831663326654, 5.933867735470942, 5.95190380761523, 5.96993987975952, 5.987975951903808, 6.006012024048096, 6.024048096192385, 6.0420841683366735, 6.060120240480962, 6.078156312625251, 6.096192384769539, 6.114228456913828, 6.132264529058117, 6.150300601202405, 6.168336673346694, 6.186372745490982, 6.2044088176352705, 6.22244488977956, 6.240480961923848, 6.258517034068136, 6.276553106212425, 6.294589178356714, 6.312625250501002, 6.330661322645291, 6.348697394789579, 6.3667334669338675, 6.384769539078157, 6.402805611222445, 6.420841683366734, 6.438877755511022, 6.456913827655311, 6.4749498997996, 6.492985971943888, 6.511022044088176, 6.5290581162324655, 6.547094188376754, 6.565130260521042, 6.583166332665331, 6.601202404809619, 6.619238476953908, 6.637274549098197, 6.655310621242485, 6.673346693386774, 6.6913827655310625, 6.709418837675351, 6.72745490981964, 6.745490981963928, 6.763527054108216, 6.781563126252506, 6.799599198396794, 6.817635270541082, 6.835671342685371, 6.8537074148296595, 6.871743486973948, 6.889779559118237, 6.907815631262525, 6.925851703406813, 6.943887775551103, 6.961923847695391, 6.97995991983968, 6.997995991983968, 7.0160320641282565, 7.034068136272546, 7.052104208416834, 7.070140280561122, 7.088176352705411, 7.1062124248497, 7.124248496993988, 7.142284569138277, 7.160320641282565, 7.1783567134268536, 7.196392785571143, 7.214428857715431, 7.23246492985972, 7.250501002004008, 7.268537074148297, 7.286573146292586, 7.304609218436874, 7.322645290581162, 7.3406813627254515, 7.35871743486974, 7.376753507014028, 7.394789579158317, 7.412825651302605, 7.430861723446894, 7.448897795591183, 7.466933867735471, 7.48496993987976, 7.5030060120240485, 7.521042084168337, 7.539078156312626, 7.557114228456914, 7.575150300601202, 7.593186372745492, 7.61122244488978, 7.629258517034068, 7.647294589178357, 7.6653306613226455, 7.683366733466934, 7.701402805611223, 7.719438877755511, 7.7374749498997994, 7.755511022044089, 7.773547094188377, 7.791583166332666, 7.809619238476954, 7.8276553106212425, 7.845691382765532, 7.86372745490982, 7.881763527054108, 7.899799599198397, 7.917835671342686, 7.935871743486974, 7.953907815631263, 7.971943887775551, 7.98997995991984, 8.008016032064129, 8.026052104208418, 8.044088176352705, 8.062124248496994, 8.080160320641284, 8.098196392785571, 8.11623246492986, 8.13426853707415, 8.152304609218437, 8.170340681362726, 8.188376753507015, 8.206412825651302, 8.224448897795591, 8.24248496993988, 8.260521042084168, 8.278557114228457, 8.296593186372746, 8.314629258517034, 8.332665330661323, 8.350701402805612, 8.3687374749499, 8.386773547094188, 8.404809619238478, 8.422845691382767, 8.440881763527054, 8.458917835671343, 8.476953907815632, 8.49498997995992, 8.513026052104209, 8.531062124248498, 8.549098196392785, 8.567134268537075, 8.585170340681364, 8.603206412825651, 8.62124248496994, 8.63927855711423, 8.657314629258517, 8.675350701402806, 8.693386773547095, 8.711422845691382, 8.729458917835672, 8.74749498997996, 8.765531062124248, 8.783567134268537, 8.801603206412826, 8.819639278557114, 8.837675350701403, 8.855711422845692, 8.87374749498998, 8.891783567134269, 8.909819639278558, 8.927855711422845, 8.945891783567134, 8.963927855711423, 8.981963927855713, 9.0], \"y\": [-0.0, -0.18036072144288767, -0.3607214428857699, -0.5410821643286596, -0.7214428857715568, -0.9018036072144137, -1.0821643286573126, -1.2625250501002074, -1.4428857715430763, -1.6232464929859736, -1.8036072144288662, -1.98396793587174, -2.164328657314626, -2.3446893787575185, -2.525050100200416, -2.7054108216432904, -2.8857715430861726, -3.0661322645290743, -3.246492985971941, -3.426853707414838, -3.6072144288577217, -3.787575150300604, -3.96793587174349, -4.148296593186386, -4.32865731462925, -4.509018036072141, -4.689378757515029, -4.86973947895791, -5.050100200400794, -5.230460921843698, -5.410821643286574, -5.591182364729455, -5.771543086172353, -5.951903807615224, -6.132264529058114, -6.312625250501002, -6.492985971943877, -6.673346693386775, -6.853707414829672, -7.034068136272532, -7.214428857715432, -7.394789579158325, -7.575150300601201, -7.755511022044086, -7.935871743486971, -8.116232464929846, -8.296593186372748, -8.476953907815641, -8.65731462925851, -8.837675350701396, -9.018036072144291, -9.198396793587177, -9.378757515030049, -9.559118236472942, -9.739478957915846, -9.919839679358708, -10.100200400801603, -10.280561122244492, -10.460921843687363, -10.641282565130261, -10.821643286573147, -11.00200400801602, -11.18236472945892, -11.362725450901802, -11.543086172344688, -11.723446893787571, -11.90380761523046, -12.08416833667334, -12.264529058116228, -12.44488977955912, -12.625250501002016, -12.805611222444892, -12.985971943887783, -13.166332665330675, -13.346693386773552, -13.527054108216435, -13.707414829659324, -13.887775551102207, -14.068136272545086, -14.248496993987978, -14.428857715430864, -14.609218436873748, -14.789579158316645, -14.969939879759513, -15.150300601202401, -15.330661322645296, -15.511022044088177, -15.691382765531062, -15.87174348697396, -16.052104208416825, -16.23246492985972, -16.412825651302615, -16.59318637274549, -16.77354709418837, -16.95390781563126, -17.134268537074142, -17.31462925851703, -17.494989979959925, -17.6753507014028, -17.85571142284569, -18.036072144288582, -18.216432865731452, -18.396793587174347, -18.577154308617242, -18.75751503006011, -18.937875751502997, -19.118236472945892, -19.298597194388776, -19.478957915831657, -19.65931863727455, -19.83967935871742, -20.020040080160314, -20.20040080160321, -20.380761523046086, -20.56112224448897, -20.741482965931866, -20.921843687374754, -21.102204408817634, -21.28256513026053, -21.462925851703414, -21.643286573146284, -21.823647294589186, -22.004008016032074, -22.184368737474944, -22.36472945891784, -22.54509018036073, -22.725450901803615, -22.905811623246493, -23.086172344689388, -23.266533066132272, -23.446893787575153, -23.627254509018044, -23.807615230460918, -23.987975951903806, -24.168336673346698, -24.348697394789586, -24.529058116232463, -24.709418837675358, -24.88977955911824, -25.070140280561123, -25.250501002004018, -25.430861723446892, -25.611222444889776, -25.79158316633267, -25.971943887775552, -26.15230460921844, -26.332665330661328, -26.513026052104216, -26.693386773547093, -26.873747494989974, -27.05410821643287, -27.234468937875743, -27.41482965931863, -27.59519038076153, -27.775551102204403, -27.9559118236473, -28.136272545090183, -28.316633266533067, -28.496993987975948, -28.677354709418836, -28.85771543086172, -29.038076152304612, -29.2184368737475, -29.398797595190388, -29.579158316633258, -29.759519038076153, -29.939879759519034, -30.120240480961918, -30.30060120240481, -30.48096192384769, -30.661322645290575, -30.841683366733474, -31.022044088176347, -31.20240480961924, -31.382765531062123, -31.563126252505015, -31.743486973947896, -31.923847695390787, -32.10420841683368, -32.284569138276545, -32.46492985971943, -32.645290581162335, -32.82565130260521, -33.0060120240481, -33.18637274549099, -33.36673346693387, -33.547094188376754, -33.72745490981965, -33.90781563126253, -34.0881763527054, -34.268537074148306, -34.44889779559118, -34.62925851703407, -34.809619238476955, -34.989979959919836, -35.170340681362724, -35.35070140280562, -35.5310621242485, -35.71142284569138, -35.89178356713427, -36.07214428857716, -36.25250501002004, -36.432865731462925, -36.613226452905806, -36.793587174348694, -36.97394789579159, -37.15430861723447, -37.33466933867735, -37.51503006012024, -37.69539078156314, -37.875751503006, -38.05611222444889, -38.236472945891784, -38.41683366733467, -38.59719438877756, -38.77755511022044, -38.95791583166333, -39.138276553106216, -39.318637274549104, -39.498997995991985, -39.67935871743487, -39.859719438877754, -40.04008016032065, -40.22044088176352, -40.40080160320642, -40.5811623246493, -40.76152304609218, -40.941883767535074, -41.122244488977955, -41.30260521042085, -41.48296593186373, -41.663326653306626, -41.8436873747495, -42.02404809619239, -42.204408817635276, -42.38476953907816, -42.565130260521045, -42.74549098196392, -42.92585170340682, -43.106212424849694, -43.28657314629259, -43.46693386773547, -43.64729458917835, -43.827655310621246, -44.00801603206413, -44.18837675350702, -44.36873747494991, -44.5490981963928, -44.72945891783568, -44.90981963927855, -45.09018036072144, -45.27054108216433, -45.45090180360722, -45.63126252505011, -45.81162324649298, -45.99198396793588, -46.17234468937876, -46.352705410821635, -46.53306613226454, -46.71342685370742, -46.8937875751503, -47.07414829659319, -47.254509018036075, -47.434869739478955, -47.61523046092185, -47.795591182364724, -47.97595190380762, -48.1563126252505, -48.33667334669338, -48.51703406813628, -48.69739478957916, -48.87775551102204, -49.05811623246494, -49.23847695390782, -49.4188376753507, -49.5991983967936, -49.77955911823647, -49.95991983967935, -50.140280561122246, -50.320641282565134, -50.50100200400802, -50.6813627254509, -50.8617234468938, -51.04208416833668, -51.22244488977957, -51.40280561122243, -51.583166332665336, -51.76352705410822, -51.943887775551104, -52.12424849699399, -52.30460921843687, -52.484969939879754, -52.665330661322656, -52.84569138276553, -53.02605210420843, -53.2064128256513, -53.38677354709418, -53.56713426853708, -53.74749498997997, -53.92785571142284, -54.10821643286573, -54.28857715430861, -54.4689378757515, -54.649298597194395, -54.82965931863728, -55.01002004008016, -55.190380761523045, -55.370741482965926, -55.55110220440882, -55.7314629258517, -55.9118236472946, -56.092184368737485, -56.272545090180365, -56.45290581162325, -56.63326653306614, -56.813627254509015, -56.9939879759519, -57.1743486973948, -57.35470941883767, -57.53507014028055, -57.71543086172345, -57.895791583166336, -58.07615230460922, -58.256513026052104, -58.43687374749499, -58.61723446893788, -58.79759519038076, -58.97795591182365, -59.15831663326654, -59.33867735470942, -59.5190380761523, -59.69939879759519, -59.87975951903808, -60.06012024048097, -60.24048096192386, -60.42084168336673, -60.60120240480961, -60.781563126252514, -60.961923847695395, -61.14228456913828, -61.32264529058117, -61.503006012024045, -61.68336673346694, -61.86372745490983, -62.04408817635271, -62.2244488977956, -62.40480961923848, -62.585170340681366, -62.765531062124246, -62.94589178356714, -63.12625250501002, -63.30661322645291, -63.486973947895784, -63.66733466933867, -63.84769539078157, -64.02805611222445, -64.20841683366734, -64.38877755511022, -64.5691382765531, -64.749498997996, -64.92985971943888, -65.11022044088176, -65.29058116232466, -65.47094188376754, -65.65130260521042, -65.8316633266533, -66.0120240480962, -66.19238476953907, -66.37274549098197, -66.55310621242485, -66.73346693386775, -66.91382765531063, -67.09418837675351, -67.2745490981964, -67.45490981963928, -67.63527054108216, -67.81563126252506, -67.99599198396794, -68.17635270541082, -68.35671342685372, -68.5370741482966, -68.71743486973948, -68.89779559118236, -69.07815631262525, -69.25851703406812, -69.43887775551103, -69.61923847695391, -69.79959919839679, -69.97995991983969, -70.16032064128257, -70.34068136272546, -70.52104208416833, -70.70140280561121, -70.88176352705412, -71.062124248497, -71.24248496993987, -71.42284569138276, -71.60320641282566, -71.78356713426854, -71.96392785571143, -72.14428857715431, -72.32464929859721, -72.50501002004009, -72.68537074148297, -72.86573146292587, -73.04609218436875, -73.22645290581161, -73.40681362725452, -73.5871743486974, -73.76753507014028, -73.94789579158318, -74.12825651302606, -74.30861723446894, -74.48897795591182, -74.66933867735472, -74.8496993987976, -75.03006012024049, -75.21042084168337, -75.39078156312627, -75.57114228456913, -75.75150300601203, -75.93186372745491, -76.1122244488978, -76.29258517034069, -76.47294589178357, -76.65330661322645, -76.83366733466934, -77.01402805611222, -77.1943887775551, -77.37474949899799, -77.55511022044088, -77.73547094188378, -77.91583166332666, -78.09619238476954, -78.27655310621243, -78.45691382765531, -78.6372745490982, -78.81763527054109, -78.99799599198397, -79.17835671342685, -79.35871743486975, -79.53907815631264, -79.71943887775551, -79.8997995991984, -80.0801603206413, -80.26052104208418, -80.44088176352706, -80.62124248496995, -80.80160320641284, -80.9819639278557, -81.16232464929861, -81.34268537074149, -81.52304609218436, -81.70340681362725, -81.88376753507015, -82.06412825651303, -82.24448897795591, -82.4248496993988, -82.60521042084167, -82.78557114228457, -82.96593186372746, -83.14629258517034, -83.32665330661322, -83.50701402805612, -83.687374749499, -83.86773547094188, -84.04809619238478, -84.22845691382766, -84.40881763527054, -84.58917835671343, -84.76953907815633, -84.9498997995992, -85.13026052104208, -85.31062124248498, -85.49098196392787, -85.67134268537075, -85.85170340681364, -86.03206412825651, -86.2124248496994, -86.3927855711423, -86.57314629258516, -86.75350701402806, -86.93386773547094, -87.11422845691382, -87.29458917835673, -87.47494989979961, -87.65531062124248, -87.83567134268537, -88.01603206412825, -88.19639278557113, -88.37675350701403, -88.55711422845692, -88.73747494989979, -88.91783567134269, -89.09819639278558, -89.27855711422845, -89.45891783567134, -89.63927855711422, -89.81963927855713, -90.0]}],\n",
       "                        {\"template\": {\"data\": {\"bar\": [{\"error_x\": {\"color\": \"#2a3f5f\"}, \"error_y\": {\"color\": \"#2a3f5f\"}, \"marker\": {\"line\": {\"color\": \"#E5ECF6\", \"width\": 0.5}}, \"type\": \"bar\"}], \"barpolar\": [{\"marker\": {\"line\": {\"color\": \"#E5ECF6\", \"width\": 0.5}}, \"type\": \"barpolar\"}], \"carpet\": [{\"aaxis\": {\"endlinecolor\": \"#2a3f5f\", \"gridcolor\": \"white\", \"linecolor\": \"white\", \"minorgridcolor\": \"white\", \"startlinecolor\": \"#2a3f5f\"}, \"baxis\": {\"endlinecolor\": \"#2a3f5f\", \"gridcolor\": \"white\", \"linecolor\": \"white\", \"minorgridcolor\": \"white\", \"startlinecolor\": \"#2a3f5f\"}, \"type\": \"carpet\"}], \"choropleth\": [{\"colorbar\": {\"outlinewidth\": 0, \"ticks\": \"\"}, \"type\": \"choropleth\"}], \"contour\": [{\"colorbar\": {\"outlinewidth\": 0, \"ticks\": \"\"}, \"colorscale\": [[0.0, \"#0d0887\"], [0.1111111111111111, \"#46039f\"], [0.2222222222222222, \"#7201a8\"], [0.3333333333333333, \"#9c179e\"], [0.4444444444444444, \"#bd3786\"], [0.5555555555555556, \"#d8576b\"], [0.6666666666666666, \"#ed7953\"], [0.7777777777777778, \"#fb9f3a\"], [0.8888888888888888, \"#fdca26\"], [1.0, \"#f0f921\"]], \"type\": \"contour\"}], \"contourcarpet\": [{\"colorbar\": {\"outlinewidth\": 0, \"ticks\": \"\"}, \"type\": \"contourcarpet\"}], \"heatmap\": [{\"colorbar\": {\"outlinewidth\": 0, \"ticks\": \"\"}, \"colorscale\": [[0.0, \"#0d0887\"], [0.1111111111111111, \"#46039f\"], [0.2222222222222222, \"#7201a8\"], [0.3333333333333333, \"#9c179e\"], [0.4444444444444444, \"#bd3786\"], [0.5555555555555556, \"#d8576b\"], [0.6666666666666666, \"#ed7953\"], [0.7777777777777778, \"#fb9f3a\"], [0.8888888888888888, \"#fdca26\"], [1.0, \"#f0f921\"]], \"type\": \"heatmap\"}], \"heatmapgl\": [{\"colorbar\": {\"outlinewidth\": 0, \"ticks\": \"\"}, \"colorscale\": [[0.0, \"#0d0887\"], [0.1111111111111111, \"#46039f\"], [0.2222222222222222, \"#7201a8\"], [0.3333333333333333, \"#9c179e\"], [0.4444444444444444, \"#bd3786\"], [0.5555555555555556, \"#d8576b\"], [0.6666666666666666, \"#ed7953\"], [0.7777777777777778, \"#fb9f3a\"], [0.8888888888888888, \"#fdca26\"], [1.0, \"#f0f921\"]], \"type\": \"heatmapgl\"}], \"histogram\": [{\"marker\": {\"colorbar\": {\"outlinewidth\": 0, \"ticks\": \"\"}}, \"type\": \"histogram\"}], \"histogram2d\": [{\"colorbar\": {\"outlinewidth\": 0, \"ticks\": \"\"}, \"colorscale\": [[0.0, \"#0d0887\"], [0.1111111111111111, \"#46039f\"], [0.2222222222222222, \"#7201a8\"], [0.3333333333333333, \"#9c179e\"], [0.4444444444444444, \"#bd3786\"], [0.5555555555555556, \"#d8576b\"], [0.6666666666666666, \"#ed7953\"], [0.7777777777777778, \"#fb9f3a\"], [0.8888888888888888, \"#fdca26\"], [1.0, \"#f0f921\"]], \"type\": \"histogram2d\"}], \"histogram2dcontour\": [{\"colorbar\": {\"outlinewidth\": 0, \"ticks\": \"\"}, \"colorscale\": [[0.0, \"#0d0887\"], [0.1111111111111111, \"#46039f\"], [0.2222222222222222, \"#7201a8\"], [0.3333333333333333, \"#9c179e\"], [0.4444444444444444, \"#bd3786\"], [0.5555555555555556, \"#d8576b\"], [0.6666666666666666, \"#ed7953\"], [0.7777777777777778, \"#fb9f3a\"], [0.8888888888888888, \"#fdca26\"], [1.0, \"#f0f921\"]], \"type\": \"histogram2dcontour\"}], \"mesh3d\": [{\"colorbar\": {\"outlinewidth\": 0, \"ticks\": \"\"}, \"type\": \"mesh3d\"}], \"parcoords\": [{\"line\": {\"colorbar\": {\"outlinewidth\": 0, \"ticks\": \"\"}}, \"type\": \"parcoords\"}], \"pie\": [{\"automargin\": true, \"type\": \"pie\"}], \"scatter\": [{\"marker\": {\"colorbar\": {\"outlinewidth\": 0, \"ticks\": \"\"}}, \"type\": \"scatter\"}], \"scatter3d\": [{\"line\": {\"colorbar\": {\"outlinewidth\": 0, \"ticks\": \"\"}}, \"marker\": {\"colorbar\": {\"outlinewidth\": 0, \"ticks\": \"\"}}, \"type\": \"scatter3d\"}], \"scattercarpet\": [{\"marker\": {\"colorbar\": {\"outlinewidth\": 0, \"ticks\": \"\"}}, \"type\": \"scattercarpet\"}], \"scattergeo\": [{\"marker\": {\"colorbar\": {\"outlinewidth\": 0, \"ticks\": \"\"}}, \"type\": \"scattergeo\"}], \"scattergl\": [{\"marker\": {\"colorbar\": {\"outlinewidth\": 0, \"ticks\": \"\"}}, \"type\": \"scattergl\"}], \"scattermapbox\": [{\"marker\": {\"colorbar\": {\"outlinewidth\": 0, \"ticks\": \"\"}}, \"type\": \"scattermapbox\"}], \"scatterpolar\": [{\"marker\": {\"colorbar\": {\"outlinewidth\": 0, \"ticks\": \"\"}}, \"type\": \"scatterpolar\"}], \"scatterpolargl\": [{\"marker\": {\"colorbar\": {\"outlinewidth\": 0, \"ticks\": \"\"}}, \"type\": \"scatterpolargl\"}], \"scatterternary\": [{\"marker\": {\"colorbar\": {\"outlinewidth\": 0, \"ticks\": \"\"}}, \"type\": \"scatterternary\"}], \"surface\": [{\"colorbar\": {\"outlinewidth\": 0, \"ticks\": \"\"}, \"colorscale\": [[0.0, \"#0d0887\"], [0.1111111111111111, \"#46039f\"], [0.2222222222222222, \"#7201a8\"], [0.3333333333333333, \"#9c179e\"], [0.4444444444444444, \"#bd3786\"], [0.5555555555555556, \"#d8576b\"], [0.6666666666666666, \"#ed7953\"], [0.7777777777777778, \"#fb9f3a\"], [0.8888888888888888, \"#fdca26\"], [1.0, \"#f0f921\"]], \"type\": \"surface\"}], \"table\": [{\"cells\": {\"fill\": {\"color\": \"#EBF0F8\"}, \"line\": {\"color\": \"white\"}}, \"header\": {\"fill\": {\"color\": \"#C8D4E3\"}, \"line\": {\"color\": \"white\"}}, \"type\": \"table\"}]}, \"layout\": {\"annotationdefaults\": {\"arrowcolor\": \"#2a3f5f\", \"arrowhead\": 0, \"arrowwidth\": 1}, \"coloraxis\": {\"colorbar\": {\"outlinewidth\": 0, \"ticks\": \"\"}}, \"colorscale\": {\"diverging\": [[0, \"#8e0152\"], [0.1, \"#c51b7d\"], [0.2, \"#de77ae\"], [0.3, \"#f1b6da\"], [0.4, \"#fde0ef\"], [0.5, \"#f7f7f7\"], [0.6, \"#e6f5d0\"], [0.7, \"#b8e186\"], [0.8, \"#7fbc41\"], [0.9, \"#4d9221\"], [1, \"#276419\"]], \"sequential\": [[0.0, \"#0d0887\"], [0.1111111111111111, \"#46039f\"], [0.2222222222222222, \"#7201a8\"], [0.3333333333333333, \"#9c179e\"], [0.4444444444444444, \"#bd3786\"], [0.5555555555555556, \"#d8576b\"], [0.6666666666666666, \"#ed7953\"], [0.7777777777777778, \"#fb9f3a\"], [0.8888888888888888, \"#fdca26\"], [1.0, \"#f0f921\"]], \"sequentialminus\": [[0.0, \"#0d0887\"], [0.1111111111111111, \"#46039f\"], [0.2222222222222222, \"#7201a8\"], [0.3333333333333333, \"#9c179e\"], [0.4444444444444444, \"#bd3786\"], [0.5555555555555556, \"#d8576b\"], [0.6666666666666666, \"#ed7953\"], [0.7777777777777778, \"#fb9f3a\"], [0.8888888888888888, \"#fdca26\"], [1.0, \"#f0f921\"]]}, \"colorway\": [\"#636efa\", \"#EF553B\", \"#00cc96\", \"#ab63fa\", \"#FFA15A\", \"#19d3f3\", \"#FF6692\", \"#B6E880\", \"#FF97FF\", \"#FECB52\"], \"font\": {\"color\": \"#2a3f5f\"}, \"geo\": {\"bgcolor\": \"white\", \"lakecolor\": \"white\", \"landcolor\": \"#E5ECF6\", \"showlakes\": true, \"showland\": true, \"subunitcolor\": \"white\"}, \"hoverlabel\": {\"align\": \"left\"}, \"hovermode\": \"closest\", \"mapbox\": {\"style\": \"light\"}, \"paper_bgcolor\": \"white\", \"plot_bgcolor\": \"#E5ECF6\", \"polar\": {\"angularaxis\": {\"gridcolor\": \"white\", \"linecolor\": \"white\", \"ticks\": \"\"}, \"bgcolor\": \"#E5ECF6\", \"radialaxis\": {\"gridcolor\": \"white\", \"linecolor\": \"white\", \"ticks\": \"\"}}, \"scene\": {\"xaxis\": {\"backgroundcolor\": \"#E5ECF6\", \"gridcolor\": \"white\", \"gridwidth\": 2, \"linecolor\": \"white\", \"showbackground\": true, \"ticks\": \"\", \"zerolinecolor\": \"white\"}, \"yaxis\": {\"backgroundcolor\": \"#E5ECF6\", \"gridcolor\": \"white\", \"gridwidth\": 2, \"linecolor\": \"white\", \"showbackground\": true, \"ticks\": \"\", \"zerolinecolor\": \"white\"}, \"zaxis\": {\"backgroundcolor\": \"#E5ECF6\", \"gridcolor\": \"white\", \"gridwidth\": 2, \"linecolor\": \"white\", \"showbackground\": true, \"ticks\": \"\", \"zerolinecolor\": \"white\"}}, \"shapedefaults\": {\"line\": {\"color\": \"#2a3f5f\"}}, \"ternary\": {\"aaxis\": {\"gridcolor\": \"white\", \"linecolor\": \"white\", \"ticks\": \"\"}, \"baxis\": {\"gridcolor\": \"white\", \"linecolor\": \"white\", \"ticks\": \"\"}, \"bgcolor\": \"#E5ECF6\", \"caxis\": {\"gridcolor\": \"white\", \"linecolor\": \"white\", \"ticks\": \"\"}}, \"title\": {\"x\": 0.05}, \"xaxis\": {\"automargin\": true, \"gridcolor\": \"white\", \"linecolor\": \"white\", \"ticks\": \"\", \"title\": {\"standoff\": 15}, \"zerolinecolor\": \"white\", \"zerolinewidth\": 2}, \"yaxis\": {\"automargin\": true, \"gridcolor\": \"white\", \"linecolor\": \"white\", \"ticks\": \"\", \"title\": {\"standoff\": 15}, \"zerolinecolor\": \"white\", \"zerolinewidth\": 2}}}},\n",
       "                        {\"responsive\": true}\n",
       "                    ).then(function(){\n",
       "                            \n",
       "var gd = document.getElementById('d20cbfa6-aa0b-477e-abe4-0f94ab049b53');\n",
       "var x = new MutationObserver(function (mutations, observer) {{\n",
       "        var display = window.getComputedStyle(gd).display;\n",
       "        if (!display || display === 'none') {{\n",
       "            console.log([gd, 'removed!']);\n",
       "            Plotly.purge(gd);\n",
       "            observer.disconnect();\n",
       "        }}\n",
       "}});\n",
       "\n",
       "// Listen for the removal of the full notebook cells\n",
       "var notebookContainer = gd.closest('#notebook-container');\n",
       "if (notebookContainer) {{\n",
       "    x.observe(notebookContainer, {childList: true});\n",
       "}}\n",
       "\n",
       "// Listen for the clearing of the current output cell\n",
       "var outputEl = gd.closest('.output');\n",
       "if (outputEl) {{\n",
       "    x.observe(outputEl, {childList: true});\n",
       "}}\n",
       "\n",
       "                        })\n",
       "                };\n",
       "                });\n",
       "            </script>\n",
       "        </div>"
      ]
     },
     "metadata": {},
     "output_type": "display_data"
    }
   ],
   "source": [
    "trace_sympy = go.Scatter(x = x_sc,y = y_sc.reshape(1,-1)[0],name = 'sympy')\n",
    "trace_scipy = go.Scatter(x = x_sc,y = (-10 - 100.0/(x_sc - 10.0))*(x_sc - 10.0),name = 'scipy')\n",
    "\n",
    "go.Figure(data = [trace_sympy,trace_scipy])"
   ]
  },
  {
   "cell_type": "code",
   "execution_count": 126,
   "metadata": {},
   "outputs": [
    {
     "data": {
      "text/plain": [
       "(C - 100.0/(x - 10.0))*(x - 10.0)"
      ]
     },
     "execution_count": 126,
     "metadata": {},
     "output_type": "execute_result"
    }
   ],
   "source": [
    "C = 10\n",
    "y_sp.evalf()"
   ]
  },
  {
   "cell_type": "code",
   "execution_count": null,
   "metadata": {},
   "outputs": [],
   "source": []
  },
  {
   "cell_type": "code",
   "execution_count": null,
   "metadata": {},
   "outputs": [],
   "source": []
  },
  {
   "cell_type": "code",
   "execution_count": null,
   "metadata": {},
   "outputs": [],
   "source": []
  },
  {
   "cell_type": "code",
   "execution_count": null,
   "metadata": {},
   "outputs": [],
   "source": []
  },
  {
   "cell_type": "code",
   "execution_count": null,
   "metadata": {},
   "outputs": [],
   "source": []
  },
  {
   "cell_type": "code",
   "execution_count": null,
   "metadata": {},
   "outputs": [],
   "source": []
  },
  {
   "cell_type": "code",
   "execution_count": null,
   "metadata": {},
   "outputs": [],
   "source": []
  },
  {
   "cell_type": "code",
   "execution_count": 51,
   "metadata": {},
   "outputs": [
    {
     "data": {
      "application/vnd.plotly.v1+json": {
       "config": {
        "plotlyServerURL": "https://plot.ly"
       },
       "data": [
        {
         "line": {
          "color": "blue",
          "width": 2
         },
         "mode": "lines",
         "name": "frame",
         "type": "scatter",
         "x": [
          0,
          -0.01979389858177738,
          -0.03877155392306908,
          -0.0569329660238751,
          -0.07427813488419543,
          -0.0908070605040302,
          -0.10651974288337929,
          -0.12141618202224269,
          -0.13549637792062041,
          -0.14876033057851246,
          -0.16120803999591882,
          -0.1728395061728395,
          -0.1836547291092746,
          -0.19365370880522392,
          -0.20283644526068767,
          -0.21120293847566574,
          -0.21875318845015818,
          -0.22548719518416488,
          -0.23140495867768596,
          -0.23650647893072135,
          -0.24079175594327112,
          -0.24426078971533516,
          -0.24691358024691357,
          -0.24875012753800635,
          -0.2497704315886134,
          -0.24997449239873482,
          -0.24936230996837058,
          -0.24793388429752067,
          -0.24568921538618507,
          -0.24262830323436385,
          -0.23875114784205692,
          -0.23405774920926437,
          -0.22854810733598613,
          -0.2222222222222222,
          -0.2150800938679726,
          -0.20712172227323739,
          -0.19834710743801653,
          -0.18875624936230995,
          -0.1783491480461177,
          -0.1671258034894398,
          -0.15508621569227624,
          -0.142230384654627,
          -0.12855831037649218,
          -0.11406999285787162,
          -0.09876543209876538,
          -0.08264462809917349,
          -0.06570758085909592,
          -0.047954290378532695,
          -0.029384756657483906,
          -0.009998979695949348,
          0.010203040506070876,
          0.031221303948576883,
          0.05305581063156832,
          0.07570656055504542,
          0.09917355371900843,
          0.12345679012345685,
          0.1485562697683912,
          0.17447199265381094,
          0.20120395877971636,
          0.22875216814610771,
          0.2571166207529844,
          0.28629731660034713,
          0.3162942556881952,
          0.3471074380165292,
          0.37873686358534864,
          0.41118253239465363,
          0.4444444444444447,
          0.47852259973472105,
          0.5134169982654835,
          0.5491276400367311,
          0.5856545250484648,
          0.6229976533006838,
          0.6611570247933884,
          0.7001326395265792,
          0.7399244975002552,
          0.7805325987144174,
          0.8219569431690646,
          0.8641975308641976,
          0.9072543617998167,
          0.951127435975921,
          0.9958167533925114,
          1.041322314049587,
          1.0876441179471488,
          1.1347821650851957,
          1.1827364554637283,
          1.2315069890827472,
          1.281093765942251,
          1.331496786042241,
          1.3827160493827164,
          1.4347515559636779,
          1.4876033057851243,
          1.5412712988470565,
          1.595755535149475,
          1.6510560146923785,
          1.7071727374757684,
          1.7641057034996432,
          1.8218549127640038,
          1.8804203652688507,
          1.9398020610141824,
          2
         ],
         "y": [
          -2,
          -1.9398020610141822,
          -1.88042036526885,
          -1.8218549127640038,
          -1.764105703499643,
          -1.707172737475768,
          -1.6510560146923783,
          -1.5957555351494745,
          -1.5412712988470563,
          -1.487603305785124,
          -1.4347515559636772,
          -1.382716049382716,
          -1.3314967860422406,
          -1.2810937659422508,
          -1.2315069890827466,
          -1.1827364554637283,
          -1.1347821650851952,
          -1.0876441179471483,
          -1.0413223140495869,
          -0.9958167533925109,
          -0.9511274359759208,
          -0.9072543617998162,
          -0.8641975308641976,
          -0.8219569431690641,
          -0.7805325987144169,
          -0.739924497500255,
          -0.7001326395265788,
          -0.6611570247933882,
          -0.6229976533006835,
          -0.5856545250484644,
          -0.5491276400367309,
          -0.513416998265483,
          -0.47852259973472083,
          -0.4444444444444443,
          -0.41118253239465347,
          -0.37873686358534825,
          -0.3471074380165289,
          -0.316294255688195,
          -0.2862973166003468,
          -0.25711662075298425,
          -0.2287521681461074,
          -0.2012039587797162,
          -0.1744719926538108,
          -0.14855626976839093,
          -0.12345679012345671,
          -0.09917355371900817,
          -0.0757065605550453,
          -0.05305581063156808,
          -0.031221303948576647,
          -0.010203040506070762,
          0.009998979695949456,
          0.029384756657484114,
          0.047954290378532896,
          0.06570758085909602,
          0.08264462809917367,
          0.09876543209876547,
          0.11406999285787178,
          0.12855831037649226,
          0.14223038465462706,
          0.15508621569227637,
          0.16712580348943987,
          0.17834914804611784,
          0.18875624936231,
          0.19834710743801662,
          0.20712172227323747,
          0.21508009386797267,
          0.22222222222222227,
          0.22854810733598613,
          0.23405774920926442,
          0.23875114784205695,
          0.24262830323436388,
          0.2456892153861851,
          0.24793388429752067,
          0.24936230996837058,
          0.24997449239873482,
          0.2497704315886134,
          0.2487501275380063,
          0.24691358024691357,
          0.24426078971533516,
          0.24079175594327107,
          0.2365064789307213,
          0.2314049586776859,
          0.22548719518416482,
          0.21875318845015812,
          0.21120293847566574,
          0.20283644526068756,
          0.19365370880522392,
          0.1836547291092745,
          0.17283950617283939,
          0.1612080399959186,
          0.14876033057851235,
          0.1354963779206203,
          0.12141618202224247,
          0.10651974288337918,
          0.09080706050402998,
          0.07427813488419532,
          0.0569329660238751,
          0.03877155392306886,
          0.01979389858177727,
          0
         ]
        },
        {
         "line": {
          "color": "blue",
          "width": 2
         },
         "mode": "lines",
         "name": "curve",
         "type": "scatter",
         "x": [
          0,
          -0.01979389858177738,
          -0.03877155392306908,
          -0.0569329660238751,
          -0.07427813488419543,
          -0.0908070605040302,
          -0.10651974288337929,
          -0.12141618202224269,
          -0.13549637792062041,
          -0.14876033057851246,
          -0.16120803999591882,
          -0.1728395061728395,
          -0.1836547291092746,
          -0.19365370880522392,
          -0.20283644526068767,
          -0.21120293847566574,
          -0.21875318845015818,
          -0.22548719518416488,
          -0.23140495867768596,
          -0.23650647893072135,
          -0.24079175594327112,
          -0.24426078971533516,
          -0.24691358024691357,
          -0.24875012753800635,
          -0.2497704315886134,
          -0.24997449239873482,
          -0.24936230996837058,
          -0.24793388429752067,
          -0.24568921538618507,
          -0.24262830323436385,
          -0.23875114784205692,
          -0.23405774920926437,
          -0.22854810733598613,
          -0.2222222222222222,
          -0.2150800938679726,
          -0.20712172227323739,
          -0.19834710743801653,
          -0.18875624936230995,
          -0.1783491480461177,
          -0.1671258034894398,
          -0.15508621569227624,
          -0.142230384654627,
          -0.12855831037649218,
          -0.11406999285787162,
          -0.09876543209876538,
          -0.08264462809917349,
          -0.06570758085909592,
          -0.047954290378532695,
          -0.029384756657483906,
          -0.009998979695949348,
          0.010203040506070876,
          0.031221303948576883,
          0.05305581063156832,
          0.07570656055504542,
          0.09917355371900843,
          0.12345679012345685,
          0.1485562697683912,
          0.17447199265381094,
          0.20120395877971636,
          0.22875216814610771,
          0.2571166207529844,
          0.28629731660034713,
          0.3162942556881952,
          0.3471074380165292,
          0.37873686358534864,
          0.41118253239465363,
          0.4444444444444447,
          0.47852259973472105,
          0.5134169982654835,
          0.5491276400367311,
          0.5856545250484648,
          0.6229976533006838,
          0.6611570247933884,
          0.7001326395265792,
          0.7399244975002552,
          0.7805325987144174,
          0.8219569431690646,
          0.8641975308641976,
          0.9072543617998167,
          0.951127435975921,
          0.9958167533925114,
          1.041322314049587,
          1.0876441179471488,
          1.1347821650851957,
          1.1827364554637283,
          1.2315069890827472,
          1.281093765942251,
          1.331496786042241,
          1.3827160493827164,
          1.4347515559636779,
          1.4876033057851243,
          1.5412712988470565,
          1.595755535149475,
          1.6510560146923785,
          1.7071727374757684,
          1.7641057034996432,
          1.8218549127640038,
          1.8804203652688507,
          1.9398020610141824,
          2
         ],
         "y": [
          -2,
          -1.9398020610141822,
          -1.88042036526885,
          -1.8218549127640038,
          -1.764105703499643,
          -1.707172737475768,
          -1.6510560146923783,
          -1.5957555351494745,
          -1.5412712988470563,
          -1.487603305785124,
          -1.4347515559636772,
          -1.382716049382716,
          -1.3314967860422406,
          -1.2810937659422508,
          -1.2315069890827466,
          -1.1827364554637283,
          -1.1347821650851952,
          -1.0876441179471483,
          -1.0413223140495869,
          -0.9958167533925109,
          -0.9511274359759208,
          -0.9072543617998162,
          -0.8641975308641976,
          -0.8219569431690641,
          -0.7805325987144169,
          -0.739924497500255,
          -0.7001326395265788,
          -0.6611570247933882,
          -0.6229976533006835,
          -0.5856545250484644,
          -0.5491276400367309,
          -0.513416998265483,
          -0.47852259973472083,
          -0.4444444444444443,
          -0.41118253239465347,
          -0.37873686358534825,
          -0.3471074380165289,
          -0.316294255688195,
          -0.2862973166003468,
          -0.25711662075298425,
          -0.2287521681461074,
          -0.2012039587797162,
          -0.1744719926538108,
          -0.14855626976839093,
          -0.12345679012345671,
          -0.09917355371900817,
          -0.0757065605550453,
          -0.05305581063156808,
          -0.031221303948576647,
          -0.010203040506070762,
          0.009998979695949456,
          0.029384756657484114,
          0.047954290378532896,
          0.06570758085909602,
          0.08264462809917367,
          0.09876543209876547,
          0.11406999285787178,
          0.12855831037649226,
          0.14223038465462706,
          0.15508621569227637,
          0.16712580348943987,
          0.17834914804611784,
          0.18875624936231,
          0.19834710743801662,
          0.20712172227323747,
          0.21508009386797267,
          0.22222222222222227,
          0.22854810733598613,
          0.23405774920926442,
          0.23875114784205695,
          0.24262830323436388,
          0.2456892153861851,
          0.24793388429752067,
          0.24936230996837058,
          0.24997449239873482,
          0.2497704315886134,
          0.2487501275380063,
          0.24691358024691357,
          0.24426078971533516,
          0.24079175594327107,
          0.2365064789307213,
          0.2314049586776859,
          0.22548719518416482,
          0.21875318845015812,
          0.21120293847566574,
          0.20283644526068756,
          0.19365370880522392,
          0.1836547291092745,
          0.17283950617283939,
          0.1612080399959186,
          0.14876033057851235,
          0.1354963779206203,
          0.12141618202224247,
          0.10651974288337918,
          0.09080706050402998,
          0.07427813488419532,
          0.0569329660238751,
          0.03877155392306886,
          0.01979389858177727,
          0
         ]
        }
       ],
       "frames": [
        {
         "data": [
          {
           "line": {
            "color": "red",
            "width": 2
           },
           "mode": "lines",
           "type": "scatter",
           "x": [
            0,
            -0.31622776601683794,
            null,
            0,
            -0.9486832980505138
           ],
           "y": [
            -2,
            -1.0513167019494862,
            null,
            -2,
            -2.316227766016838
           ]
          }
         ]
        },
        {
         "data": [
          {
           "line": {
            "color": "red",
            "width": 2
           },
           "mode": "lines",
           "type": "scatter",
           "x": [
            -0.03915035401915867,
            -0.3393238377195191,
            null,
            -0.03915035401915867,
            -0.993034980000304
           ],
           "y": [
            -1.8792169929196167,
            -0.9253323669384714,
            null,
            -1.8792169929196167,
            -2.179390476619977
           ]
          }
         ]
        },
        {
         "data": [
          {
           "line": {
            "color": "red",
            "width": 2
           },
           "mode": "lines",
           "type": "scatter",
           "x": [
            -0.07496876301541022,
            -0.3578821705994959,
            null,
            -0.07496876301541022,
            -1.034114217995603
           ],
           "y": [
            -1.7617659308621407,
            -0.802620475881948,
            null,
            -1.7617659308621407,
            -2.0446793384462265
           ]
          }
         ]
        },
        {
         "data": [
          {
           "line": {
            "color": "red",
            "width": 2
           },
           "mode": "lines",
           "type": "scatter",
           "x": [
            -0.10745522698875476,
            -0.3717814024593075,
            null,
            -0.10745522698875476,
            -1.0718885699218528
           ],
           "y": [
            -1.6476468138275717,
            -0.6832134708944737,
            null,
            -1.6476468138275717,
            -1.9119729892981245
           ]
          }
         ]
        },
        {
         "data": [
          {
           "line": {
            "color": "red",
            "width": 2
           },
           "mode": "lines",
           "type": "scatter",
           "x": [
            -0.13660974593919195,
            -0.3808867053044017,
            null,
            -0.13660974593919195,
            -1.1063152512980547
           ],
           "y": [
            -1.5368596418159102,
            -0.5671541364570473,
            null,
            -1.5368596418159102,
            -1.78113660118112
           ]
          }
         ]
        },
        {
         "data": [
          {
           "line": {
            "color": "red",
            "width": 2
           },
           "mode": "lines",
           "type": "scatter",
           "x": [
            -0.16243231986672224,
            -0.385048679567361,
            null,
            -0.16243231986672224,
            -1.1373384468315884
           ],
           "y": [
            -1.4294044148271552,
            -0.45449828786228896,
            null,
            -1.4294044148271552,
            -1.652020774527794
           ]
          }
         ]
        },
        {
         "data": [
          {
           "line": {
            "color": "red",
            "width": 2
           },
           "mode": "lines",
           "type": "scatter",
           "x": [
            -0.1849229487713453,
            -0.38410242596739685,
            null,
            -0.1849229487713453,
            -1.164885976575919
           ],
           "y": [
            -1.3252811328613077,
            -0.345318105056734,
            null,
            -1.3252811328613077,
            -1.5244606100573592
           ]
          }
         ]
        },
        {
         "data": [
          {
           "line": {
            "color": "red",
            "width": 2
           },
           "mode": "lines",
           "type": "scatter",
           "x": [
            -0.20408163265306123,
            -0.37786696656210894,
            null,
            -0.20408163265306123,
            -1.188865191470998
           ],
           "y": [
            -1.2244897959183674,
            -0.23970623710043049,
            null,
            -1.2244897959183674,
            -1.398275129827415
           ]
          }
         ]
        },
        {
         "data": [
          {
           "line": {
            "color": "red",
            "width": 2
           },
           "mode": "lines",
           "type": "scatter",
           "x": [
            -0.21990837151187004,
            -0.3661452688111333,
            null,
            -0.21990837151187004,
            -1.2091579708892388
           ],
           "y": [
            -1.1270304039983343,
            -0.13778080462096554,
            null,
            -1.1270304039983343,
            -1.2732673012975977
           ]
          }
         ]
        },
        {
         "data": [
          {
           "line": {
            "color": "red",
            "width": 2
           },
           "mode": "lines",
           "type": "scatter",
           "x": [
            -0.23240316534777178,
            -0.3487252383164383,
            null,
            -0.23240316534777178,
            -1.2256147114648477
           ],
           "y": [
            -1.0329029571012078,
            -0.03969141098413198,
            null,
            -1.0329029571012078,
            -1.1492250300698743
           ]
          }
         ]
        },
        {
         "data": [
          {
           "line": {
            "color": "red",
            "width": 2
           },
           "mode": "lines",
           "type": "scatter",
           "x": [
            -0.24156601416076634,
            -0.3253821926585391,
            null,
            -0.24156601416076634,
            -1.238047247412065
           ],
           "y": [
            -0.9421074552269888,
            0.05437377802430987,
            null,
            -0.9421074552269888,
            -1.0259236337247617
           ]
          }
         ]
        },
        {
         "data": [
          {
           "line": {
            "color": "red",
            "width": 2
           },
           "mode": "lines",
           "type": "scatter",
           "x": [
            -0.24739691795085378,
            -0.2958835118063993,
            null,
            -0.24739691795085378,
            -1.2462207513750905
           ],
           "y": [
            -0.854643898375677,
            0.14417993504855964,
            null,
            -0.854643898375677,
            -0.9031304922312225
           ]
          }
         ]
        },
        {
         "data": [
          {
           "line": {
            "color": "red",
            "width": 2
           },
           "mode": "lines",
           "type": "scatter",
           "x": [
            -0.24989587671803415,
            -0.25999637155339744,
            null,
            -0.24989587671803415,
            -1.2498448654189982
           ],
           "y": [
            -0.770512286547272,
            0.22943670215369205,
            null,
            -0.770512286547272,
            -0.7806127813826352
           ]
          }
         ]
        },
        {
         "data": [
          {
           "line": {
            "color": "red",
            "width": 2
           },
           "mode": "lines",
           "type": "scatter",
           "x": [
            -0.24906289046230737,
            -0.21749967706260556,
            null,
            -0.24906289046230737,
            -1.2485646481195338
           ],
           "y": [
            -0.6897126197417744,
            0.30978913791545193,
            null,
            -0.6897126197417744,
            -0.6581494063420726
           ]
          }
         ]
        },
        {
         "data": [
          {
           "line": {
            "color": "red",
            "width": 2
           },
           "mode": "lines",
           "type": "scatter",
           "x": [
            -0.24489795918367346,
            -0.16820146029893646,
            null,
            -0.24489795918367346,
            -1.241952444685255
           ],
           "y": [
            -0.6122448979591837,
            0.3848095875423979,
            null,
            -0.6122448979591837,
            -0.5355483990744467
           ]
          }
         ]
        },
        {
         "data": [
          {
           "line": {
            "color": "red",
            "width": 2
           },
           "mode": "lines",
           "type": "scatter",
           "x": [
            -0.23740108288213246,
            -0.11196296899275351,
            null,
            -0.23740108288213246,
            -1.2295025290981307
           ],
           "y": [
            -0.5381091211995004,
            0.4539923250164979,
            null,
            -0.5381091211995004,
            -0.4126710073101214
           ]
          }
         ]
        },
        {
         "data": [
          {
           "line": {
            "color": "red",
            "width": 2
           },
           "mode": "lines",
           "type": "scatter",
           "x": [
            -0.2265722615576843,
            -0.048730263660921314,
            null,
            -0.2265722615576843,
            -1.21063131658644
           ],
           "y": [
            -0.467305289462724,
            0.5167537655660317,
            null,
            -0.467305289462724,
            -0.28946329156596096
           ]
          }
         ]
        },
        {
         "data": [
          {
           "line": {
            "color": "red",
            "width": 2
           },
           "mode": "lines",
           "type": "scatter",
           "x": [
            -0.21241149521032904,
            0.021426910272655253,
            null,
            -0.21241149521032904,
            -1.1846869706395795
           ],
           "y": [
            -0.39983340274885465,
            0.5724420726803958,
            null,
            -0.39983340274885465,
            -0.16599499726587036
           ]
          }
         ]
        },
        {
         "data": [
          {
           "line": {
            "color": "red",
            "width": 2
           },
           "mode": "lines",
           "type": "scatter",
           "x": [
            -0.19491878384006667,
            0.09827117333995877,
            null,
            -0.19491878384006667,
            -1.1509729920358023
           ],
           "y": [
            -0.33569346105789266,
            0.6203607471378428,
            null,
            -0.33569346105789266,
            -0.04250350387786722
           ]
          }
         ]
        },
        {
         "data": [
          {
           "line": {
            "color": "red",
            "width": 2
           },
           "mode": "lines",
           "type": "scatter",
           "x": [
            -0.17409412744689715,
            0.18135369466782683,
            null,
            -0.17409412744689715,
            -1.1087902522670974
           ],
           "y": [
            -0.27488546438983763,
            0.6598106604303626,
            null,
            -0.27488546438983763,
            0.08056235772488635
           ]
          }
         ]
        },
        {
         "data": [
          {
           "line": {
            "color": "red",
            "width": 2
           },
           "mode": "lines",
           "type": "scatter",
           "x": [
            -0.14993752603082056,
            0.26997946008590906,
            null,
            -0.14993752603082056,
            -1.0575000444121399
           ],
           "y": [
            -0.21740941274468983,
            0.6901531056366293,
            null,
            -0.21740941274468983,
            0.20250757337203978
           ]
          }
         ]
        },
        {
         "data": [
          {
           "line": {
            "color": "red",
            "width": 2
           },
           "mode": "lines",
           "type": "scatter",
           "x": [
            -0.12244897959183677,
            0.36319395158679524,
            null,
            -0.12244897959183677,
            -0.9966062557133746
           ],
           "y": [
            -0.16326530612244905,
            0.7108919699990888,
            null,
            -0.16326530612244905,
            0.32237762505618295
           ]
          }
         ]
        },
        {
         "data": [
          {
           "line": {
            "color": "red",
            "width": 2
           },
           "mode": "lines",
           "type": "scatter",
           "x": [
            -0.09162848812994595,
            0.4598045256192662,
            null,
            -0.09162848812994595,
            -0.9258476627761903
           ],
           "y": [
            -0.1124531445231155,
            0.7217660301231289,
            null,
            -0.1124531445231155,
            0.43897986922609666
           ]
          }
         ]
        },
        {
         "data": [
          {
           "line": {
            "color": "red",
            "width": 2
           },
           "mode": "lines",
           "type": "scatter",
           "x": [
            -0.057476051645147914,
            0.5584459147523929,
            null,
            -0.057476051645147914,
            -0.845283217967584
           ],
           "y": [
            -0.06497292794668895,
            0.7228342383757471,
            null,
            -0.06497292794668895,
            0.5509490384508519
           ]
          }
         ]
        },
        {
         "data": [
          {
           "line": {
            "color": "red",
            "width": 2
           },
           "mode": "lines",
           "type": "scatter",
           "x": [
            -0.019991670137442755,
            0.6576893457185122,
            null,
            -0.019991670137442755,
            -0.755347666066245
           ],
           "y": [
            -0.020824656393169536,
            0.7145313395356327,
            null,
            -0.020824656393169536,
            0.6568563594627854
           ]
          }
         ]
        },
        {
         "data": [
          {
           "line": {
            "color": "red",
            "width": 2
           },
           "mode": "lines",
           "type": "scatter",
           "x": [
            0.020824656393169536,
            0.7561806523219718,
            null,
            0.020824656393169536,
            -0.6568563594627854
           ],
           "y": [
            0.019991670137442755,
            0.6976726859933977,
            null,
            0.019991670137442755,
            0.755347666066245
           ]
          }
         ]
        },
        {
         "data": [
          {
           "line": {
            "color": "red",
            "width": 2
           },
           "mode": "lines",
           "type": "scatter",
           "x": [
            0.06497292794668871,
            0.8527800942691247,
            null,
            0.06497292794668871,
            -0.5509490384508524
           ],
           "y": [
            0.05747605164514772,
            0.6733980180426888,
            null,
            0.05747605164514772,
            0.8452832179675837
           ]
          }
         ]
        },
        {
         "data": [
          {
           "line": {
            "color": "red",
            "width": 2
           },
           "mode": "lines",
           "type": "scatter",
           "x": [
            0.11245314452311524,
            0.9466723191693595,
            null,
            0.11245314452311524,
            -0.4389798692260973
           ],
           "y": [
            0.09162848812994577,
            0.6430615018791582,
            null,
            0.09162848812994577,
            0.9258476627761899
           ]
          }
         ]
        },
        {
         "data": [
          {
           "line": {
            "color": "red",
            "width": 2
           },
           "mode": "lines",
           "type": "scatter",
           "x": [
            0.16326530612244888,
            1.0374225822439866,
            null,
            0.16326530612244888,
            -0.3223776250561833
           ],
           "y": [
            0.12244897959183669,
            0.6080919107704689,
            null,
            0.12244897959183669,
            0.9966062557133744
           ]
          }
         ]
        },
        {
         "data": [
          {
           "line": {
            "color": "red",
            "width": 2
           },
           "mode": "lines",
           "type": "scatter",
           "x": [
            0.2174094127446897,
            1.124971931126009,
            null,
            0.2174094127446897,
            -0.2025075733720401
           ],
           "y": [
            0.14993752603082047,
            0.5698545121475502,
            null,
            0.14993752603082047,
            1.0575000444121396
           ]
          }
         ]
        },
        {
         "data": [
          {
           "line": {
            "color": "red",
            "width": 2
           },
           "mode": "lines",
           "type": "scatter",
           "x": [
            0.2748854643898373,
            1.2095815892100377,
            null,
            0.2748854643898373,
            -0.08056235772488707
           ],
           "y": [
            0.174094127446897,
            0.5295419495616214,
            null,
            0.174094127446897,
            1.1087902522670974
           ]
          }
         ]
        },
        {
         "data": [
          {
           "line": {
            "color": "red",
            "width": 2
           },
           "mode": "lines",
           "type": "scatter",
           "x": [
            0.33569346105789233,
            1.2917476692536278,
            null,
            0.33569346105789233,
            0.042503503877866555
           ],
           "y": [
            0.19491878384006656,
            0.48810874102009233,
            null,
            0.19491878384006656,
            1.150972992035802
           ]
          }
         ]
        },
        {
         "data": [
          {
           "line": {
            "color": "red",
            "width": 2
           },
           "mode": "lines",
           "type": "scatter",
           "x": [
            0.3998334027488545,
            1.372108878178105,
            null,
            0.3998334027488545,
            0.16599499726587003
           ],
           "y": [
            0.21241149521032898,
            0.44624990069331344,
            null,
            0.21241149521032898,
            1.1846869706395795
           ]
          }
         ]
        },
        {
         "data": [
          {
           "line": {
            "color": "red",
            "width": 2
           },
           "mode": "lines",
           "type": "scatter",
           "x": [
            0.46730528946272376,
            1.4513643444914797,
            null,
            0.46730528946272376,
            0.2894632915659606
           ],
           "y": [
            0.22657226155768428,
            0.4044142594544474,
            null,
            0.22657226155768428,
            1.21063131658644
           ]
          }
         ]
        },
        {
         "data": [
          {
           "line": {
            "color": "red",
            "width": 2
           },
           "mode": "lines",
           "type": "scatter",
           "x": [
            0.5381091211995002,
            1.5302105674154984,
            null,
            0.5381091211995002,
            0.4126710073101211
           ],
           "y": [
            0.23740108288213244,
            0.36283919677151155,
            null,
            0.23740108288213244,
            1.2295025290981307
           ]
          }
         ]
        },
        {
         "data": [
          {
           "line": {
            "color": "red",
            "width": 2
           },
           "mode": "lines",
           "type": "scatter",
           "x": [
            0.6122448979591834,
            1.609299383460765,
            null,
            0.6122448979591834,
            0.5355483990744461
           ],
           "y": [
            0.24489795918367344,
            0.3215944580684107,
            null,
            0.24489795918367344,
            1.241952444685255
           ]
          }
         ]
        },
        {
         "data": [
          {
           "line": {
            "color": "red",
            "width": 2
           },
           "mode": "lines",
           "type": "scatter",
           "x": [
            0.689712619741774,
            1.6892143773990003,
            null,
            0.689712619741774,
            0.658149406342072
           ],
           "y": [
            0.24906289046230737,
            0.2806261038620094,
            null,
            0.24906289046230737,
            1.2485646481195338
           ]
          }
         ]
        },
        {
         "data": [
          {
           "line": {
            "color": "red",
            "width": 2
           },
           "mode": "lines",
           "type": "scatter",
           "x": [
            0.7705122865472718,
            1.7704612752482358,
            null,
            0.7705122865472718,
            0.7806127813826349
           ],
           "y": [
            0.24989587671803415,
            0.23979538188267097,
            null,
            0.24989587671803415,
            1.2498448654189982
           ]
          }
         ]
        },
        {
         "data": [
          {
           "line": {
            "color": "red",
            "width": 2
           },
           "mode": "lines",
           "type": "scatter",
           "x": [
            0.8546438983756767,
            1.8534677317999133,
            null,
            0.8546438983756767,
            0.9031304922312221
           ],
           "y": [
            0.24739691795085383,
            0.1989103240953084,
            null,
            0.24739691795085383,
            1.2462207513750905
           ]
          }
         ]
        },
        {
         "data": [
          {
           "line": {
            "color": "red",
            "width": 2
           },
           "mode": "lines",
           "type": "scatter",
           "x": [
            0.9421074552269882,
            1.938588688478287,
            null,
            0.9421074552269882,
            1.0259236337247608
           ],
           "y": [
            0.2415660141607664,
            0.1577498356629938,
            null,
            0.2415660141607664,
            1.238047247412065
           ]
          }
         ]
        },
        {
         "data": [
          {
           "line": {
            "color": "red",
            "width": 2
           },
           "mode": "lines",
           "type": "scatter",
           "x": [
            1.0329029571012074,
            2.0261145032182832,
            null,
            1.0329029571012074,
            1.1492250300698739
           ],
           "y": [
            0.23240316534777183,
            0.11608109237910544,
            null,
            0.23240316534777183,
            1.2256147114648477
           ]
          }
         ]
        },
        {
         "data": [
          {
           "line": {
            "color": "red",
            "width": 2
           },
           "mode": "lines",
           "type": "scatter",
           "x": [
            1.1270304039983337,
            2.1162800033757025,
            null,
            1.1270304039983337,
            1.2732673012975968
           ],
           "y": [
            0.2199083715118701,
            0.07367147421260697,
            null,
            0.2199083715118701,
            1.2091579708892388
           ]
          }
         ]
        },
        {
         "data": [
          {
           "line": {
            "color": "red",
            "width": 2
           },
           "mode": "lines",
           "type": "scatter",
           "x": [
            1.2244897959183672,
            2.209273354736304,
            null,
            1.2244897959183672,
            1.3982751298274148
           ],
           "y": [
            0.20408163265306123,
            0.030296298744013628,
            null,
            0.20408163265306123,
            1.188865191470998
           ]
          }
         ]
        },
        {
         "data": [
          {
           "line": {
            "color": "red",
            "width": 2
           },
           "mode": "lines",
           "type": "scatter",
           "x": [
            1.3252811328613077,
            2.3052441606658816,
            null,
            1.3252811328613077,
            1.5244606100573592
           ],
           "y": [
            0.1849229487713453,
            -0.014256528424706233,
            null,
            0.1849229487713453,
            1.164885976575919
           ]
          }
         ]
        },
        {
         "data": [
          {
           "line": {
            "color": "red",
            "width": 2
           },
           "mode": "lines",
           "type": "scatter",
           "x": [
            1.4294044148271547,
            2.4043105417920208,
            null,
            1.4294044148271547,
            1.6520207745277933
           ],
           "y": [
            0.16243231986672235,
            -0.060184039833916264,
            null,
            0.16243231986672235,
            1.1373384468315886
           ]
          }
         ]
        },
        {
         "data": [
          {
           "line": {
            "color": "red",
            "width": 2
           },
           "mode": "lines",
           "type": "scatter",
           "x": [
            1.5368596418159095,
            2.5065651471747725,
            null,
            1.5368596418159095,
            1.7811366011811192
           ],
           "y": [
            0.13660974593919217,
            -0.10766721342601746,
            null,
            0.13660974593919217,
            1.1063152512980552
           ]
          }
         ]
        },
        {
         "data": [
          {
           "line": {
            "color": "red",
            "width": 2
           },
           "mode": "lines",
           "type": "scatter",
           "x": [
            1.6476468138275715,
            2.6120801567606695,
            null,
            1.6476468138275715,
            1.9119729892981243
           ],
           "y": [
            0.10745522698875476,
            -0.15687094848179794,
            null,
            0.10745522698875476,
            1.0718885699218528
           ]
          }
         ]
        },
        {
         "data": [
          {
           "line": {
            "color": "red",
            "width": 2
           },
           "mode": "lines",
           "type": "scatter",
           "x": [
            1.7617659308621405,
            2.7209113858423333,
            null,
            1.7617659308621405,
            2.044679338446226
           ],
           "y": [
            0.07496876301541033,
            -0.20794464456867529,
            null,
            0.07496876301541033,
            1.034114217995603
           ]
          }
         ]
        },
        {
         "data": [
          {
           "line": {
            "color": "red",
            "width": 2
           },
           "mode": "lines",
           "type": "scatter",
           "x": [
            1.8792169929196167,
            2.833101618900762,
            null,
            1.8792169929196167,
            2.179390476619977
           ],
           "y": [
            0.03915035401915867,
            -0.2610231296812017,
            null,
            0.03915035401915867,
            0.993034980000304
           ]
          }
         ]
        },
        {
         "data": [
          {
           "line": {
            "color": "red",
            "width": 2
           },
           "mode": "lines",
           "type": "scatter",
           "x": [
            2,
            2.948683298050514,
            null,
            2,
            2.316227766016838
           ],
           "y": [
            0,
            -0.31622776601683794,
            null,
            0,
            0.9486832980505138
           ]
          }
         ]
        }
       ],
       "layout": {
        "height": 600,
        "hovermode": "closest",
        "template": {
         "data": {
          "bar": [
           {
            "error_x": {
             "color": "#2a3f5f"
            },
            "error_y": {
             "color": "#2a3f5f"
            },
            "marker": {
             "line": {
              "color": "#E5ECF6",
              "width": 0.5
             }
            },
            "type": "bar"
           }
          ],
          "barpolar": [
           {
            "marker": {
             "line": {
              "color": "#E5ECF6",
              "width": 0.5
             }
            },
            "type": "barpolar"
           }
          ],
          "carpet": [
           {
            "aaxis": {
             "endlinecolor": "#2a3f5f",
             "gridcolor": "white",
             "linecolor": "white",
             "minorgridcolor": "white",
             "startlinecolor": "#2a3f5f"
            },
            "baxis": {
             "endlinecolor": "#2a3f5f",
             "gridcolor": "white",
             "linecolor": "white",
             "minorgridcolor": "white",
             "startlinecolor": "#2a3f5f"
            },
            "type": "carpet"
           }
          ],
          "choropleth": [
           {
            "colorbar": {
             "outlinewidth": 0,
             "ticks": ""
            },
            "type": "choropleth"
           }
          ],
          "contour": [
           {
            "colorbar": {
             "outlinewidth": 0,
             "ticks": ""
            },
            "colorscale": [
             [
              0,
              "#0d0887"
             ],
             [
              0.1111111111111111,
              "#46039f"
             ],
             [
              0.2222222222222222,
              "#7201a8"
             ],
             [
              0.3333333333333333,
              "#9c179e"
             ],
             [
              0.4444444444444444,
              "#bd3786"
             ],
             [
              0.5555555555555556,
              "#d8576b"
             ],
             [
              0.6666666666666666,
              "#ed7953"
             ],
             [
              0.7777777777777778,
              "#fb9f3a"
             ],
             [
              0.8888888888888888,
              "#fdca26"
             ],
             [
              1,
              "#f0f921"
             ]
            ],
            "type": "contour"
           }
          ],
          "contourcarpet": [
           {
            "colorbar": {
             "outlinewidth": 0,
             "ticks": ""
            },
            "type": "contourcarpet"
           }
          ],
          "heatmap": [
           {
            "colorbar": {
             "outlinewidth": 0,
             "ticks": ""
            },
            "colorscale": [
             [
              0,
              "#0d0887"
             ],
             [
              0.1111111111111111,
              "#46039f"
             ],
             [
              0.2222222222222222,
              "#7201a8"
             ],
             [
              0.3333333333333333,
              "#9c179e"
             ],
             [
              0.4444444444444444,
              "#bd3786"
             ],
             [
              0.5555555555555556,
              "#d8576b"
             ],
             [
              0.6666666666666666,
              "#ed7953"
             ],
             [
              0.7777777777777778,
              "#fb9f3a"
             ],
             [
              0.8888888888888888,
              "#fdca26"
             ],
             [
              1,
              "#f0f921"
             ]
            ],
            "type": "heatmap"
           }
          ],
          "heatmapgl": [
           {
            "colorbar": {
             "outlinewidth": 0,
             "ticks": ""
            },
            "colorscale": [
             [
              0,
              "#0d0887"
             ],
             [
              0.1111111111111111,
              "#46039f"
             ],
             [
              0.2222222222222222,
              "#7201a8"
             ],
             [
              0.3333333333333333,
              "#9c179e"
             ],
             [
              0.4444444444444444,
              "#bd3786"
             ],
             [
              0.5555555555555556,
              "#d8576b"
             ],
             [
              0.6666666666666666,
              "#ed7953"
             ],
             [
              0.7777777777777778,
              "#fb9f3a"
             ],
             [
              0.8888888888888888,
              "#fdca26"
             ],
             [
              1,
              "#f0f921"
             ]
            ],
            "type": "heatmapgl"
           }
          ],
          "histogram": [
           {
            "marker": {
             "colorbar": {
              "outlinewidth": 0,
              "ticks": ""
             }
            },
            "type": "histogram"
           }
          ],
          "histogram2d": [
           {
            "colorbar": {
             "outlinewidth": 0,
             "ticks": ""
            },
            "colorscale": [
             [
              0,
              "#0d0887"
             ],
             [
              0.1111111111111111,
              "#46039f"
             ],
             [
              0.2222222222222222,
              "#7201a8"
             ],
             [
              0.3333333333333333,
              "#9c179e"
             ],
             [
              0.4444444444444444,
              "#bd3786"
             ],
             [
              0.5555555555555556,
              "#d8576b"
             ],
             [
              0.6666666666666666,
              "#ed7953"
             ],
             [
              0.7777777777777778,
              "#fb9f3a"
             ],
             [
              0.8888888888888888,
              "#fdca26"
             ],
             [
              1,
              "#f0f921"
             ]
            ],
            "type": "histogram2d"
           }
          ],
          "histogram2dcontour": [
           {
            "colorbar": {
             "outlinewidth": 0,
             "ticks": ""
            },
            "colorscale": [
             [
              0,
              "#0d0887"
             ],
             [
              0.1111111111111111,
              "#46039f"
             ],
             [
              0.2222222222222222,
              "#7201a8"
             ],
             [
              0.3333333333333333,
              "#9c179e"
             ],
             [
              0.4444444444444444,
              "#bd3786"
             ],
             [
              0.5555555555555556,
              "#d8576b"
             ],
             [
              0.6666666666666666,
              "#ed7953"
             ],
             [
              0.7777777777777778,
              "#fb9f3a"
             ],
             [
              0.8888888888888888,
              "#fdca26"
             ],
             [
              1,
              "#f0f921"
             ]
            ],
            "type": "histogram2dcontour"
           }
          ],
          "mesh3d": [
           {
            "colorbar": {
             "outlinewidth": 0,
             "ticks": ""
            },
            "type": "mesh3d"
           }
          ],
          "parcoords": [
           {
            "line": {
             "colorbar": {
              "outlinewidth": 0,
              "ticks": ""
             }
            },
            "type": "parcoords"
           }
          ],
          "pie": [
           {
            "automargin": true,
            "type": "pie"
           }
          ],
          "scatter": [
           {
            "marker": {
             "colorbar": {
              "outlinewidth": 0,
              "ticks": ""
             }
            },
            "type": "scatter"
           }
          ],
          "scatter3d": [
           {
            "line": {
             "colorbar": {
              "outlinewidth": 0,
              "ticks": ""
             }
            },
            "marker": {
             "colorbar": {
              "outlinewidth": 0,
              "ticks": ""
             }
            },
            "type": "scatter3d"
           }
          ],
          "scattercarpet": [
           {
            "marker": {
             "colorbar": {
              "outlinewidth": 0,
              "ticks": ""
             }
            },
            "type": "scattercarpet"
           }
          ],
          "scattergeo": [
           {
            "marker": {
             "colorbar": {
              "outlinewidth": 0,
              "ticks": ""
             }
            },
            "type": "scattergeo"
           }
          ],
          "scattergl": [
           {
            "marker": {
             "colorbar": {
              "outlinewidth": 0,
              "ticks": ""
             }
            },
            "type": "scattergl"
           }
          ],
          "scattermapbox": [
           {
            "marker": {
             "colorbar": {
              "outlinewidth": 0,
              "ticks": ""
             }
            },
            "type": "scattermapbox"
           }
          ],
          "scatterpolar": [
           {
            "marker": {
             "colorbar": {
              "outlinewidth": 0,
              "ticks": ""
             }
            },
            "type": "scatterpolar"
           }
          ],
          "scatterpolargl": [
           {
            "marker": {
             "colorbar": {
              "outlinewidth": 0,
              "ticks": ""
             }
            },
            "type": "scatterpolargl"
           }
          ],
          "scatterternary": [
           {
            "marker": {
             "colorbar": {
              "outlinewidth": 0,
              "ticks": ""
             }
            },
            "type": "scatterternary"
           }
          ],
          "surface": [
           {
            "colorbar": {
             "outlinewidth": 0,
             "ticks": ""
            },
            "colorscale": [
             [
              0,
              "#0d0887"
             ],
             [
              0.1111111111111111,
              "#46039f"
             ],
             [
              0.2222222222222222,
              "#7201a8"
             ],
             [
              0.3333333333333333,
              "#9c179e"
             ],
             [
              0.4444444444444444,
              "#bd3786"
             ],
             [
              0.5555555555555556,
              "#d8576b"
             ],
             [
              0.6666666666666666,
              "#ed7953"
             ],
             [
              0.7777777777777778,
              "#fb9f3a"
             ],
             [
              0.8888888888888888,
              "#fdca26"
             ],
             [
              1,
              "#f0f921"
             ]
            ],
            "type": "surface"
           }
          ],
          "table": [
           {
            "cells": {
             "fill": {
              "color": "#EBF0F8"
             },
             "line": {
              "color": "white"
             }
            },
            "header": {
             "fill": {
              "color": "#C8D4E3"
             },
             "line": {
              "color": "white"
             }
            },
            "type": "table"
           }
          ]
         },
         "layout": {
          "annotationdefaults": {
           "arrowcolor": "#2a3f5f",
           "arrowhead": 0,
           "arrowwidth": 1
          },
          "coloraxis": {
           "colorbar": {
            "outlinewidth": 0,
            "ticks": ""
           }
          },
          "colorscale": {
           "diverging": [
            [
             0,
             "#8e0152"
            ],
            [
             0.1,
             "#c51b7d"
            ],
            [
             0.2,
             "#de77ae"
            ],
            [
             0.3,
             "#f1b6da"
            ],
            [
             0.4,
             "#fde0ef"
            ],
            [
             0.5,
             "#f7f7f7"
            ],
            [
             0.6,
             "#e6f5d0"
            ],
            [
             0.7,
             "#b8e186"
            ],
            [
             0.8,
             "#7fbc41"
            ],
            [
             0.9,
             "#4d9221"
            ],
            [
             1,
             "#276419"
            ]
           ],
           "sequential": [
            [
             0,
             "#0d0887"
            ],
            [
             0.1111111111111111,
             "#46039f"
            ],
            [
             0.2222222222222222,
             "#7201a8"
            ],
            [
             0.3333333333333333,
             "#9c179e"
            ],
            [
             0.4444444444444444,
             "#bd3786"
            ],
            [
             0.5555555555555556,
             "#d8576b"
            ],
            [
             0.6666666666666666,
             "#ed7953"
            ],
            [
             0.7777777777777778,
             "#fb9f3a"
            ],
            [
             0.8888888888888888,
             "#fdca26"
            ],
            [
             1,
             "#f0f921"
            ]
           ],
           "sequentialminus": [
            [
             0,
             "#0d0887"
            ],
            [
             0.1111111111111111,
             "#46039f"
            ],
            [
             0.2222222222222222,
             "#7201a8"
            ],
            [
             0.3333333333333333,
             "#9c179e"
            ],
            [
             0.4444444444444444,
             "#bd3786"
            ],
            [
             0.5555555555555556,
             "#d8576b"
            ],
            [
             0.6666666666666666,
             "#ed7953"
            ],
            [
             0.7777777777777778,
             "#fb9f3a"
            ],
            [
             0.8888888888888888,
             "#fdca26"
            ],
            [
             1,
             "#f0f921"
            ]
           ]
          },
          "colorway": [
           "#636efa",
           "#EF553B",
           "#00cc96",
           "#ab63fa",
           "#FFA15A",
           "#19d3f3",
           "#FF6692",
           "#B6E880",
           "#FF97FF",
           "#FECB52"
          ],
          "font": {
           "color": "#2a3f5f"
          },
          "geo": {
           "bgcolor": "white",
           "lakecolor": "white",
           "landcolor": "#E5ECF6",
           "showlakes": true,
           "showland": true,
           "subunitcolor": "white"
          },
          "hoverlabel": {
           "align": "left"
          },
          "hovermode": "closest",
          "mapbox": {
           "style": "light"
          },
          "paper_bgcolor": "white",
          "plot_bgcolor": "#E5ECF6",
          "polar": {
           "angularaxis": {
            "gridcolor": "white",
            "linecolor": "white",
            "ticks": ""
           },
           "bgcolor": "#E5ECF6",
           "radialaxis": {
            "gridcolor": "white",
            "linecolor": "white",
            "ticks": ""
           }
          },
          "scene": {
           "xaxis": {
            "backgroundcolor": "#E5ECF6",
            "gridcolor": "white",
            "gridwidth": 2,
            "linecolor": "white",
            "showbackground": true,
            "ticks": "",
            "zerolinecolor": "white"
           },
           "yaxis": {
            "backgroundcolor": "#E5ECF6",
            "gridcolor": "white",
            "gridwidth": 2,
            "linecolor": "white",
            "showbackground": true,
            "ticks": "",
            "zerolinecolor": "white"
           },
           "zaxis": {
            "backgroundcolor": "#E5ECF6",
            "gridcolor": "white",
            "gridwidth": 2,
            "linecolor": "white",
            "showbackground": true,
            "ticks": "",
            "zerolinecolor": "white"
           }
          },
          "shapedefaults": {
           "line": {
            "color": "#2a3f5f"
           }
          },
          "ternary": {
           "aaxis": {
            "gridcolor": "white",
            "linecolor": "white",
            "ticks": ""
           },
           "baxis": {
            "gridcolor": "white",
            "linecolor": "white",
            "ticks": ""
           },
           "bgcolor": "#E5ECF6",
           "caxis": {
            "gridcolor": "white",
            "linecolor": "white",
            "ticks": ""
           }
          },
          "title": {
           "x": 0.05
          },
          "xaxis": {
           "automargin": true,
           "gridcolor": "white",
           "linecolor": "white",
           "ticks": "",
           "title": {
            "standoff": 15
           },
           "zerolinecolor": "white",
           "zerolinewidth": 2
          },
          "yaxis": {
           "automargin": true,
           "gridcolor": "white",
           "linecolor": "white",
           "ticks": "",
           "title": {
            "standoff": 15
           },
           "zerolinecolor": "white",
           "zerolinewidth": 2
          }
         }
        },
        "title": {
         "text": "Moving Frenet Frame Along a Planar Curve"
        },
        "updatemenus": [
         {
          "buttons": [
           {
            "args": [
             null
            ],
            "label": "Play",
            "method": "animate"
           }
          ],
          "type": "buttons"
         }
        ],
        "width": 600,
        "xaxis": {
         "autorange": false,
         "range": [
          -1.7499744923987348,
          3.5
         ],
         "zeroline": false
        },
        "yaxis": {
         "autorange": false,
         "range": [
          -3.5,
          1.7499744923987348
         ],
         "zeroline": false
        }
       }
      },
      "text/html": [
       "<div>\n",
       "        \n",
       "        \n",
       "            <div id=\"e4317886-6197-44b6-8d3d-847132da480f\" class=\"plotly-graph-div\" style=\"height:600px; width:600px;\"></div>\n",
       "            <script type=\"text/javascript\">\n",
       "                require([\"plotly\"], function(Plotly) {\n",
       "                    window.PLOTLYENV=window.PLOTLYENV || {};\n",
       "                    \n",
       "                if (document.getElementById(\"e4317886-6197-44b6-8d3d-847132da480f\")) {\n",
       "                    Plotly.newPlot(\n",
       "                        'e4317886-6197-44b6-8d3d-847132da480f',\n",
       "                        [{\"line\": {\"color\": \"blue\", \"width\": 2}, \"mode\": \"lines\", \"name\": \"frame\", \"type\": \"scatter\", \"x\": [0.0, -0.01979389858177738, -0.03877155392306908, -0.0569329660238751, -0.07427813488419543, -0.0908070605040302, -0.10651974288337929, -0.12141618202224269, -0.13549637792062041, -0.14876033057851246, -0.16120803999591882, -0.1728395061728395, -0.1836547291092746, -0.19365370880522392, -0.20283644526068767, -0.21120293847566574, -0.21875318845015818, -0.22548719518416488, -0.23140495867768596, -0.23650647893072135, -0.24079175594327112, -0.24426078971533516, -0.24691358024691357, -0.24875012753800635, -0.2497704315886134, -0.24997449239873482, -0.24936230996837058, -0.24793388429752067, -0.24568921538618507, -0.24262830323436385, -0.23875114784205692, -0.23405774920926437, -0.22854810733598613, -0.2222222222222222, -0.2150800938679726, -0.20712172227323739, -0.19834710743801653, -0.18875624936230995, -0.1783491480461177, -0.1671258034894398, -0.15508621569227624, -0.142230384654627, -0.12855831037649218, -0.11406999285787162, -0.09876543209876538, -0.08264462809917349, -0.06570758085909592, -0.047954290378532695, -0.029384756657483906, -0.009998979695949348, 0.010203040506070876, 0.031221303948576883, 0.05305581063156832, 0.07570656055504542, 0.09917355371900843, 0.12345679012345685, 0.1485562697683912, 0.17447199265381094, 0.20120395877971636, 0.22875216814610771, 0.2571166207529844, 0.28629731660034713, 0.3162942556881952, 0.3471074380165292, 0.37873686358534864, 0.41118253239465363, 0.4444444444444447, 0.47852259973472105, 0.5134169982654835, 0.5491276400367311, 0.5856545250484648, 0.6229976533006838, 0.6611570247933884, 0.7001326395265792, 0.7399244975002552, 0.7805325987144174, 0.8219569431690646, 0.8641975308641976, 0.9072543617998167, 0.951127435975921, 0.9958167533925114, 1.041322314049587, 1.0876441179471488, 1.1347821650851957, 1.1827364554637283, 1.2315069890827472, 1.281093765942251, 1.331496786042241, 1.3827160493827164, 1.4347515559636779, 1.4876033057851243, 1.5412712988470565, 1.595755535149475, 1.6510560146923785, 1.7071727374757684, 1.7641057034996432, 1.8218549127640038, 1.8804203652688507, 1.9398020610141824, 2.0], \"y\": [-2.0, -1.9398020610141822, -1.88042036526885, -1.8218549127640038, -1.764105703499643, -1.707172737475768, -1.6510560146923783, -1.5957555351494745, -1.5412712988470563, -1.487603305785124, -1.4347515559636772, -1.382716049382716, -1.3314967860422406, -1.2810937659422508, -1.2315069890827466, -1.1827364554637283, -1.1347821650851952, -1.0876441179471483, -1.0413223140495869, -0.9958167533925109, -0.9511274359759208, -0.9072543617998162, -0.8641975308641976, -0.8219569431690641, -0.7805325987144169, -0.739924497500255, -0.7001326395265788, -0.6611570247933882, -0.6229976533006835, -0.5856545250484644, -0.5491276400367309, -0.513416998265483, -0.47852259973472083, -0.4444444444444443, -0.41118253239465347, -0.37873686358534825, -0.3471074380165289, -0.316294255688195, -0.2862973166003468, -0.25711662075298425, -0.2287521681461074, -0.2012039587797162, -0.1744719926538108, -0.14855626976839093, -0.12345679012345671, -0.09917355371900817, -0.0757065605550453, -0.05305581063156808, -0.031221303948576647, -0.010203040506070762, 0.009998979695949456, 0.029384756657484114, 0.047954290378532896, 0.06570758085909602, 0.08264462809917367, 0.09876543209876547, 0.11406999285787178, 0.12855831037649226, 0.14223038465462706, 0.15508621569227637, 0.16712580348943987, 0.17834914804611784, 0.18875624936231, 0.19834710743801662, 0.20712172227323747, 0.21508009386797267, 0.22222222222222227, 0.22854810733598613, 0.23405774920926442, 0.23875114784205695, 0.24262830323436388, 0.2456892153861851, 0.24793388429752067, 0.24936230996837058, 0.24997449239873482, 0.2497704315886134, 0.2487501275380063, 0.24691358024691357, 0.24426078971533516, 0.24079175594327107, 0.2365064789307213, 0.2314049586776859, 0.22548719518416482, 0.21875318845015812, 0.21120293847566574, 0.20283644526068756, 0.19365370880522392, 0.1836547291092745, 0.17283950617283939, 0.1612080399959186, 0.14876033057851235, 0.1354963779206203, 0.12141618202224247, 0.10651974288337918, 0.09080706050402998, 0.07427813488419532, 0.0569329660238751, 0.03877155392306886, 0.01979389858177727, 0.0]}, {\"line\": {\"color\": \"blue\", \"width\": 2}, \"mode\": \"lines\", \"name\": \"curve\", \"type\": \"scatter\", \"x\": [0.0, -0.01979389858177738, -0.03877155392306908, -0.0569329660238751, -0.07427813488419543, -0.0908070605040302, -0.10651974288337929, -0.12141618202224269, -0.13549637792062041, -0.14876033057851246, -0.16120803999591882, -0.1728395061728395, -0.1836547291092746, -0.19365370880522392, -0.20283644526068767, -0.21120293847566574, -0.21875318845015818, -0.22548719518416488, -0.23140495867768596, -0.23650647893072135, -0.24079175594327112, -0.24426078971533516, -0.24691358024691357, -0.24875012753800635, -0.2497704315886134, -0.24997449239873482, -0.24936230996837058, -0.24793388429752067, -0.24568921538618507, -0.24262830323436385, -0.23875114784205692, -0.23405774920926437, -0.22854810733598613, -0.2222222222222222, -0.2150800938679726, -0.20712172227323739, -0.19834710743801653, -0.18875624936230995, -0.1783491480461177, -0.1671258034894398, -0.15508621569227624, -0.142230384654627, -0.12855831037649218, -0.11406999285787162, -0.09876543209876538, -0.08264462809917349, -0.06570758085909592, -0.047954290378532695, -0.029384756657483906, -0.009998979695949348, 0.010203040506070876, 0.031221303948576883, 0.05305581063156832, 0.07570656055504542, 0.09917355371900843, 0.12345679012345685, 0.1485562697683912, 0.17447199265381094, 0.20120395877971636, 0.22875216814610771, 0.2571166207529844, 0.28629731660034713, 0.3162942556881952, 0.3471074380165292, 0.37873686358534864, 0.41118253239465363, 0.4444444444444447, 0.47852259973472105, 0.5134169982654835, 0.5491276400367311, 0.5856545250484648, 0.6229976533006838, 0.6611570247933884, 0.7001326395265792, 0.7399244975002552, 0.7805325987144174, 0.8219569431690646, 0.8641975308641976, 0.9072543617998167, 0.951127435975921, 0.9958167533925114, 1.041322314049587, 1.0876441179471488, 1.1347821650851957, 1.1827364554637283, 1.2315069890827472, 1.281093765942251, 1.331496786042241, 1.3827160493827164, 1.4347515559636779, 1.4876033057851243, 1.5412712988470565, 1.595755535149475, 1.6510560146923785, 1.7071727374757684, 1.7641057034996432, 1.8218549127640038, 1.8804203652688507, 1.9398020610141824, 2.0], \"y\": [-2.0, -1.9398020610141822, -1.88042036526885, -1.8218549127640038, -1.764105703499643, -1.707172737475768, -1.6510560146923783, -1.5957555351494745, -1.5412712988470563, -1.487603305785124, -1.4347515559636772, -1.382716049382716, -1.3314967860422406, -1.2810937659422508, -1.2315069890827466, -1.1827364554637283, -1.1347821650851952, -1.0876441179471483, -1.0413223140495869, -0.9958167533925109, -0.9511274359759208, -0.9072543617998162, -0.8641975308641976, -0.8219569431690641, -0.7805325987144169, -0.739924497500255, -0.7001326395265788, -0.6611570247933882, -0.6229976533006835, -0.5856545250484644, -0.5491276400367309, -0.513416998265483, -0.47852259973472083, -0.4444444444444443, -0.41118253239465347, -0.37873686358534825, -0.3471074380165289, -0.316294255688195, -0.2862973166003468, -0.25711662075298425, -0.2287521681461074, -0.2012039587797162, -0.1744719926538108, -0.14855626976839093, -0.12345679012345671, -0.09917355371900817, -0.0757065605550453, -0.05305581063156808, -0.031221303948576647, -0.010203040506070762, 0.009998979695949456, 0.029384756657484114, 0.047954290378532896, 0.06570758085909602, 0.08264462809917367, 0.09876543209876547, 0.11406999285787178, 0.12855831037649226, 0.14223038465462706, 0.15508621569227637, 0.16712580348943987, 0.17834914804611784, 0.18875624936231, 0.19834710743801662, 0.20712172227323747, 0.21508009386797267, 0.22222222222222227, 0.22854810733598613, 0.23405774920926442, 0.23875114784205695, 0.24262830323436388, 0.2456892153861851, 0.24793388429752067, 0.24936230996837058, 0.24997449239873482, 0.2497704315886134, 0.2487501275380063, 0.24691358024691357, 0.24426078971533516, 0.24079175594327107, 0.2365064789307213, 0.2314049586776859, 0.22548719518416482, 0.21875318845015812, 0.21120293847566574, 0.20283644526068756, 0.19365370880522392, 0.1836547291092745, 0.17283950617283939, 0.1612080399959186, 0.14876033057851235, 0.1354963779206203, 0.12141618202224247, 0.10651974288337918, 0.09080706050402998, 0.07427813488419532, 0.0569329660238751, 0.03877155392306886, 0.01979389858177727, 0.0]}],\n",
       "                        {\"height\": 600, \"hovermode\": \"closest\", \"template\": {\"data\": {\"bar\": [{\"error_x\": {\"color\": \"#2a3f5f\"}, \"error_y\": {\"color\": \"#2a3f5f\"}, \"marker\": {\"line\": {\"color\": \"#E5ECF6\", \"width\": 0.5}}, \"type\": \"bar\"}], \"barpolar\": [{\"marker\": {\"line\": {\"color\": \"#E5ECF6\", \"width\": 0.5}}, \"type\": \"barpolar\"}], \"carpet\": [{\"aaxis\": {\"endlinecolor\": \"#2a3f5f\", \"gridcolor\": \"white\", \"linecolor\": \"white\", \"minorgridcolor\": \"white\", \"startlinecolor\": \"#2a3f5f\"}, \"baxis\": {\"endlinecolor\": \"#2a3f5f\", \"gridcolor\": \"white\", \"linecolor\": \"white\", \"minorgridcolor\": \"white\", \"startlinecolor\": \"#2a3f5f\"}, \"type\": \"carpet\"}], \"choropleth\": [{\"colorbar\": {\"outlinewidth\": 0, \"ticks\": \"\"}, \"type\": \"choropleth\"}], \"contour\": [{\"colorbar\": {\"outlinewidth\": 0, \"ticks\": \"\"}, \"colorscale\": [[0.0, \"#0d0887\"], [0.1111111111111111, \"#46039f\"], [0.2222222222222222, \"#7201a8\"], [0.3333333333333333, \"#9c179e\"], [0.4444444444444444, \"#bd3786\"], [0.5555555555555556, \"#d8576b\"], [0.6666666666666666, \"#ed7953\"], [0.7777777777777778, \"#fb9f3a\"], [0.8888888888888888, \"#fdca26\"], [1.0, \"#f0f921\"]], \"type\": \"contour\"}], \"contourcarpet\": [{\"colorbar\": {\"outlinewidth\": 0, \"ticks\": \"\"}, \"type\": \"contourcarpet\"}], \"heatmap\": [{\"colorbar\": {\"outlinewidth\": 0, \"ticks\": \"\"}, \"colorscale\": [[0.0, \"#0d0887\"], [0.1111111111111111, \"#46039f\"], [0.2222222222222222, \"#7201a8\"], [0.3333333333333333, \"#9c179e\"], [0.4444444444444444, \"#bd3786\"], [0.5555555555555556, \"#d8576b\"], [0.6666666666666666, \"#ed7953\"], [0.7777777777777778, \"#fb9f3a\"], [0.8888888888888888, \"#fdca26\"], [1.0, \"#f0f921\"]], \"type\": \"heatmap\"}], \"heatmapgl\": [{\"colorbar\": {\"outlinewidth\": 0, \"ticks\": \"\"}, \"colorscale\": [[0.0, \"#0d0887\"], [0.1111111111111111, \"#46039f\"], [0.2222222222222222, \"#7201a8\"], [0.3333333333333333, \"#9c179e\"], [0.4444444444444444, \"#bd3786\"], [0.5555555555555556, \"#d8576b\"], [0.6666666666666666, \"#ed7953\"], [0.7777777777777778, \"#fb9f3a\"], [0.8888888888888888, \"#fdca26\"], [1.0, \"#f0f921\"]], \"type\": \"heatmapgl\"}], \"histogram\": [{\"marker\": {\"colorbar\": {\"outlinewidth\": 0, \"ticks\": \"\"}}, \"type\": \"histogram\"}], \"histogram2d\": [{\"colorbar\": {\"outlinewidth\": 0, \"ticks\": \"\"}, \"colorscale\": [[0.0, \"#0d0887\"], [0.1111111111111111, \"#46039f\"], [0.2222222222222222, \"#7201a8\"], [0.3333333333333333, \"#9c179e\"], [0.4444444444444444, \"#bd3786\"], [0.5555555555555556, \"#d8576b\"], [0.6666666666666666, \"#ed7953\"], [0.7777777777777778, \"#fb9f3a\"], [0.8888888888888888, \"#fdca26\"], [1.0, \"#f0f921\"]], \"type\": \"histogram2d\"}], \"histogram2dcontour\": [{\"colorbar\": {\"outlinewidth\": 0, \"ticks\": \"\"}, \"colorscale\": [[0.0, \"#0d0887\"], [0.1111111111111111, \"#46039f\"], [0.2222222222222222, \"#7201a8\"], [0.3333333333333333, \"#9c179e\"], [0.4444444444444444, \"#bd3786\"], [0.5555555555555556, \"#d8576b\"], [0.6666666666666666, \"#ed7953\"], [0.7777777777777778, \"#fb9f3a\"], [0.8888888888888888, \"#fdca26\"], [1.0, \"#f0f921\"]], \"type\": \"histogram2dcontour\"}], \"mesh3d\": [{\"colorbar\": {\"outlinewidth\": 0, \"ticks\": \"\"}, \"type\": \"mesh3d\"}], \"parcoords\": [{\"line\": {\"colorbar\": {\"outlinewidth\": 0, \"ticks\": \"\"}}, \"type\": \"parcoords\"}], \"pie\": [{\"automargin\": true, \"type\": \"pie\"}], \"scatter\": [{\"marker\": {\"colorbar\": {\"outlinewidth\": 0, \"ticks\": \"\"}}, \"type\": \"scatter\"}], \"scatter3d\": [{\"line\": {\"colorbar\": {\"outlinewidth\": 0, \"ticks\": \"\"}}, \"marker\": {\"colorbar\": {\"outlinewidth\": 0, \"ticks\": \"\"}}, \"type\": \"scatter3d\"}], \"scattercarpet\": [{\"marker\": {\"colorbar\": {\"outlinewidth\": 0, \"ticks\": \"\"}}, \"type\": \"scattercarpet\"}], \"scattergeo\": [{\"marker\": {\"colorbar\": {\"outlinewidth\": 0, \"ticks\": \"\"}}, \"type\": \"scattergeo\"}], \"scattergl\": [{\"marker\": {\"colorbar\": {\"outlinewidth\": 0, \"ticks\": \"\"}}, \"type\": \"scattergl\"}], \"scattermapbox\": [{\"marker\": {\"colorbar\": {\"outlinewidth\": 0, \"ticks\": \"\"}}, \"type\": \"scattermapbox\"}], \"scatterpolar\": [{\"marker\": {\"colorbar\": {\"outlinewidth\": 0, \"ticks\": \"\"}}, \"type\": \"scatterpolar\"}], \"scatterpolargl\": [{\"marker\": {\"colorbar\": {\"outlinewidth\": 0, \"ticks\": \"\"}}, \"type\": \"scatterpolargl\"}], \"scatterternary\": [{\"marker\": {\"colorbar\": {\"outlinewidth\": 0, \"ticks\": \"\"}}, \"type\": \"scatterternary\"}], \"surface\": [{\"colorbar\": {\"outlinewidth\": 0, \"ticks\": \"\"}, \"colorscale\": [[0.0, \"#0d0887\"], [0.1111111111111111, \"#46039f\"], [0.2222222222222222, \"#7201a8\"], [0.3333333333333333, \"#9c179e\"], [0.4444444444444444, \"#bd3786\"], [0.5555555555555556, \"#d8576b\"], [0.6666666666666666, \"#ed7953\"], [0.7777777777777778, \"#fb9f3a\"], [0.8888888888888888, \"#fdca26\"], [1.0, \"#f0f921\"]], \"type\": \"surface\"}], \"table\": [{\"cells\": {\"fill\": {\"color\": \"#EBF0F8\"}, \"line\": {\"color\": \"white\"}}, \"header\": {\"fill\": {\"color\": \"#C8D4E3\"}, \"line\": {\"color\": \"white\"}}, \"type\": \"table\"}]}, \"layout\": {\"annotationdefaults\": {\"arrowcolor\": \"#2a3f5f\", \"arrowhead\": 0, \"arrowwidth\": 1}, \"coloraxis\": {\"colorbar\": {\"outlinewidth\": 0, \"ticks\": \"\"}}, \"colorscale\": {\"diverging\": [[0, \"#8e0152\"], [0.1, \"#c51b7d\"], [0.2, \"#de77ae\"], [0.3, \"#f1b6da\"], [0.4, \"#fde0ef\"], [0.5, \"#f7f7f7\"], [0.6, \"#e6f5d0\"], [0.7, \"#b8e186\"], [0.8, \"#7fbc41\"], [0.9, \"#4d9221\"], [1, \"#276419\"]], \"sequential\": [[0.0, \"#0d0887\"], [0.1111111111111111, \"#46039f\"], [0.2222222222222222, \"#7201a8\"], [0.3333333333333333, \"#9c179e\"], [0.4444444444444444, \"#bd3786\"], [0.5555555555555556, \"#d8576b\"], [0.6666666666666666, \"#ed7953\"], [0.7777777777777778, \"#fb9f3a\"], [0.8888888888888888, \"#fdca26\"], [1.0, \"#f0f921\"]], \"sequentialminus\": [[0.0, \"#0d0887\"], [0.1111111111111111, \"#46039f\"], [0.2222222222222222, \"#7201a8\"], [0.3333333333333333, \"#9c179e\"], [0.4444444444444444, \"#bd3786\"], [0.5555555555555556, \"#d8576b\"], [0.6666666666666666, \"#ed7953\"], [0.7777777777777778, \"#fb9f3a\"], [0.8888888888888888, \"#fdca26\"], [1.0, \"#f0f921\"]]}, \"colorway\": [\"#636efa\", \"#EF553B\", \"#00cc96\", \"#ab63fa\", \"#FFA15A\", \"#19d3f3\", \"#FF6692\", \"#B6E880\", \"#FF97FF\", \"#FECB52\"], \"font\": {\"color\": \"#2a3f5f\"}, \"geo\": {\"bgcolor\": \"white\", \"lakecolor\": \"white\", \"landcolor\": \"#E5ECF6\", \"showlakes\": true, \"showland\": true, \"subunitcolor\": \"white\"}, \"hoverlabel\": {\"align\": \"left\"}, \"hovermode\": \"closest\", \"mapbox\": {\"style\": \"light\"}, \"paper_bgcolor\": \"white\", \"plot_bgcolor\": \"#E5ECF6\", \"polar\": {\"angularaxis\": {\"gridcolor\": \"white\", \"linecolor\": \"white\", \"ticks\": \"\"}, \"bgcolor\": \"#E5ECF6\", \"radialaxis\": {\"gridcolor\": \"white\", \"linecolor\": \"white\", \"ticks\": \"\"}}, \"scene\": {\"xaxis\": {\"backgroundcolor\": \"#E5ECF6\", \"gridcolor\": \"white\", \"gridwidth\": 2, \"linecolor\": \"white\", \"showbackground\": true, \"ticks\": \"\", \"zerolinecolor\": \"white\"}, \"yaxis\": {\"backgroundcolor\": \"#E5ECF6\", \"gridcolor\": \"white\", \"gridwidth\": 2, \"linecolor\": \"white\", \"showbackground\": true, \"ticks\": \"\", \"zerolinecolor\": \"white\"}, \"zaxis\": {\"backgroundcolor\": \"#E5ECF6\", \"gridcolor\": \"white\", \"gridwidth\": 2, \"linecolor\": \"white\", \"showbackground\": true, \"ticks\": \"\", \"zerolinecolor\": \"white\"}}, \"shapedefaults\": {\"line\": {\"color\": \"#2a3f5f\"}}, \"ternary\": {\"aaxis\": {\"gridcolor\": \"white\", \"linecolor\": \"white\", \"ticks\": \"\"}, \"baxis\": {\"gridcolor\": \"white\", \"linecolor\": \"white\", \"ticks\": \"\"}, \"bgcolor\": \"#E5ECF6\", \"caxis\": {\"gridcolor\": \"white\", \"linecolor\": \"white\", \"ticks\": \"\"}}, \"title\": {\"x\": 0.05}, \"xaxis\": {\"automargin\": true, \"gridcolor\": \"white\", \"linecolor\": \"white\", \"ticks\": \"\", \"title\": {\"standoff\": 15}, \"zerolinecolor\": \"white\", \"zerolinewidth\": 2}, \"yaxis\": {\"automargin\": true, \"gridcolor\": \"white\", \"linecolor\": \"white\", \"ticks\": \"\", \"title\": {\"standoff\": 15}, \"zerolinecolor\": \"white\", \"zerolinewidth\": 2}}}, \"title\": {\"text\": \"Moving Frenet Frame Along a Planar Curve\"}, \"updatemenus\": [{\"buttons\": [{\"args\": [null], \"label\": \"Play\", \"method\": \"animate\"}], \"type\": \"buttons\"}], \"width\": 600, \"xaxis\": {\"autorange\": false, \"range\": [-1.7499744923987348, 3.5], \"zeroline\": false}, \"yaxis\": {\"autorange\": false, \"range\": [-3.5, 1.7499744923987348], \"zeroline\": false}},\n",
       "                        {\"responsive\": true}\n",
       "                    ).then(function(){\n",
       "                            Plotly.addFrames('e4317886-6197-44b6-8d3d-847132da480f', [{\"data\": [{\"line\": {\"color\": \"red\", \"width\": 2}, \"mode\": \"lines\", \"x\": [0.0, -0.31622776601683794, null, 0.0, -0.9486832980505138], \"y\": [-2.0, -1.0513167019494862, null, -2.0, -2.316227766016838], \"type\": \"scatter\"}]}, {\"data\": [{\"line\": {\"color\": \"red\", \"width\": 2}, \"mode\": \"lines\", \"x\": [-0.03915035401915867, -0.3393238377195191, null, -0.03915035401915867, -0.993034980000304], \"y\": [-1.8792169929196167, -0.9253323669384714, null, -1.8792169929196167, -2.179390476619977], \"type\": \"scatter\"}]}, {\"data\": [{\"line\": {\"color\": \"red\", \"width\": 2}, \"mode\": \"lines\", \"x\": [-0.07496876301541022, -0.3578821705994959, null, -0.07496876301541022, -1.034114217995603], \"y\": [-1.7617659308621407, -0.802620475881948, null, -1.7617659308621407, -2.0446793384462265], \"type\": \"scatter\"}]}, {\"data\": [{\"line\": {\"color\": \"red\", \"width\": 2}, \"mode\": \"lines\", \"x\": [-0.10745522698875476, -0.3717814024593075, null, -0.10745522698875476, -1.0718885699218528], \"y\": [-1.6476468138275717, -0.6832134708944737, null, -1.6476468138275717, -1.9119729892981245], \"type\": \"scatter\"}]}, {\"data\": [{\"line\": {\"color\": \"red\", \"width\": 2}, \"mode\": \"lines\", \"x\": [-0.13660974593919195, -0.3808867053044017, null, -0.13660974593919195, -1.1063152512980547], \"y\": [-1.5368596418159102, -0.5671541364570473, null, -1.5368596418159102, -1.78113660118112], \"type\": \"scatter\"}]}, {\"data\": [{\"line\": {\"color\": \"red\", \"width\": 2}, \"mode\": \"lines\", \"x\": [-0.16243231986672224, -0.385048679567361, null, -0.16243231986672224, -1.1373384468315884], \"y\": [-1.4294044148271552, -0.45449828786228896, null, -1.4294044148271552, -1.652020774527794], \"type\": \"scatter\"}]}, {\"data\": [{\"line\": {\"color\": \"red\", \"width\": 2}, \"mode\": \"lines\", \"x\": [-0.1849229487713453, -0.38410242596739685, null, -0.1849229487713453, -1.164885976575919], \"y\": [-1.3252811328613077, -0.345318105056734, null, -1.3252811328613077, -1.5244606100573592], \"type\": \"scatter\"}]}, {\"data\": [{\"line\": {\"color\": \"red\", \"width\": 2}, \"mode\": \"lines\", \"x\": [-0.20408163265306123, -0.37786696656210894, null, -0.20408163265306123, -1.188865191470998], \"y\": [-1.2244897959183674, -0.23970623710043049, null, -1.2244897959183674, -1.398275129827415], \"type\": \"scatter\"}]}, {\"data\": [{\"line\": {\"color\": \"red\", \"width\": 2}, \"mode\": \"lines\", \"x\": [-0.21990837151187004, -0.3661452688111333, null, -0.21990837151187004, -1.2091579708892388], \"y\": [-1.1270304039983343, -0.13778080462096554, null, -1.1270304039983343, -1.2732673012975977], \"type\": \"scatter\"}]}, {\"data\": [{\"line\": {\"color\": \"red\", \"width\": 2}, \"mode\": \"lines\", \"x\": [-0.23240316534777178, -0.3487252383164383, null, -0.23240316534777178, -1.2256147114648477], \"y\": [-1.0329029571012078, -0.03969141098413198, null, -1.0329029571012078, -1.1492250300698743], \"type\": \"scatter\"}]}, {\"data\": [{\"line\": {\"color\": \"red\", \"width\": 2}, \"mode\": \"lines\", \"x\": [-0.24156601416076634, -0.3253821926585391, null, -0.24156601416076634, -1.238047247412065], \"y\": [-0.9421074552269888, 0.05437377802430987, null, -0.9421074552269888, -1.0259236337247617], \"type\": \"scatter\"}]}, {\"data\": [{\"line\": {\"color\": \"red\", \"width\": 2}, \"mode\": \"lines\", \"x\": [-0.24739691795085378, -0.2958835118063993, null, -0.24739691795085378, -1.2462207513750905], \"y\": [-0.854643898375677, 0.14417993504855964, null, -0.854643898375677, -0.9031304922312225], \"type\": \"scatter\"}]}, {\"data\": [{\"line\": {\"color\": \"red\", \"width\": 2}, \"mode\": \"lines\", \"x\": [-0.24989587671803415, -0.25999637155339744, null, -0.24989587671803415, -1.2498448654189982], \"y\": [-0.770512286547272, 0.22943670215369205, null, -0.770512286547272, -0.7806127813826352], \"type\": \"scatter\"}]}, {\"data\": [{\"line\": {\"color\": \"red\", \"width\": 2}, \"mode\": \"lines\", \"x\": [-0.24906289046230737, -0.21749967706260556, null, -0.24906289046230737, -1.2485646481195338], \"y\": [-0.6897126197417744, 0.30978913791545193, null, -0.6897126197417744, -0.6581494063420726], \"type\": \"scatter\"}]}, {\"data\": [{\"line\": {\"color\": \"red\", \"width\": 2}, \"mode\": \"lines\", \"x\": [-0.24489795918367346, -0.16820146029893646, null, -0.24489795918367346, -1.241952444685255], \"y\": [-0.6122448979591837, 0.3848095875423979, null, -0.6122448979591837, -0.5355483990744467], \"type\": \"scatter\"}]}, {\"data\": [{\"line\": {\"color\": \"red\", \"width\": 2}, \"mode\": \"lines\", \"x\": [-0.23740108288213246, -0.11196296899275351, null, -0.23740108288213246, -1.2295025290981307], \"y\": [-0.5381091211995004, 0.4539923250164979, null, -0.5381091211995004, -0.4126710073101214], \"type\": \"scatter\"}]}, {\"data\": [{\"line\": {\"color\": \"red\", \"width\": 2}, \"mode\": \"lines\", \"x\": [-0.2265722615576843, -0.048730263660921314, null, -0.2265722615576843, -1.21063131658644], \"y\": [-0.467305289462724, 0.5167537655660317, null, -0.467305289462724, -0.28946329156596096], \"type\": \"scatter\"}]}, {\"data\": [{\"line\": {\"color\": \"red\", \"width\": 2}, \"mode\": \"lines\", \"x\": [-0.21241149521032904, 0.021426910272655253, null, -0.21241149521032904, -1.1846869706395795], \"y\": [-0.39983340274885465, 0.5724420726803958, null, -0.39983340274885465, -0.16599499726587036], \"type\": \"scatter\"}]}, {\"data\": [{\"line\": {\"color\": \"red\", \"width\": 2}, \"mode\": \"lines\", \"x\": [-0.19491878384006667, 0.09827117333995877, null, -0.19491878384006667, -1.1509729920358023], \"y\": [-0.33569346105789266, 0.6203607471378428, null, -0.33569346105789266, -0.04250350387786722], \"type\": \"scatter\"}]}, {\"data\": [{\"line\": {\"color\": \"red\", \"width\": 2}, \"mode\": \"lines\", \"x\": [-0.17409412744689715, 0.18135369466782683, null, -0.17409412744689715, -1.1087902522670974], \"y\": [-0.27488546438983763, 0.6598106604303626, null, -0.27488546438983763, 0.08056235772488635], \"type\": \"scatter\"}]}, {\"data\": [{\"line\": {\"color\": \"red\", \"width\": 2}, \"mode\": \"lines\", \"x\": [-0.14993752603082056, 0.26997946008590906, null, -0.14993752603082056, -1.0575000444121399], \"y\": [-0.21740941274468983, 0.6901531056366293, null, -0.21740941274468983, 0.20250757337203978], \"type\": \"scatter\"}]}, {\"data\": [{\"line\": {\"color\": \"red\", \"width\": 2}, \"mode\": \"lines\", \"x\": [-0.12244897959183677, 0.36319395158679524, null, -0.12244897959183677, -0.9966062557133746], \"y\": [-0.16326530612244905, 0.7108919699990888, null, -0.16326530612244905, 0.32237762505618295], \"type\": \"scatter\"}]}, {\"data\": [{\"line\": {\"color\": \"red\", \"width\": 2}, \"mode\": \"lines\", \"x\": [-0.09162848812994595, 0.4598045256192662, null, -0.09162848812994595, -0.9258476627761903], \"y\": [-0.1124531445231155, 0.7217660301231289, null, -0.1124531445231155, 0.43897986922609666], \"type\": \"scatter\"}]}, {\"data\": [{\"line\": {\"color\": \"red\", \"width\": 2}, \"mode\": \"lines\", \"x\": [-0.057476051645147914, 0.5584459147523929, null, -0.057476051645147914, -0.845283217967584], \"y\": [-0.06497292794668895, 0.7228342383757471, null, -0.06497292794668895, 0.5509490384508519], \"type\": \"scatter\"}]}, {\"data\": [{\"line\": {\"color\": \"red\", \"width\": 2}, \"mode\": \"lines\", \"x\": [-0.019991670137442755, 0.6576893457185122, null, -0.019991670137442755, -0.755347666066245], \"y\": [-0.020824656393169536, 0.7145313395356327, null, -0.020824656393169536, 0.6568563594627854], \"type\": \"scatter\"}]}, {\"data\": [{\"line\": {\"color\": \"red\", \"width\": 2}, \"mode\": \"lines\", \"x\": [0.020824656393169536, 0.7561806523219718, null, 0.020824656393169536, -0.6568563594627854], \"y\": [0.019991670137442755, 0.6976726859933977, null, 0.019991670137442755, 0.755347666066245], \"type\": \"scatter\"}]}, {\"data\": [{\"line\": {\"color\": \"red\", \"width\": 2}, \"mode\": \"lines\", \"x\": [0.06497292794668871, 0.8527800942691247, null, 0.06497292794668871, -0.5509490384508524], \"y\": [0.05747605164514772, 0.6733980180426888, null, 0.05747605164514772, 0.8452832179675837], \"type\": \"scatter\"}]}, {\"data\": [{\"line\": {\"color\": \"red\", \"width\": 2}, \"mode\": \"lines\", \"x\": [0.11245314452311524, 0.9466723191693595, null, 0.11245314452311524, -0.4389798692260973], \"y\": [0.09162848812994577, 0.6430615018791582, null, 0.09162848812994577, 0.9258476627761899], \"type\": \"scatter\"}]}, {\"data\": [{\"line\": {\"color\": \"red\", \"width\": 2}, \"mode\": \"lines\", \"x\": [0.16326530612244888, 1.0374225822439866, null, 0.16326530612244888, -0.3223776250561833], \"y\": [0.12244897959183669, 0.6080919107704689, null, 0.12244897959183669, 0.9966062557133744], \"type\": \"scatter\"}]}, {\"data\": [{\"line\": {\"color\": \"red\", \"width\": 2}, \"mode\": \"lines\", \"x\": [0.2174094127446897, 1.124971931126009, null, 0.2174094127446897, -0.2025075733720401], \"y\": [0.14993752603082047, 0.5698545121475502, null, 0.14993752603082047, 1.0575000444121396], \"type\": \"scatter\"}]}, {\"data\": [{\"line\": {\"color\": \"red\", \"width\": 2}, \"mode\": \"lines\", \"x\": [0.2748854643898373, 1.2095815892100377, null, 0.2748854643898373, -0.08056235772488707], \"y\": [0.174094127446897, 0.5295419495616214, null, 0.174094127446897, 1.1087902522670974], \"type\": \"scatter\"}]}, {\"data\": [{\"line\": {\"color\": \"red\", \"width\": 2}, \"mode\": \"lines\", \"x\": [0.33569346105789233, 1.2917476692536278, null, 0.33569346105789233, 0.042503503877866555], \"y\": [0.19491878384006656, 0.48810874102009233, null, 0.19491878384006656, 1.150972992035802], \"type\": \"scatter\"}]}, {\"data\": [{\"line\": {\"color\": \"red\", \"width\": 2}, \"mode\": \"lines\", \"x\": [0.3998334027488545, 1.372108878178105, null, 0.3998334027488545, 0.16599499726587003], \"y\": [0.21241149521032898, 0.44624990069331344, null, 0.21241149521032898, 1.1846869706395795], \"type\": \"scatter\"}]}, {\"data\": [{\"line\": {\"color\": \"red\", \"width\": 2}, \"mode\": \"lines\", \"x\": [0.46730528946272376, 1.4513643444914797, null, 0.46730528946272376, 0.2894632915659606], \"y\": [0.22657226155768428, 0.4044142594544474, null, 0.22657226155768428, 1.21063131658644], \"type\": \"scatter\"}]}, {\"data\": [{\"line\": {\"color\": \"red\", \"width\": 2}, \"mode\": \"lines\", \"x\": [0.5381091211995002, 1.5302105674154984, null, 0.5381091211995002, 0.4126710073101211], \"y\": [0.23740108288213244, 0.36283919677151155, null, 0.23740108288213244, 1.2295025290981307], \"type\": \"scatter\"}]}, {\"data\": [{\"line\": {\"color\": \"red\", \"width\": 2}, \"mode\": \"lines\", \"x\": [0.6122448979591834, 1.609299383460765, null, 0.6122448979591834, 0.5355483990744461], \"y\": [0.24489795918367344, 0.3215944580684107, null, 0.24489795918367344, 1.241952444685255], \"type\": \"scatter\"}]}, {\"data\": [{\"line\": {\"color\": \"red\", \"width\": 2}, \"mode\": \"lines\", \"x\": [0.689712619741774, 1.6892143773990003, null, 0.689712619741774, 0.658149406342072], \"y\": [0.24906289046230737, 0.2806261038620094, null, 0.24906289046230737, 1.2485646481195338], \"type\": \"scatter\"}]}, {\"data\": [{\"line\": {\"color\": \"red\", \"width\": 2}, \"mode\": \"lines\", \"x\": [0.7705122865472718, 1.7704612752482358, null, 0.7705122865472718, 0.7806127813826349], \"y\": [0.24989587671803415, 0.23979538188267097, null, 0.24989587671803415, 1.2498448654189982], \"type\": \"scatter\"}]}, {\"data\": [{\"line\": {\"color\": \"red\", \"width\": 2}, \"mode\": \"lines\", \"x\": [0.8546438983756767, 1.8534677317999133, null, 0.8546438983756767, 0.9031304922312221], \"y\": [0.24739691795085383, 0.1989103240953084, null, 0.24739691795085383, 1.2462207513750905], \"type\": \"scatter\"}]}, {\"data\": [{\"line\": {\"color\": \"red\", \"width\": 2}, \"mode\": \"lines\", \"x\": [0.9421074552269882, 1.938588688478287, null, 0.9421074552269882, 1.0259236337247608], \"y\": [0.2415660141607664, 0.1577498356629938, null, 0.2415660141607664, 1.238047247412065], \"type\": \"scatter\"}]}, {\"data\": [{\"line\": {\"color\": \"red\", \"width\": 2}, \"mode\": \"lines\", \"x\": [1.0329029571012074, 2.0261145032182832, null, 1.0329029571012074, 1.1492250300698739], \"y\": [0.23240316534777183, 0.11608109237910544, null, 0.23240316534777183, 1.2256147114648477], \"type\": \"scatter\"}]}, {\"data\": [{\"line\": {\"color\": \"red\", \"width\": 2}, \"mode\": \"lines\", \"x\": [1.1270304039983337, 2.1162800033757025, null, 1.1270304039983337, 1.2732673012975968], \"y\": [0.2199083715118701, 0.07367147421260697, null, 0.2199083715118701, 1.2091579708892388], \"type\": \"scatter\"}]}, {\"data\": [{\"line\": {\"color\": \"red\", \"width\": 2}, \"mode\": \"lines\", \"x\": [1.2244897959183672, 2.209273354736304, null, 1.2244897959183672, 1.3982751298274148], \"y\": [0.20408163265306123, 0.030296298744013628, null, 0.20408163265306123, 1.188865191470998], \"type\": \"scatter\"}]}, {\"data\": [{\"line\": {\"color\": \"red\", \"width\": 2}, \"mode\": \"lines\", \"x\": [1.3252811328613077, 2.3052441606658816, null, 1.3252811328613077, 1.5244606100573592], \"y\": [0.1849229487713453, -0.014256528424706233, null, 0.1849229487713453, 1.164885976575919], \"type\": \"scatter\"}]}, {\"data\": [{\"line\": {\"color\": \"red\", \"width\": 2}, \"mode\": \"lines\", \"x\": [1.4294044148271547, 2.4043105417920208, null, 1.4294044148271547, 1.6520207745277933], \"y\": [0.16243231986672235, -0.060184039833916264, null, 0.16243231986672235, 1.1373384468315886], \"type\": \"scatter\"}]}, {\"data\": [{\"line\": {\"color\": \"red\", \"width\": 2}, \"mode\": \"lines\", \"x\": [1.5368596418159095, 2.5065651471747725, null, 1.5368596418159095, 1.7811366011811192], \"y\": [0.13660974593919217, -0.10766721342601746, null, 0.13660974593919217, 1.1063152512980552], \"type\": \"scatter\"}]}, {\"data\": [{\"line\": {\"color\": \"red\", \"width\": 2}, \"mode\": \"lines\", \"x\": [1.6476468138275715, 2.6120801567606695, null, 1.6476468138275715, 1.9119729892981243], \"y\": [0.10745522698875476, -0.15687094848179794, null, 0.10745522698875476, 1.0718885699218528], \"type\": \"scatter\"}]}, {\"data\": [{\"line\": {\"color\": \"red\", \"width\": 2}, \"mode\": \"lines\", \"x\": [1.7617659308621405, 2.7209113858423333, null, 1.7617659308621405, 2.044679338446226], \"y\": [0.07496876301541033, -0.20794464456867529, null, 0.07496876301541033, 1.034114217995603], \"type\": \"scatter\"}]}, {\"data\": [{\"line\": {\"color\": \"red\", \"width\": 2}, \"mode\": \"lines\", \"x\": [1.8792169929196167, 2.833101618900762, null, 1.8792169929196167, 2.179390476619977], \"y\": [0.03915035401915867, -0.2610231296812017, null, 0.03915035401915867, 0.993034980000304], \"type\": \"scatter\"}]}, {\"data\": [{\"line\": {\"color\": \"red\", \"width\": 2}, \"mode\": \"lines\", \"x\": [2.0, 2.948683298050514, null, 2.0, 2.316227766016838], \"y\": [0.0, -0.31622776601683794, null, 0.0, 0.9486832980505138], \"type\": \"scatter\"}]}]);\n",
       "                        }).then(function(){\n",
       "                            \n",
       "var gd = document.getElementById('e4317886-6197-44b6-8d3d-847132da480f');\n",
       "var x = new MutationObserver(function (mutations, observer) {{\n",
       "        var display = window.getComputedStyle(gd).display;\n",
       "        if (!display || display === 'none') {{\n",
       "            console.log([gd, 'removed!']);\n",
       "            Plotly.purge(gd);\n",
       "            observer.disconnect();\n",
       "        }}\n",
       "}});\n",
       "\n",
       "// Listen for the removal of the full notebook cells\n",
       "var notebookContainer = gd.closest('#notebook-container');\n",
       "if (notebookContainer) {{\n",
       "    x.observe(notebookContainer, {childList: true});\n",
       "}}\n",
       "\n",
       "// Listen for the clearing of the current output cell\n",
       "var outputEl = gd.closest('.output');\n",
       "if (outputEl) {{\n",
       "    x.observe(outputEl, {childList: true});\n",
       "}}\n",
       "\n",
       "                        })\n",
       "                };\n",
       "                });\n",
       "            </script>\n",
       "        </div>"
      ]
     },
     "metadata": {},
     "output_type": "display_data"
    }
   ],
   "source": [
    "# Generate curve data\n",
    "t = np.linspace(-1, 1, 100)\n",
    "x = t + t ** 2\n",
    "y = t - t ** 2\n",
    "xm = np.min(x) - 1.5\n",
    "xM = np.max(x) + 1.5\n",
    "ym = np.min(y) - 1.5\n",
    "yM = np.max(y) + 1.5\n",
    "N = 50\n",
    "s = np.linspace(-1, 1, N)\n",
    "xx = s + s ** 2\n",
    "yy = s - s ** 2\n",
    "vx = 1 + 2 * s\n",
    "vy = 1 - 2 * s  # v=(vx, vy) is the velocity\n",
    "speed = np.sqrt(vx ** 2 + vy ** 2)\n",
    "ux = vx / speed  # (ux, uy) unit tangent vector, (-uy, ux) unit normal vector\n",
    "uy = vy / speed\n",
    "\n",
    "xend = xx + ux  # end coordinates for the unit tangent vector at (xx, yy)\n",
    "yend = yy + uy\n",
    "\n",
    "xnoe = xx - uy  # end coordinates for the unit normal vector at (xx,yy)\n",
    "ynoe = yy + ux\n",
    "\n",
    "\n",
    "# Create figure\n",
    "fig = go.Figure(\n",
    "    data=[go.Scatter(x=x, y=y,\n",
    "                     name=\"frame\",\n",
    "                     mode=\"lines\",\n",
    "                     line=dict(width=2, color=\"blue\")),\n",
    "          go.Scatter(x=x, y=y,\n",
    "                     name=\"curve\",\n",
    "                     mode=\"lines\",\n",
    "                     line=dict(width=2, color=\"blue\"))\n",
    "          ],\n",
    "    layout=go.Layout(width=600, height=600,\n",
    "                     xaxis=dict(range=[xm, xM], autorange=False, zeroline=False),\n",
    "                     yaxis=dict(range=[ym, yM], autorange=False, zeroline=False),\n",
    "                     title=\"Moving Frenet Frame Along a Planar Curve\",\n",
    "                     hovermode=\"closest\",\n",
    "                     updatemenus=[dict(type=\"buttons\",\n",
    "                                       buttons=[dict(label=\"Play\",\n",
    "                                                     method=\"animate\",\n",
    "                                                     args=[None])])]),\n",
    "\n",
    "    frames=[go.Frame(\n",
    "        data=[go.Scatter(\n",
    "            x=[xx[k], xend[k], None, xx[k], xnoe[k]],\n",
    "            y=[yy[k], yend[k], None, yy[k], ynoe[k]],\n",
    "            mode=\"lines\",\n",
    "            line=dict(color=\"red\", width=2))\n",
    "        ]) for k in range(N)]\n",
    ")\n",
    "\n",
    "fig.show()"
   ]
  }
 ],
 "metadata": {
  "kernelspec": {
   "display_name": "Python 3",
   "language": "python",
   "name": "python3"
  },
  "language_info": {
   "codemirror_mode": {
    "name": "ipython",
    "version": 3
   },
   "file_extension": ".py",
   "mimetype": "text/x-python",
   "name": "python",
   "nbconvert_exporter": "python",
   "pygments_lexer": "ipython3",
   "version": "3.7.1"
  }
 },
 "nbformat": 4,
 "nbformat_minor": 2
}

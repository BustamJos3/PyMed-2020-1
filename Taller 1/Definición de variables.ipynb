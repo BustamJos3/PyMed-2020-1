{
 "cells": [
  {
   "cell_type": "code",
   "execution_count": 9,
   "metadata": {},
   "outputs": [
    {
     "data": {
      "text/html": [
       "<style>.container{width:95% !important;}<>"
      ],
      "text/plain": [
       "<IPython.core.display.HTML object>"
      ]
     },
     "metadata": {},
     "output_type": "display_data"
    }
   ],
   "source": [
    "from IPython.core.display import display, HTML\n",
    "display(HTML(\"<style>.container{width:95% !important;}<>\"))"
   ]
  },
  {
   "cell_type": "markdown",
   "metadata": {},
   "source": [
    "# Variables.\n",
    "\n",
    "- Numéricas\n",
    "- Variables como texto (Strings)\n",
    "- Listas\n",
    "- Arrays\n",
    "\n",
    "- numpy -> numpy64\n",
    "- pandas -> dataframes, series\n",
    "- pillow (imagenes) -> array (n,m,3)\n",
    "\n",
    "## Acciones que se pueden hacer con variables\n",
    "\n",
    "1. Creación: Los objetos en cualquier lenguaje de programación se crean como $\\mathbf{\"nombre\\_variable = valor\"}$. Es importante usar buenas prácticas de programación cuando se definen variables. Cuando se desee crear una o más variables, lo recomendable es se creen uti- lizando mismo idioma, esto incluye que no comience con números, que no tengan signos de puntuación ni cualquier otro signo y que la variable se separe por un identificador. Algunos ejemplos son:\n",
    "    - number_of_iterations=4\n",
    "    - message_for_students = \"Hay que ir a los talleres y a las asesorías\"\n",
    "    - finish_execution=False. • FinishExecution=False\n",
    "2. Manipulación: Las variables se crean para interactuar con coman- dos y otras variables. Se puede definir la variable x = 5 y con esta variable hacer operaciones matemáticas, e incluso representa- ciones gráficas. La utilidad de la variable es definida por el pro- gramador, así como la interacción que tendrá esta variable con un código.\n",
    "3. Eliminación: Para eliminar una variable, se usa el comando $\\mathbf{\"del()\"}$. Dentro de los paréntesis, se indican aquellas variables que se de- seen eliminar. Cuando se tengan variables que no se usen mucho en un algoritmo o cuando una variable ha cumplido su finalidad, se puede optar por borrar la variable para liberar espacio en memoria RAM."
   ]
  },
  {
   "cell_type": "code",
   "execution_count": 3,
   "metadata": {},
   "outputs": [
    {
     "data": {
      "text/plain": [
       "int"
      ]
     },
     "execution_count": 3,
     "metadata": {},
     "output_type": "execute_result"
    }
   ],
   "source": [
    "a = 5\n",
    "type(a)"
   ]
  },
  {
   "cell_type": "code",
   "execution_count": 4,
   "metadata": {},
   "outputs": [
    {
     "ename": "TypeError",
     "evalue": "unsupported operand type(s) for +: 'int' and 'str'",
     "output_type": "error",
     "traceback": [
      "\u001b[0;31m---------------------------------------------------------------\u001b[0m",
      "\u001b[0;31mTypeError\u001b[0m                     Traceback (most recent call last)",
      "\u001b[0;32m<ipython-input-4-8872d9a85aa3>\u001b[0m in \u001b[0;36m<module>\u001b[0;34m\u001b[0m\n\u001b[0;32m----> 1\u001b[0;31m \u001b[0;36m5\u001b[0m\u001b[0;34m+\u001b[0m\u001b[0;34m'5'\u001b[0m\u001b[0;34m\u001b[0m\u001b[0;34m\u001b[0m\u001b[0m\n\u001b[0m",
      "\u001b[0;31mTypeError\u001b[0m: unsupported operand type(s) for +: 'int' and 'str'"
     ]
    }
   ],
   "source": [
    "5+'5'"
   ]
  },
  {
   "cell_type": "markdown",
   "metadata": {},
   "source": [
    "## Ejercicio 1\n",
    "Realizar un programa que solicite al usuario una temperaura en grados centrigrados e imprima esta temperatura en grados fahrenheit"
   ]
  },
  {
   "cell_type": "code",
   "execution_count": 6,
   "metadata": {},
   "outputs": [
    {
     "name": "stdout",
     "output_type": "stream",
     "text": [
      "Hola mundo\n"
     ]
    }
   ],
   "source": [
    "print(\"Hola mundo\")"
   ]
  },
  {
   "cell_type": "code",
   "execution_count": 26,
   "metadata": {},
   "outputs": [
    {
     "name": "stdout",
     "output_type": "stream",
     "text": [
      "Ingrese una temperatura: 23.4\n",
      "La temperatura en grados Fharenheit es:  74.12\n"
     ]
    }
   ],
   "source": [
    "t_celcius = input(\"Ingrese una temperatura: \")\n",
    "int_t_celcuis = float(t_celcius)\n",
    "\n",
    "t_fahrenheit = int_t_celcuis*9/5+32\n",
    "print('La temperatura en grados Fharenheit es: ',t_fahrenheit)"
   ]
  },
  {
   "cell_type": "code",
   "execution_count": 21,
   "metadata": {},
   "outputs": [
    {
     "data": {
      "text/plain": [
       "float"
      ]
     },
     "execution_count": 21,
     "metadata": {},
     "output_type": "execute_result"
    }
   ],
   "source": [
    "int_t_celcuis = float(t_celcius)\n",
    "type(int_t_celcuis)"
   ]
  },
  {
   "cell_type": "code",
   "execution_count": null,
   "metadata": {},
   "outputs": [],
   "source": []
  },
  {
   "cell_type": "code",
   "execution_count": 25,
   "metadata": {},
   "outputs": [
    {
     "data": {
      "text/plain": [
       "5"
      ]
     },
     "execution_count": 25,
     "metadata": {},
     "output_type": "execute_result"
    }
   ],
   "source": [
    "eval(\"a\")"
   ]
  },
  {
   "cell_type": "code",
   "execution_count": null,
   "metadata": {},
   "outputs": [],
   "source": []
  },
  {
   "cell_type": "code",
   "execution_count": null,
   "metadata": {},
   "outputs": [],
   "source": []
  },
  {
   "cell_type": "code",
   "execution_count": null,
   "metadata": {},
   "outputs": [],
   "source": []
  },
  {
   "cell_type": "code",
   "execution_count": null,
   "metadata": {},
   "outputs": [],
   "source": []
  },
  {
   "cell_type": "code",
   "execution_count": null,
   "metadata": {},
   "outputs": [],
   "source": []
  },
  {
   "cell_type": "code",
   "execution_count": null,
   "metadata": {},
   "outputs": [],
   "source": []
  }
 ],
 "metadata": {
  "kernelspec": {
   "display_name": "Python 3",
   "language": "python",
   "name": "python3"
  },
  "language_info": {
   "codemirror_mode": {
    "name": "ipython",
    "version": 3
   },
   "file_extension": ".py",
   "mimetype": "text/x-python",
   "name": "python",
   "nbconvert_exporter": "python",
   "pygments_lexer": "ipython3",
   "version": "3.7.1"
  }
 },
 "nbformat": 4,
 "nbformat_minor": 2
}

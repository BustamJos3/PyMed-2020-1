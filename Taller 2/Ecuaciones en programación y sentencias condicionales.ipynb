{
 "cells": [
  {
   "cell_type": "code",
   "execution_count": 1,
   "metadata": {},
   "outputs": [
    {
     "data": {
      "text/html": [
       "<style>.container{width:95% !important;}<>"
      ],
      "text/plain": [
       "<IPython.core.display.HTML object>"
      ]
     },
     "metadata": {},
     "output_type": "display_data"
    }
   ],
   "source": [
    "from IPython.core.display import display, HTML\n",
    "\n",
    "display(HTML(\"<style>.container{width:95% !important;}<>\"))"
   ]
  },
  {
   "cell_type": "markdown",
   "metadata": {},
   "source": [
    "# Ejercicio 1\n",
    "\n",
    "Escriba la siguiente ecuación en formato matemático.\n",
    "\n",
    "$$f(x,y) = \\sqrt{\\frac{x-3y}{x+3y}}+\\sqrt{\\frac{x+3y}{x-3y}}$$"
   ]
  },
  {
   "cell_type": "code",
   "execution_count": 2,
   "metadata": {},
   "outputs": [],
   "source": [
    "x = 10\n",
    "y = 2"
   ]
  },
  {
   "cell_type": "code",
   "execution_count": 4,
   "metadata": {},
   "outputs": [
    {
     "data": {
      "text/plain": [
       "2.0"
      ]
     },
     "execution_count": 4,
     "metadata": {},
     "output_type": "execute_result"
    }
   ],
   "source": [
    "pow(4,1/2)"
   ]
  },
  {
   "cell_type": "code",
   "execution_count": 6,
   "metadata": {},
   "outputs": [
    {
     "name": "stdout",
     "output_type": "stream",
     "text": [
      "2.5\n"
     ]
    }
   ],
   "source": [
    "f = pow((x-3*y)/(x+3*y),1/2)+((x+3*y)/(x-3*y))**(1/2)\n",
    "print(f)"
   ]
  },
  {
   "cell_type": "code",
   "execution_count": 7,
   "metadata": {},
   "outputs": [
    {
     "ename": "TypeError",
     "evalue": "unsupported operand type(s) for ** or pow(): 'list' and 'int'",
     "output_type": "error",
     "traceback": [
      "\u001b[0;31m---------------------------------------------------------------------------\u001b[0m",
      "\u001b[0;31mTypeError\u001b[0m                                 Traceback (most recent call last)",
      "\u001b[0;32m<ipython-input-7-2b79d39d2cf8>\u001b[0m in \u001b[0;36m<module>\u001b[0;34m\u001b[0m\n\u001b[0;32m----> 1\u001b[0;31m \u001b[0mpow\u001b[0m\u001b[0;34m(\u001b[0m\u001b[0;34m[\u001b[0m\u001b[0;36m1\u001b[0m\u001b[0;34m,\u001b[0m\u001b[0;36m2\u001b[0m\u001b[0;34m]\u001b[0m\u001b[0;34m,\u001b[0m\u001b[0;36m2\u001b[0m\u001b[0;34m)\u001b[0m\u001b[0;34m\u001b[0m\u001b[0;34m\u001b[0m\u001b[0m\n\u001b[0m",
      "\u001b[0;31mTypeError\u001b[0m: unsupported operand type(s) for ** or pow(): 'list' and 'int'"
     ]
    }
   ],
   "source": [
    "# No es posible usar pow con otro tipo de datos\n",
    "pow([1,2],2)"
   ]
  },
  {
   "cell_type": "code",
   "execution_count": 9,
   "metadata": {},
   "outputs": [
    {
     "name": "stdout",
     "output_type": "stream",
     "text": [
      "X es igual a x\n"
     ]
    }
   ],
   "source": [
    "x = 5\n",
    "if x == 5:\n",
    "    print('X es igual a x')"
   ]
  },
  {
   "cell_type": "code",
   "execution_count": 13,
   "metadata": {},
   "outputs": [
    {
     "data": {
      "text/plain": [
       "True"
      ]
     },
     "execution_count": 13,
     "metadata": {},
     "output_type": "execute_result"
    }
   ],
   "source": [
    "x == 5 and x > 0"
   ]
  },
  {
   "cell_type": "code",
   "execution_count": 14,
   "metadata": {},
   "outputs": [
    {
     "data": {
      "text/plain": [
       "False"
      ]
     },
     "execution_count": 14,
     "metadata": {},
     "output_type": "execute_result"
    }
   ],
   "source": [
    "x == 5 and x < 0"
   ]
  },
  {
   "cell_type": "code",
   "execution_count": 16,
   "metadata": {},
   "outputs": [
    {
     "data": {
      "text/plain": [
       "True"
      ]
     },
     "execution_count": 16,
     "metadata": {},
     "output_type": "execute_result"
    }
   ],
   "source": [
    "x == 5 or x > 0"
   ]
  },
  {
   "cell_type": "code",
   "execution_count": 20,
   "metadata": {},
   "outputs": [
    {
     "data": {
      "text/plain": [
       "True"
      ]
     },
     "execution_count": 20,
     "metadata": {},
     "output_type": "execute_result"
    }
   ],
   "source": [
    "x == 5 or x < 0"
   ]
  },
  {
   "cell_type": "code",
   "execution_count": 19,
   "metadata": {},
   "outputs": [
    {
     "data": {
      "text/plain": [
       "False"
      ]
     },
     "execution_count": 19,
     "metadata": {},
     "output_type": "execute_result"
    }
   ],
   "source": [
    "x != 5 or x < 0"
   ]
  },
  {
   "cell_type": "markdown",
   "metadata": {},
   "source": [
    "# Ejercicio 2\n",
    "\n",
    "Escriba un programa que pregunte al usuario dos números $x$ y $y$. El programa debe imprimir \n",
    "\n",
    "$$f = \\frac{|x-y|}{x+y}$$\n",
    "\n",
    "### Pseudocódigo:\n",
    "\n",
    "Entradas: números $x$ y $y$. Ambos como flotantes \n",
    "\n",
    "Salidas: Número f luego de ser evaluado. String\n",
    "\n",
    "Variables intermedias: f. Flotante\n",
    "\n",
    "Condiciones: \n",
    "- $x\\neq -y$\n",
    "- $x \\neq 0$ y $y \\neq 0$"
   ]
  },
  {
   "cell_type": "markdown",
   "metadata": {},
   "source": [
    "### Ejemplo de condiciones lógicas anidadas"
   ]
  },
  {
   "cell_type": "markdown",
   "metadata": {},
   "source": [
    "### Pesudocódigo 1\n",
    "Inicio\n",
    "\n",
    "    Lea x\n",
    "    Lea y\n",
    "\n",
    "    Si x == 0 y y == 0\n",
    "        Imprimir Los datos son 0. No se puede calcular.\n",
    "    Sino \n",
    "        Si x == -y\n",
    "            Imprimir x es el negativo de y. Hay una división por 0.\n",
    "        Sino\n",
    "            Calcumamos f\n",
    "            Imprimos El cálculo es f\n",
    "        Fin Si\n",
    "    FinSi \n",
    "Fin"
   ]
  },
  {
   "cell_type": "code",
   "execution_count": 27,
   "metadata": {},
   "outputs": [
    {
     "data": {
      "text/plain": [
       "'El calculo de f(x,y) con x = 10 y y = 3 es 7'"
      ]
     },
     "execution_count": 27,
     "metadata": {},
     "output_type": "execute_result"
    }
   ],
   "source": [
    "'El calculo de f(x,y) con x = {} y y = {} es {}'.format(10,3,7)"
   ]
  },
  {
   "cell_type": "code",
   "execution_count": 28,
   "metadata": {},
   "outputs": [
    {
     "data": {
      "text/plain": [
       "'El calculo de f(x,y) con x = 5 y y = 2 es 2.5'"
      ]
     },
     "execution_count": 28,
     "metadata": {},
     "output_type": "execute_result"
    }
   ],
   "source": [
    "f'El calculo de f(x,y) con x = {x} y y = {y} es {f}'"
   ]
  },
  {
   "cell_type": "code",
   "execution_count": 35,
   "metadata": {},
   "outputs": [
    {
     "name": "stdout",
     "output_type": "stream",
     "text": [
      "Ingrese x: 45\n",
      "Ingrese y: 3\n",
      "El calculo de f es 0.875\n"
     ]
    }
   ],
   "source": [
    "# Podemos anidar comandos: x = pow(float(input(\"Ingrese x: \")),5)\n",
    "\n",
    "x = input(\"Ingrese x: \")\n",
    "y = input(\"Ingrese y: \")\n",
    "\n",
    "float_x = float(x)\n",
    "float_y = float(y)\n",
    "\n",
    "if float_x==0 and float_y==0:\n",
    "    print('Los datos son 0. No se puede calcular')\n",
    "else:\n",
    "    if float_x==-float_y:\n",
    "        print('x es el negativo de y. Hay una división por 0')\n",
    "    else:\n",
    "        f = abs(float_x-float_y)/(float_x+float_y)\n",
    "        print('El calculo de f es',f)\n",
    "        #print('El calculo de f es {}'.format(f))\n",
    "        "
   ]
  },
  {
   "cell_type": "code",
   "execution_count": 38,
   "metadata": {},
   "outputs": [
    {
     "name": "stdout",
     "output_type": "stream",
     "text": [
      "Ingrese x: 1\n",
      "Ingrese y: -1\n",
      "x es el negativo de y. Hay una división por 0\n"
     ]
    }
   ],
   "source": [
    "x = input(\"Ingrese x: \")\n",
    "y = input(\"Ingrese y: \")\n",
    "\n",
    "float_x = float(x)\n",
    "float_y = float(y)\n",
    "\n",
    "if float_x==0 and float_y==0:\n",
    "    print('Los datos son 0. No se puede calcular')\n",
    "elif float_x==-float_y:\n",
    "    print('x es el negativo de y. Hay una división por 0')\n",
    "else:\n",
    "    f = abs(float_x-float_y)/(float_x+float_y)\n",
    "    print('El calculo de f es',f)"
   ]
  },
  {
   "cell_type": "code",
   "execution_count": null,
   "metadata": {},
   "outputs": [],
   "source": [
    "x = input(\"Ingrese x: \")\n",
    "y = input(\"Ingrese y: \")\n",
    "\n",
    "float_x = float(x)\n",
    "float_y = float(y)\n",
    "\n",
    "if float_x==-float_y:\n",
    "    print('x es el negativo de y. Hay una división por 0')\n",
    "elif float_x!=0 and float_y!=0:\n",
    "    f = abs(float_x-float_y)/(float_x+float_y)\n",
    "    print('El calculo de f es',f)\n",
    "else:\n",
    "    print('Los datos son 0. No se puede calcular')"
   ]
  },
  {
   "cell_type": "markdown",
   "metadata": {},
   "source": [
    "### Pseudocódigo 2\n",
    "Inicio\n",
    "\n",
    "    Lea x\n",
    "    Lea y\n",
    "\n",
    "    Si (x == 0 y y == 0) ó (x == -y):\n",
    "        Imprimir Los datos presentan una división sobre 0. No se puede calcular.\n",
    "    Sino \n",
    "        Calcular f\n",
    "        Imprimir El cálculo es f\n",
    "    FinSi \n",
    "Fin"
   ]
  },
  {
   "cell_type": "code",
   "execution_count": 41,
   "metadata": {},
   "outputs": [
    {
     "name": "stdout",
     "output_type": "stream",
     "text": [
      "Ingrese x: 10\n",
      "Ingrese y: 2\n",
      "El calculo de f es 0.6666666666666666\n"
     ]
    }
   ],
   "source": [
    "x = input(\"Ingrese x: \")\n",
    "y = input(\"Ingrese y: \")\n",
    "\n",
    "float_x = float(x)\n",
    "float_y = float(y)\n",
    "\n",
    "if (float_x==0 and float_y==0) or (float_x==-float_y):\n",
    "    if (float_x==0 and float_y==0):\n",
    "    print('Los datos presentan una división sobre 0. No se puede calcular.')\n",
    "else:\n",
    "    f = abs(float_x-float_y)/(float_x+float_y)\n",
    "    print('El calculo de f es',f)"
   ]
  },
  {
   "cell_type": "code",
   "execution_count": 44,
   "metadata": {},
   "outputs": [
    {
     "name": "stdout",
     "output_type": "stream",
     "text": [
      "Ingrese x: 10\n",
      "Ingrese y: 3\n",
      "El calculo de f es 0.5384615384615384\n"
     ]
    }
   ],
   "source": [
    "x = input(\"Ingrese x: \")\n",
    "y = input(\"Ingrese y: \")\n",
    "\n",
    "float_x = float(x)\n",
    "float_y = float(y)\n",
    "\n",
    "if (float_x!=0 and float_y!=0) and (float_x!=-float_y):\n",
    "    f = abs(float_x-float_y)/(float_x+float_y)\n",
    "    print('El calculo de f es',f)\n",
    "else:\n",
    "    print('Los datos presentan una división sobre 0. No se puede calcular.')    "
   ]
  }
 ],
 "metadata": {
  "kernelspec": {
   "display_name": "Python 3",
   "language": "python",
   "name": "python3"
  },
  "language_info": {
   "codemirror_mode": {
    "name": "ipython",
    "version": 3
   },
   "file_extension": ".py",
   "mimetype": "text/x-python",
   "name": "python",
   "nbconvert_exporter": "python",
   "pygments_lexer": "ipython3",
   "version": "3.7.1"
  }
 },
 "nbformat": 4,
 "nbformat_minor": 2
}

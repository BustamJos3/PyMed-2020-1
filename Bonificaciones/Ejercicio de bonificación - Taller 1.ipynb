{
 "cells": [
  {
   "cell_type": "code",
   "execution_count": 1,
   "metadata": {},
   "outputs": [
    {
     "data": {
      "text/html": [
       "<style>.container{width:90% !important;}<>"
      ],
      "text/plain": [
       "<IPython.core.display.HTML object>"
      ]
     },
     "metadata": {},
     "output_type": "display_data"
    }
   ],
   "source": [
    "from IPython.core.display import display, HTML\n",
    "display(HTML(\"<style>.container{width:90% !important;}<>\"))"
   ]
  },
  {
   "cell_type": "markdown",
   "metadata": {},
   "source": [
    "# Ejercicio Bonificación 1\n",
    "\n",
    "Normas:\n",
    "- Este ejercicio se planteó en el taller 2.\n",
    "- La fecha de entrega es hata el 15 de Octubre a las 12 pm\n",
    "- Este ejercicio lo pueden realizar aquellas personas que asistieron al taller.\n",
    "- Para el desarrollo del ejercicio, debe plantear un pseudocódigo y desarrollar el código en Python.\n",
    "\n",
    "## 1. Definiciones \n",
    "\n",
    "Es posible obtener la distancia recorrida $\\Delta x$ en función de las coordenadas geográficas entre dos puntos mediante la fórmula del semiverseno a través de la siguiente ecuación:\n",
    "\n",
    "$$\\Delta x = 2R\\arcsin{\\sqrt{h}}$$\n",
    "$$h = \\mathbf{haversine}(\\Delta la)+\\cos{(la_1)}\\cos{(la_2)}\\cdot\\mathbf{haversine}(\\Delta lo)$$\n",
    "La función $\\mathbf{haversine}(\\theta)$ se define como:\n",
    "\n",
    "$$\\mathbf{haversine}(\\theta) = \\sin^2{\\left(\\frac{\\theta}{2}\\right)}$$\n",
    "\n",
    "El ascenso se puede calcular como\n",
    "$$\\Delta h = alt_{2}-alt_{1}$$\n",
    "\n",
    "\n",
    "## 2. Planteamiento del problema \n",
    "\n",
    "Un escalador inicia el ascenso de una montaña y registra las coordenadas geográficas (latitud, longitud y altitud) justo antes de empezar el ascenso.\n",
    "\n",
    "- $la_{0} = 6.323034$\n",
    "- $lo_{0} = -75.542564$\n",
    "- $alt_{0} = 1609.599976$\n",
    "\n",
    "12 horas depués, el escalador registra las coordenadas geográficas\n",
    "\n",
    "- $la_{f} = 6.319463$\n",
    "- $lo_{f} = -75.529541$\n",
    "- $alt_{f} = 1689.900024$\n",
    "\n",
    "Al finalizar el ascenso vuelve y registra las coordenadas que el GPS indica. \n",
    "\n",
    "- $la_{12} = 6.323536$\n",
    "- $lo_{12} = -75.526634$\n",
    "- $alt_{12} = 1732.599976$\n",
    "\n",
    "La distancia total que recorre y el ascenso total se calcula como. \n",
    "- $\\Delta x_{0-f}$\n",
    "- $\\Delta h_{0-f}$\n",
    "    \n",
    "La distancia que recorre en las primeras 12 horas y el ascenso en las primeras 12 horas se calcula como: \n",
    "- $\\Delta x_{0-12}$\n",
    "- $\\Delta h_{0-12}$\n",
    "\n",
    "Desarrolle un programa que pregunte al ususario un número y dependiendo del número realice los siguiente:\n",
    "\n",
    "- Al ingresar 1, el programa debe:\n",
    "    - Calcular la distnacia que recorre y el ascenso total del escalador con los valores de latitudes, longitudes y altitudes suministrados.\n",
    "    - Imprimir por consola al usuario los valores calculados. \n",
    "- Al ingresar 2, el programa debe:\n",
    "    - Calcular la distnacia que recorre y el ascenso durante las 12 primeras horas con los valores de latitudes, longitudes y altitudes suministrados.\n",
    "    - Imprimir por consola al usuario los valores calculados. \n",
    "- Al ingresar 0, el programa de salir.\n",
    "    - Utilice el comando break para finalizar el ciclo while que permite iterar infinitamente simulando un menú. \n",
    "\n",
    "### Para el desarrollo del problema, \n",
    "- Las funciones necesarias (asin, sin, pi, cos, sqrt) ya se importaron.\n",
    "- Utilice el código suministado en la parte 3. \n",
    "- Complemente del código de la parte 3:\n",
    "    - El comando input()\n",
    "    - Los elif (la condición y las instrucciones) de acuerdo a lo requerido previamente. \n"
   ]
  },
  {
   "cell_type": "code",
   "execution_count": 4,
   "metadata": {},
   "outputs": [],
   "source": [
    "from math import asin, sin, pi, cos, sqrt\n",
    "## La función sin recibe ángulos en radianes.\n",
    "\n",
    "R = 6372.795477598 # Km   El radio de la tierra."
   ]
  },
  {
   "cell_type": "markdown",
   "metadata": {},
   "source": [
    "## 3. Pseudocódigo\n",
    "Identifiquen variables de entrada, intermedias y de salida (incluyendo el tipo de variable), las instrucciones y el orden para que el problema que se platea pueda solucionarse."
   ]
  },
  {
   "cell_type": "code",
   "execution_count": null,
   "metadata": {},
   "outputs": [],
   "source": []
  },
  {
   "cell_type": "markdown",
   "metadata": {},
   "source": [
    "## 3. Código en Python"
   ]
  },
  {
   "cell_type": "code",
   "execution_count": 2,
   "metadata": {},
   "outputs": [],
   "source": [
    "la_0 = 6.323034\n",
    "lo_0 = -75.542564\n",
    "alt_0 = 1609.599976\n",
    "\n",
    "la_f = 6.319463\n",
    "lo_f = -75.529541\n",
    "alt_f = 1689.900024\n",
    "\n",
    "la_12 = 6.323536\n",
    "lo_12 = -75.526634\n",
    "alt_12 = 1732.599976"
   ]
  },
  {
   "cell_type": "code",
   "execution_count": null,
   "metadata": {},
   "outputs": [],
   "source": [
    "while True:\n",
    "    desition = input()                                             # Lectura del número\n",
    "    if desition == 0:                                              # Si es 0, finalizo el programa\n",
    "        print('Hasta luego. \\t\\t Finalizando el programa')\n",
    "        break\n",
    "    elif desition == 1:                                            # Si es 1, entonces\n",
    "        \n",
    "    elif desition == 2:                                            # Si es 2, entonces\n",
    "        \n",
    "    else:\n",
    "        print('Ingrese una opción válida.')"
   ]
  },
  {
   "cell_type": "code",
   "execution_count": null,
   "metadata": {},
   "outputs": [],
   "source": []
  },
  {
   "cell_type": "code",
   "execution_count": null,
   "metadata": {},
   "outputs": [],
   "source": []
  },
  {
   "cell_type": "code",
   "execution_count": null,
   "metadata": {},
   "outputs": [],
   "source": []
  },
  {
   "cell_type": "code",
   "execution_count": null,
   "metadata": {},
   "outputs": [],
   "source": []
  },
  {
   "cell_type": "code",
   "execution_count": null,
   "metadata": {},
   "outputs": [],
   "source": []
  },
  {
   "cell_type": "code",
   "execution_count": null,
   "metadata": {},
   "outputs": [],
   "source": []
  },
  {
   "cell_type": "code",
   "execution_count": null,
   "metadata": {},
   "outputs": [],
   "source": []
  },
  {
   "cell_type": "code",
   "execution_count": null,
   "metadata": {},
   "outputs": [],
   "source": []
  }
 ],
 "metadata": {
  "kernelspec": {
   "display_name": "Python 3",
   "language": "python",
   "name": "python3"
  },
  "language_info": {
   "codemirror_mode": {
    "name": "ipython",
    "version": 3
   },
   "file_extension": ".py",
   "mimetype": "text/x-python",
   "name": "python",
   "nbconvert_exporter": "python",
   "pygments_lexer": "ipython3",
   "version": "3.7.1"
  }
 },
 "nbformat": 4,
 "nbformat_minor": 2
}

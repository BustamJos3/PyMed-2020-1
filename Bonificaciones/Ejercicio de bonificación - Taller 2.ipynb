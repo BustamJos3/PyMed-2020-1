{
 "cells": [
  {
   "cell_type": "markdown",
   "metadata": {},
   "source": [
    "## Bonificación\n",
    "Dadas las coordenadas de un punto(x,y) decir si este punto está dentro, en o fuera de una circunferencia de radio dada (r).\n",
    "\n"
   ]
  },
  {
   "cell_type": "raw",
   "metadata": {},
   "source": [
    "# Pseudocódigo\n",
    "\n",
    "# r_c = radio_cordenada\n",
    "\n",
    "'''\n",
    "3 cosas que hacer.\n",
    "Leer x,y, r\n",
    "r_c = x^2+y^2\n",
    "if r_c<=r:\n",
    "    Imprimir Estoy dentro del circulo\n",
    "else:\n",
    "    Imprimir Estoy por fuera del circulo\n",
    "'''"
   ]
  },
  {
   "cell_type": "code",
   "execution_count": 2,
   "metadata": {},
   "outputs": [
    {
     "name": "stdout",
     "output_type": "stream",
     "text": [
      "Ingrese x: 10\n",
      "Ingrese y: 20\n",
      "Ingrese r: 40\n",
      "Imprimir Estoy por fuera del circulo\n"
     ]
    }
   ],
   "source": [
    "x = float(input(\"Ingrese x: \"))\n",
    "y = float(input(\"Ingrese y: \"))\n",
    "r = float(input(\"Ingrese r: \"))\n",
    " \n",
    "r_c = (x**2+y**2)**(1/2)\n",
    "if r_c == r:\n",
    "    print('Imprimir Estoy dentro del circulo')\n",
    "else:\n",
    "    print('Imprimir Estoy por fuera del circulo')"
   ]
  }
 ],
 "metadata": {
  "kernelspec": {
   "display_name": "Python 3",
   "language": "python",
   "name": "python3"
  },
  "language_info": {
   "codemirror_mode": {
    "name": "ipython",
    "version": 3
   },
   "file_extension": ".py",
   "mimetype": "text/x-python",
   "name": "python",
   "nbconvert_exporter": "python",
   "pygments_lexer": "ipython3",
   "version": "3.7.1"
  }
 },
 "nbformat": 4,
 "nbformat_minor": 2
}

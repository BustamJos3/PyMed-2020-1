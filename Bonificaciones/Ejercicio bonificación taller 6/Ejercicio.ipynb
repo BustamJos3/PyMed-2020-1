{
 "cells": [
  {
   "cell_type": "markdown",
   "metadata": {},
   "source": [
    "# FUNCIONES\n",
    "\n",
    "Cuando se definen funciones, hay cuatro cosas a tener en cuenta.\n",
    "\n",
    "1. Definición de la función.\n",
    "2. El llamado de la función.\n",
    "3. Parámetros de entrada. (Por defecto, obligatorios)\n",
    "4. Parámetros de salida. (Nada, o cualquier cosa)\n",
    "\n",
    "### Hay diferenciar una variable global en una función.\n"
   ]
  },
  {
   "cell_type": "code",
   "execution_count": 5,
   "metadata": {},
   "outputs": [
    {
     "name": "stdout",
     "output_type": "stream",
     "text": [
      "5\n"
     ]
    }
   ],
   "source": [
    "# x se considera como una variable global\n",
    "x = 5\n",
    "def print_x():\n",
    "    print(x)\n",
    "\n",
    "print_x()"
   ]
  },
  {
   "cell_type": "code",
   "execution_count": 1,
   "metadata": {},
   "outputs": [
    {
     "name": "stdout",
     "output_type": "stream",
     "text": [
      "5\n"
     ]
    }
   ],
   "source": [
    "# y se considera global\n",
    "def print_y():\n",
    "    print(y)\n",
    "\n",
    "y = 5\n",
    "print_y()\n"
   ]
  },
  {
   "cell_type": "code",
   "execution_count": 3,
   "metadata": {},
   "outputs": [
    {
     "name": "stdout",
     "output_type": "stream",
     "text": [
      "10\n"
     ]
    }
   ],
   "source": [
    "# y se considera como variable local\n",
    "def print_y(y):\n",
    "    print(y)\n",
    "\n",
    "y = 5\n",
    "print_y(10)"
   ]
  },
  {
   "cell_type": "code",
   "execution_count": 5,
   "metadata": {},
   "outputs": [
    {
     "name": "stdout",
     "output_type": "stream",
     "text": [
      "50\n"
     ]
    }
   ],
   "source": [
    "def print_suma(a,b):\n",
    "    print(a+b)\n",
    "\n",
    "print_suma(20,30)"
   ]
  },
  {
   "cell_type": "code",
   "execution_count": 1,
   "metadata": {},
   "outputs": [
    {
     "data": {
      "text/html": [
       "<style>.container{width:95% !important;}<>"
      ],
      "text/plain": [
       "<IPython.core.display.HTML object>"
      ]
     },
     "metadata": {},
     "output_type": "display_data"
    }
   ],
   "source": [
    "from IPython.core.display import display, HTML\n",
    "display(HTML(\"<style>.container{width:95% !important;}<>\"))"
   ]
  },
  {
   "cell_type": "markdown",
   "metadata": {},
   "source": [
    "# Ejercicio Bonificación \n",
    "\n",
    "# El material del curso lo encuentran en el Github, en la carpeta de bonificaciones/Bonificaciones taller 6 \n",
    "\n",
    "# Enviar por correo. odavid.hincapie@udea.edu.co\n",
    "\n",
    "El objetivo de este ejercicio es trabajar el uso de funciones y sentencias condicionales.\n",
    "\n",
    "Normas:\n",
    "- Este ejercicio se planteó previo al taller 6.\n",
    "# - Duración de 29 minutos. 4:35 pm\n",
    "- Este ejercicio lo pueden realizar aquellas personas que asistieron al taller.\n",
    "- Para el desarrollo del ejercicio, debe plantear sólo el código en Python.\n",
    "\n",
    "\n",
    "\n",
    "\n",
    "\n",
    "\n",
    "\n",
    "## 1. Definiciones \n",
    "\n",
    "La dinámica es el estudio de las fuerzas y cómo estas alteran el movimiento de un cuerpo. Para un vehículo, la dinámica se define a través de la potencia específica vehicular ($\\textit{Vehicle Specific Power -- VSP}$). Esta variable se define como la potencia que un vehículo posee para estar unas condiciones dinámicas y topográficas dadas. Además, es la contribución de diferentes aportes energéticos que posee un vehículo durante un recorrido y matemáticamente es:\n",
    "\n",
    "\\begin{equation}\n",
    "VSP = \\frac{1}{m}\\left(\\frac{d}{dt}(E_k+E_p)+v\\cdot F_{roll} + v\\cdot F_{aero}\\right)\n",
    "\\end{equation}\n",
    "\n",
    "Luego de evaluar las derivas y reemplazar las definiciones de fuerzas y energías en la anterior ecuación se llega a:\n",
    "\\begin{equation}\n",
    "VSP = v\\cdot(a\\cdot(1+\\varepsilon)+g\\cdot \\mathbf{grade}+g\\cdot C_R)+\\frac{1}{2\\cdot m}\\rho_a\\cdot C_D\\cdot A\\cdot v^3\n",
    "\\label{eq_vsp}\n",
    "\\end{equation}\n",
    "\n",
    "La velocidad  del vehículo $v$, la aceleración del vehículo $a$, y la pendiente de la vía del recorrido $\\mathbf{grade}$ son perfiles temporales. La masa equivalente de componentes rotativos $\\varepsilon$, el coeficiente de rodadura $C_R$, el coeficiente aerodinámico $C_D$, el área frontal $A$ y la masa del vehículo $m$ son parámetros del vehículo y comúnmente se asumen constantes durante los recorridos. $\\rho_a$ es la densidad del aire. Esta variable es de utilidad a la hora de explicar los efectos dinámicos de un vehículo durante un recorrido determinado, estimar consumo de combustible y estimar emisiones contaminantes. Además, permite deducir otras variables dinámicas más complejas.\n",
    "\n",
    "\n",
    "\n",
    "## 2. Planteamiento del problema \n",
    "\n",
    "\n",
    "### Importe de librerías\n",
    "\n",
    "- Las librerías necesarias para el desarrollo de este ejercicio ya están incluidas. \n",
    "- Importe pandas renombrandólo mediante pd_ij donde i es la primer letra de su primer nombre y j es la primer letra de su apellido. Durante todo el desarrollo posterior, utilice este nuevo pseudónimo.\n",
    "\n",
    "### Desarrollo\n",
    "\n",
    "En la carpeta anexa, se encuentran 5 archivos de excel. Para cada archivo se tiene el tiempo, velocidad, aceleración y pendiente representados en excel. \n",
    "1. Elabore una función que reciba la velocidad $v$, la aceleración $a$ y la pendiente $\\mathbf{grade}$ y retorne la $VSP$ como un vector de numpy. Para el cálculo del a VSP asuma $\\varepsilon = 0.42$, $C_R = 6.5\\times 10^{-3}$, $C_D =0.75$,  $\\rho_a =1\\;kg\\cdot m^{-3}$, $A =7\\; m^2 $, $m = 9.6\\;ton$, $g = 9.81 m\\cdot s^{-2}$. Esta variable se debe anexar al dataframe de cada prueba.\n",
    "2. Cree un diccionario vacío. \n",
    "3. Realice un ciclo for que recorra cada uno de los elementos contenidos en la carpeta data. En cada iteración el programa debe:\n",
    "    - Leer el archivo y almacenarlo en pandas.\n",
    "    - Mediante la sentencia \n",
    "    $$\\mathbf{df['vsp'] = xxxx(xxxx,xxxx) }$$\n",
    "    donde $\\mathbf{xxxx(xxxx,xxxx)}$ representa el llamado de la función que usted defina, almacene el vector de numpy que retorna la función en la columnas VSP del dataframe que cargó en el punto anterior. \n",
    "    - En el diccionario anexar el dataframe cargado. Utilice los nombres del archivo como las llaves del diccionario.\n",
    "4. Utilice la función suministrada de plotly. Envie los parámetros necesarios para mostrar el perfíl de velocidad a la gráfica desde el diccionario. Para este caso, utilice el primer dataframe que se encuentra almacenado en el diccionario.\n",
    "\n"
   ]
  },
  {
   "cell_type": "markdown",
   "metadata": {},
   "source": [
    "# Punto 1"
   ]
  },
  {
   "cell_type": "code",
   "execution_count": 8,
   "metadata": {},
   "outputs": [],
   "source": [
    "import numpy as np\n",
    "import time \n",
    "import os\n",
    "import pandas as pd_oh\n",
    "\n",
    "''' Este comando intenta cargar plotly. Si ocurre un error es porque \n",
    "    posiblemente el módulo no esté instalado. En ese caso,\n",
    "    el except lo instala automáticamente.\n",
    "'''\n",
    "try:\n",
    "    import plotly.express as px\n",
    "except:\n",
    "    print('No es posible trabajar gráficos de plotly. Instale plotly.')\n",
    "    "
   ]
  },
  {
   "cell_type": "code",
   "execution_count": 13,
   "metadata": {},
   "outputs": [],
   "source": [
    "def funcion_vsp(velocidad,aceleracion,grade):\n",
    "    ####Constantes del problema\n",
    "    eps=0.42   # []\n",
    "    cr=0.0065  # []\n",
    "    cd=0.75    # []\n",
    "    rho=1      # []\n",
    "    A=7        # [m2]\n",
    "    m=9600     # [kg]\n",
    "    g=9.81     # [m/s2]\n",
    "    \n",
    "    ###Calculo de VSP\n",
    "    VSP=np.zeros(len(velocidad)) #velocidad.shape[0]\n",
    "    for i in range(len(velocidad)):\n",
    "        VSP[i]= velocidad[i]*(aceleracion[i]*(1+eps)+g*grade[i]+g*cr)+(rho*cd*A*(velocidad[i]**3))/(2*m)\n",
    "        \n",
    "    # VSP= velocidad*(aceleracion*(1+eps)+g*grade+g*cr)+(rho*cd*A*(velocidad**3))/(2*m)    \n",
    "    return(VSP)"
   ]
  },
  {
   "cell_type": "markdown",
   "metadata": {},
   "source": [
    "# Punto 2"
   ]
  },
  {
   "cell_type": "code",
   "execution_count": 17,
   "metadata": {},
   "outputs": [],
   "source": [
    "dict_data = {}"
   ]
  },
  {
   "cell_type": "markdown",
   "metadata": {},
   "source": [
    "# Punto 3."
   ]
  },
  {
   "cell_type": "code",
   "execution_count": 12,
   "metadata": {
    "collapsed": true
   },
   "outputs": [
    {
     "data": {
      "text/html": [
       "<div>\n",
       "<style scoped>\n",
       "    .dataframe tbody tr th:only-of-type {\n",
       "        vertical-align: middle;\n",
       "    }\n",
       "\n",
       "    .dataframe tbody tr th {\n",
       "        vertical-align: top;\n",
       "    }\n",
       "\n",
       "    .dataframe thead th {\n",
       "        text-align: right;\n",
       "    }\n",
       "</style>\n",
       "<table border=\"1\" class=\"dataframe\">\n",
       "  <thead>\n",
       "    <tr style=\"text-align: right;\">\n",
       "      <th></th>\n",
       "      <th>time</th>\n",
       "      <th>velocity</th>\n",
       "      <th>aceleration</th>\n",
       "      <th>road_grade</th>\n",
       "    </tr>\n",
       "  </thead>\n",
       "  <tbody>\n",
       "    <tr>\n",
       "      <th>0</th>\n",
       "      <td>47.999688</td>\n",
       "      <td>0.0</td>\n",
       "      <td>0.0</td>\n",
       "      <td>0.036698</td>\n",
       "    </tr>\n",
       "    <tr>\n",
       "      <th>1</th>\n",
       "      <td>48.100602</td>\n",
       "      <td>0.0</td>\n",
       "      <td>0.0</td>\n",
       "      <td>0.036698</td>\n",
       "    </tr>\n",
       "    <tr>\n",
       "      <th>2</th>\n",
       "      <td>48.199494</td>\n",
       "      <td>0.0</td>\n",
       "      <td>0.0</td>\n",
       "      <td>0.036698</td>\n",
       "    </tr>\n",
       "    <tr>\n",
       "      <th>3</th>\n",
       "      <td>48.299543</td>\n",
       "      <td>0.0</td>\n",
       "      <td>0.0</td>\n",
       "      <td>0.036698</td>\n",
       "    </tr>\n",
       "    <tr>\n",
       "      <th>4</th>\n",
       "      <td>48.399641</td>\n",
       "      <td>0.0</td>\n",
       "      <td>0.0</td>\n",
       "      <td>0.036698</td>\n",
       "    </tr>\n",
       "  </tbody>\n",
       "</table>\n",
       "</div>"
      ],
      "text/plain": [
       "        time  velocity  aceleration  road_grade\n",
       "0  47.999688       0.0          0.0    0.036698\n",
       "1  48.100602       0.0          0.0    0.036698\n",
       "2  48.199494       0.0          0.0    0.036698\n",
       "3  48.299543       0.0          0.0    0.036698\n",
       "4  48.399641       0.0          0.0    0.036698"
      ]
     },
     "execution_count": 12,
     "metadata": {},
     "output_type": "execute_result"
    }
   ],
   "source": [
    "df = pd_oh.read_excel('./data/test_1.xlsx')\n",
    "df.head()"
   ]
  },
  {
   "cell_type": "code",
   "execution_count": 14,
   "metadata": {},
   "outputs": [],
   "source": [
    "df['vsp'] = funcion_vsp(df.velocity.values,df.aceleration.values,df.road_grade.values)"
   ]
  },
  {
   "cell_type": "code",
   "execution_count": 24,
   "metadata": {},
   "outputs": [],
   "source": [
    "for file in os.listdir('./data/'):\n",
    "    df = pd_oh.read_excel('./data/{}'.format(file)) # df = pd_oh.read_excel('./data/'+file)\n",
    "    df['vsp'] = funcion_vsp(df.velocity.values,df.aceleration.values,df.road_grade.values)\n",
    "    dict_data[file] = df"
   ]
  },
  {
   "cell_type": "code",
   "execution_count": 29,
   "metadata": {},
   "outputs": [
    {
     "data": {
      "text/plain": [
       "['test_3.xlsx', 'test_2.xlsx', 'test_5.xlsx', 'test_4.xlsx', 'test_1.xlsx']"
      ]
     },
     "execution_count": 29,
     "metadata": {},
     "output_type": "execute_result"
    }
   ],
   "source": [
    "os.listdir('./data/')"
   ]
  },
  {
   "cell_type": "code",
   "execution_count": 28,
   "metadata": {},
   "outputs": [
    {
     "data": {
      "text/plain": [
       "'4-6'"
      ]
     },
     "execution_count": 28,
     "metadata": {},
     "output_type": "execute_result"
    }
   ],
   "source": [
    "'{}-{}'.format(4,6)"
   ]
  },
  {
   "cell_type": "code",
   "execution_count": null,
   "metadata": {},
   "outputs": [],
   "source": [
    "df.shape"
   ]
  },
  {
   "cell_type": "code",
   "execution_count": null,
   "metadata": {},
   "outputs": [],
   "source": [
    "df.apply()"
   ]
  },
  {
   "cell_type": "markdown",
   "metadata": {},
   "source": [
    "# Punto 4."
   ]
  },
  {
   "cell_type": "code",
   "execution_count": null,
   "metadata": {},
   "outputs": [],
   "source": [
    "px.line().update_layout(template = 'plotly_white')"
   ]
  }
 ],
 "metadata": {
  "kernelspec": {
   "display_name": "Python 3",
   "language": "python",
   "name": "python3"
  },
  "language_info": {
   "codemirror_mode": {
    "name": "ipython",
    "version": 3
   },
   "file_extension": ".py",
   "mimetype": "text/x-python",
   "name": "python",
   "nbconvert_exporter": "python",
   "pygments_lexer": "ipython3",
   "version": "3.7.1"
  }
 },
 "nbformat": 4,
 "nbformat_minor": 2
}
